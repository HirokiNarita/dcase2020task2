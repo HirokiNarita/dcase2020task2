{
 "cells": [
  {
   "cell_type": "markdown",
   "metadata": {},
   "source": [
    "# train"
   ]
  },
  {
   "cell_type": "code",
   "execution_count": 1,
   "metadata": {},
   "outputs": [],
   "source": [
    "import yaml\n",
    "import os\n",
    "\n",
    "with open(\"./config.yaml\", 'rb') as f:\n",
    "    config = yaml.load(f)"
   ]
  },
  {
   "cell_type": "code",
   "execution_count": 2,
   "metadata": {},
   "outputs": [],
   "source": [
    "OUTPUT_ROOT = config['IO_OPTION']['OUTPUT_ROOT']\n",
    "os.makedirs(OUTPUT_ROOT, exist_ok=True)"
   ]
  },
  {
   "cell_type": "markdown",
   "metadata": {},
   "source": [
    "## load library"
   ]
  },
  {
   "cell_type": "code",
   "execution_count": 3,
   "metadata": {},
   "outputs": [],
   "source": [
    "# python default library\n",
    "import os\n",
    "import shutil\n",
    "import datetime\n",
    "import sys\n",
    "import pickle\n",
    "\n",
    "# general analysis tool-kit\n",
    "import numpy as np\n",
    "from sklearn.model_selection import train_test_split\n",
    "import matplotlib.pyplot as plt\n",
    "\n",
    "# pytorch\n",
    "import torch\n",
    "from torch import optim, nn\n",
    "from torch.utils.tensorboard import SummaryWriter\n",
    "\n",
    "from torchsummary import summary\n",
    "\n",
    "# etc\n",
    "import yaml\n",
    "yaml.warnings({'YAMLLoadWarning': False})\n",
    "import mlflow\n",
    "from collections import defaultdict\n",
    "from scipy.stats import zscore\n",
    "\n",
    "# original library\n",
    "\n",
    "import common as com\n",
    "import pytorch_modeler as modeler\n",
    "from pytorch_model import DAGMM as Model\n",
    "from pytorch_utils import filtered_load_model\n",
    "import models\n",
    "\n",
    "import librosa\n",
    "import IPython\n",
    "import librosa.display"
   ]
  },
  {
   "cell_type": "markdown",
   "metadata": {},
   "source": [
    "## load config and set logger"
   ]
  },
  {
   "cell_type": "code",
   "execution_count": 4,
   "metadata": {},
   "outputs": [
    {
     "name": "stderr",
     "output_type": "stream",
     "text": [
      "/home/hiroki/anaconda3/lib/python3.7/site-packages/ipykernel/ipkernel.py:287: DeprecationWarning: `should_run_async` will not call `transform_cell` automatically in the future. Please pass the result to `transformed_cell` argument and any exception that happen during thetransform in `preprocessing_exc_tuple` in IPython 7.17 and above.\n",
      "  and should_run_async(code)\n"
     ]
    }
   ],
   "source": [
    "#with open(\"./config.yaml\", 'rb') as f:\n",
    "#    config = yaml.load(f)\n",
    "\n",
    "log_folder = config['IO_OPTION']['OUTPUT_ROOT']+'/{0}.log'.format(datetime.date.today())\n",
    "logger = com.setup_logger(log_folder, '00_train.py')"
   ]
  },
  {
   "cell_type": "markdown",
   "metadata": {},
   "source": [
    "## Setting"
   ]
  },
  {
   "cell_type": "code",
   "execution_count": 5,
   "metadata": {},
   "outputs": [],
   "source": [
    "# Setting seed\n",
    "modeler.set_seed(42)"
   ]
  },
  {
   "cell_type": "code",
   "execution_count": 6,
   "metadata": {},
   "outputs": [
    {
     "data": {
      "text/plain": [
       "'/media/hiroki/working/research/dcase2020/result/2D/DAGMM/add_metaAE/latent3_mixture3/config.yaml'"
      ]
     },
     "execution_count": 6,
     "metadata": {},
     "output_type": "execute_result"
    }
   ],
   "source": [
    "############################################################################\n",
    "# Setting I/O path\n",
    "############################################################################\n",
    "# input dirs\n",
    "INPUT_ROOT = config['IO_OPTION']['INPUT_ROOT']\n",
    "dev_path = INPUT_ROOT + \"/dev_data\"\n",
    "add_dev_path = INPUT_ROOT + \"/add_dev_data\"\n",
    "# machine type\n",
    "MACHINE_TYPE = config['IO_OPTION']['MACHINE_TYPE']\n",
    "machine_types = os.listdir(dev_path)\n",
    "# output dirs\n",
    "OUTPUT_ROOT = config['IO_OPTION']['OUTPUT_ROOT']\n",
    "MODEL_DIR = config['IO_OPTION']['OUTPUT_ROOT'] + '/models'\n",
    "TB_DIR = config['IO_OPTION']['OUTPUT_ROOT'] + '/tb'\n",
    "PKL_DIR = OUTPUT_ROOT + '/pkl'\n",
    "#os.makedirs(OUTPUT_ROOT, exist_ok=True)\n",
    "os.makedirs(MODEL_DIR, exist_ok=True)\n",
    "os.makedirs(TB_DIR, exist_ok=True)\n",
    "os.makedirs(PKL_DIR, exist_ok=True)\n",
    "# copy config\n",
    "shutil.copy('./config.yaml', OUTPUT_ROOT)"
   ]
  },
  {
   "cell_type": "markdown",
   "metadata": {},
   "source": [
    "## make path list and train/valid split"
   ]
  },
  {
   "cell_type": "code",
   "execution_count": 7,
   "metadata": {},
   "outputs": [],
   "source": [
    "############################################################################\n",
    "# make path set and train/valid split\n",
    "############################################################################\n",
    "'''\n",
    "train_paths[machine_type]['train' or 'valid'] = path\n",
    "'''\n",
    "dev_train_paths = {}\n",
    "add_train_paths = {}\n",
    "train_paths = {}"
   ]
  },
  {
   "cell_type": "code",
   "execution_count": 8,
   "metadata": {},
   "outputs": [],
   "source": [
    "for machine_type in machine_types:\n",
    "    # dev train\n",
    "    dev_train_paths = [\"{}/{}/train/\".format(dev_path, machine_type) + file for file in os.listdir(\"{}/{}/train\".format(dev_path, machine_type))]\n",
    "    dev_train_paths = sorted(dev_train_paths)\n",
    "    # add_dev train\n",
    "    add_train_paths = [\"{}/{}/train/\".format(add_dev_path, machine_type) + file for file in os.listdir(\"{}/{}/train\".format(add_dev_path, machine_type))]\n",
    "    add_train_paths = sorted(add_train_paths)\n",
    "    # valid\n",
    "    dev_valid_paths = [\"{}/{}/test/\".format(dev_path, machine_type) + file for file in os.listdir(\"{}/{}/test\".format(dev_path, machine_type))]\n",
    "    dev_valid_paths = sorted(dev_valid_paths)\n",
    "    \n",
    "    train_paths[machine_type] = {}\n",
    "    train_paths[machine_type]['train'] = dev_train_paths + add_train_paths\n",
    "    train_paths[machine_type]['valid'] = dev_valid_paths"
   ]
  },
  {
   "cell_type": "raw",
   "metadata": {},
   "source": [
    "# for machine_type in machine_types:\n",
    "    # dev train\n",
    "    dev_train_all_paths = [\"{}/{}/train/\".format(dev_path, machine_type) + file for file in os.listdir(\"{}/{}/train\".format(dev_path, machine_type))]\n",
    "    dev_train_all_paths = sorted(dev_train_all_paths)\n",
    "    dev_train_paths[machine_type] = {}\n",
    "    dev_train_paths[machine_type]['train'], \\\n",
    "    dev_train_paths[machine_type]['valid'] = train_test_split(dev_train_all_paths,\n",
    "                                                              test_size=config['etc']['test_size'],\n",
    "                                                              shuffle=False,\n",
    "                                                             )\n",
    "    # add_dev train\n",
    "    add_train_all_paths = [\"{}/{}/train/\".format(add_dev_path, machine_type) + file for file in os.listdir(\"{}/{}/train\".format(add_dev_path, machine_type))]\n",
    "    add_train_all_paths = sorted(add_train_all_paths)\n",
    "    add_train_paths[machine_type] = {}\n",
    "    add_train_paths[machine_type]['train'], \\\n",
    "    add_train_paths[machine_type]['valid'] = train_test_split(add_train_all_paths,\n",
    "                                                              test_size=config['etc']['test_size'],\n",
    "                                                              shuffle=False,\n",
    "                                                             )\n",
    "    train_paths[machine_type] = {}\n",
    "    train_paths[machine_type]['train'] = dev_train_paths[machine_type]['train'] + add_train_paths[machine_type]['train']\n",
    "    train_paths[machine_type]['valid'] = dev_train_paths[machine_type]['valid'] + add_train_paths[machine_type]['valid']"
   ]
  },
  {
   "cell_type": "markdown",
   "metadata": {},
   "source": [
    "## training"
   ]
  },
  {
   "cell_type": "code",
   "execution_count": 9,
   "metadata": {},
   "outputs": [],
   "source": [
    "#############################################################################\n",
    "# run\n",
    "#############################################################################\n",
    "def run(machine_type):\n",
    "    com.tic()\n",
    "    logger.info('TARGET MACHINE_TYPE: {0}'.format(machine_type))\n",
    "    logger.info('MAKE DATA_LOADER')\n",
    "    # dev_train_paths\n",
    "    dataloaders_dict = modeler.make_dataloader(train_paths, machine_type)\n",
    "    # define writer for tensorbord\n",
    "    os.makedirs(TB_DIR+'/'+machine_type, exist_ok=True)         # debug\n",
    "    tb_log_dir = TB_DIR + '/' + machine_type\n",
    "    writer = SummaryWriter(log_dir = tb_log_dir)\n",
    "    logger.info('TRAINING')\n",
    "    # parameter setting\n",
    "    net = Model(sample_rate=config['preprocessing']['sample_rate'],\n",
    "                window_size=config['preprocessing']['window_size'],\n",
    "                hop_size=config['preprocessing']['hop_size'],\n",
    "                mel_bins=config['preprocessing']['mel_bins'],\n",
    "                fmin=config['preprocessing']['fmin'],\n",
    "                fmax=config['preprocessing']['fmax'],\n",
    "                latent_size=config['fit']['latent_size'],\n",
    "                mixture_size=config['fit']['mixture_size'])\n",
    "    #pretrained_dict = torch.load(config['IO_OPTION']['PREMODEL_PATH'])\n",
    "    #net = filtered_load_model(net, pretrained_dict)\n",
    "    optimizer = optim.Adam(net.parameters(), lr=1e-3)\n",
    "    num_epochs = config['fit']['num_epochs']\n",
    "    scheduler = optim.lr_scheduler.OneCycleLR(optimizer=optimizer, pct_start=0.1, div_factor=1e3, \n",
    "                                              max_lr=1e-3, epochs=num_epochs, steps_per_epoch=len(dataloaders_dict['train']))\n",
    "    criterion = nn.MSELoss()\n",
    "    history = modeler.train_net(net, dataloaders_dict, criterion, optimizer, scheduler, num_epochs, writer)\n",
    "    # output\n",
    "    model = history['model']\n",
    "    model_out_path = MODEL_DIR+'/{}_model.pth'.format(machine_type)\n",
    "    torch.save(model.state_dict(), model_out_path)\n",
    "    logger.info('\\n success:{0} \\n'.format(machine_type) + \\\n",
    "                    'model_out_path ==> \\n {0}'.format(model_out_path))\n",
    "    #  close writer for tensorbord\n",
    "    writer.close()\n",
    "    #modeler.mlflow_log(history, config, machine_type, model_out_path, tb_log_dir)\n",
    "    com.toc()\n",
    "    return history"
   ]
  },
  {
   "cell_type": "code",
   "execution_count": 10,
   "metadata": {},
   "outputs": [
    {
     "data": {
      "text/plain": [
       "['fan', 'pump', 'slider', 'ToyCar', 'ToyConveyor', 'valve']"
      ]
     },
     "execution_count": 10,
     "metadata": {},
     "output_type": "execute_result"
    }
   ],
   "source": [
    "machine_types"
   ]
  },
  {
   "cell_type": "code",
   "execution_count": 11,
   "metadata": {
    "scrolled": true
   },
   "outputs": [
    {
     "name": "stderr",
     "output_type": "stream",
     "text": [
      "2020-11-28 18:52:42,983 - 00_train.py - INFO - TARGET MACHINE_TYPE: fan\n",
      "2020-11-28 18:52:42,984 - 00_train.py - INFO - MAKE DATA_LOADER\n",
      "2020-11-28 18:52:44,197 - 00_train.py - INFO - TRAINING\n"
     ]
    },
    {
     "name": "stdout",
     "output_type": "stream",
     "text": [
      "use: cuda:0\n"
     ]
    },
    {
     "name": "stderr",
     "output_type": "stream",
     "text": [
      "100%|██████████| 51/51 [00:24<00:00,  2.09it/s]\n",
      "100%|██████████| 15/15 [00:02<00:00,  5.77it/s]\n",
      "2020-11-28 18:53:14,812 - pytorch_modeler.py - INFO - Epoch 1/300:train_loss:240.372370, tr_rec:17.394791, tr_eng:575.823002, tr_covd:783.888107, tr_metaloss:165.316889, val_AUC:0.541739, val_pAUC:0.516018\n",
      "100%|██████████| 51/51 [00:21<00:00,  2.42it/s]\n",
      "100%|██████████| 15/15 [00:02<00:00,  5.95it/s]\n",
      "2020-11-28 18:53:38,380 - pytorch_modeler.py - INFO - Epoch 2/300:train_loss:181.589479, tr_rec:16.787323, tr_eng:576.391102, tr_covd:778.194336, tr_metaloss:107.085227, val_AUC:0.509465, val_pAUC:0.489501\n",
      "100%|██████████| 51/51 [00:21<00:00,  2.43it/s]\n",
      "100%|██████████| 15/15 [00:02<00:00,  6.06it/s]\n",
      "2020-11-28 18:54:01,887 - pytorch_modeler.py - INFO - Epoch 3/300:train_loss:91.189613, tr_rec:8.662691, tr_eng:566.298820, tr_covd:791.759746, tr_metaloss:25.817863, val_AUC:0.466688, val_pAUC:0.497393\n",
      "100%|██████████| 51/51 [00:20<00:00,  2.44it/s]\n",
      "100%|██████████| 15/15 [00:02<00:00,  6.08it/s]\n",
      "2020-11-28 18:54:25,243 - pytorch_modeler.py - INFO - Epoch 4/300:train_loss:64.266651, tr_rec:2.803649, tr_eng:534.733427, tr_covd:935.657248, tr_metaloss:7.896093, val_AUC:0.431060, val_pAUC:0.485135\n",
      "100%|██████████| 51/51 [00:20<00:00,  2.52it/s]\n",
      "100%|██████████| 15/15 [00:02<00:00,  6.04it/s]\n",
      "2020-11-28 18:54:47,967 - pytorch_modeler.py - INFO - Epoch 5/300:train_loss:57.563145, tr_rec:1.640989, tr_eng:519.576838, tr_covd:965.919153, tr_metaloss:3.867880, val_AUC:0.481926, val_pAUC:0.492235\n",
      "100%|██████████| 51/51 [00:21<00:00,  2.42it/s]\n",
      "100%|██████████| 15/15 [00:02<00:00,  6.00it/s]\n",
      "2020-11-28 18:55:11,591 - pytorch_modeler.py - INFO - Epoch 6/300:train_loss:54.826234, tr_rec:1.183708, tr_eng:512.370658, tr_covd:1004.663443, tr_metaloss:2.304993, val_AUC:0.508228, val_pAUC:0.499484\n",
      "100%|██████████| 51/51 [00:21<00:00,  2.42it/s]\n",
      "100%|██████████| 15/15 [00:02<00:00,  6.00it/s]\n",
      "2020-11-28 18:55:35,138 - pytorch_modeler.py - INFO - Epoch 7/300:train_loss:52.849127, tr_rec:0.950665, tr_eng:501.315992, tr_covd:1057.841529, tr_metaloss:1.661078, val_AUC:0.525200, val_pAUC:0.512295\n",
      "100%|██████████| 51/51 [00:20<00:00,  2.44it/s]\n",
      "100%|██████████| 15/15 [00:02<00:00,  6.00it/s]\n",
      "2020-11-28 18:55:58,574 - pytorch_modeler.py - INFO - Epoch 8/300:train_loss:50.693078, tr_rec:0.801991, tr_eng:486.355865, tr_covd:867.888072, tr_metaloss:1.168712, val_AUC:0.504374, val_pAUC:0.491874\n",
      "100%|██████████| 51/51 [00:21<00:00,  2.41it/s]\n",
      "100%|██████████| 15/15 [00:02<00:00,  5.94it/s]\n",
      "2020-11-28 18:56:22,304 - pytorch_modeler.py - INFO - Epoch 9/300:train_loss:48.037359, tr_rec:0.697690, tr_eng:462.915475, tr_covd:1020.643621, tr_metaloss:0.946056, val_AUC:0.473133, val_pAUC:0.490673\n",
      "100%|██████████| 51/51 [00:21<00:00,  2.42it/s]\n",
      "100%|██████████| 15/15 [00:02<00:00,  5.91it/s]\n",
      "2020-11-28 18:56:45,963 - pytorch_modeler.py - INFO - Epoch 10/300:train_loss:46.210768, tr_rec:0.574012, tr_eng:447.093983, tr_covd:922.374103, tr_metaloss:0.835120, val_AUC:0.492411, val_pAUC:0.499559\n",
      "100%|██████████| 51/51 [00:20<00:00,  2.44it/s]\n",
      "100%|██████████| 15/15 [00:02<00:00,  6.09it/s]\n",
      "2020-11-28 18:57:09,305 - pytorch_modeler.py - INFO - Epoch 11/300:train_loss:44.400729, tr_rec:0.485390, tr_eng:430.198384, tr_covd:827.627931, tr_metaloss:0.812737, val_AUC:0.510421, val_pAUC:0.501079\n",
      "100%|██████████| 51/51 [00:20<00:00,  2.43it/s]\n",
      "100%|██████████| 15/15 [00:02<00:00,  5.82it/s]\n",
      "2020-11-28 18:57:32,893 - pytorch_modeler.py - INFO - Epoch 12/300:train_loss:43.787130, tr_rec:0.385257, tr_eng:422.561759, tr_covd:871.658397, tr_metaloss:1.058531, val_AUC:0.507531, val_pAUC:0.506020\n",
      "100%|██████████| 51/51 [00:21<00:00,  2.42it/s]\n",
      "100%|██████████| 15/15 [00:02<00:00,  6.09it/s]\n",
      "2020-11-28 18:57:56,403 - pytorch_modeler.py - INFO - Epoch 13/300:train_loss:40.392498, tr_rec:0.323905, tr_eng:389.172752, tr_covd:899.649076, tr_metaloss:1.061352, val_AUC:0.436820, val_pAUC:0.482576\n",
      "100%|██████████| 51/51 [00:20<00:00,  2.44it/s]\n",
      "100%|██████████| 15/15 [00:02<00:00,  6.10it/s]\n",
      "2020-11-28 18:58:19,747 - pytorch_modeler.py - INFO - Epoch 14/300:train_loss:35.095155, tr_rec:0.290784, tr_eng:333.779198, tr_covd:934.380015, tr_metaloss:1.333012, val_AUC:0.435502, val_pAUC:0.488708\n",
      "100%|██████████| 51/51 [00:20<00:00,  2.46it/s]\n",
      "100%|██████████| 15/15 [00:02<00:00,  6.15it/s]\n",
      "2020-11-28 18:58:42,889 - pytorch_modeler.py - INFO - Epoch 15/300:train_loss:31.497413, tr_rec:0.252090, tr_eng:300.250702, tr_covd:769.340758, tr_metaloss:1.143318, val_AUC:0.469036, val_pAUC:0.500023\n",
      "100%|██████████| 51/51 [00:20<00:00,  2.45it/s]\n",
      "100%|██████████| 15/15 [00:02<00:00,  5.86it/s]\n",
      "2020-11-28 18:59:06,250 - pytorch_modeler.py - INFO - Epoch 16/300:train_loss:36.020702, tr_rec:0.297605, tr_eng:347.217899, tr_covd:744.888409, tr_metaloss:0.926817, val_AUC:0.486409, val_pAUC:0.496535\n",
      "100%|██████████| 51/51 [00:20<00:00,  2.43it/s]\n",
      "100%|██████████| 15/15 [00:02<00:00,  5.96it/s]\n",
      "2020-11-28 18:59:29,775 - pytorch_modeler.py - INFO - Epoch 17/300:train_loss:30.493484, tr_rec:0.227103, tr_eng:288.728155, tr_covd:890.417896, tr_metaloss:1.304523, val_AUC:0.506565, val_pAUC:0.500240\n",
      "100%|██████████| 51/51 [00:21<00:00,  2.40it/s]\n",
      "100%|██████████| 15/15 [00:02<00:00,  6.13it/s]\n",
      "2020-11-28 18:59:53,452 - pytorch_modeler.py - INFO - Epoch 18/300:train_loss:28.788310, tr_rec:0.242721, tr_eng:272.876826, tr_covd:666.642976, tr_metaloss:1.191242, val_AUC:0.532132, val_pAUC:0.527587\n",
      "100%|██████████| 51/51 [00:20<00:00,  2.45it/s]\n",
      "100%|██████████| 15/15 [00:02<00:00,  5.61it/s]\n",
      "2020-11-28 19:00:16,973 - pytorch_modeler.py - INFO - Epoch 19/300:train_loss:32.904467, tr_rec:0.258911, tr_eng:315.889023, tr_covd:659.154660, tr_metaloss:0.990737, val_AUC:0.429601, val_pAUC:0.490966\n",
      "100%|██████████| 51/51 [00:19<00:00,  2.57it/s]\n",
      "100%|██████████| 15/15 [00:02<00:00,  6.08it/s]\n",
      "2020-11-28 19:00:39,322 - pytorch_modeler.py - INFO - Epoch 20/300:train_loss:31.003070, tr_rec:0.230504, tr_eng:298.046311, tr_covd:657.151505, tr_metaloss:0.902219, val_AUC:0.439917, val_pAUC:0.492990\n",
      "100%|██████████| 51/51 [00:20<00:00,  2.49it/s]\n",
      "100%|██████████| 15/15 [00:02<00:00,  6.13it/s]\n",
      "2020-11-28 19:01:02,252 - pytorch_modeler.py - INFO - Epoch 21/300:train_loss:30.662253, tr_rec:0.262335, tr_eng:293.453211, tr_covd:644.837073, tr_metaloss:0.990112, val_AUC:0.538520, val_pAUC:0.501416\n",
      "100%|██████████| 51/51 [00:21<00:00,  2.43it/s]\n",
      "100%|██████████| 15/15 [00:02<00:00,  5.38it/s]\n",
      "2020-11-28 19:01:26,065 - pytorch_modeler.py - INFO - Epoch 22/300:train_loss:28.670692, tr_rec:0.345903, tr_eng:268.204475, tr_covd:638.723791, tr_metaloss:1.440469, val_AUC:0.482244, val_pAUC:0.500408\n",
      "100%|██████████| 51/51 [00:20<00:00,  2.49it/s]\n",
      "100%|██████████| 15/15 [00:02<00:00,  5.79it/s]\n",
      "2020-11-28 19:01:49,116 - pytorch_modeler.py - INFO - Epoch 23/300:train_loss:27.824204, tr_rec:0.317596, tr_eng:260.628152, tr_covd:644.670830, tr_metaloss:1.379326, val_AUC:0.472431, val_pAUC:0.497599\n",
      "100%|██████████| 51/51 [00:20<00:00,  2.43it/s]\n",
      "100%|██████████| 15/15 [00:02<00:00,  5.98it/s]\n",
      "2020-11-28 19:02:12,626 - pytorch_modeler.py - INFO - Epoch 24/300:train_loss:29.161664, tr_rec:0.250991, tr_eng:272.061859, tr_covd:711.041373, tr_metaloss:1.633383, val_AUC:0.513370, val_pAUC:0.500791\n",
      "100%|██████████| 51/51 [00:20<00:00,  2.44it/s]\n",
      "100%|██████████| 15/15 [00:02<00:00,  5.71it/s]\n",
      "2020-11-28 19:02:36,200 - pytorch_modeler.py - INFO - Epoch 25/300:train_loss:27.283925, tr_rec:0.242486, tr_eng:254.905822, tr_covd:712.106173, tr_metaloss:1.479646, val_AUC:0.526065, val_pAUC:0.501727\n",
      "100%|██████████| 51/51 [00:20<00:00,  2.48it/s]\n",
      "100%|██████████| 15/15 [00:02<00:00,  6.27it/s]\n",
      "2020-11-28 19:02:59,184 - pytorch_modeler.py - INFO - Epoch 26/300:train_loss:11.431653, tr_rec:0.222882, tr_eng:77.735046, tr_covd:644.653252, tr_metaloss:3.370801, val_AUC:0.469132, val_pAUC:0.496399\n",
      "100%|██████████| 51/51 [00:20<00:00,  2.45it/s]\n",
      "100%|██████████| 15/15 [00:02<00:00,  5.71it/s]\n",
      "2020-11-28 19:03:22,678 - pytorch_modeler.py - INFO - Epoch 27/300:train_loss:12.482572, tr_rec:0.165521, tr_eng:107.571986, tr_covd:633.741461, tr_metaloss:1.496478, val_AUC:0.532037, val_pAUC:0.512942\n",
      "100%|██████████| 51/51 [00:20<00:00,  2.47it/s]\n",
      "100%|██████████| 15/15 [00:02<00:00,  5.85it/s]\n",
      "2020-11-28 19:03:45,911 - pytorch_modeler.py - INFO - Epoch 28/300:train_loss:31.030818, tr_rec:0.202026, tr_eng:288.622643, tr_covd:1978.033114, tr_metaloss:1.768723, val_AUC:0.527003, val_pAUC:0.499920\n"
     ]
    },
    {
     "name": "stderr",
     "output_type": "stream",
     "text": [
      "100%|██████████| 51/51 [00:21<00:00,  2.42it/s]\n",
      "100%|██████████| 15/15 [00:02<00:00,  5.80it/s]\n",
      "2020-11-28 19:04:09,583 - pytorch_modeler.py - INFO - Epoch 29/300:train_loss:28.648656, tr_rec:0.249610, tr_eng:268.899846, tr_covd:1171.455970, tr_metaloss:1.391915, val_AUC:0.486964, val_pAUC:0.500897\n",
      "100%|██████████| 51/51 [00:20<00:00,  2.48it/s]\n",
      "100%|██████████| 15/15 [00:02<00:00,  5.78it/s]\n",
      "2020-11-28 19:04:32,763 - pytorch_modeler.py - INFO - Epoch 30/300:train_loss:27.226217, tr_rec:0.266749, tr_eng:257.829734, tr_covd:717.889158, tr_metaloss:1.104705, val_AUC:0.491751, val_pAUC:0.501974\n",
      "100%|██████████| 51/51 [00:20<00:00,  2.52it/s]\n",
      "100%|██████████| 15/15 [00:02<00:00,  6.14it/s]\n",
      "2020-11-28 19:04:55,448 - pytorch_modeler.py - INFO - Epoch 31/300:train_loss:23.618014, tr_rec:0.278004, tr_eng:221.117513, tr_covd:681.135921, tr_metaloss:1.160145, val_AUC:0.534318, val_pAUC:0.521852\n",
      "100%|██████████| 51/51 [00:20<00:00,  2.45it/s]\n",
      "100%|██████████| 15/15 [00:02<00:00,  6.31it/s]\n",
      "2020-11-28 19:05:18,663 - pytorch_modeler.py - INFO - Epoch 32/300:train_loss:20.633265, tr_rec:0.221611, tr_eng:190.037364, tr_covd:651.596063, tr_metaloss:1.342758, val_AUC:0.500000, val_pAUC:0.500000\n",
      "100%|██████████| 51/51 [00:21<00:00,  2.42it/s]\n",
      "100%|██████████| 15/15 [00:02<00:00,  5.92it/s]\n",
      "2020-11-28 19:05:42,288 - pytorch_modeler.py - INFO - Epoch 33/300:train_loss:18.218059, tr_rec:0.230752, tr_eng:166.494459, tr_covd:627.757809, tr_metaloss:1.275085, val_AUC:0.523044, val_pAUC:0.497665\n",
      "100%|██████████| 51/51 [00:21<00:00,  2.40it/s]\n",
      "100%|██████████| 15/15 [00:02<00:00,  5.94it/s]\n",
      "2020-11-28 19:06:06,051 - pytorch_modeler.py - INFO - Epoch 34/300:train_loss:10.756674, tr_rec:0.266727, tr_eng:89.084284, tr_covd:674.134977, tr_metaloss:1.514105, val_AUC:0.500000, val_pAUC:0.500000\n",
      "100%|██████████| 51/51 [00:20<00:00,  2.51it/s]\n",
      "100%|██████████| 15/15 [00:02<00:00,  6.03it/s]\n",
      "2020-11-28 19:06:28,903 - pytorch_modeler.py - INFO - Epoch 35/300:train_loss:10.811420, tr_rec:0.276218, tr_eng:77.923873, tr_covd:663.368052, tr_metaloss:2.676477, val_AUC:0.553058, val_pAUC:0.508183\n",
      "100%|██████████| 51/51 [00:20<00:00,  2.48it/s]\n",
      "100%|██████████| 15/15 [00:02<00:00,  5.88it/s]\n",
      "2020-11-28 19:06:52,050 - pytorch_modeler.py - INFO - Epoch 36/300:train_loss:10.742588, tr_rec:0.264328, tr_eng:82.550015, tr_covd:738.356345, tr_metaloss:2.149423, val_AUC:0.461652, val_pAUC:0.492582\n",
      "100%|██████████| 51/51 [00:21<00:00,  2.33it/s]\n",
      "100%|██████████| 15/15 [00:02<00:00,  5.93it/s]\n",
      "2020-11-28 19:07:16,452 - pytorch_modeler.py - INFO - Epoch 37/300:train_loss:7.958980, tr_rec:0.268646, tr_eng:53.232780, tr_covd:776.848484, tr_metaloss:2.289371, val_AUC:0.500000, val_pAUC:0.500000\n",
      "100%|██████████| 51/51 [00:20<00:00,  2.45it/s]\n",
      "100%|██████████| 15/15 [00:02<00:00,  6.14it/s]\n",
      "2020-11-28 19:07:39,732 - pytorch_modeler.py - INFO - Epoch 38/300:train_loss:10.598206, tr_rec:0.237844, tr_eng:63.796861, tr_covd:784.247619, tr_metaloss:3.902251, val_AUC:0.500000, val_pAUC:0.500000\n",
      "100%|██████████| 51/51 [00:21<00:00,  2.38it/s]\n",
      "100%|██████████| 15/15 [00:02<00:00,  5.77it/s]\n",
      "2020-11-28 19:08:03,786 - pytorch_modeler.py - INFO - Epoch 39/300:train_loss:5.411155, tr_rec:0.226802, tr_eng:11.280806, tr_covd:701.388526, tr_metaloss:3.986134, val_AUC:0.499287, val_pAUC:0.499962\n",
      "100%|██████████| 51/51 [00:21<00:00,  2.42it/s]\n",
      "100%|██████████| 15/15 [00:02<00:00,  5.80it/s]\n",
      "2020-11-28 19:08:27,500 - pytorch_modeler.py - INFO - Epoch 40/300:train_loss:1.117583, tr_rec:0.236186, tr_eng:-36.563120, tr_covd:746.568409, tr_metaloss:4.463053, val_AUC:0.500000, val_pAUC:0.500000\n",
      "100%|██████████| 51/51 [00:20<00:00,  2.45it/s]\n",
      "100%|██████████| 15/15 [00:02<00:00,  5.89it/s]\n",
      "2020-11-28 19:08:50,902 - pytorch_modeler.py - INFO - Epoch 41/300:train_loss:19.317835, tr_rec:0.266655, tr_eng:167.774509, tr_covd:633.376667, tr_metaloss:2.210392, val_AUC:0.502676, val_pAUC:0.500142\n",
      "100%|██████████| 51/51 [00:20<00:00,  2.52it/s]\n",
      "100%|██████████| 15/15 [00:02<00:00,  5.90it/s]\n",
      "2020-11-28 19:09:13,698 - pytorch_modeler.py - INFO - Epoch 42/300:train_loss:21.927902, tr_rec:0.245033, tr_eng:204.469101, tr_covd:651.451795, tr_metaloss:1.170813, val_AUC:0.500000, val_pAUC:0.500000\n",
      "100%|██████████| 51/51 [00:20<00:00,  2.50it/s]\n",
      "100%|██████████| 15/15 [00:02<00:00,  5.87it/s]\n",
      "2020-11-28 19:09:36,699 - pytorch_modeler.py - INFO - Epoch 43/300:train_loss:5.035412, tr_rec:0.246535, tr_eng:26.072626, tr_covd:774.424573, tr_metaloss:2.104171, val_AUC:0.500000, val_pAUC:0.500000\n",
      "100%|██████████| 51/51 [00:20<00:00,  2.47it/s]\n",
      "100%|██████████| 15/15 [00:02<00:00,  5.88it/s]\n",
      "2020-11-28 19:09:59,880 - pytorch_modeler.py - INFO - Epoch 44/300:train_loss:-1.793167, tr_rec:0.247698, tr_eng:-37.862727, tr_covd:741.186858, tr_metaloss:1.671290, val_AUC:0.500000, val_pAUC:0.500000\n",
      "100%|██████████| 51/51 [00:21<00:00,  2.43it/s]\n",
      "100%|██████████| 15/15 [00:02<00:00,  5.86it/s]\n",
      "2020-11-28 19:10:23,472 - pytorch_modeler.py - INFO - Epoch 45/300:train_loss:16.019453, tr_rec:0.289528, tr_eng:134.004160, tr_covd:4444.036907, tr_metaloss:1.885105, val_AUC:0.450250, val_pAUC:0.499029\n",
      "100%|██████████| 51/51 [00:20<00:00,  2.44it/s]\n",
      "100%|██████████| 15/15 [00:02<00:00,  6.04it/s]\n",
      "2020-11-28 19:10:46,890 - pytorch_modeler.py - INFO - Epoch 46/300:train_loss:17.500853, tr_rec:0.352649, tr_eng:160.623358, tr_covd:639.133389, tr_metaloss:1.021954, val_AUC:0.500000, val_pAUC:0.500000\n",
      "100%|██████████| 51/51 [00:21<00:00,  2.41it/s]\n",
      "100%|██████████| 15/15 [00:03<00:00,  4.80it/s]\n",
      "2020-11-28 19:11:11,209 - pytorch_modeler.py - INFO - Epoch 47/300:train_loss:14.898519, tr_rec:0.329992, tr_eng:133.910261, tr_covd:878.071529, tr_metaloss:1.089693, val_AUC:0.500000, val_pAUC:0.500000\n",
      "100%|██████████| 51/51 [00:21<00:00,  2.38it/s]\n",
      "100%|██████████| 15/15 [00:02<00:00,  5.86it/s]\n",
      "2020-11-28 19:11:35,174 - pytorch_modeler.py - INFO - Epoch 48/300:train_loss:22.526209, tr_rec:0.247990, tr_eng:208.639449, tr_covd:690.554381, tr_metaloss:1.345218, val_AUC:0.502230, val_pAUC:0.517932\n",
      " 16%|█▌        | 8/51 [00:03<00:20,  2.14it/s]\n"
     ]
    },
    {
     "ename": "KeyboardInterrupt",
     "evalue": "",
     "output_type": "error",
     "traceback": [
      "\u001b[0;31m---------------------------------------------------------------------------\u001b[0m",
      "\u001b[0;31mKeyboardInterrupt\u001b[0m                         Traceback (most recent call last)",
      "\u001b[0;32m<ipython-input-11-b2d34d1d6174>\u001b[0m in \u001b[0;36m<module>\u001b[0;34m\u001b[0m\n\u001b[1;32m      1\u001b[0m \u001b[0;32mfor\u001b[0m \u001b[0mmachine_type\u001b[0m \u001b[0;32min\u001b[0m \u001b[0mmachine_types\u001b[0m\u001b[0;34m:\u001b[0m\u001b[0;34m\u001b[0m\u001b[0;34m\u001b[0m\u001b[0m\n\u001b[0;32m----> 2\u001b[0;31m     \u001b[0mhistory\u001b[0m \u001b[0;34m=\u001b[0m \u001b[0mrun\u001b[0m\u001b[0;34m(\u001b[0m\u001b[0mmachine_type\u001b[0m\u001b[0;34m)\u001b[0m\u001b[0;34m\u001b[0m\u001b[0;34m\u001b[0m\u001b[0m\n\u001b[0m\u001b[1;32m      3\u001b[0m     \u001b[0;31m#with open('{}/{}_history.pkl'.format(PKL_DIR, machine_type), 'wb') as file:\u001b[0m\u001b[0;34m\u001b[0m\u001b[0;34m\u001b[0m\u001b[0;34m\u001b[0m\u001b[0m\n\u001b[1;32m      4\u001b[0m     \u001b[0;31m#    pickle.dump(history , file)\u001b[0m\u001b[0;34m\u001b[0m\u001b[0;34m\u001b[0m\u001b[0;34m\u001b[0m\u001b[0m\n",
      "\u001b[0;32m<ipython-input-9-e4e07595c83f>\u001b[0m in \u001b[0;36mrun\u001b[0;34m(machine_type)\u001b[0m\n\u001b[1;32m     29\u001b[0m                                               max_lr=1e-3, epochs=num_epochs, steps_per_epoch=len(dataloaders_dict['train']))\n\u001b[1;32m     30\u001b[0m     \u001b[0mcriterion\u001b[0m \u001b[0;34m=\u001b[0m \u001b[0mnn\u001b[0m\u001b[0;34m.\u001b[0m\u001b[0mMSELoss\u001b[0m\u001b[0;34m(\u001b[0m\u001b[0;34m)\u001b[0m\u001b[0;34m\u001b[0m\u001b[0;34m\u001b[0m\u001b[0m\n\u001b[0;32m---> 31\u001b[0;31m     \u001b[0mhistory\u001b[0m \u001b[0;34m=\u001b[0m \u001b[0mmodeler\u001b[0m\u001b[0;34m.\u001b[0m\u001b[0mtrain_net\u001b[0m\u001b[0;34m(\u001b[0m\u001b[0mnet\u001b[0m\u001b[0;34m,\u001b[0m \u001b[0mdataloaders_dict\u001b[0m\u001b[0;34m,\u001b[0m \u001b[0mcriterion\u001b[0m\u001b[0;34m,\u001b[0m \u001b[0moptimizer\u001b[0m\u001b[0;34m,\u001b[0m \u001b[0mscheduler\u001b[0m\u001b[0;34m,\u001b[0m \u001b[0mnum_epochs\u001b[0m\u001b[0;34m,\u001b[0m \u001b[0mwriter\u001b[0m\u001b[0;34m)\u001b[0m\u001b[0;34m\u001b[0m\u001b[0;34m\u001b[0m\u001b[0m\n\u001b[0m\u001b[1;32m     32\u001b[0m     \u001b[0;31m# output\u001b[0m\u001b[0;34m\u001b[0m\u001b[0;34m\u001b[0m\u001b[0;34m\u001b[0m\u001b[0m\n\u001b[1;32m     33\u001b[0m     \u001b[0mmodel\u001b[0m \u001b[0;34m=\u001b[0m \u001b[0mhistory\u001b[0m\u001b[0;34m[\u001b[0m\u001b[0;34m'model'\u001b[0m\u001b[0;34m]\u001b[0m\u001b[0;34m\u001b[0m\u001b[0;34m\u001b[0m\u001b[0m\n",
      "\u001b[0;32m/media/hiroki/working/research/dcase2020/2D_codes/DPGMM_LSTM_CONV/add_metaAE/latent3_mixture3/pytorch_modeler.py\u001b[0m in \u001b[0;36mtrain_net\u001b[0;34m(net, dataloaders_dict, criterion, optimizer, scheduler, num_epochs, writer)\u001b[0m\n\u001b[1;32m    158\u001b[0m                     \u001b[0minput\u001b[0m \u001b[0;34m=\u001b[0m \u001b[0msample\u001b[0m\u001b[0;34m[\u001b[0m\u001b[0;34m'feature'\u001b[0m\u001b[0;34m]\u001b[0m\u001b[0;34m\u001b[0m\u001b[0;34m\u001b[0m\u001b[0m\n\u001b[1;32m    159\u001b[0m                     \u001b[0minput\u001b[0m \u001b[0;34m=\u001b[0m \u001b[0mto_var\u001b[0m\u001b[0;34m(\u001b[0m\u001b[0minput\u001b[0m\u001b[0;34m)\u001b[0m\u001b[0;34m\u001b[0m\u001b[0;34m\u001b[0m\u001b[0m\n\u001b[0;32m--> 160\u001b[0;31m                     \u001b[0mnet\u001b[0m\u001b[0;34m,\u001b[0m \u001b[0mtotal_loss\u001b[0m\u001b[0;34m,\u001b[0m \u001b[0msample_energy\u001b[0m\u001b[0;34m,\u001b[0m \u001b[0mrecon_error\u001b[0m\u001b[0;34m,\u001b[0m \u001b[0mcov_diag\u001b[0m\u001b[0;34m,\u001b[0m \u001b[0mmeta_loss\u001b[0m \u001b[0;34m=\u001b[0m \u001b[0mdagmm_step\u001b[0m\u001b[0;34m(\u001b[0m\u001b[0mnet\u001b[0m\u001b[0;34m,\u001b[0m \u001b[0minput\u001b[0m\u001b[0;34m,\u001b[0m \u001b[0moptimizer\u001b[0m\u001b[0;34m,\u001b[0m \u001b[0mscheduler\u001b[0m\u001b[0;34m,\u001b[0m \u001b[0mdevice\u001b[0m\u001b[0;34m)\u001b[0m\u001b[0;34m\u001b[0m\u001b[0;34m\u001b[0m\u001b[0m\n\u001b[0m\u001b[1;32m    161\u001b[0m                     \u001b[0mtr_losses\u001b[0m \u001b[0;34m+=\u001b[0m \u001b[0mtotal_loss\u001b[0m\u001b[0;34m.\u001b[0m\u001b[0mdata\u001b[0m\u001b[0;34m.\u001b[0m\u001b[0mitem\u001b[0m\u001b[0;34m(\u001b[0m\u001b[0;34m)\u001b[0m\u001b[0;34m\u001b[0m\u001b[0;34m\u001b[0m\u001b[0m\n\u001b[1;32m    162\u001b[0m                     \u001b[0mtr_eng\u001b[0m \u001b[0;34m+=\u001b[0m \u001b[0msample_energy\u001b[0m\u001b[0;34m.\u001b[0m\u001b[0mitem\u001b[0m\u001b[0;34m(\u001b[0m\u001b[0;34m)\u001b[0m\u001b[0;34m\u001b[0m\u001b[0;34m\u001b[0m\u001b[0m\n",
      "\u001b[0;32m/media/hiroki/working/research/dcase2020/2D_codes/DPGMM_LSTM_CONV/add_metaAE/latent3_mixture3/pytorch_modeler.py\u001b[0m in \u001b[0;36mdagmm_step\u001b[0;34m(net, input_data, optimizer, scheduler, device)\u001b[0m\n\u001b[1;32m    257\u001b[0m     \u001b[0mnet\u001b[0m\u001b[0;34m.\u001b[0m\u001b[0mzero_grad\u001b[0m\u001b[0;34m(\u001b[0m\u001b[0;34m)\u001b[0m\u001b[0;34m\u001b[0m\u001b[0;34m\u001b[0m\u001b[0m\n\u001b[1;32m    258\u001b[0m     \u001b[0mtotal_loss\u001b[0m \u001b[0;34m=\u001b[0m \u001b[0mtorch\u001b[0m\u001b[0;34m.\u001b[0m\u001b[0mclamp\u001b[0m\u001b[0;34m(\u001b[0m\u001b[0mtotal_loss\u001b[0m\u001b[0;34m,\u001b[0m \u001b[0mmax\u001b[0m\u001b[0;34m=\u001b[0m\u001b[0;36m1e7\u001b[0m\u001b[0;34m)\u001b[0m\u001b[0;34m\u001b[0m\u001b[0;34m\u001b[0m\u001b[0m\n\u001b[0;32m--> 259\u001b[0;31m     \u001b[0mtotal_loss\u001b[0m\u001b[0;34m.\u001b[0m\u001b[0mbackward\u001b[0m\u001b[0;34m(\u001b[0m\u001b[0;34m)\u001b[0m\u001b[0;34m\u001b[0m\u001b[0;34m\u001b[0m\u001b[0m\n\u001b[0m\u001b[1;32m    260\u001b[0m     \u001b[0mtorch\u001b[0m\u001b[0;34m.\u001b[0m\u001b[0mnn\u001b[0m\u001b[0;34m.\u001b[0m\u001b[0mutils\u001b[0m\u001b[0;34m.\u001b[0m\u001b[0mclip_grad_norm_\u001b[0m\u001b[0;34m(\u001b[0m\u001b[0mnet\u001b[0m\u001b[0;34m.\u001b[0m\u001b[0mparameters\u001b[0m\u001b[0;34m(\u001b[0m\u001b[0;34m)\u001b[0m\u001b[0;34m,\u001b[0m \u001b[0;36m5\u001b[0m\u001b[0;34m)\u001b[0m\u001b[0;34m\u001b[0m\u001b[0;34m\u001b[0m\u001b[0m\n\u001b[1;32m    261\u001b[0m     \u001b[0moptimizer\u001b[0m\u001b[0;34m.\u001b[0m\u001b[0mstep\u001b[0m\u001b[0;34m(\u001b[0m\u001b[0;34m)\u001b[0m\u001b[0;34m\u001b[0m\u001b[0;34m\u001b[0m\u001b[0m\n",
      "\u001b[0;32m~/anaconda3/lib/python3.7/site-packages/torch/tensor.py\u001b[0m in \u001b[0;36mbackward\u001b[0;34m(self, gradient, retain_graph, create_graph)\u001b[0m\n\u001b[1;32m    183\u001b[0m                 \u001b[0mproducts\u001b[0m\u001b[0;34m.\u001b[0m \u001b[0mDefaults\u001b[0m \u001b[0mto\u001b[0m\u001b[0;31m \u001b[0m\u001b[0;31m`\u001b[0m\u001b[0;31m`\u001b[0m\u001b[0;32mFalse\u001b[0m\u001b[0;31m`\u001b[0m\u001b[0;31m`\u001b[0m\u001b[0;34m.\u001b[0m\u001b[0;34m\u001b[0m\u001b[0;34m\u001b[0m\u001b[0m\n\u001b[1;32m    184\u001b[0m         \"\"\"\n\u001b[0;32m--> 185\u001b[0;31m         \u001b[0mtorch\u001b[0m\u001b[0;34m.\u001b[0m\u001b[0mautograd\u001b[0m\u001b[0;34m.\u001b[0m\u001b[0mbackward\u001b[0m\u001b[0;34m(\u001b[0m\u001b[0mself\u001b[0m\u001b[0;34m,\u001b[0m \u001b[0mgradient\u001b[0m\u001b[0;34m,\u001b[0m \u001b[0mretain_graph\u001b[0m\u001b[0;34m,\u001b[0m \u001b[0mcreate_graph\u001b[0m\u001b[0;34m)\u001b[0m\u001b[0;34m\u001b[0m\u001b[0;34m\u001b[0m\u001b[0m\n\u001b[0m\u001b[1;32m    186\u001b[0m \u001b[0;34m\u001b[0m\u001b[0m\n\u001b[1;32m    187\u001b[0m     \u001b[0;32mdef\u001b[0m \u001b[0mregister_hook\u001b[0m\u001b[0;34m(\u001b[0m\u001b[0mself\u001b[0m\u001b[0;34m,\u001b[0m \u001b[0mhook\u001b[0m\u001b[0;34m)\u001b[0m\u001b[0;34m:\u001b[0m\u001b[0;34m\u001b[0m\u001b[0;34m\u001b[0m\u001b[0m\n",
      "\u001b[0;32m~/anaconda3/lib/python3.7/site-packages/torch/autograd/__init__.py\u001b[0m in \u001b[0;36mbackward\u001b[0;34m(tensors, grad_tensors, retain_graph, create_graph, grad_variables)\u001b[0m\n\u001b[1;32m    125\u001b[0m     Variable._execution_engine.run_backward(\n\u001b[1;32m    126\u001b[0m         \u001b[0mtensors\u001b[0m\u001b[0;34m,\u001b[0m \u001b[0mgrad_tensors\u001b[0m\u001b[0;34m,\u001b[0m \u001b[0mretain_graph\u001b[0m\u001b[0;34m,\u001b[0m \u001b[0mcreate_graph\u001b[0m\u001b[0;34m,\u001b[0m\u001b[0;34m\u001b[0m\u001b[0;34m\u001b[0m\u001b[0m\n\u001b[0;32m--> 127\u001b[0;31m         allow_unreachable=True)  # allow_unreachable flag\n\u001b[0m\u001b[1;32m    128\u001b[0m \u001b[0;34m\u001b[0m\u001b[0m\n\u001b[1;32m    129\u001b[0m \u001b[0;34m\u001b[0m\u001b[0m\n",
      "\u001b[0;31mKeyboardInterrupt\u001b[0m: "
     ]
    }
   ],
   "source": [
    "for machine_type in machine_types:\n",
    "    history = run(machine_type)\n",
    "    #with open('{}/{}_history.pkl'.format(PKL_DIR, machine_type), 'wb') as file:\n",
    "    #    pickle.dump(history , file)"
   ]
  },
  {
   "cell_type": "markdown",
   "metadata": {},
   "source": [
    "history = run('ToyCar')\n",
    "with open('{}/{}_history.pkl'.format(PKL_DIR, machine_type), 'wb') as file:\n",
    "    pickle.dump(history , file)"
   ]
  },
  {
   "cell_type": "raw",
   "metadata": {},
   "source": [
    "history['reconstruct_img']['label']"
   ]
  }
 ],
 "metadata": {
  "kernelspec": {
   "display_name": "Python 3",
   "language": "python",
   "name": "python3"
  },
  "language_info": {
   "codemirror_mode": {
    "name": "ipython",
    "version": 3
   },
   "file_extension": ".py",
   "mimetype": "text/x-python",
   "name": "python",
   "nbconvert_exporter": "python",
   "pygments_lexer": "ipython3",
   "version": "3.7.7"
  },
  "toc": {
   "base_numbering": 1,
   "nav_menu": {},
   "number_sections": true,
   "sideBar": true,
   "skip_h1_title": false,
   "title_cell": "Table of Contents",
   "title_sidebar": "Contents",
   "toc_cell": false,
   "toc_position": {},
   "toc_section_display": true,
   "toc_window_display": false
  }
 },
 "nbformat": 4,
 "nbformat_minor": 4
}
