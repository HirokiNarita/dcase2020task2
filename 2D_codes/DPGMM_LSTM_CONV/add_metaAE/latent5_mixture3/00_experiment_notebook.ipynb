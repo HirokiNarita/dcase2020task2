{
 "cells": [
  {
   "cell_type": "markdown",
   "metadata": {},
   "source": [
    "# train"
   ]
  },
  {
   "cell_type": "code",
   "execution_count": 1,
   "metadata": {},
   "outputs": [
    {
     "name": "stderr",
     "output_type": "stream",
     "text": [
      "/home/hiroki/anaconda3/lib/python3.7/site-packages/ipykernel_launcher.py:5: YAMLLoadWarning: calling yaml.load() without Loader=... is deprecated, as the default Loader is unsafe. Please read https://msg.pyyaml.org/load for full details.\n",
      "  \"\"\"\n"
     ]
    }
   ],
   "source": [
    "import yaml\n",
    "import os\n",
    "\n",
    "with open(\"./config.yaml\", 'rb') as f:\n",
    "    config = yaml.load(f)"
   ]
  },
  {
   "cell_type": "code",
   "execution_count": 2,
   "metadata": {},
   "outputs": [],
   "source": [
    "OUTPUT_ROOT = config['IO_OPTION']['OUTPUT_ROOT']\n",
    "os.makedirs(OUTPUT_ROOT, exist_ok=True)"
   ]
  },
  {
   "cell_type": "markdown",
   "metadata": {},
   "source": [
    "## load library"
   ]
  },
  {
   "cell_type": "code",
   "execution_count": 3,
   "metadata": {},
   "outputs": [],
   "source": [
    "# python default library\n",
    "import os\n",
    "import shutil\n",
    "import datetime\n",
    "import sys\n",
    "import pickle\n",
    "\n",
    "# general analysis tool-kit\n",
    "import numpy as np\n",
    "from sklearn.model_selection import train_test_split\n",
    "import matplotlib.pyplot as plt\n",
    "\n",
    "# pytorch\n",
    "import torch\n",
    "from torch import optim, nn\n",
    "from torch.utils.tensorboard import SummaryWriter\n",
    "\n",
    "from torchsummary import summary\n",
    "\n",
    "# etc\n",
    "import yaml\n",
    "yaml.warnings({'YAMLLoadWarning': False})\n",
    "import mlflow\n",
    "from collections import defaultdict\n",
    "from scipy.stats import zscore\n",
    "\n",
    "# original library\n",
    "\n",
    "import common as com\n",
    "import pytorch_modeler as modeler\n",
    "from pytorch_model import DAGMM as Model\n",
    "from pytorch_utils import filtered_load_model\n",
    "import models\n",
    "\n",
    "import librosa\n",
    "import IPython\n",
    "import librosa.display"
   ]
  },
  {
   "cell_type": "markdown",
   "metadata": {},
   "source": [
    "## load config and set logger"
   ]
  },
  {
   "cell_type": "code",
   "execution_count": 4,
   "metadata": {},
   "outputs": [
    {
     "name": "stderr",
     "output_type": "stream",
     "text": [
      "/home/hiroki/anaconda3/lib/python3.7/site-packages/ipykernel/ipkernel.py:287: DeprecationWarning: `should_run_async` will not call `transform_cell` automatically in the future. Please pass the result to `transformed_cell` argument and any exception that happen during thetransform in `preprocessing_exc_tuple` in IPython 7.17 and above.\n",
      "  and should_run_async(code)\n"
     ]
    }
   ],
   "source": [
    "#with open(\"./config.yaml\", 'rb') as f:\n",
    "#    config = yaml.load(f)\n",
    "\n",
    "log_folder = config['IO_OPTION']['OUTPUT_ROOT']+'/{0}.log'.format(datetime.date.today())\n",
    "logger = com.setup_logger(log_folder, '00_train.py')"
   ]
  },
  {
   "cell_type": "markdown",
   "metadata": {},
   "source": [
    "## Setting"
   ]
  },
  {
   "cell_type": "code",
   "execution_count": 5,
   "metadata": {},
   "outputs": [],
   "source": [
    "# Setting seed\n",
    "modeler.set_seed(42)"
   ]
  },
  {
   "cell_type": "code",
   "execution_count": 6,
   "metadata": {},
   "outputs": [
    {
     "data": {
      "text/plain": [
       "'/media/hiroki/working/research/dcase2020/result/2D/DAGMM/add_metaAE/latent5_mixture3/config.yaml'"
      ]
     },
     "execution_count": 6,
     "metadata": {},
     "output_type": "execute_result"
    }
   ],
   "source": [
    "############################################################################\n",
    "# Setting I/O path\n",
    "############################################################################\n",
    "# input dirs\n",
    "INPUT_ROOT = config['IO_OPTION']['INPUT_ROOT']\n",
    "dev_path = INPUT_ROOT + \"/dev_data\"\n",
    "add_dev_path = INPUT_ROOT + \"/add_dev_data\"\n",
    "# machine type\n",
    "MACHINE_TYPE = config['IO_OPTION']['MACHINE_TYPE']\n",
    "machine_types = os.listdir(dev_path)\n",
    "# output dirs\n",
    "OUTPUT_ROOT = config['IO_OPTION']['OUTPUT_ROOT']\n",
    "MODEL_DIR = config['IO_OPTION']['OUTPUT_ROOT'] + '/models'\n",
    "TB_DIR = config['IO_OPTION']['OUTPUT_ROOT'] + '/tb'\n",
    "PKL_DIR = OUTPUT_ROOT + '/pkl'\n",
    "#os.makedirs(OUTPUT_ROOT, exist_ok=True)\n",
    "os.makedirs(MODEL_DIR, exist_ok=True)\n",
    "os.makedirs(TB_DIR, exist_ok=True)\n",
    "os.makedirs(PKL_DIR, exist_ok=True)\n",
    "# copy config\n",
    "shutil.copy('./config.yaml', OUTPUT_ROOT)"
   ]
  },
  {
   "cell_type": "markdown",
   "metadata": {},
   "source": [
    "## make path list and train/valid split"
   ]
  },
  {
   "cell_type": "code",
   "execution_count": 7,
   "metadata": {},
   "outputs": [],
   "source": [
    "############################################################################\n",
    "# make path set and train/valid split\n",
    "############################################################################\n",
    "'''\n",
    "train_paths[machine_type]['train' or 'valid'] = path\n",
    "'''\n",
    "dev_train_paths = {}\n",
    "add_train_paths = {}\n",
    "train_paths = {}"
   ]
  },
  {
   "cell_type": "code",
   "execution_count": 8,
   "metadata": {},
   "outputs": [],
   "source": [
    "for machine_type in machine_types:\n",
    "    # dev train\n",
    "    dev_train_paths = [\"{}/{}/train/\".format(dev_path, machine_type) + file for file in os.listdir(\"{}/{}/train\".format(dev_path, machine_type))]\n",
    "    dev_train_paths = sorted(dev_train_paths)\n",
    "    # add_dev train\n",
    "    add_train_paths = [\"{}/{}/train/\".format(add_dev_path, machine_type) + file for file in os.listdir(\"{}/{}/train\".format(add_dev_path, machine_type))]\n",
    "    add_train_paths = sorted(add_train_paths)\n",
    "    # valid\n",
    "    dev_valid_paths = [\"{}/{}/test/\".format(dev_path, machine_type) + file for file in os.listdir(\"{}/{}/test\".format(dev_path, machine_type))]\n",
    "    dev_valid_paths = sorted(dev_valid_paths)\n",
    "    \n",
    "    train_paths[machine_type] = {}\n",
    "    train_paths[machine_type]['train'] = dev_train_paths + add_train_paths\n",
    "    train_paths[machine_type]['valid'] = dev_valid_paths"
   ]
  },
  {
   "cell_type": "raw",
   "metadata": {},
   "source": [
    "# for machine_type in machine_types:\n",
    "    # dev train\n",
    "    dev_train_all_paths = [\"{}/{}/train/\".format(dev_path, machine_type) + file for file in os.listdir(\"{}/{}/train\".format(dev_path, machine_type))]\n",
    "    dev_train_all_paths = sorted(dev_train_all_paths)\n",
    "    dev_train_paths[machine_type] = {}\n",
    "    dev_train_paths[machine_type]['train'], \\\n",
    "    dev_train_paths[machine_type]['valid'] = train_test_split(dev_train_all_paths,\n",
    "                                                              test_size=config['etc']['test_size'],\n",
    "                                                              shuffle=False,\n",
    "                                                             )\n",
    "    # add_dev train\n",
    "    add_train_all_paths = [\"{}/{}/train/\".format(add_dev_path, machine_type) + file for file in os.listdir(\"{}/{}/train\".format(add_dev_path, machine_type))]\n",
    "    add_train_all_paths = sorted(add_train_all_paths)\n",
    "    add_train_paths[machine_type] = {}\n",
    "    add_train_paths[machine_type]['train'], \\\n",
    "    add_train_paths[machine_type]['valid'] = train_test_split(add_train_all_paths,\n",
    "                                                              test_size=config['etc']['test_size'],\n",
    "                                                              shuffle=False,\n",
    "                                                             )\n",
    "    train_paths[machine_type] = {}\n",
    "    train_paths[machine_type]['train'] = dev_train_paths[machine_type]['train'] + add_train_paths[machine_type]['train']\n",
    "    train_paths[machine_type]['valid'] = dev_train_paths[machine_type]['valid'] + add_train_paths[machine_type]['valid']"
   ]
  },
  {
   "cell_type": "markdown",
   "metadata": {},
   "source": [
    "## training"
   ]
  },
  {
   "cell_type": "code",
   "execution_count": 9,
   "metadata": {},
   "outputs": [],
   "source": [
    "#############################################################################\n",
    "# run\n",
    "#############################################################################\n",
    "def run(machine_type):\n",
    "    com.tic()\n",
    "    logger.info('TARGET MACHINE_TYPE: {0}'.format(machine_type))\n",
    "    logger.info('MAKE DATA_LOADER')\n",
    "    # dev_train_paths\n",
    "    dataloaders_dict = modeler.make_dataloader(train_paths, machine_type)\n",
    "    # define writer for tensorbord\n",
    "    os.makedirs(TB_DIR+'/'+machine_type, exist_ok=True)         # debug\n",
    "    tb_log_dir = TB_DIR + '/' + machine_type\n",
    "    writer = SummaryWriter(log_dir = tb_log_dir)\n",
    "    logger.info('TRAINING')\n",
    "    # parameter setting\n",
    "    net = Model(sample_rate=config['preprocessing']['sample_rate'],\n",
    "                window_size=config['preprocessing']['window_size'],\n",
    "                hop_size=config['preprocessing']['hop_size'],\n",
    "                mel_bins=config['preprocessing']['mel_bins'],\n",
    "                fmin=config['preprocessing']['fmin'],\n",
    "                fmax=config['preprocessing']['fmax'],\n",
    "                latent_size=config['fit']['latent_size'],\n",
    "                mixture_size=config['fit']['mixture_size'])\n",
    "    #pretrained_dict = torch.load(config['IO_OPTION']['PREMODEL_PATH'])\n",
    "    #net = filtered_load_model(net, pretrained_dict)\n",
    "    optimizer = optim.Adam(net.parameters(), lr=1e-3)\n",
    "    num_epochs = config['fit']['num_epochs']\n",
    "    scheduler = optim.lr_scheduler.OneCycleLR(optimizer=optimizer, pct_start=0.1, div_factor=1e3, \n",
    "                                              max_lr=1e-3, epochs=num_epochs, steps_per_epoch=len(dataloaders_dict['train']))\n",
    "    criterion = nn.MSELoss()\n",
    "    history = modeler.train_net(net, dataloaders_dict, criterion, optimizer, scheduler, num_epochs, writer)\n",
    "    # output\n",
    "    model = history['model']\n",
    "    model_out_path = MODEL_DIR+'/{}_model.pth'.format(machine_type)\n",
    "    torch.save(model.state_dict(), model_out_path)\n",
    "    logger.info('\\n success:{0} \\n'.format(machine_type) + \\\n",
    "                    'model_out_path ==> \\n {0}'.format(model_out_path))\n",
    "    #  close writer for tensorbord\n",
    "    writer.close()\n",
    "    #modeler.mlflow_log(history, config, machine_type, model_out_path, tb_log_dir)\n",
    "    com.toc()\n",
    "    return history"
   ]
  },
  {
   "cell_type": "code",
   "execution_count": 10,
   "metadata": {},
   "outputs": [
    {
     "data": {
      "text/plain": [
       "['fan', 'pump', 'slider', 'ToyCar', 'ToyConveyor', 'valve']"
      ]
     },
     "execution_count": 10,
     "metadata": {},
     "output_type": "execute_result"
    }
   ],
   "source": [
    "machine_types"
   ]
  },
  {
   "cell_type": "code",
   "execution_count": null,
   "metadata": {
    "scrolled": true
   },
   "outputs": [
    {
     "name": "stderr",
     "output_type": "stream",
     "text": [
      "2020-11-28 19:52:18,700 - 00_train.py - INFO - TARGET MACHINE_TYPE: slider\n",
      "2020-11-28 19:52:18,701 - 00_train.py - INFO - MAKE DATA_LOADER\n",
      "2020-11-28 19:52:19,571 - 00_train.py - INFO - TRAINING\n"
     ]
    },
    {
     "name": "stdout",
     "output_type": "stream",
     "text": [
      "use: cuda:0\n"
     ]
    },
    {
     "name": "stderr",
     "output_type": "stream",
     "text": [
      "100%|██████████| 81/81 [00:27<00:00,  2.93it/s]\n",
      "100%|██████████| 20/20 [00:01<00:00, 12.54it/s]\n",
      "2020-11-28 19:52:50,957 - pytorch_modeler.py - INFO - Epoch 1/300:train_loss:251.538388, tr_rec:30.039392, tr_eng:900.721648, tr_covd:90742.512207, tr_metaloss:122.352577, val_AUC:0.398124, val_pAUC:0.487838\n",
      "100%|██████████| 81/81 [00:25<00:00,  3.17it/s]\n",
      "100%|██████████| 20/20 [00:01<00:00, 13.23it/s]\n",
      "2020-11-28 19:53:17,995 - pytorch_modeler.py - INFO - Epoch 2/300:train_loss:247.843543, tr_rec:29.824921, tr_eng:906.099858, tr_covd:58810.290375, tr_metaloss:121.527606, val_AUC:0.377392, val_pAUC:0.483996\n",
      "100%|██████████| 81/81 [00:34<00:00,  2.38it/s]\n",
      "100%|██████████| 20/20 [00:02<00:00,  8.53it/s]\n",
      "2020-11-28 19:53:54,446 - pytorch_modeler.py - INFO - Epoch 3/300:train_loss:232.131387, tr_rec:28.636319, tr_eng:876.302189, tr_covd:26633.833832, tr_metaloss:113.201462, val_AUC:0.580659, val_pAUC:0.517855\n",
      "100%|██████████| 81/81 [00:40<00:00,  2.02it/s]\n",
      "100%|██████████| 20/20 [00:02<00:00,  7.82it/s]\n",
      "2020-11-28 19:54:37,028 - pytorch_modeler.py - INFO - Epoch 4/300:train_loss:174.709456, tr_rec:20.109323, tr_eng:761.418327, tr_covd:10493.277248, tr_metaloss:77.408971, val_AUC:0.617580, val_pAUC:0.528649\n",
      "100%|██████████| 81/81 [00:39<00:00,  2.04it/s]\n",
      "100%|██████████| 20/20 [00:02<00:00,  7.69it/s]\n",
      "2020-11-28 19:55:19,324 - pytorch_modeler.py - INFO - Epoch 5/300:train_loss:76.198958, tr_rec:4.098760, tr_eng:429.213502, tr_covd:4966.386967, tr_metaloss:28.682209, val_AUC:0.640132, val_pAUC:0.516541\n",
      "100%|██████████| 81/81 [00:35<00:00,  2.27it/s]\n",
      "100%|██████████| 20/20 [00:01<00:00, 12.37it/s]\n",
      "2020-11-28 19:55:56,632 - pytorch_modeler.py - INFO - Epoch 6/300:train_loss:32.309776, tr_rec:1.841926, tr_eng:169.730777, tr_covd:4980.947422, tr_metaloss:12.996678, val_AUC:0.644671, val_pAUC:0.526681\n",
      "100%|██████████| 81/81 [00:36<00:00,  2.20it/s]\n",
      "100%|██████████| 20/20 [00:02<00:00,  7.58it/s]\n",
      "2020-11-28 19:56:36,021 - pytorch_modeler.py - INFO - Epoch 7/300:train_loss:22.464755, tr_rec:1.635480, tr_eng:105.524656, tr_covd:5338.597076, tr_metaloss:9.742950, val_AUC:0.458921, val_pAUC:0.491854\n",
      "100%|██████████| 81/81 [00:40<00:00,  2.01it/s]\n",
      "100%|██████████| 20/20 [00:02<00:00,  9.42it/s]\n",
      "2020-11-28 19:57:18,534 - pytorch_modeler.py - INFO - Epoch 8/300:train_loss:2.869213, tr_rec:0.841562, tr_eng:-72.510638, tr_covd:9427.425606, tr_metaloss:8.335972, val_AUC:0.550928, val_pAUC:0.501166\n",
      "100%|██████████| 81/81 [00:40<00:00,  2.02it/s]\n",
      "100%|██████████| 20/20 [00:02<00:00,  7.46it/s]\n",
      "2020-11-28 19:58:01,317 - pytorch_modeler.py - INFO - Epoch 9/300:train_loss:5.744433, tr_rec:0.987666, tr_eng:-45.728797, tr_covd:9812.703407, tr_metaloss:8.348376, val_AUC:0.521652, val_pAUC:0.488825\n",
      "100%|██████████| 81/81 [00:39<00:00,  2.05it/s]\n",
      "100%|██████████| 20/20 [00:02<00:00,  7.64it/s]\n",
      "2020-11-28 19:58:43,536 - pytorch_modeler.py - INFO - Epoch 10/300:train_loss:0.507721, tr_rec:0.975132, tr_eng:-91.183895, tr_covd:13639.767651, tr_metaloss:7.287002, val_AUC:0.602829, val_pAUC:0.505467\n",
      "100%|██████████| 81/81 [00:39<00:00,  2.05it/s]\n",
      "100%|██████████| 20/20 [00:02<00:00,  7.53it/s]\n",
      "2020-11-28 19:59:25,775 - pytorch_modeler.py - INFO - Epoch 11/300:train_loss:-28.179388, tr_rec:0.607403, tr_eng:-362.607824, tr_covd:11512.971722, tr_metaloss:6.322694, val_AUC:0.533384, val_pAUC:0.519721\n",
      "100%|██████████| 81/81 [00:40<00:00,  2.02it/s]\n",
      "100%|██████████| 20/20 [00:02<00:00,  7.75it/s]\n",
      "2020-11-28 20:00:08,492 - pytorch_modeler.py - INFO - Epoch 12/300:train_loss:-31.647410, tr_rec:0.607184, tr_eng:-419.264021, tr_covd:11272.544640, tr_metaloss:8.544555, val_AUC:0.547481, val_pAUC:0.512481\n",
      "100%|██████████| 81/81 [00:39<00:00,  2.06it/s]\n",
      "100%|██████████| 20/20 [00:02<00:00,  7.54it/s]\n",
      "2020-11-28 20:00:50,524 - pytorch_modeler.py - INFO - Epoch 13/300:train_loss:-28.014285, tr_rec:0.636895, tr_eng:-433.778144, tr_covd:12928.715912, tr_metaloss:13.433764, val_AUC:0.425507, val_pAUC:0.486777\n",
      "100%|██████████| 81/81 [00:39<00:00,  2.04it/s]\n",
      "100%|██████████| 20/20 [00:02<00:00,  7.55it/s]\n",
      "2020-11-28 20:01:32,865 - pytorch_modeler.py - INFO - Epoch 14/300:train_loss:-33.933289, tr_rec:0.494861, tr_eng:-446.206243, tr_covd:21358.622742, tr_metaloss:8.056614, val_AUC:0.508317, val_pAUC:0.500218\n",
      "100%|██████████| 81/81 [00:40<00:00,  2.02it/s]\n",
      "100%|██████████| 20/20 [00:02<00:00,  8.69it/s]\n",
      "2020-11-28 20:02:15,334 - pytorch_modeler.py - INFO - Epoch 15/300:train_loss:-33.107121, tr_rec:0.770709, tr_eng:-446.851042, tr_covd:20785.444710, tr_metaloss:8.728731, val_AUC:0.532855, val_pAUC:0.501895\n",
      "100%|██████████| 81/81 [00:40<00:00,  2.00it/s]\n",
      "100%|██████████| 20/20 [00:02<00:00,  7.77it/s]\n",
      "2020-11-28 20:02:58,490 - pytorch_modeler.py - INFO - Epoch 16/300:train_loss:-25.787146, tr_rec:0.445816, tr_eng:-403.209943, tr_covd:39072.083977, tr_metaloss:10.180825, val_AUC:0.584232, val_pAUC:0.505161\n",
      "100%|██████████| 81/81 [00:39<00:00,  2.05it/s]\n",
      "100%|██████████| 20/20 [00:02<00:00,  7.88it/s]\n",
      "2020-11-28 20:03:40,580 - pytorch_modeler.py - INFO - Epoch 17/300:train_loss:-37.253150, tr_rec:0.344673, tr_eng:-508.278166, tr_covd:24509.298721, tr_metaloss:10.779065, val_AUC:0.518602, val_pAUC:0.500540\n",
      "100%|██████████| 81/81 [00:39<00:00,  2.04it/s]\n",
      "100%|██████████| 20/20 [00:02<00:00,  8.61it/s]\n",
      "2020-11-28 20:04:22,701 - pytorch_modeler.py - INFO - Epoch 18/300:train_loss:-45.250666, tr_rec:0.629291, tr_eng:-540.600901, tr_covd:19472.538952, tr_metaloss:6.232880, val_AUC:0.619753, val_pAUC:0.516914\n",
      "100%|██████████| 81/81 [00:40<00:00,  2.00it/s]\n",
      "100%|██████████| 20/20 [00:02<00:00,  7.60it/s]\n",
      "2020-11-28 20:05:05,872 - pytorch_modeler.py - INFO - Epoch 19/300:train_loss:-52.224181, tr_rec:0.866259, tr_eng:-658.398373, tr_covd:25871.672947, tr_metaloss:10.162231, val_AUC:0.516605, val_pAUC:0.504135\n",
      "100%|██████████| 81/81 [00:39<00:00,  2.06it/s]\n",
      "100%|██████████| 20/20 [00:02<00:00,  7.87it/s]\n",
      "2020-11-28 20:05:47,834 - pytorch_modeler.py - INFO - Epoch 20/300:train_loss:-39.706399, tr_rec:1.510276, tr_eng:-522.201522, tr_covd:20530.553757, tr_metaloss:8.950422, val_AUC:0.631284, val_pAUC:0.511686\n",
      "100%|██████████| 81/81 [00:39<00:00,  2.07it/s]\n",
      "100%|██████████| 20/20 [00:02<00:00,  7.77it/s]\n",
      "2020-11-28 20:06:29,502 - pytorch_modeler.py - INFO - Epoch 21/300:train_loss:-44.001546, tr_rec:3.619039, tr_eng:-559.704022, tr_covd:16396.972410, tr_metaloss:6.710121, val_AUC:0.542166, val_pAUC:0.489657\n",
      "100%|██████████| 81/81 [00:39<00:00,  2.03it/s]\n",
      "100%|██████████| 20/20 [00:02<00:00,  7.80it/s]\n",
      "2020-11-28 20:07:12,034 - pytorch_modeler.py - INFO - Epoch 22/300:train_loss:-52.297918, tr_rec:1.117745, tr_eng:-604.583136, tr_covd:16103.541901, tr_metaloss:5.432298, val_AUC:0.462482, val_pAUC:0.501353\n",
      "100%|██████████| 81/81 [00:40<00:00,  2.01it/s]\n",
      "100%|██████████| 20/20 [00:02<00:00,  7.58it/s]\n",
      "2020-11-28 20:07:54,893 - pytorch_modeler.py - INFO - Epoch 23/300:train_loss:-22.351588, tr_rec:1.064231, tr_eng:-426.516485, tr_covd:22018.028793, tr_metaloss:17.034029, val_AUC:0.530220, val_pAUC:0.523104\n",
      "100%|██████████| 81/81 [00:39<00:00,  2.03it/s]\n",
      "100%|██████████| 20/20 [00:02<00:00,  7.52it/s]\n",
      "2020-11-28 20:08:37,553 - pytorch_modeler.py - INFO - Epoch 24/300:train_loss:-35.153054, tr_rec:1.964042, tr_eng:-593.081711, tr_covd:46019.468647, tr_metaloss:17.589129, val_AUC:0.502194, val_pAUC:0.500098\n",
      "100%|██████████| 81/81 [00:40<00:00,  2.02it/s]\n",
      "100%|██████████| 20/20 [00:02<00:00,  9.70it/s]\n",
      "2020-11-28 20:09:19,779 - pytorch_modeler.py - INFO - Epoch 25/300:train_loss:-26.080697, tr_rec:3.814604, tr_eng:-430.838101, tr_covd:18694.500931, tr_metaloss:11.319059, val_AUC:0.500000, val_pAUC:0.500000\n",
      "100%|██████████| 81/81 [00:40<00:00,  2.01it/s]\n",
      "100%|██████████| 20/20 [00:02<00:00,  7.60it/s]\n",
      "2020-11-28 20:10:02,792 - pytorch_modeler.py - INFO - Epoch 26/300:train_loss:-49.274021, tr_rec:1.126005, tr_eng:-597.704080, tr_covd:12319.808624, tr_metaloss:8.138402, val_AUC:0.540523, val_pAUC:0.505389\n",
      "100%|██████████| 81/81 [00:39<00:00,  2.05it/s]\n",
      "100%|██████████| 20/20 [00:02<00:00,  7.57it/s]\n",
      "2020-11-28 20:10:44,883 - pytorch_modeler.py - INFO - Epoch 27/300:train_loss:-47.238242, tr_rec:0.576692, tr_eng:-585.220862, tr_covd:10858.044582, tr_metaloss:9.621349, val_AUC:0.570952, val_pAUC:0.505273\n"
     ]
    },
    {
     "name": "stderr",
     "output_type": "stream",
     "text": [
      "100%|██████████| 81/81 [00:40<00:00,  2.02it/s]\n",
      "100%|██████████| 20/20 [00:02<00:00,  8.42it/s]\n",
      "2020-11-28 20:11:27,290 - pytorch_modeler.py - INFO - Epoch 28/300:train_loss:-97.018626, tr_rec:0.807731, tr_eng:-1144.558385, tr_covd:21315.667698, tr_metaloss:14.497917, val_AUC:0.500000, val_pAUC:0.500000\n",
      "100%|██████████| 81/81 [00:41<00:00,  1.97it/s]\n",
      " 55%|█████▌    | 11/20 [00:01<00:01,  7.67it/s]"
     ]
    }
   ],
   "source": [
    "for machine_type in machine_types[2:]:\n",
    "    history = run(machine_type)\n",
    "    #with open('{}/{}_history.pkl'.format(PKL_DIR, machine_type), 'wb') as file:\n",
    "    #    pickle.dump(history , file)"
   ]
  },
  {
   "cell_type": "markdown",
   "metadata": {},
   "source": [
    "history = run('ToyCar')\n",
    "with open('{}/{}_history.pkl'.format(PKL_DIR, machine_type), 'wb') as file:\n",
    "    pickle.dump(history , file)"
   ]
  },
  {
   "cell_type": "raw",
   "metadata": {},
   "source": [
    "history['reconstruct_img']['label']"
   ]
  }
 ],
 "metadata": {
  "kernelspec": {
   "display_name": "Python 3",
   "language": "python",
   "name": "python3"
  },
  "language_info": {
   "codemirror_mode": {
    "name": "ipython",
    "version": 3
   },
   "file_extension": ".py",
   "mimetype": "text/x-python",
   "name": "python",
   "nbconvert_exporter": "python",
   "pygments_lexer": "ipython3",
   "version": "3.7.7"
  },
  "toc": {
   "base_numbering": 1,
   "nav_menu": {},
   "number_sections": true,
   "sideBar": true,
   "skip_h1_title": false,
   "title_cell": "Table of Contents",
   "title_sidebar": "Contents",
   "toc_cell": false,
   "toc_position": {},
   "toc_section_display": true,
   "toc_window_display": false
  }
 },
 "nbformat": 4,
 "nbformat_minor": 4
}
