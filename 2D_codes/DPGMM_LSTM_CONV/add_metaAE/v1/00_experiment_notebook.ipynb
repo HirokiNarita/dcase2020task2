{
 "cells": [
  {
   "cell_type": "markdown",
   "metadata": {},
   "source": [
    "# train"
   ]
  },
  {
   "cell_type": "code",
   "execution_count": 1,
   "metadata": {},
   "outputs": [],
   "source": [
    "import yaml\n",
    "import os\n",
    "\n",
    "with open(\"./config.yaml\", 'rb') as f:\n",
    "    config = yaml.load(f)"
   ]
  },
  {
   "cell_type": "code",
   "execution_count": 2,
   "metadata": {},
   "outputs": [],
   "source": [
    "OUTPUT_ROOT = config['IO_OPTION']['OUTPUT_ROOT']\n",
    "os.makedirs(OUTPUT_ROOT, exist_ok=True)"
   ]
  },
  {
   "cell_type": "markdown",
   "metadata": {},
   "source": [
    "## load library"
   ]
  },
  {
   "cell_type": "code",
   "execution_count": 3,
   "metadata": {},
   "outputs": [],
   "source": [
    "# python default library\n",
    "import os\n",
    "import shutil\n",
    "import datetime\n",
    "import sys\n",
    "import pickle\n",
    "\n",
    "# general analysis tool-kit\n",
    "import numpy as np\n",
    "from sklearn.model_selection import train_test_split\n",
    "import matplotlib.pyplot as plt\n",
    "\n",
    "# pytorch\n",
    "import torch\n",
    "from torch import optim, nn\n",
    "from torch.utils.tensorboard import SummaryWriter\n",
    "\n",
    "from torchsummary import summary\n",
    "\n",
    "# etc\n",
    "import yaml\n",
    "yaml.warnings({'YAMLLoadWarning': False})\n",
    "import mlflow\n",
    "from collections import defaultdict\n",
    "from scipy.stats import zscore\n",
    "\n",
    "# original library\n",
    "\n",
    "import common as com\n",
    "import pytorch_modeler as modeler\n",
    "from pytorch_model import DAGMM as Model\n",
    "from pytorch_utils import filtered_load_model\n",
    "import models\n",
    "\n",
    "import librosa\n",
    "import IPython\n",
    "import librosa.display"
   ]
  },
  {
   "cell_type": "markdown",
   "metadata": {},
   "source": [
    "## load config and set logger"
   ]
  },
  {
   "cell_type": "code",
   "execution_count": 4,
   "metadata": {},
   "outputs": [
    {
     "name": "stderr",
     "output_type": "stream",
     "text": [
      "/home/hiroki/anaconda3/lib/python3.7/site-packages/ipykernel/ipkernel.py:287: DeprecationWarning: `should_run_async` will not call `transform_cell` automatically in the future. Please pass the result to `transformed_cell` argument and any exception that happen during thetransform in `preprocessing_exc_tuple` in IPython 7.17 and above.\n",
      "  and should_run_async(code)\n"
     ]
    }
   ],
   "source": [
    "#with open(\"./config.yaml\", 'rb') as f:\n",
    "#    config = yaml.load(f)\n",
    "\n",
    "log_folder = config['IO_OPTION']['OUTPUT_ROOT']+'/{0}.log'.format(datetime.date.today())\n",
    "logger = com.setup_logger(log_folder, '00_train.py')"
   ]
  },
  {
   "cell_type": "markdown",
   "metadata": {},
   "source": [
    "## Setting"
   ]
  },
  {
   "cell_type": "code",
   "execution_count": 5,
   "metadata": {},
   "outputs": [],
   "source": [
    "# Setting seed\n",
    "modeler.set_seed(42)"
   ]
  },
  {
   "cell_type": "code",
   "execution_count": 6,
   "metadata": {},
   "outputs": [
    {
     "data": {
      "text/plain": [
       "'/media/hiroki/working/research/dcase2020/result/2D/DAGMM/add_metaAE/v1/config.yaml'"
      ]
     },
     "execution_count": 6,
     "metadata": {},
     "output_type": "execute_result"
    }
   ],
   "source": [
    "############################################################################\n",
    "# Setting I/O path\n",
    "############################################################################\n",
    "# input dirs\n",
    "INPUT_ROOT = config['IO_OPTION']['INPUT_ROOT']\n",
    "dev_path = INPUT_ROOT + \"/dev_data\"\n",
    "add_dev_path = INPUT_ROOT + \"/add_dev_data\"\n",
    "# machine type\n",
    "MACHINE_TYPE = config['IO_OPTION']['MACHINE_TYPE']\n",
    "machine_types = os.listdir(dev_path)\n",
    "# output dirs\n",
    "OUTPUT_ROOT = config['IO_OPTION']['OUTPUT_ROOT']\n",
    "MODEL_DIR = config['IO_OPTION']['OUTPUT_ROOT'] + '/models'\n",
    "TB_DIR = config['IO_OPTION']['OUTPUT_ROOT'] + '/tb'\n",
    "PKL_DIR = OUTPUT_ROOT + '/pkl'\n",
    "#os.makedirs(OUTPUT_ROOT, exist_ok=True)\n",
    "os.makedirs(MODEL_DIR, exist_ok=True)\n",
    "os.makedirs(TB_DIR, exist_ok=True)\n",
    "os.makedirs(PKL_DIR, exist_ok=True)\n",
    "# copy config\n",
    "shutil.copy('./config.yaml', OUTPUT_ROOT)"
   ]
  },
  {
   "cell_type": "markdown",
   "metadata": {},
   "source": [
    "## make path list and train/valid split"
   ]
  },
  {
   "cell_type": "code",
   "execution_count": 7,
   "metadata": {},
   "outputs": [],
   "source": [
    "############################################################################\n",
    "# make path set and train/valid split\n",
    "############################################################################\n",
    "'''\n",
    "train_paths[machine_type]['train' or 'valid'] = path\n",
    "'''\n",
    "dev_train_paths = {}\n",
    "add_train_paths = {}\n",
    "train_paths = {}"
   ]
  },
  {
   "cell_type": "code",
   "execution_count": 8,
   "metadata": {},
   "outputs": [],
   "source": [
    "for machine_type in machine_types:\n",
    "    # dev train\n",
    "    dev_train_paths = [\"{}/{}/train/\".format(dev_path, machine_type) + file for file in os.listdir(\"{}/{}/train\".format(dev_path, machine_type))]\n",
    "    dev_train_paths = sorted(dev_train_paths)\n",
    "    # add_dev train\n",
    "    add_train_paths = [\"{}/{}/train/\".format(add_dev_path, machine_type) + file for file in os.listdir(\"{}/{}/train\".format(add_dev_path, machine_type))]\n",
    "    add_train_paths = sorted(add_train_paths)\n",
    "    # valid\n",
    "    dev_valid_paths = [\"{}/{}/test/\".format(dev_path, machine_type) + file for file in os.listdir(\"{}/{}/test\".format(dev_path, machine_type))]\n",
    "    dev_valid_paths = sorted(dev_valid_paths)\n",
    "    \n",
    "    train_paths[machine_type] = {}\n",
    "    train_paths[machine_type]['train'] = dev_train_paths + add_train_paths\n",
    "    train_paths[machine_type]['valid'] = dev_valid_paths"
   ]
  },
  {
   "cell_type": "raw",
   "metadata": {},
   "source": [
    "# for machine_type in machine_types:\n",
    "    # dev train\n",
    "    dev_train_all_paths = [\"{}/{}/train/\".format(dev_path, machine_type) + file for file in os.listdir(\"{}/{}/train\".format(dev_path, machine_type))]\n",
    "    dev_train_all_paths = sorted(dev_train_all_paths)\n",
    "    dev_train_paths[machine_type] = {}\n",
    "    dev_train_paths[machine_type]['train'], \\\n",
    "    dev_train_paths[machine_type]['valid'] = train_test_split(dev_train_all_paths,\n",
    "                                                              test_size=config['etc']['test_size'],\n",
    "                                                              shuffle=False,\n",
    "                                                             )\n",
    "    # add_dev train\n",
    "    add_train_all_paths = [\"{}/{}/train/\".format(add_dev_path, machine_type) + file for file in os.listdir(\"{}/{}/train\".format(add_dev_path, machine_type))]\n",
    "    add_train_all_paths = sorted(add_train_all_paths)\n",
    "    add_train_paths[machine_type] = {}\n",
    "    add_train_paths[machine_type]['train'], \\\n",
    "    add_train_paths[machine_type]['valid'] = train_test_split(add_train_all_paths,\n",
    "                                                              test_size=config['etc']['test_size'],\n",
    "                                                              shuffle=False,\n",
    "                                                             )\n",
    "    train_paths[machine_type] = {}\n",
    "    train_paths[machine_type]['train'] = dev_train_paths[machine_type]['train'] + add_train_paths[machine_type]['train']\n",
    "    train_paths[machine_type]['valid'] = dev_train_paths[machine_type]['valid'] + add_train_paths[machine_type]['valid']"
   ]
  },
  {
   "cell_type": "markdown",
   "metadata": {},
   "source": [
    "## training"
   ]
  },
  {
   "cell_type": "code",
   "execution_count": 9,
   "metadata": {},
   "outputs": [],
   "source": [
    "#############################################################################\n",
    "# run\n",
    "#############################################################################\n",
    "def run(machine_type):\n",
    "    com.tic()\n",
    "    logger.info('TARGET MACHINE_TYPE: {0}'.format(machine_type))\n",
    "    logger.info('MAKE DATA_LOADER')\n",
    "    # dev_train_paths\n",
    "    dataloaders_dict = modeler.make_dataloader(train_paths, machine_type)\n",
    "    # define writer for tensorbord\n",
    "    os.makedirs(TB_DIR+'/'+machine_type, exist_ok=True)         # debug\n",
    "    tb_log_dir = TB_DIR + '/' + machine_type\n",
    "    writer = SummaryWriter(log_dir = tb_log_dir)\n",
    "    logger.info('TRAINING')\n",
    "    # parameter setting\n",
    "    net = Model(sample_rate=config['preprocessing']['sample_rate'],\n",
    "                window_size=config['preprocessing']['window_size'],\n",
    "                hop_size=config['preprocessing']['hop_size'],\n",
    "                mel_bins=config['preprocessing']['mel_bins'],\n",
    "                fmin=config['preprocessing']['fmin'],\n",
    "                fmax=config['preprocessing']['fmax'],\n",
    "                latent_size=config['fit']['latent_size'],\n",
    "                mixture_size=config['fit']['mixture_size'])\n",
    "    #pretrained_dict = torch.load(config['IO_OPTION']['PREMODEL_PATH'])\n",
    "    #net = filtered_load_model(net, pretrained_dict)\n",
    "    optimizer = optim.Adam(net.parameters(), lr=1e-3)\n",
    "    num_epochs = config['fit']['num_epochs']\n",
    "    scheduler = optim.lr_scheduler.OneCycleLR(optimizer=optimizer, pct_start=0.1, div_factor=1e3, \n",
    "                                              max_lr=1e-3, epochs=num_epochs, steps_per_epoch=len(dataloaders_dict['train']))\n",
    "    criterion = nn.MSELoss()\n",
    "    history = modeler.train_net(net, dataloaders_dict, criterion, optimizer, scheduler, num_epochs, writer)\n",
    "    # output\n",
    "    model = history['model']\n",
    "    model_out_path = MODEL_DIR+'/{}_model.pth'.format(machine_type)\n",
    "    torch.save(model.state_dict(), model_out_path)\n",
    "    logger.info('\\n success:{0} \\n'.format(machine_type) + \\\n",
    "                    'model_out_path ==> \\n {0}'.format(model_out_path))\n",
    "    #  close writer for tensorbord\n",
    "    writer.close()\n",
    "    #modeler.mlflow_log(history, config, machine_type, model_out_path, tb_log_dir)\n",
    "    com.toc()\n",
    "    return history"
   ]
  },
  {
   "cell_type": "code",
   "execution_count": 10,
   "metadata": {},
   "outputs": [
    {
     "data": {
      "text/plain": [
       "['fan', 'pump', 'slider', 'ToyCar', 'ToyConveyor', 'valve']"
      ]
     },
     "execution_count": 10,
     "metadata": {},
     "output_type": "execute_result"
    }
   ],
   "source": [
    "machine_types"
   ]
  },
  {
   "cell_type": "code",
   "execution_count": 11,
   "metadata": {
    "scrolled": true
   },
   "outputs": [
    {
     "name": "stderr",
     "output_type": "stream",
     "text": [
      "2020-11-28 16:35:39,958 - 00_train.py - INFO - TARGET MACHINE_TYPE: fan\n",
      "2020-11-28 16:35:39,959 - 00_train.py - INFO - MAKE DATA_LOADER\n",
      "2020-11-28 16:35:40,968 - 00_train.py - INFO - TRAINING\n"
     ]
    },
    {
     "name": "stdout",
     "output_type": "stream",
     "text": [
      "use: cuda:0\n"
     ]
    },
    {
     "name": "stderr",
     "output_type": "stream",
     "text": [
      "100%|██████████| 102/102 [00:25<00:00,  4.00it/s]\n",
      "100%|██████████| 29/29 [00:02<00:00, 10.75it/s]\n",
      "2020-11-28 16:36:12,111 - pytorch_modeler.py - INFO - Epoch 1/300:train_loss:20922.982246, tr_rec:37.223140, tr_eng:643.746529, tr_covd:4105706.066629, val_AUC:0.477767, val_pAUC:0.505571\n",
      "100%|██████████| 102/102 [00:23<00:00,  4.28it/s]\n",
      "100%|██████████| 29/29 [00:02<00:00, 11.65it/s]\n",
      "2020-11-28 16:36:38,428 - pytorch_modeler.py - INFO - Epoch 2/300:train_loss:246.201453, tr_rec:27.067654, tr_eng:766.038214, tr_covd:2887.773151, val_AUC:0.504089, val_pAUC:0.500178\n",
      "100%|██████████| 102/102 [00:23<00:00,  4.29it/s]\n",
      "100%|██████████| 29/29 [00:02<00:00, 11.46it/s]\n",
      "2020-11-28 16:37:04,752 - pytorch_modeler.py - INFO - Epoch 3/300:train_loss:110.236568, tr_rec:6.115046, tr_eng:691.259548, tr_covd:3112.033735, val_AUC:0.500114, val_pAUC:0.497693\n",
      "100%|██████████| 102/102 [00:24<00:00,  4.21it/s]\n",
      "100%|██████████| 29/29 [00:02<00:00, 11.66it/s]\n",
      "2020-11-28 16:37:31,479 - pytorch_modeler.py - INFO - Epoch 4/300:train_loss:77.291309, tr_rec:2.235217, tr_eng:554.609078, tr_covd:2949.523285, val_AUC:0.486935, val_pAUC:0.508047\n",
      "100%|██████████| 102/102 [00:24<00:00,  4.20it/s]\n",
      "100%|██████████| 29/29 [00:02<00:00, 11.49it/s]\n",
      "2020-11-28 16:37:58,299 - pytorch_modeler.py - INFO - Epoch 5/300:train_loss:69.735024, tr_rec:1.053267, tr_eng:441.634023, tr_covd:4490.047132, val_AUC:0.509941, val_pAUC:0.504820\n",
      "100%|██████████| 102/102 [00:23<00:00,  4.29it/s]\n",
      "100%|██████████| 29/29 [00:02<00:00, 11.59it/s]\n",
      "2020-11-28 16:38:24,569 - pytorch_modeler.py - INFO - Epoch 6/300:train_loss:52.990480, tr_rec:0.626188, tr_eng:369.535459, tr_covd:2823.624239, val_AUC:0.483946, val_pAUC:0.498645\n",
      "100%|██████████| 102/102 [00:24<00:00,  4.24it/s]\n",
      "100%|██████████| 29/29 [00:02<00:00, 12.18it/s]\n",
      "2020-11-28 16:38:50,993 - pytorch_modeler.py - INFO - Epoch 7/300:train_loss:1584.990305, tr_rec:0.405293, tr_eng:299.904841, tr_covd:310686.782837, val_AUC:0.488493, val_pAUC:0.496915\n",
      "100%|██████████| 102/102 [00:24<00:00,  4.25it/s]\n",
      "100%|██████████| 29/29 [00:02<00:00, 11.77it/s]\n",
      "2020-11-28 16:39:17,468 - pytorch_modeler.py - INFO - Epoch 8/300:train_loss:48.960249, tr_rec:0.313555, tr_eng:246.130613, tr_covd:4593.869963, val_AUC:0.495677, val_pAUC:0.494823\n",
      "100%|██████████| 102/102 [00:24<00:00,  4.20it/s]\n",
      "100%|██████████| 29/29 [00:02<00:00, 12.45it/s]\n",
      "2020-11-28 16:39:44,112 - pytorch_modeler.py - INFO - Epoch 9/300:train_loss:64.755483, tr_rec:0.292981, tr_eng:240.038830, tr_covd:7858.319719, val_AUC:0.439452, val_pAUC:0.496286\n",
      "100%|██████████| 102/102 [00:24<00:00,  4.20it/s]\n",
      "100%|██████████| 29/29 [00:02<00:00, 12.48it/s]\n",
      "2020-11-28 16:40:10,715 - pytorch_modeler.py - INFO - Epoch 10/300:train_loss:60.304688, tr_rec:0.278045, tr_eng:180.249301, tr_covd:8235.408407, val_AUC:0.446913, val_pAUC:0.499569\n",
      "100%|██████████| 102/102 [00:24<00:00,  4.21it/s]\n",
      "100%|██████████| 29/29 [00:02<00:00, 12.21it/s]\n",
      "2020-11-28 16:40:37,316 - pytorch_modeler.py - INFO - Epoch 11/300:train_loss:78.695039, tr_rec:0.262235, tr_eng:221.346967, tr_covd:11073.693105, val_AUC:0.461246, val_pAUC:0.498396\n",
      "100%|██████████| 102/102 [00:25<00:00,  4.06it/s]\n",
      "100%|██████████| 29/29 [00:02<00:00, 11.93it/s]\n",
      "2020-11-28 16:41:04,881 - pytorch_modeler.py - INFO - Epoch 12/300:train_loss:85.963425, tr_rec:0.251243, tr_eng:124.966759, tr_covd:14427.001362, val_AUC:0.498444, val_pAUC:0.497301\n",
      "100%|██████████| 102/102 [00:24<00:00,  4.13it/s]\n",
      "100%|██████████| 29/29 [00:02<00:00, 12.23it/s]\n",
      "2020-11-28 16:41:31,936 - pytorch_modeler.py - INFO - Epoch 13/300:train_loss:139.432448, tr_rec:0.212566, tr_eng:1.576743, tr_covd:27671.625176, val_AUC:0.480952, val_pAUC:0.497018\n",
      "100%|██████████| 102/102 [00:24<00:00,  4.25it/s]\n",
      "100%|██████████| 29/29 [00:02<00:00, 12.38it/s]\n",
      "2020-11-28 16:41:58,313 - pytorch_modeler.py - INFO - Epoch 14/300:train_loss:26.025881, tr_rec:0.210129, tr_eng:95.683267, tr_covd:3054.884471, val_AUC:0.495339, val_pAUC:0.493813\n",
      "100%|██████████| 102/102 [00:24<00:00,  4.18it/s]\n",
      "100%|██████████| 29/29 [00:02<00:00, 11.80it/s]\n",
      "2020-11-28 16:42:25,152 - pytorch_modeler.py - INFO - Epoch 15/300:train_loss:1110.600652, tr_rec:0.201994, tr_eng:155.611434, tr_covd:218832.156167, val_AUC:0.490141, val_pAUC:0.497215\n",
      "100%|██████████| 102/102 [00:24<00:00,  4.22it/s]\n",
      "100%|██████████| 29/29 [00:02<00:00, 12.73it/s]\n",
      "2020-11-28 16:42:51,614 - pytorch_modeler.py - INFO - Epoch 16/300:train_loss:449.016755, tr_rec:0.174217, tr_eng:141.450262, tr_covd:86761.687555, val_AUC:0.495861, val_pAUC:0.500250\n",
      "100%|██████████| 102/102 [00:24<00:00,  4.23it/s]\n",
      "100%|██████████| 29/29 [00:02<00:00, 12.14it/s]\n",
      "2020-11-28 16:43:18,128 - pytorch_modeler.py - INFO - Epoch 17/300:train_loss:49.404804, tr_rec:0.162501, tr_eng:119.815736, tr_covd:6968.794117, val_AUC:0.502500, val_pAUC:0.500132\n",
      "100%|██████████| 102/102 [00:24<00:00,  4.17it/s]\n",
      "100%|██████████| 29/29 [00:02<00:00, 11.37it/s]\n",
      "2020-11-28 16:43:45,172 - pytorch_modeler.py - INFO - Epoch 18/300:train_loss:81.569321, tr_rec:0.158296, tr_eng:-24.535047, tr_covd:16472.669335, val_AUC:0.498988, val_pAUC:0.500000\n",
      "100%|██████████| 102/102 [00:24<00:00,  4.19it/s]\n",
      "100%|██████████| 29/29 [00:02<00:00, 11.58it/s]\n",
      "2020-11-28 16:44:12,050 - pytorch_modeler.py - INFO - Epoch 19/300:train_loss:85.663569, tr_rec:0.158537, tr_eng:-22.452894, tr_covd:17345.692013, val_AUC:0.475257, val_pAUC:0.500558\n",
      "100%|██████████| 102/102 [00:24<00:00,  4.12it/s]\n",
      "100%|██████████| 29/29 [00:02<00:00, 10.69it/s]\n",
      "2020-11-28 16:44:39,513 - pytorch_modeler.py - INFO - Epoch 20/300:train_loss:34.210307, tr_rec:0.171150, tr_eng:80.654660, tr_covd:5068.481312, val_AUC:0.532466, val_pAUC:0.499634\n",
      "100%|██████████| 102/102 [00:24<00:00,  4.15it/s]\n",
      "100%|██████████| 29/29 [00:02<00:00, 11.04it/s]\n",
      "2020-11-28 16:45:06,723 - pytorch_modeler.py - INFO - Epoch 21/300:train_loss:155.121858, tr_rec:0.162401, tr_eng:222.301634, tr_covd:26328.736893, val_AUC:0.498192, val_pAUC:0.500774\n",
      "100%|██████████| 102/102 [00:25<00:00,  4.02it/s]\n",
      "100%|██████████| 29/29 [00:02<00:00, 11.95it/s]\n",
      "2020-11-28 16:45:34,506 - pytorch_modeler.py - INFO - Epoch 22/300:train_loss:22.085778, tr_rec:0.159433, tr_eng:90.159487, tr_covd:2384.062248, val_AUC:0.569541, val_pAUC:0.514307\n",
      "100%|██████████| 102/102 [00:24<00:00,  4.11it/s]\n",
      "100%|██████████| 29/29 [00:02<00:00, 11.00it/s]\n",
      "2020-11-28 16:46:01,984 - pytorch_modeler.py - INFO - Epoch 23/300:train_loss:414.450845, tr_rec:0.141473, tr_eng:-57.687245, tr_covd:83801.713953, val_AUC:0.510419, val_pAUC:0.494176\n",
      "100%|██████████| 102/102 [00:24<00:00,  4.13it/s]\n",
      "100%|██████████| 29/29 [00:02<00:00, 11.46it/s]\n",
      "2020-11-28 16:46:29,244 - pytorch_modeler.py - INFO - Epoch 24/300:train_loss:22.739808, tr_rec:0.132752, tr_eng:62.513137, tr_covd:2796.620935, val_AUC:0.530078, val_pAUC:0.513205\n",
      "100%|██████████| 102/102 [00:30<00:00,  3.32it/s]\n",
      "100%|██████████| 29/29 [00:04<00:00,  7.04it/s]\n",
      "2020-11-28 16:47:04,129 - pytorch_modeler.py - INFO - Epoch 25/300:train_loss:49.350771, tr_rec:0.131513, tr_eng:-89.060961, tr_covd:11312.197534, val_AUC:0.500000, val_pAUC:0.500000\n",
      "100%|██████████| 102/102 [00:34<00:00,  2.96it/s]\n",
      "100%|██████████| 29/29 [00:04<00:00,  7.22it/s]\n",
      "2020-11-28 16:47:42,580 - pytorch_modeler.py - INFO - Epoch 26/300:train_loss:349.347516, tr_rec:0.130618, tr_eng:-221.206707, tr_covd:74138.068485, val_AUC:0.565093, val_pAUC:0.504380\n",
      "100%|██████████| 102/102 [00:34<00:00,  2.96it/s]\n",
      "100%|██████████| 29/29 [00:04<00:00,  6.99it/s]\n",
      "2020-11-28 16:48:21,203 - pytorch_modeler.py - INFO - Epoch 27/300:train_loss:0.862134, tr_rec:0.130545, tr_eng:-255.688441, tr_covd:4984.223682, val_AUC:0.498570, val_pAUC:0.499944\n",
      "100%|██████████| 102/102 [00:34<00:00,  2.98it/s]\n",
      "100%|██████████| 29/29 [00:04<00:00,  7.03it/s]\n",
      "2020-11-28 16:48:59,622 - pytorch_modeler.py - INFO - Epoch 28/300:train_loss:14.040462, tr_rec:0.133650, tr_eng:-357.907042, tr_covd:8812.172674, val_AUC:0.515577, val_pAUC:0.503629\n",
      "100%|██████████| 102/102 [00:34<00:00,  2.99it/s]\n",
      "100%|██████████| 29/29 [00:04<00:00,  6.98it/s]\n",
      "2020-11-28 16:49:37,876 - pytorch_modeler.py - INFO - Epoch 29/300:train_loss:-6.462904, tr_rec:0.183115, tr_eng:-330.294055, tr_covd:2143.603629, val_AUC:0.441795, val_pAUC:0.495977\n",
      "100%|██████████| 102/102 [00:34<00:00,  2.94it/s]\n"
     ]
    },
    {
     "name": "stderr",
     "output_type": "stream",
     "text": [
      "100%|██████████| 29/29 [00:04<00:00,  7.15it/s]\n",
      "2020-11-28 16:50:16,613 - pytorch_modeler.py - INFO - Epoch 30/300:train_loss:160.118274, tr_rec:0.112097, tr_eng:-450.904844, tr_covd:40829.574592, val_AUC:0.556777, val_pAUC:0.510457\n",
      "100%|██████████| 102/102 [00:34<00:00,  3.00it/s]\n",
      "100%|██████████| 29/29 [00:04<00:00,  7.02it/s]\n",
      "2020-11-28 16:50:54,781 - pytorch_modeler.py - INFO - Epoch 31/300:train_loss:-14.224563, tr_rec:0.110825, tr_eng:-341.266250, tr_covd:3456.872932, val_AUC:0.516099, val_pAUC:0.507128\n",
      "100%|██████████| 102/102 [00:33<00:00,  3.05it/s]\n",
      "100%|██████████| 29/29 [00:04<00:00,  7.09it/s]\n",
      "2020-11-28 16:51:32,301 - pytorch_modeler.py - INFO - Epoch 32/300:train_loss:212.809115, tr_rec:0.109190, tr_eng:-459.446113, tr_covd:51200.272486, val_AUC:0.525500, val_pAUC:0.504577\n",
      "100%|██████████| 102/102 [00:34<00:00,  2.93it/s]\n",
      "100%|██████████| 29/29 [00:03<00:00,  7.33it/s]\n",
      "2020-11-28 16:52:11,028 - pytorch_modeler.py - INFO - Epoch 33/300:train_loss:-46.326242, tr_rec:0.104555, tr_eng:-565.437413, tr_covd:1723.019273, val_AUC:0.524677, val_pAUC:0.510119\n",
      "100%|██████████| 102/102 [00:34<00:00,  2.99it/s]\n",
      "100%|██████████| 29/29 [00:04<00:00,  7.01it/s]\n",
      "2020-11-28 16:52:49,322 - pytorch_modeler.py - INFO - Epoch 34/300:train_loss:-8.752939, tr_rec:0.104487, tr_eng:-453.178983, tr_covd:7147.255075, val_AUC:0.500000, val_pAUC:0.500000\n",
      "100%|██████████| 102/102 [00:34<00:00,  2.97it/s]\n",
      "100%|██████████| 29/29 [00:04<00:00,  6.78it/s]\n",
      "2020-11-28 16:53:28,011 - pytorch_modeler.py - INFO - Epoch 35/300:train_loss:-34.324076, tr_rec:0.105323, tr_eng:-457.471668, tr_covd:1998.384287, val_AUC:0.501752, val_pAUC:0.501088\n",
      "100%|██████████| 102/102 [00:35<00:00,  2.90it/s]\n",
      "100%|██████████| 29/29 [00:04<00:00,  7.03it/s]\n",
      "2020-11-28 16:54:07,328 - pytorch_modeler.py - INFO - Epoch 36/300:train_loss:-6.317856, tr_rec:0.104518, tr_eng:-398.191487, tr_covd:6485.548127, val_AUC:0.482489, val_pAUC:0.499368\n",
      "100%|██████████| 102/102 [00:34<00:00,  3.00it/s]\n",
      "100%|██████████| 29/29 [00:04<00:00,  7.03it/s]\n",
      "2020-11-28 16:54:45,486 - pytorch_modeler.py - INFO - Epoch 37/300:train_loss:-35.284604, tr_rec:0.104399, tr_eng:-502.395808, tr_covd:2720.652947, val_AUC:0.500000, val_pAUC:0.500000\n",
      "100%|██████████| 102/102 [00:34<00:00,  3.00it/s]\n",
      "100%|██████████| 29/29 [00:04<00:00,  7.04it/s]\n",
      "2020-11-28 16:55:23,647 - pytorch_modeler.py - INFO - Epoch 38/300:train_loss:-17.722811, tr_rec:0.104409, tr_eng:-408.368932, tr_covd:3984.593436, val_AUC:0.507471, val_pAUC:0.510757\n",
      "100%|██████████| 102/102 [00:34<00:00,  2.98it/s]\n",
      "100%|██████████| 29/29 [00:04<00:00,  7.22it/s]\n",
      "2020-11-28 16:56:01,860 - pytorch_modeler.py - INFO - Epoch 39/300:train_loss:87.538457, tr_rec:0.104365, tr_eng:-457.656246, tr_covd:26238.708659, val_AUC:0.500000, val_pAUC:0.500000\n",
      "100%|██████████| 102/102 [00:33<00:00,  3.02it/s]\n",
      "100%|██████████| 29/29 [00:03<00:00,  7.27it/s]\n",
      "2020-11-28 16:56:39,649 - pytorch_modeler.py - INFO - Epoch 40/300:train_loss:112.487167, tr_rec:0.104354, tr_eng:-522.745740, tr_covd:32653.971406, val_AUC:0.500000, val_pAUC:0.500000\n",
      "100%|██████████| 102/102 [00:34<00:00,  2.99it/s]\n",
      "100%|██████████| 29/29 [00:04<00:00,  7.15it/s]\n",
      "2020-11-28 16:57:17,817 - pytorch_modeler.py - INFO - Epoch 41/300:train_loss:-37.113834, tr_rec:0.104366, tr_eng:-511.492795, tr_covd:2531.836964, val_AUC:0.510273, val_pAUC:0.499939\n",
      "100%|██████████| 102/102 [00:33<00:00,  3.01it/s]\n",
      "100%|██████████| 29/29 [00:04<00:00,  7.23it/s]\n",
      "2020-11-28 16:57:55,684 - pytorch_modeler.py - INFO - Epoch 42/300:train_loss:5059.562503, tr_rec:0.104294, tr_eng:-432.356400, tr_covd:1020311.726239, val_AUC:0.500000, val_pAUC:0.500000\n",
      "100%|██████████| 102/102 [00:34<00:00,  3.00it/s]\n",
      "100%|██████████| 29/29 [00:03<00:00,  7.30it/s]\n",
      "2020-11-28 16:58:33,680 - pytorch_modeler.py - INFO - Epoch 43/300:train_loss:-26.066577, tr_rec:0.104263, tr_eng:-420.133096, tr_covd:2909.009025, val_AUC:0.516288, val_pAUC:0.512483\n",
      "100%|██████████| 102/102 [00:33<00:00,  3.01it/s]\n",
      "100%|██████████| 29/29 [00:04<00:00,  7.04it/s]\n",
      "2020-11-28 16:59:11,677 - pytorch_modeler.py - INFO - Epoch 44/300:train_loss:1595.892350, tr_rec:0.104229, tr_eng:-571.902435, tr_covd:330382.113415, val_AUC:0.500000, val_pAUC:0.500000\n",
      "100%|██████████| 102/102 [00:37<00:00,  2.76it/s]\n",
      "100%|██████████| 29/29 [00:06<00:00,  4.78it/s]\n",
      "2020-11-28 16:59:54,750 - pytorch_modeler.py - INFO - Epoch 45/300:train_loss:-51.910018, tr_rec:0.104172, tr_eng:-640.559922, tr_covd:2201.030258, val_AUC:0.500000, val_pAUC:0.500000\n",
      "100%|██████████| 102/102 [00:33<00:00,  3.02it/s]\n",
      "100%|██████████| 29/29 [00:04<00:00,  7.06it/s]\n",
      "2020-11-28 17:00:32,667 - pytorch_modeler.py - INFO - Epoch 46/300:train_loss:-9.087704, tr_rec:0.286052, tr_eng:-691.861170, tr_covd:11482.343570, val_AUC:0.500000, val_pAUC:0.500000\n",
      "100%|██████████| 102/102 [00:34<00:00,  3.00it/s]\n",
      "100%|██████████| 29/29 [00:04<00:00,  7.19it/s]\n",
      "2020-11-28 17:01:10,748 - pytorch_modeler.py - INFO - Epoch 47/300:train_loss:50.475286, tr_rec:0.164199, tr_eng:-614.244361, tr_covd:20077.763825, val_AUC:0.494469, val_pAUC:0.499709\n",
      "100%|██████████| 102/102 [00:34<00:00,  3.00it/s]\n",
      "100%|██████████| 29/29 [00:04<00:00,  7.17it/s]\n",
      "2020-11-28 17:01:48,844 - pytorch_modeler.py - INFO - Epoch 48/300:train_loss:115.674364, tr_rec:0.158626, tr_eng:-619.713563, tr_covd:34431.313011, val_AUC:0.485296, val_pAUC:0.512370\n",
      "100%|██████████| 102/102 [00:34<00:00,  2.96it/s]\n",
      "100%|██████████| 29/29 [00:03<00:00,  7.29it/s]\n",
      "2020-11-28 17:02:27,330 - pytorch_modeler.py - INFO - Epoch 49/300:train_loss:358.904428, tr_rec:0.156587, tr_eng:-709.945635, tr_covd:85758.487799, val_AUC:0.500000, val_pAUC:0.500000\n",
      "100%|██████████| 102/102 [00:34<00:00,  2.98it/s]\n",
      "100%|██████████| 29/29 [00:04<00:00,  6.90it/s]\n",
      "2020-11-28 17:03:05,803 - pytorch_modeler.py - INFO - Epoch 50/300:train_loss:-56.603739, tr_rec:0.155593, tr_eng:-711.319343, tr_covd:2592.140566, val_AUC:0.500000, val_pAUC:0.500000\n",
      "100%|██████████| 102/102 [00:34<00:00,  2.95it/s]\n",
      "100%|██████████| 29/29 [00:04<00:00,  7.14it/s]\n",
      "2020-11-28 17:03:44,416 - pytorch_modeler.py - INFO - Epoch 51/300:train_loss:-57.882976, tr_rec:0.155766, tr_eng:-713.332333, tr_covd:2491.059460, val_AUC:0.500000, val_pAUC:0.500000\n",
      "100%|██████████| 102/102 [00:34<00:00,  2.98it/s]\n",
      "100%|██████████| 29/29 [00:04<00:00,  7.11it/s]\n",
      "2020-11-28 17:04:22,787 - pytorch_modeler.py - INFO - Epoch 52/300:train_loss:-36.635628, tr_rec:0.155267, tr_eng:-702.468273, tr_covd:6416.317262, val_AUC:0.500000, val_pAUC:0.500000\n",
      "100%|██████████| 102/102 [00:34<00:00,  2.95it/s]\n",
      "100%|██████████| 29/29 [00:04<00:00,  6.90it/s]\n",
      "2020-11-28 17:05:01,623 - pytorch_modeler.py - INFO - Epoch 53/300:train_loss:10281.843594, tr_rec:0.155162, tr_eng:-652.381880, tr_covd:2068915.443988, val_AUC:0.505447, val_pAUC:0.508230\n",
      "100%|██████████| 102/102 [00:34<00:00,  2.99it/s]\n",
      "100%|██████████| 29/29 [00:04<00:00,  7.08it/s]\n",
      "2020-11-28 17:05:39,864 - pytorch_modeler.py - INFO - Epoch 54/300:train_loss:-38.355305, tr_rec:0.155054, tr_eng:-737.781642, tr_covd:6811.722382, val_AUC:0.500000, val_pAUC:0.500000\n",
      "100%|██████████| 102/102 [00:34<00:00,  2.98it/s]\n",
      "100%|██████████| 29/29 [00:04<00:00,  7.17it/s]\n",
      "2020-11-28 17:06:18,091 - pytorch_modeler.py - INFO - Epoch 55/300:train_loss:-43.192928, tr_rec:0.154950, tr_eng:-773.778356, tr_covd:6510.382927, val_AUC:0.511517, val_pAUC:0.512483\n",
      "100%|██████████| 102/102 [00:34<00:00,  2.96it/s]\n",
      "100%|██████████| 29/29 [00:04<00:00,  7.09it/s]\n",
      "2020-11-28 17:06:56,594 - pytorch_modeler.py - INFO - Epoch 56/300:train_loss:-47.406874, tr_rec:0.155133, tr_eng:-840.619381, tr_covd:4811.881756, val_AUC:0.500000, val_pAUC:0.500000\n",
      "100%|██████████| 102/102 [00:25<00:00,  4.02it/s]\n",
      "100%|██████████| 29/29 [00:02<00:00, 10.58it/s]\n",
      "2020-11-28 17:07:24,704 - pytorch_modeler.py - INFO - Epoch 57/300:train_loss:-46.781300, tr_rec:0.154788, tr_eng:-590.395431, tr_covd:1656.272461, val_AUC:0.500000, val_pAUC:0.500000\n",
      "100%|██████████| 102/102 [00:24<00:00,  4.21it/s]\n",
      "100%|██████████| 29/29 [00:02<00:00, 10.44it/s]\n",
      "2020-11-28 17:07:51,695 - pytorch_modeler.py - INFO - Epoch 58/300:train_loss:1569.226798, tr_rec:0.154710, tr_eng:-829.213514, tr_covd:330194.821045, val_AUC:0.500000, val_pAUC:0.500000\n"
     ]
    },
    {
     "name": "stderr",
     "output_type": "stream",
     "text": [
      "100%|██████████| 102/102 [00:24<00:00,  4.20it/s]\n",
      "100%|██████████| 29/29 [00:02<00:00, 10.39it/s]\n",
      "2020-11-28 17:08:18,787 - pytorch_modeler.py - INFO - Epoch 59/300:train_loss:-53.865326, tr_rec:0.154656, tr_eng:-791.077327, tr_covd:4872.149145, val_AUC:0.500000, val_pAUC:0.500000\n",
      "100%|██████████| 102/102 [00:24<00:00,  4.21it/s]\n",
      "100%|██████████| 29/29 [00:02<00:00, 10.43it/s]\n",
      "2020-11-28 17:08:45,788 - pytorch_modeler.py - INFO - Epoch 60/300:train_loss:110.645098, tr_rec:0.154642, tr_eng:-894.374042, tr_covd:39858.285722, val_AUC:0.500000, val_pAUC:0.500000\n",
      "100%|██████████| 102/102 [00:24<00:00,  4.15it/s]\n",
      "100%|██████████| 29/29 [00:02<00:00, 10.83it/s]\n",
      "2020-11-28 17:09:13,059 - pytorch_modeler.py - INFO - Epoch 61/300:train_loss:-65.046035, tr_rec:0.154640, tr_eng:-756.854685, tr_covd:1995.957514, val_AUC:0.500000, val_pAUC:0.500000\n",
      "100%|██████████| 102/102 [00:24<00:00,  4.19it/s]\n",
      "100%|██████████| 29/29 [00:02<00:00, 10.59it/s]\n",
      "2020-11-28 17:09:40,158 - pytorch_modeler.py - INFO - Epoch 62/300:train_loss:-68.797331, tr_rec:0.154599, tr_eng:-863.726314, tr_covd:3372.627047, val_AUC:0.500000, val_pAUC:0.500000\n",
      "100%|██████████| 102/102 [00:24<00:00,  4.21it/s]\n",
      "100%|██████████| 29/29 [00:02<00:00, 11.02it/s]\n",
      "2020-11-28 17:10:07,050 - pytorch_modeler.py - INFO - Epoch 63/300:train_loss:-57.740198, tr_rec:0.154584, tr_eng:-840.938618, tr_covd:5069.796040, val_AUC:0.514605, val_pAUC:0.512497\n",
      "100%|██████████| 102/102 [00:24<00:00,  4.13it/s]\n",
      "100%|██████████| 29/29 [00:02<00:00, 10.75it/s]\n",
      "2020-11-28 17:10:34,434 - pytorch_modeler.py - INFO - Epoch 64/300:train_loss:74.061069, tr_rec:0.154552, tr_eng:-757.915651, tr_covd:29690.281802, val_AUC:0.499471, val_pAUC:0.499972\n",
      "100%|██████████| 102/102 [00:24<00:00,  4.21it/s]\n",
      "100%|██████████| 29/29 [00:02<00:00, 10.94it/s]\n",
      "2020-11-28 17:11:01,304 - pytorch_modeler.py - INFO - Epoch 65/300:train_loss:124.961658, tr_rec:0.154539, tr_eng:-748.805326, tr_covd:39738.493680, val_AUC:0.509784, val_pAUC:0.509993\n",
      "100%|██████████| 102/102 [00:24<00:00,  4.19it/s]\n",
      "100%|██████████| 29/29 [00:02<00:00, 11.48it/s]\n",
      "2020-11-28 17:11:28,194 - pytorch_modeler.py - INFO - Epoch 66/300:train_loss:-46.809273, tr_rec:0.154532, tr_eng:-627.477201, tr_covd:2658.913637, val_AUC:0.500000, val_pAUC:0.500000\n",
      " 69%|██████▊   | 70/102 [00:16<00:07,  4.15it/s]/home/hiroki/anaconda3/lib/python3.7/site-packages/numpy/linalg/linalg.py:2159: RuntimeWarning: invalid value encountered in det\n",
      "  r = _umath_linalg.det(a, signature=signature)\n",
      "100%|██████████| 102/102 [00:24<00:00,  4.22it/s]\n",
      "100%|██████████| 29/29 [00:02<00:00, 11.68it/s]\n"
     ]
    },
    {
     "ename": "ValueError",
     "evalue": "Input contains NaN, infinity or a value too large for dtype('float32').",
     "output_type": "error",
     "traceback": [
      "\u001b[0;31m---------------------------------------------------------------------------\u001b[0m",
      "\u001b[0;31mValueError\u001b[0m                                Traceback (most recent call last)",
      "\u001b[0;32m<ipython-input-11-b2d34d1d6174>\u001b[0m in \u001b[0;36m<module>\u001b[0;34m\u001b[0m\n\u001b[1;32m      1\u001b[0m \u001b[0;32mfor\u001b[0m \u001b[0mmachine_type\u001b[0m \u001b[0;32min\u001b[0m \u001b[0mmachine_types\u001b[0m\u001b[0;34m:\u001b[0m\u001b[0;34m\u001b[0m\u001b[0;34m\u001b[0m\u001b[0m\n\u001b[0;32m----> 2\u001b[0;31m     \u001b[0mhistory\u001b[0m \u001b[0;34m=\u001b[0m \u001b[0mrun\u001b[0m\u001b[0;34m(\u001b[0m\u001b[0mmachine_type\u001b[0m\u001b[0;34m)\u001b[0m\u001b[0;34m\u001b[0m\u001b[0;34m\u001b[0m\u001b[0m\n\u001b[0m\u001b[1;32m      3\u001b[0m     \u001b[0;31m#with open('{}/{}_history.pkl'.format(PKL_DIR, machine_type), 'wb') as file:\u001b[0m\u001b[0;34m\u001b[0m\u001b[0;34m\u001b[0m\u001b[0;34m\u001b[0m\u001b[0m\n\u001b[1;32m      4\u001b[0m     \u001b[0;31m#    pickle.dump(history , file)\u001b[0m\u001b[0;34m\u001b[0m\u001b[0;34m\u001b[0m\u001b[0;34m\u001b[0m\u001b[0m\n",
      "\u001b[0;32m<ipython-input-9-e4e07595c83f>\u001b[0m in \u001b[0;36mrun\u001b[0;34m(machine_type)\u001b[0m\n\u001b[1;32m     29\u001b[0m                                               max_lr=1e-3, epochs=num_epochs, steps_per_epoch=len(dataloaders_dict['train']))\n\u001b[1;32m     30\u001b[0m     \u001b[0mcriterion\u001b[0m \u001b[0;34m=\u001b[0m \u001b[0mnn\u001b[0m\u001b[0;34m.\u001b[0m\u001b[0mMSELoss\u001b[0m\u001b[0;34m(\u001b[0m\u001b[0;34m)\u001b[0m\u001b[0;34m\u001b[0m\u001b[0;34m\u001b[0m\u001b[0m\n\u001b[0;32m---> 31\u001b[0;31m     \u001b[0mhistory\u001b[0m \u001b[0;34m=\u001b[0m \u001b[0mmodeler\u001b[0m\u001b[0;34m.\u001b[0m\u001b[0mtrain_net\u001b[0m\u001b[0;34m(\u001b[0m\u001b[0mnet\u001b[0m\u001b[0;34m,\u001b[0m \u001b[0mdataloaders_dict\u001b[0m\u001b[0;34m,\u001b[0m \u001b[0mcriterion\u001b[0m\u001b[0;34m,\u001b[0m \u001b[0moptimizer\u001b[0m\u001b[0;34m,\u001b[0m \u001b[0mscheduler\u001b[0m\u001b[0;34m,\u001b[0m \u001b[0mnum_epochs\u001b[0m\u001b[0;34m,\u001b[0m \u001b[0mwriter\u001b[0m\u001b[0;34m)\u001b[0m\u001b[0;34m\u001b[0m\u001b[0;34m\u001b[0m\u001b[0m\n\u001b[0m\u001b[1;32m     32\u001b[0m     \u001b[0;31m# output\u001b[0m\u001b[0;34m\u001b[0m\u001b[0;34m\u001b[0m\u001b[0;34m\u001b[0m\u001b[0m\n\u001b[1;32m     33\u001b[0m     \u001b[0mmodel\u001b[0m \u001b[0;34m=\u001b[0m \u001b[0mhistory\u001b[0m\u001b[0;34m[\u001b[0m\u001b[0;34m'model'\u001b[0m\u001b[0;34m]\u001b[0m\u001b[0;34m\u001b[0m\u001b[0;34m\u001b[0m\u001b[0m\n",
      "\u001b[0;32m/media/hiroki/working/research/dcase2020/2D_codes/DPGMM_LSTM_CONV/add_metaAE/v1/pytorch_modeler.py\u001b[0m in \u001b[0;36mtrain_net\u001b[0;34m(net, dataloaders_dict, criterion, optimizer, scheduler, num_epochs, writer)\u001b[0m\n\u001b[1;32m    191\u001b[0m                 \u001b[0mtest_z\u001b[0m \u001b[0;34m=\u001b[0m \u001b[0mnp\u001b[0m\u001b[0;34m.\u001b[0m\u001b[0mconcatenate\u001b[0m\u001b[0;34m(\u001b[0m\u001b[0mtest_z\u001b[0m\u001b[0;34m,\u001b[0m\u001b[0maxis\u001b[0m\u001b[0;34m=\u001b[0m\u001b[0;36m0\u001b[0m\u001b[0;34m)\u001b[0m\u001b[0;34m\u001b[0m\u001b[0;34m\u001b[0m\u001b[0m\n\u001b[1;32m    192\u001b[0m                 \u001b[0mtest_labels\u001b[0m \u001b[0;34m=\u001b[0m \u001b[0mnp\u001b[0m\u001b[0;34m.\u001b[0m\u001b[0mconcatenate\u001b[0m\u001b[0;34m(\u001b[0m\u001b[0mtest_labels\u001b[0m\u001b[0;34m,\u001b[0m\u001b[0maxis\u001b[0m\u001b[0;34m=\u001b[0m\u001b[0;36m0\u001b[0m\u001b[0;34m)\u001b[0m\u001b[0;34m\u001b[0m\u001b[0;34m\u001b[0m\u001b[0m\n\u001b[0;32m--> 193\u001b[0;31m                 \u001b[0mvalid_AUC\u001b[0m\u001b[0;34m,\u001b[0m \u001b[0mvalid_pAUC\u001b[0m \u001b[0;34m=\u001b[0m \u001b[0mcalc_auc\u001b[0m\u001b[0;34m(\u001b[0m\u001b[0mtest_labels\u001b[0m\u001b[0;34m,\u001b[0m \u001b[0mtest_energy\u001b[0m\u001b[0;34m)\u001b[0m\u001b[0;34m\u001b[0m\u001b[0;34m\u001b[0m\u001b[0m\n\u001b[0m\u001b[1;32m    194\u001b[0m                 \u001b[0mvalid_AUCs\u001b[0m\u001b[0;34m.\u001b[0m\u001b[0mappend\u001b[0m\u001b[0;34m(\u001b[0m\u001b[0mvalid_AUC\u001b[0m\u001b[0;34m)\u001b[0m\u001b[0;34m\u001b[0m\u001b[0;34m\u001b[0m\u001b[0m\n\u001b[1;32m    195\u001b[0m                 \u001b[0mvalid_pAUCs\u001b[0m\u001b[0;34m.\u001b[0m\u001b[0mappend\u001b[0m\u001b[0;34m(\u001b[0m\u001b[0mvalid_pAUC\u001b[0m\u001b[0;34m)\u001b[0m\u001b[0;34m\u001b[0m\u001b[0;34m\u001b[0m\u001b[0m\n",
      "\u001b[0;32m/media/hiroki/working/research/dcase2020/2D_codes/DPGMM_LSTM_CONV/add_metaAE/v1/pytorch_modeler.py\u001b[0m in \u001b[0;36mcalc_auc\u001b[0;34m(y_true, y_pred)\u001b[0m\n\u001b[1;32m    118\u001b[0m \u001b[0;34m\u001b[0m\u001b[0m\n\u001b[1;32m    119\u001b[0m \u001b[0;32mdef\u001b[0m \u001b[0mcalc_auc\u001b[0m\u001b[0;34m(\u001b[0m\u001b[0my_true\u001b[0m\u001b[0;34m,\u001b[0m \u001b[0my_pred\u001b[0m\u001b[0;34m)\u001b[0m\u001b[0;34m:\u001b[0m\u001b[0;34m\u001b[0m\u001b[0;34m\u001b[0m\u001b[0m\n\u001b[0;32m--> 120\u001b[0;31m     \u001b[0mauc\u001b[0m \u001b[0;34m=\u001b[0m \u001b[0mmetrics\u001b[0m\u001b[0;34m.\u001b[0m\u001b[0mroc_auc_score\u001b[0m\u001b[0;34m(\u001b[0m\u001b[0my_true\u001b[0m\u001b[0;34m,\u001b[0m \u001b[0my_pred\u001b[0m\u001b[0;34m)\u001b[0m\u001b[0;34m\u001b[0m\u001b[0;34m\u001b[0m\u001b[0m\n\u001b[0m\u001b[1;32m    121\u001b[0m     \u001b[0mp_auc\u001b[0m \u001b[0;34m=\u001b[0m \u001b[0mmetrics\u001b[0m\u001b[0;34m.\u001b[0m\u001b[0mroc_auc_score\u001b[0m\u001b[0;34m(\u001b[0m\u001b[0my_true\u001b[0m\u001b[0;34m,\u001b[0m \u001b[0my_pred\u001b[0m\u001b[0;34m,\u001b[0m \u001b[0mmax_fpr\u001b[0m\u001b[0;34m=\u001b[0m\u001b[0mconfig\u001b[0m\u001b[0;34m[\u001b[0m\u001b[0;34m\"etc\"\u001b[0m\u001b[0;34m]\u001b[0m\u001b[0;34m[\u001b[0m\u001b[0;34m\"max_fpr\"\u001b[0m\u001b[0;34m]\u001b[0m\u001b[0;34m)\u001b[0m\u001b[0;34m\u001b[0m\u001b[0;34m\u001b[0m\u001b[0m\n\u001b[1;32m    122\u001b[0m     \u001b[0;31m#logger.info(\"AUC : {}\".format(auc))\u001b[0m\u001b[0;34m\u001b[0m\u001b[0;34m\u001b[0m\u001b[0;34m\u001b[0m\u001b[0m\n",
      "\u001b[0;32m~/anaconda3/lib/python3.7/site-packages/sklearn/utils/validation.py\u001b[0m in \u001b[0;36minner_f\u001b[0;34m(*args, **kwargs)\u001b[0m\n\u001b[1;32m     70\u001b[0m                           FutureWarning)\n\u001b[1;32m     71\u001b[0m         \u001b[0mkwargs\u001b[0m\u001b[0;34m.\u001b[0m\u001b[0mupdate\u001b[0m\u001b[0;34m(\u001b[0m\u001b[0;34m{\u001b[0m\u001b[0mk\u001b[0m\u001b[0;34m:\u001b[0m \u001b[0marg\u001b[0m \u001b[0;32mfor\u001b[0m \u001b[0mk\u001b[0m\u001b[0;34m,\u001b[0m \u001b[0marg\u001b[0m \u001b[0;32min\u001b[0m \u001b[0mzip\u001b[0m\u001b[0;34m(\u001b[0m\u001b[0msig\u001b[0m\u001b[0;34m.\u001b[0m\u001b[0mparameters\u001b[0m\u001b[0;34m,\u001b[0m \u001b[0margs\u001b[0m\u001b[0;34m)\u001b[0m\u001b[0;34m}\u001b[0m\u001b[0;34m)\u001b[0m\u001b[0;34m\u001b[0m\u001b[0;34m\u001b[0m\u001b[0m\n\u001b[0;32m---> 72\u001b[0;31m         \u001b[0;32mreturn\u001b[0m \u001b[0mf\u001b[0m\u001b[0;34m(\u001b[0m\u001b[0;34m**\u001b[0m\u001b[0mkwargs\u001b[0m\u001b[0;34m)\u001b[0m\u001b[0;34m\u001b[0m\u001b[0;34m\u001b[0m\u001b[0m\n\u001b[0m\u001b[1;32m     73\u001b[0m     \u001b[0;32mreturn\u001b[0m \u001b[0minner_f\u001b[0m\u001b[0;34m\u001b[0m\u001b[0;34m\u001b[0m\u001b[0m\n\u001b[1;32m     74\u001b[0m \u001b[0;34m\u001b[0m\u001b[0m\n",
      "\u001b[0;32m~/anaconda3/lib/python3.7/site-packages/sklearn/metrics/_ranking.py\u001b[0m in \u001b[0;36mroc_auc_score\u001b[0;34m(y_true, y_score, average, sample_weight, max_fpr, multi_class, labels)\u001b[0m\n\u001b[1;32m    370\u001b[0m     \u001b[0my_type\u001b[0m \u001b[0;34m=\u001b[0m \u001b[0mtype_of_target\u001b[0m\u001b[0;34m(\u001b[0m\u001b[0my_true\u001b[0m\u001b[0;34m)\u001b[0m\u001b[0;34m\u001b[0m\u001b[0;34m\u001b[0m\u001b[0m\n\u001b[1;32m    371\u001b[0m     \u001b[0my_true\u001b[0m \u001b[0;34m=\u001b[0m \u001b[0mcheck_array\u001b[0m\u001b[0;34m(\u001b[0m\u001b[0my_true\u001b[0m\u001b[0;34m,\u001b[0m \u001b[0mensure_2d\u001b[0m\u001b[0;34m=\u001b[0m\u001b[0;32mFalse\u001b[0m\u001b[0;34m,\u001b[0m \u001b[0mdtype\u001b[0m\u001b[0;34m=\u001b[0m\u001b[0;32mNone\u001b[0m\u001b[0;34m)\u001b[0m\u001b[0;34m\u001b[0m\u001b[0;34m\u001b[0m\u001b[0m\n\u001b[0;32m--> 372\u001b[0;31m     \u001b[0my_score\u001b[0m \u001b[0;34m=\u001b[0m \u001b[0mcheck_array\u001b[0m\u001b[0;34m(\u001b[0m\u001b[0my_score\u001b[0m\u001b[0;34m,\u001b[0m \u001b[0mensure_2d\u001b[0m\u001b[0;34m=\u001b[0m\u001b[0;32mFalse\u001b[0m\u001b[0;34m)\u001b[0m\u001b[0;34m\u001b[0m\u001b[0;34m\u001b[0m\u001b[0m\n\u001b[0m\u001b[1;32m    373\u001b[0m \u001b[0;34m\u001b[0m\u001b[0m\n\u001b[1;32m    374\u001b[0m     if y_type == \"multiclass\" or (y_type == \"binary\" and\n",
      "\u001b[0;32m~/anaconda3/lib/python3.7/site-packages/sklearn/utils/validation.py\u001b[0m in \u001b[0;36minner_f\u001b[0;34m(*args, **kwargs)\u001b[0m\n\u001b[1;32m     70\u001b[0m                           FutureWarning)\n\u001b[1;32m     71\u001b[0m         \u001b[0mkwargs\u001b[0m\u001b[0;34m.\u001b[0m\u001b[0mupdate\u001b[0m\u001b[0;34m(\u001b[0m\u001b[0;34m{\u001b[0m\u001b[0mk\u001b[0m\u001b[0;34m:\u001b[0m \u001b[0marg\u001b[0m \u001b[0;32mfor\u001b[0m \u001b[0mk\u001b[0m\u001b[0;34m,\u001b[0m \u001b[0marg\u001b[0m \u001b[0;32min\u001b[0m \u001b[0mzip\u001b[0m\u001b[0;34m(\u001b[0m\u001b[0msig\u001b[0m\u001b[0;34m.\u001b[0m\u001b[0mparameters\u001b[0m\u001b[0;34m,\u001b[0m \u001b[0margs\u001b[0m\u001b[0;34m)\u001b[0m\u001b[0;34m}\u001b[0m\u001b[0;34m)\u001b[0m\u001b[0;34m\u001b[0m\u001b[0;34m\u001b[0m\u001b[0m\n\u001b[0;32m---> 72\u001b[0;31m         \u001b[0;32mreturn\u001b[0m \u001b[0mf\u001b[0m\u001b[0;34m(\u001b[0m\u001b[0;34m**\u001b[0m\u001b[0mkwargs\u001b[0m\u001b[0;34m)\u001b[0m\u001b[0;34m\u001b[0m\u001b[0;34m\u001b[0m\u001b[0m\n\u001b[0m\u001b[1;32m     73\u001b[0m     \u001b[0;32mreturn\u001b[0m \u001b[0minner_f\u001b[0m\u001b[0;34m\u001b[0m\u001b[0;34m\u001b[0m\u001b[0m\n\u001b[1;32m     74\u001b[0m \u001b[0;34m\u001b[0m\u001b[0m\n",
      "\u001b[0;32m~/anaconda3/lib/python3.7/site-packages/sklearn/utils/validation.py\u001b[0m in \u001b[0;36mcheck_array\u001b[0;34m(array, accept_sparse, accept_large_sparse, dtype, order, copy, force_all_finite, ensure_2d, allow_nd, ensure_min_samples, ensure_min_features, estimator)\u001b[0m\n\u001b[1;32m    643\u001b[0m         \u001b[0;32mif\u001b[0m \u001b[0mforce_all_finite\u001b[0m\u001b[0;34m:\u001b[0m\u001b[0;34m\u001b[0m\u001b[0;34m\u001b[0m\u001b[0m\n\u001b[1;32m    644\u001b[0m             _assert_all_finite(array,\n\u001b[0;32m--> 645\u001b[0;31m                                allow_nan=force_all_finite == 'allow-nan')\n\u001b[0m\u001b[1;32m    646\u001b[0m \u001b[0;34m\u001b[0m\u001b[0m\n\u001b[1;32m    647\u001b[0m     \u001b[0;32mif\u001b[0m \u001b[0mensure_min_samples\u001b[0m \u001b[0;34m>\u001b[0m \u001b[0;36m0\u001b[0m\u001b[0;34m:\u001b[0m\u001b[0;34m\u001b[0m\u001b[0;34m\u001b[0m\u001b[0m\n",
      "\u001b[0;32m~/anaconda3/lib/python3.7/site-packages/sklearn/utils/validation.py\u001b[0m in \u001b[0;36m_assert_all_finite\u001b[0;34m(X, allow_nan, msg_dtype)\u001b[0m\n\u001b[1;32m     97\u001b[0m                     \u001b[0mmsg_err\u001b[0m\u001b[0;34m.\u001b[0m\u001b[0mformat\u001b[0m\u001b[0;34m\u001b[0m\u001b[0;34m\u001b[0m\u001b[0m\n\u001b[1;32m     98\u001b[0m                     (type_err,\n\u001b[0;32m---> 99\u001b[0;31m                      msg_dtype if msg_dtype is not None else X.dtype)\n\u001b[0m\u001b[1;32m    100\u001b[0m             )\n\u001b[1;32m    101\u001b[0m     \u001b[0;31m# for object dtype data, we only check for NaNs (GH-13254)\u001b[0m\u001b[0;34m\u001b[0m\u001b[0;34m\u001b[0m\u001b[0;34m\u001b[0m\u001b[0m\n",
      "\u001b[0;31mValueError\u001b[0m: Input contains NaN, infinity or a value too large for dtype('float32')."
     ]
    }
   ],
   "source": [
    "for machine_type in machine_types:\n",
    "    history = run(machine_type)\n",
    "    #with open('{}/{}_history.pkl'.format(PKL_DIR, machine_type), 'wb') as file:\n",
    "    #    pickle.dump(history , file)"
   ]
  },
  {
   "cell_type": "markdown",
   "metadata": {},
   "source": [
    "history = run('ToyCar')\n",
    "with open('{}/{}_history.pkl'.format(PKL_DIR, machine_type), 'wb') as file:\n",
    "    pickle.dump(history , file)"
   ]
  },
  {
   "cell_type": "raw",
   "metadata": {},
   "source": [
    "history['reconstruct_img']['label']"
   ]
  }
 ],
 "metadata": {
  "kernelspec": {
   "display_name": "Python 3",
   "language": "python",
   "name": "python3"
  },
  "language_info": {
   "codemirror_mode": {
    "name": "ipython",
    "version": 3
   },
   "file_extension": ".py",
   "mimetype": "text/x-python",
   "name": "python",
   "nbconvert_exporter": "python",
   "pygments_lexer": "ipython3",
   "version": "3.7.7"
  },
  "toc": {
   "base_numbering": 1,
   "nav_menu": {},
   "number_sections": true,
   "sideBar": true,
   "skip_h1_title": false,
   "title_cell": "Table of Contents",
   "title_sidebar": "Contents",
   "toc_cell": false,
   "toc_position": {},
   "toc_section_display": true,
   "toc_window_display": false
  }
 },
 "nbformat": 4,
 "nbformat_minor": 4
}
