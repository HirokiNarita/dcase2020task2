{
 "cells": [
  {
   "cell_type": "markdown",
   "metadata": {},
   "source": [
    "# train"
   ]
  },
  {
   "cell_type": "code",
   "execution_count": 1,
   "metadata": {},
   "outputs": [],
   "source": [
    "import yaml\n",
    "import os\n",
    "\n",
    "with open(\"./config.yaml\", 'rb') as f:\n",
    "    config = yaml.load(f)"
   ]
  },
  {
   "cell_type": "code",
   "execution_count": 2,
   "metadata": {},
   "outputs": [],
   "source": [
    "OUTPUT_ROOT = config['IO_OPTION']['OUTPUT_ROOT']\n",
    "os.makedirs(OUTPUT_ROOT, exist_ok=True)"
   ]
  },
  {
   "cell_type": "markdown",
   "metadata": {},
   "source": [
    "## load library"
   ]
  },
  {
   "cell_type": "code",
   "execution_count": 3,
   "metadata": {},
   "outputs": [],
   "source": [
    "# python default library\n",
    "import os\n",
    "import shutil\n",
    "import datetime\n",
    "import sys\n",
    "import pickle\n",
    "\n",
    "# general analysis tool-kit\n",
    "import numpy as np\n",
    "from sklearn.model_selection import train_test_split\n",
    "import matplotlib.pyplot as plt\n",
    "\n",
    "# pytorch\n",
    "import torch\n",
    "from torch import optim, nn\n",
    "from torch.utils.tensorboard import SummaryWriter\n",
    "\n",
    "from torchsummary import summary\n",
    "\n",
    "# etc\n",
    "import yaml\n",
    "yaml.warnings({'YAMLLoadWarning': False})\n",
    "import mlflow\n",
    "from collections import defaultdict\n",
    "from scipy.stats import zscore\n",
    "\n",
    "# original library\n",
    "\n",
    "import common as com\n",
    "import pytorch_modeler as modeler\n",
    "from pytorch_model import DAGMM as Model\n",
    "from pytorch_utils import filtered_load_model\n",
    "import models\n",
    "\n",
    "import librosa\n",
    "import IPython\n",
    "import librosa.display"
   ]
  },
  {
   "cell_type": "markdown",
   "metadata": {},
   "source": [
    "## load config and set logger"
   ]
  },
  {
   "cell_type": "code",
   "execution_count": 4,
   "metadata": {},
   "outputs": [
    {
     "name": "stderr",
     "output_type": "stream",
     "text": [
      "/home/hiroki/anaconda3/lib/python3.7/site-packages/ipykernel/ipkernel.py:287: DeprecationWarning: `should_run_async` will not call `transform_cell` automatically in the future. Please pass the result to `transformed_cell` argument and any exception that happen during thetransform in `preprocessing_exc_tuple` in IPython 7.17 and above.\n",
      "  and should_run_async(code)\n"
     ]
    }
   ],
   "source": [
    "#with open(\"./config.yaml\", 'rb') as f:\n",
    "#    config = yaml.load(f)\n",
    "\n",
    "log_folder = config['IO_OPTION']['OUTPUT_ROOT']+'/{0}.log'.format(datetime.date.today())\n",
    "logger = com.setup_logger(log_folder, '00_train.py')"
   ]
  },
  {
   "cell_type": "markdown",
   "metadata": {},
   "source": [
    "## Setting"
   ]
  },
  {
   "cell_type": "code",
   "execution_count": 5,
   "metadata": {},
   "outputs": [],
   "source": [
    "# Setting seed\n",
    "modeler.set_seed(42)"
   ]
  },
  {
   "cell_type": "code",
   "execution_count": 6,
   "metadata": {},
   "outputs": [
    {
     "data": {
      "text/plain": [
       "'/media/hiroki/working/research/dcase2020/result/2D/DAGMM/strict_comp/latent5_mixture3_ver2/config.yaml'"
      ]
     },
     "execution_count": 6,
     "metadata": {},
     "output_type": "execute_result"
    }
   ],
   "source": [
    "############################################################################\n",
    "# Setting I/O path\n",
    "############################################################################\n",
    "# input dirs\n",
    "INPUT_ROOT = config['IO_OPTION']['INPUT_ROOT']\n",
    "dev_path = INPUT_ROOT + \"/dev_data\"\n",
    "add_dev_path = INPUT_ROOT + \"/add_dev_data\"\n",
    "# machine type\n",
    "MACHINE_TYPE = config['IO_OPTION']['MACHINE_TYPE']\n",
    "machine_types = os.listdir(dev_path)\n",
    "# output dirs\n",
    "OUTPUT_ROOT = config['IO_OPTION']['OUTPUT_ROOT']\n",
    "MODEL_DIR = config['IO_OPTION']['OUTPUT_ROOT'] + '/models'\n",
    "TB_DIR = config['IO_OPTION']['OUTPUT_ROOT'] + '/tb'\n",
    "PKL_DIR = OUTPUT_ROOT + '/pkl'\n",
    "#os.makedirs(OUTPUT_ROOT, exist_ok=True)\n",
    "os.makedirs(MODEL_DIR, exist_ok=True)\n",
    "os.makedirs(TB_DIR, exist_ok=True)\n",
    "os.makedirs(PKL_DIR, exist_ok=True)\n",
    "# copy config\n",
    "shutil.copy('./config.yaml', OUTPUT_ROOT)"
   ]
  },
  {
   "cell_type": "markdown",
   "metadata": {},
   "source": [
    "## make path list and train/valid split"
   ]
  },
  {
   "cell_type": "code",
   "execution_count": 7,
   "metadata": {},
   "outputs": [],
   "source": [
    "############################################################################\n",
    "# make path set and train/valid split\n",
    "############################################################################\n",
    "'''\n",
    "train_paths[machine_type]['train' or 'valid'] = path\n",
    "'''\n",
    "dev_train_paths = {}\n",
    "add_train_paths = {}\n",
    "train_paths = {}"
   ]
  },
  {
   "cell_type": "code",
   "execution_count": 8,
   "metadata": {},
   "outputs": [],
   "source": [
    "for machine_type in machine_types:\n",
    "    # dev train\n",
    "    dev_train_paths = [\"{}/{}/train/\".format(dev_path, machine_type) + file for file in os.listdir(\"{}/{}/train\".format(dev_path, machine_type))]\n",
    "    dev_train_paths = sorted(dev_train_paths)\n",
    "    # add_dev train\n",
    "    add_train_paths = [\"{}/{}/train/\".format(add_dev_path, machine_type) + file for file in os.listdir(\"{}/{}/train\".format(add_dev_path, machine_type))]\n",
    "    add_train_paths = sorted(add_train_paths)\n",
    "    # valid\n",
    "    dev_valid_paths = [\"{}/{}/test/\".format(dev_path, machine_type) + file for file in os.listdir(\"{}/{}/test\".format(dev_path, machine_type))]\n",
    "    dev_valid_paths = sorted(dev_valid_paths)\n",
    "    \n",
    "    train_paths[machine_type] = {}\n",
    "    train_paths[machine_type]['train'] = dev_train_paths + add_train_paths\n",
    "    train_paths[machine_type]['valid'] = dev_valid_paths"
   ]
  },
  {
   "cell_type": "raw",
   "metadata": {},
   "source": [
    "# for machine_type in machine_types:\n",
    "    # dev train\n",
    "    dev_train_all_paths = [\"{}/{}/train/\".format(dev_path, machine_type) + file for file in os.listdir(\"{}/{}/train\".format(dev_path, machine_type))]\n",
    "    dev_train_all_paths = sorted(dev_train_all_paths)\n",
    "    dev_train_paths[machine_type] = {}\n",
    "    dev_train_paths[machine_type]['train'], \\\n",
    "    dev_train_paths[machine_type]['valid'] = train_test_split(dev_train_all_paths,\n",
    "                                                              test_size=config['etc']['test_size'],\n",
    "                                                              shuffle=False,\n",
    "                                                             )\n",
    "    # add_dev train\n",
    "    add_train_all_paths = [\"{}/{}/train/\".format(add_dev_path, machine_type) + file for file in os.listdir(\"{}/{}/train\".format(add_dev_path, machine_type))]\n",
    "    add_train_all_paths = sorted(add_train_all_paths)\n",
    "    add_train_paths[machine_type] = {}\n",
    "    add_train_paths[machine_type]['train'], \\\n",
    "    add_train_paths[machine_type]['valid'] = train_test_split(add_train_all_paths,\n",
    "                                                              test_size=config['etc']['test_size'],\n",
    "                                                              shuffle=False,\n",
    "                                                             )\n",
    "    train_paths[machine_type] = {}\n",
    "    train_paths[machine_type]['train'] = dev_train_paths[machine_type]['train'] + add_train_paths[machine_type]['train']\n",
    "    train_paths[machine_type]['valid'] = dev_train_paths[machine_type]['valid'] + add_train_paths[machine_type]['valid']"
   ]
  },
  {
   "cell_type": "markdown",
   "metadata": {},
   "source": [
    "## training"
   ]
  },
  {
   "cell_type": "code",
   "execution_count": 9,
   "metadata": {},
   "outputs": [],
   "source": [
    "#############################################################################\n",
    "# run\n",
    "#############################################################################\n",
    "def run(machine_type):\n",
    "    com.tic()\n",
    "    logger.info('TARGET MACHINE_TYPE: {0}'.format(machine_type))\n",
    "    logger.info('MAKE DATA_LOADER')\n",
    "    # dev_train_paths\n",
    "    dataloaders_dict = modeler.make_dataloader(train_paths, machine_type)\n",
    "    # define writer for tensorbord\n",
    "    os.makedirs(TB_DIR+'/'+machine_type, exist_ok=True)         # debug\n",
    "    tb_log_dir = TB_DIR + '/' + machine_type\n",
    "    writer = SummaryWriter(log_dir = tb_log_dir)\n",
    "    logger.info('TRAINING')\n",
    "    # parameter setting\n",
    "    net = Model(sample_rate=config['preprocessing']['sample_rate'],\n",
    "                window_size=config['preprocessing']['window_size'],\n",
    "                hop_size=config['preprocessing']['hop_size'],\n",
    "                mel_bins=config['preprocessing']['mel_bins'],\n",
    "                fmin=config['preprocessing']['fmin'],\n",
    "                fmax=config['preprocessing']['fmax'],\n",
    "                latent_size=config['fit']['latent_size'],\n",
    "                mixture_size=config['fit']['mixture_size'])\n",
    "    #pretrained_dict = torch.load(config['IO_OPTION']['PREMODEL_PATH'])\n",
    "    #net = filtered_load_model(net, pretrained_dict)\n",
    "    optimizer = optim.Adam(net.parameters(), lr=1e-3)\n",
    "    num_epochs = config['fit']['num_epochs']\n",
    "    scheduler = optim.lr_scheduler.OneCycleLR(optimizer=optimizer, pct_start=0.1, div_factor=1e2, \n",
    "                                              max_lr=1e-3, epochs=num_epochs, steps_per_epoch=len(dataloaders_dict['train']))\n",
    "    criterion = nn.MSELoss()\n",
    "    try:\n",
    "        history = modeler.train_net(net, dataloaders_dict, criterion, optimizer, scheduler, num_epochs, writer)\n",
    "    except:\n",
    "        print(\"error\")\n",
    "        history = \"error\"\n",
    "    # output\n",
    "    model = history['model']\n",
    "    model_out_path = MODEL_DIR+'/{}_model.pth'.format(machine_type)\n",
    "    torch.save(model.state_dict(), model_out_path)\n",
    "    logger.info('\\n success:{0} \\n'.format(machine_type) + \\\n",
    "                    'model_out_path ==> \\n {0}'.format(model_out_path))\n",
    "    #  close writer for tensorbord\n",
    "    writer.close()\n",
    "    #modeler.mlflow_log(history, config, machine_type, model_out_path, tb_log_dir)\n",
    "    com.toc()\n",
    "    return history"
   ]
  },
  {
   "cell_type": "code",
   "execution_count": 10,
   "metadata": {},
   "outputs": [
    {
     "data": {
      "text/plain": [
       "['fan', 'pump', 'slider', 'ToyCar', 'ToyConveyor', 'valve']"
      ]
     },
     "execution_count": 10,
     "metadata": {},
     "output_type": "execute_result"
    }
   ],
   "source": [
    "machine_types"
   ]
  },
  {
   "cell_type": "code",
   "execution_count": 11,
   "metadata": {
    "scrolled": true
   },
   "outputs": [
    {
     "name": "stderr",
     "output_type": "stream",
     "text": [
      "2020-12-01 10:49:17,525 - 00_train.py - INFO - TARGET MACHINE_TYPE: slider\n",
      "2020-12-01 10:49:17,526 - 00_train.py - INFO - MAKE DATA_LOADER\n",
      "2020-12-01 10:49:18,355 - 00_train.py - INFO - TRAINING\n",
      "  0%|          | 0/41 [00:00<?, ?it/s]"
     ]
    },
    {
     "name": "stdout",
     "output_type": "stream",
     "text": [
      "use: cuda:0\n"
     ]
    },
    {
     "name": "stderr",
     "output_type": "stream",
     "text": [
      "100%|██████████| 41/41 [00:22<00:00,  1.83it/s]\n",
      "100%|██████████| 10/10 [00:01<00:00,  7.52it/s]\n",
      "2020-12-01 10:49:42,932 - pytorch_modeler.py - INFO - Epoch 1/300:train_loss:45310.215576, tr_rec:41509.272522, tr_eng:-386.160872, tr_covd:767911.876953, val_AUC:0.547674, val_pAUC:0.492457\n",
      "100%|██████████| 41/41 [00:21<00:00,  1.89it/s]\n",
      "100%|██████████| 10/10 [00:01<00:00,  7.64it/s]\n",
      "2020-12-01 10:50:05,952 - pytorch_modeler.py - INFO - Epoch 2/300:train_loss:44530.848511, tr_rec:41502.324646, tr_eng:-422.230503, tr_covd:614149.401367, val_AUC:0.384012, val_pAUC:0.480993\n",
      "100%|██████████| 41/41 [00:22<00:00,  1.86it/s]\n",
      "100%|██████████| 10/10 [00:01<00:00,  7.51it/s]\n",
      "2020-12-01 10:50:29,358 - pytorch_modeler.py - INFO - Epoch 3/300:train_loss:43878.326294, tr_rec:41389.448486, tr_eng:-440.700153, tr_covd:506589.646484, val_AUC:0.310121, val_pAUC:0.480678\n",
      "100%|██████████| 41/41 [00:22<00:00,  1.86it/s]\n",
      "100%|██████████| 10/10 [00:01<00:00,  7.72it/s]\n",
      "2020-12-01 10:50:52,720 - pytorch_modeler.py - INFO - Epoch 4/300:train_loss:43394.382324, tr_rec:41193.704773, tr_eng:-449.877388, tr_covd:449133.118408, val_AUC:0.301922, val_pAUC:0.484471\n",
      "100%|██████████| 41/41 [00:22<00:00,  1.85it/s]\n",
      "100%|██████████| 10/10 [00:01<00:00,  7.47it/s]\n",
      "2020-12-01 10:51:16,228 - pytorch_modeler.py - INFO - Epoch 5/300:train_loss:42893.772827, tr_rec:40876.920349, tr_eng:-456.639214, tr_covd:412503.258789, val_AUC:0.302599, val_pAUC:0.480363\n",
      "100%|██████████| 41/41 [00:22<00:00,  1.84it/s]\n",
      "100%|██████████| 10/10 [00:01<00:00,  7.63it/s]\n",
      "2020-12-01 10:51:39,883 - pytorch_modeler.py - INFO - Epoch 6/300:train_loss:42412.114746, tr_rec:40493.711792, tr_eng:-447.775129, tr_covd:392636.098145, val_AUC:0.240210, val_pAUC:0.473684\n",
      "100%|██████████| 41/41 [00:21<00:00,  1.87it/s]\n",
      "100%|██████████| 10/10 [00:01<00:00,  7.72it/s]\n",
      "2020-12-01 10:52:03,066 - pytorch_modeler.py - INFO - Epoch 7/300:train_loss:41895.118042, tr_rec:40102.923523, tr_eng:-448.411373, tr_covd:367407.195801, val_AUC:0.323842, val_pAUC:0.476624\n",
      "100%|██████████| 41/41 [00:21<00:00,  1.87it/s]\n",
      "100%|██████████| 10/10 [00:01<00:00,  7.67it/s]\n",
      "2020-12-01 10:52:26,254 - pytorch_modeler.py - INFO - Epoch 8/300:train_loss:41435.969543, tr_rec:39810.191101, tr_eng:-442.898046, tr_covd:334013.656250, val_AUC:0.303103, val_pAUC:0.476453\n",
      "100%|██████████| 41/41 [00:21<00:00,  1.87it/s]\n",
      "100%|██████████| 10/10 [00:01<00:00,  7.54it/s]\n",
      "2020-12-01 10:52:49,457 - pytorch_modeler.py - INFO - Epoch 9/300:train_loss:40947.298401, tr_rec:39377.026917, tr_eng:-435.907552, tr_covd:322772.455566, val_AUC:0.565851, val_pAUC:0.515009\n",
      "100%|██████████| 41/41 [00:21<00:00,  1.87it/s]\n",
      "100%|██████████| 10/10 [00:01<00:00,  7.90it/s]\n",
      "2020-12-01 10:53:12,702 - pytorch_modeler.py - INFO - Epoch 10/300:train_loss:40443.667175, tr_rec:39009.094849, tr_eng:-446.653818, tr_covd:295847.537109, val_AUC:0.363391, val_pAUC:0.479991\n",
      "100%|██████████| 41/41 [00:21<00:00,  1.87it/s]\n",
      "100%|██████████| 10/10 [00:01<00:00,  7.63it/s]\n",
      "2020-12-01 10:53:35,922 - pytorch_modeler.py - INFO - Epoch 11/300:train_loss:39717.596558, tr_rec:38425.069946, tr_eng:-465.986832, tr_covd:267825.083252, val_AUC:0.420165, val_pAUC:0.494090\n",
      "100%|██████████| 41/41 [00:21<00:00,  1.87it/s]\n",
      "100%|██████████| 10/10 [00:01<00:00,  7.57it/s]\n",
      "2020-12-01 10:53:59,175 - pytorch_modeler.py - INFO - Epoch 12/300:train_loss:38969.496155, tr_rec:37719.646118, tr_eng:-464.508375, tr_covd:259260.158691, val_AUC:0.358514, val_pAUC:0.483607\n",
      "100%|██████████| 41/41 [00:21<00:00,  1.87it/s]\n",
      "100%|██████████| 10/10 [00:01<00:00,  7.57it/s]\n",
      "2020-12-01 10:54:22,415 - pytorch_modeler.py - INFO - Epoch 13/300:train_loss:38054.295044, tr_rec:36838.661255, tr_eng:-478.016589, tr_covd:252687.084961, val_AUC:0.338258, val_pAUC:0.474152\n",
      "100%|██████████| 41/41 [00:21<00:00,  1.87it/s]\n",
      "100%|██████████| 10/10 [00:01<00:00,  7.57it/s]\n",
      "2020-12-01 10:54:45,630 - pytorch_modeler.py - INFO - Epoch 14/300:train_loss:36996.316284, tr_rec:35914.533691, tr_eng:-482.938048, tr_covd:226015.275391, val_AUC:0.213191, val_pAUC:0.479167\n",
      "100%|██████████| 41/41 [00:21<00:00,  1.87it/s]\n",
      "100%|██████████| 10/10 [00:01<00:00,  7.80it/s]\n",
      "2020-12-01 10:55:08,835 - pytorch_modeler.py - INFO - Epoch 15/300:train_loss:35764.543762, tr_rec:34668.410645, tr_eng:-471.058932, tr_covd:228647.819336, val_AUC:0.423152, val_pAUC:0.480520\n",
      "100%|██████████| 41/41 [00:22<00:00,  1.83it/s]\n",
      "100%|██████████| 10/10 [00:01<00:00,  7.55it/s]\n",
      "2020-12-01 10:55:32,610 - pytorch_modeler.py - INFO - Epoch 16/300:train_loss:34165.074463, tr_rec:33138.214050, tr_eng:-466.441322, tr_covd:214700.957275, val_AUC:0.419548, val_pAUC:0.488142\n",
      "100%|██████████| 41/41 [00:22<00:00,  1.79it/s]\n",
      "100%|██████████| 10/10 [00:01<00:00,  7.44it/s]\n",
      "2020-12-01 10:55:56,866 - pytorch_modeler.py - INFO - Epoch 17/300:train_loss:32289.104065, tr_rec:31254.579285, tr_eng:-480.268607, tr_covd:216510.297852, val_AUC:0.349767, val_pAUC:0.493234\n",
      "100%|██████████| 41/41 [00:22<00:00,  1.82it/s]\n",
      "100%|██████████| 10/10 [00:01<00:00,  7.43it/s]\n",
      "2020-12-01 10:56:20,699 - pytorch_modeler.py - INFO - Epoch 18/300:train_loss:30219.043945, tr_rec:29209.823059, tr_eng:-473.198499, tr_covd:211308.122559, val_AUC:0.386998, val_pAUC:0.533719\n",
      "100%|██████████| 41/41 [00:22<00:00,  1.83it/s]\n",
      "100%|██████████| 10/10 [00:01<00:00,  7.15it/s]\n",
      "2020-12-01 10:56:44,551 - pytorch_modeler.py - INFO - Epoch 19/300:train_loss:27817.709717, tr_rec:26812.403625, tr_eng:-438.697005, tr_covd:209835.225830, val_AUC:0.333394, val_pAUC:0.475271\n",
      " 27%|██▋       | 11/41 [00:06<00:18,  1.59it/s]\n"
     ]
    },
    {
     "name": "stdout",
     "output_type": "stream",
     "text": [
      "error\n"
     ]
    },
    {
     "ename": "TypeError",
     "evalue": "string indices must be integers",
     "output_type": "error",
     "traceback": [
      "\u001b[0;31m---------------------------------------------------------------------------\u001b[0m",
      "\u001b[0;31mTypeError\u001b[0m                                 Traceback (most recent call last)",
      "\u001b[0;32m<ipython-input-11-f84e921ef713>\u001b[0m in \u001b[0;36m<module>\u001b[0;34m\u001b[0m\n\u001b[1;32m      1\u001b[0m \u001b[0;32mfor\u001b[0m \u001b[0mmachine_type\u001b[0m \u001b[0;32min\u001b[0m \u001b[0mmachine_types\u001b[0m\u001b[0;34m[\u001b[0m\u001b[0;36m2\u001b[0m\u001b[0;34m:\u001b[0m\u001b[0;34m]\u001b[0m\u001b[0;34m:\u001b[0m\u001b[0;34m\u001b[0m\u001b[0;34m\u001b[0m\u001b[0m\n\u001b[0;32m----> 2\u001b[0;31m     \u001b[0mhistory\u001b[0m \u001b[0;34m=\u001b[0m \u001b[0mrun\u001b[0m\u001b[0;34m(\u001b[0m\u001b[0mmachine_type\u001b[0m\u001b[0;34m)\u001b[0m\u001b[0;34m\u001b[0m\u001b[0;34m\u001b[0m\u001b[0m\n\u001b[0m\u001b[1;32m      3\u001b[0m     \u001b[0;31m#with open('{}/{}_history.pkl'.format(PKL_DIR, machine_type), 'wb') as file:\u001b[0m\u001b[0;34m\u001b[0m\u001b[0;34m\u001b[0m\u001b[0;34m\u001b[0m\u001b[0m\n\u001b[1;32m      4\u001b[0m     \u001b[0;31m#    pickle.dump(history , file)\u001b[0m\u001b[0;34m\u001b[0m\u001b[0;34m\u001b[0m\u001b[0;34m\u001b[0m\u001b[0m\n",
      "\u001b[0;32m<ipython-input-9-6463cdb1b217>\u001b[0m in \u001b[0;36mrun\u001b[0;34m(machine_type)\u001b[0m\n\u001b[1;32m     35\u001b[0m         \u001b[0mhistory\u001b[0m \u001b[0;34m=\u001b[0m \u001b[0;34m\"error\"\u001b[0m\u001b[0;34m\u001b[0m\u001b[0;34m\u001b[0m\u001b[0m\n\u001b[1;32m     36\u001b[0m     \u001b[0;31m# output\u001b[0m\u001b[0;34m\u001b[0m\u001b[0;34m\u001b[0m\u001b[0;34m\u001b[0m\u001b[0m\n\u001b[0;32m---> 37\u001b[0;31m     \u001b[0mmodel\u001b[0m \u001b[0;34m=\u001b[0m \u001b[0mhistory\u001b[0m\u001b[0;34m[\u001b[0m\u001b[0;34m'model'\u001b[0m\u001b[0;34m]\u001b[0m\u001b[0;34m\u001b[0m\u001b[0;34m\u001b[0m\u001b[0m\n\u001b[0m\u001b[1;32m     38\u001b[0m     \u001b[0mmodel_out_path\u001b[0m \u001b[0;34m=\u001b[0m \u001b[0mMODEL_DIR\u001b[0m\u001b[0;34m+\u001b[0m\u001b[0;34m'/{}_model.pth'\u001b[0m\u001b[0;34m.\u001b[0m\u001b[0mformat\u001b[0m\u001b[0;34m(\u001b[0m\u001b[0mmachine_type\u001b[0m\u001b[0;34m)\u001b[0m\u001b[0;34m\u001b[0m\u001b[0;34m\u001b[0m\u001b[0m\n\u001b[1;32m     39\u001b[0m     \u001b[0mtorch\u001b[0m\u001b[0;34m.\u001b[0m\u001b[0msave\u001b[0m\u001b[0;34m(\u001b[0m\u001b[0mmodel\u001b[0m\u001b[0;34m.\u001b[0m\u001b[0mstate_dict\u001b[0m\u001b[0;34m(\u001b[0m\u001b[0;34m)\u001b[0m\u001b[0;34m,\u001b[0m \u001b[0mmodel_out_path\u001b[0m\u001b[0;34m)\u001b[0m\u001b[0;34m\u001b[0m\u001b[0;34m\u001b[0m\u001b[0m\n",
      "\u001b[0;31mTypeError\u001b[0m: string indices must be integers"
     ]
    }
   ],
   "source": [
    "for machine_type in machine_types[2:]:\n",
    "    history = run(machine_type)\n",
    "    #with open('{}/{}_history.pkl'.format(PKL_DIR, machine_type), 'wb') as file:\n",
    "    #    pickle.dump(history , file)"
   ]
  },
  {
   "cell_type": "markdown",
   "metadata": {},
   "source": [
    "history = run('ToyCar')\n",
    "with open('{}/{}_history.pkl'.format(PKL_DIR, machine_type), 'wb') as file:\n",
    "    pickle.dump(history , file)"
   ]
  },
  {
   "cell_type": "raw",
   "metadata": {},
   "source": [
    "history['reconstruct_img']['label']"
   ]
  }
 ],
 "metadata": {
  "kernelspec": {
   "display_name": "Python 3",
   "language": "python",
   "name": "python3"
  },
  "language_info": {
   "codemirror_mode": {
    "name": "ipython",
    "version": 3
   },
   "file_extension": ".py",
   "mimetype": "text/x-python",
   "name": "python",
   "nbconvert_exporter": "python",
   "pygments_lexer": "ipython3",
   "version": "3.7.7"
  },
  "toc": {
   "base_numbering": 1,
   "nav_menu": {},
   "number_sections": true,
   "sideBar": true,
   "skip_h1_title": false,
   "title_cell": "Table of Contents",
   "title_sidebar": "Contents",
   "toc_cell": false,
   "toc_position": {},
   "toc_section_display": true,
   "toc_window_display": false
  }
 },
 "nbformat": 4,
 "nbformat_minor": 4
}
