{
 "cells": [
  {
   "cell_type": "markdown",
   "metadata": {},
   "source": [
    "# train"
   ]
  },
  {
   "cell_type": "code",
   "execution_count": 1,
   "metadata": {},
   "outputs": [
    {
     "name": "stderr",
     "output_type": "stream",
     "text": [
      "/home/hiroki/anaconda3/lib/python3.7/site-packages/ipykernel_launcher.py:5: YAMLLoadWarning: calling yaml.load() without Loader=... is deprecated, as the default Loader is unsafe. Please read https://msg.pyyaml.org/load for full details.\n",
      "  \"\"\"\n"
     ]
    }
   ],
   "source": [
    "import yaml\n",
    "import os\n",
    "\n",
    "with open(\"./config.yaml\", 'rb') as f:\n",
    "    config = yaml.load(f)"
   ]
  },
  {
   "cell_type": "code",
   "execution_count": 2,
   "metadata": {},
   "outputs": [],
   "source": [
    "OUTPUT_ROOT = config['IO_OPTION']['OUTPUT_ROOT']\n",
    "os.makedirs(OUTPUT_ROOT, exist_ok=True)"
   ]
  },
  {
   "cell_type": "markdown",
   "metadata": {},
   "source": [
    "## load library"
   ]
  },
  {
   "cell_type": "code",
   "execution_count": 3,
   "metadata": {},
   "outputs": [],
   "source": [
    "# python default library\n",
    "import os\n",
    "import shutil\n",
    "import datetime\n",
    "import sys\n",
    "import pickle\n",
    "\n",
    "# general analysis tool-kit\n",
    "import numpy as np\n",
    "from sklearn.model_selection import train_test_split\n",
    "import pandas as pd\n",
    "import matplotlib.pyplot as plt\n",
    "\n",
    "# pytorch\n",
    "import torch\n",
    "from torch import optim, nn\n",
    "from torch.utils.tensorboard import SummaryWriter\n",
    "\n",
    "from torchsummary import summary\n",
    "\n",
    "# etc\n",
    "import yaml\n",
    "yaml.warnings({'YAMLLoadWarning': False})\n",
    "import mlflow\n",
    "from collections import defaultdict\n",
    "from scipy.stats import zscore\n",
    "\n",
    "# original library\n",
    "\n",
    "import common as com\n",
    "import pytorch_modeler as modeler\n",
    "from pytorch_model import DAGMM as Model\n",
    "from pytorch_utils import filtered_load_model\n",
    "import models\n",
    "\n",
    "import librosa\n",
    "import IPython\n",
    "import librosa.display"
   ]
  },
  {
   "cell_type": "markdown",
   "metadata": {},
   "source": [
    "## load config and set logger"
   ]
  },
  {
   "cell_type": "code",
   "execution_count": 4,
   "metadata": {},
   "outputs": [
    {
     "name": "stderr",
     "output_type": "stream",
     "text": [
      "/home/hiroki/anaconda3/lib/python3.7/site-packages/ipykernel/ipkernel.py:287: DeprecationWarning: `should_run_async` will not call `transform_cell` automatically in the future. Please pass the result to `transformed_cell` argument and any exception that happen during thetransform in `preprocessing_exc_tuple` in IPython 7.17 and above.\n",
      "  and should_run_async(code)\n"
     ]
    }
   ],
   "source": [
    "#with open(\"./config.yaml\", 'rb') as f:\n",
    "#    config = yaml.load(f)\n",
    "\n",
    "log_folder = config['IO_OPTION']['OUTPUT_ROOT']+'/{0}.log'.format(datetime.date.today())\n",
    "logger = com.setup_logger(log_folder, '00_train.py')"
   ]
  },
  {
   "cell_type": "markdown",
   "metadata": {},
   "source": [
    "## Setting"
   ]
  },
  {
   "cell_type": "code",
   "execution_count": 5,
   "metadata": {},
   "outputs": [],
   "source": [
    "# Setting seed\n",
    "modeler.set_seed(42)"
   ]
  },
  {
   "cell_type": "code",
   "execution_count": 6,
   "metadata": {},
   "outputs": [
    {
     "data": {
      "text/plain": [
       "'/media/hiroki/working/research/dcase2020/result/2D/DAGMM/strict_comp/latent16_mixture3_batch_norm/config.yaml'"
      ]
     },
     "execution_count": 6,
     "metadata": {},
     "output_type": "execute_result"
    }
   ],
   "source": [
    "############################################################################\n",
    "# Setting I/O path\n",
    "############################################################################\n",
    "# input dirs\n",
    "INPUT_ROOT = config['IO_OPTION']['INPUT_ROOT']\n",
    "dev_path = INPUT_ROOT + \"/dev_data\"\n",
    "add_dev_path = INPUT_ROOT + \"/add_dev_data\"\n",
    "# machine type\n",
    "MACHINE_TYPE = config['IO_OPTION']['MACHINE_TYPE']\n",
    "machine_types = os.listdir(dev_path)\n",
    "# output dirs\n",
    "OUTPUT_ROOT = config['IO_OPTION']['OUTPUT_ROOT']\n",
    "MODEL_DIR = config['IO_OPTION']['OUTPUT_ROOT'] + '/models'\n",
    "TB_DIR = config['IO_OPTION']['OUTPUT_ROOT'] + '/tb'\n",
    "PKL_DIR = OUTPUT_ROOT + '/pkl'\n",
    "#os.makedirs(OUTPUT_ROOT, exist_ok=True)\n",
    "os.makedirs(MODEL_DIR, exist_ok=True)\n",
    "os.makedirs(TB_DIR, exist_ok=True)\n",
    "os.makedirs(PKL_DIR, exist_ok=True)\n",
    "# copy config\n",
    "shutil.copy('./config.yaml', OUTPUT_ROOT)"
   ]
  },
  {
   "cell_type": "markdown",
   "metadata": {},
   "source": [
    "## make path list and train/valid split"
   ]
  },
  {
   "cell_type": "code",
   "execution_count": 7,
   "metadata": {},
   "outputs": [],
   "source": [
    "############################################################################\n",
    "# make path set and train/valid split\n",
    "############################################################################\n",
    "'''\n",
    "train_paths[machine_type]['train' or 'valid'] = path\n",
    "'''\n",
    "dev_train_paths = {}\n",
    "add_train_paths = {}\n",
    "train_paths = {}"
   ]
  },
  {
   "cell_type": "code",
   "execution_count": 8,
   "metadata": {},
   "outputs": [],
   "source": [
    "for machine_type in machine_types:\n",
    "    # dev train\n",
    "    dev_train_paths = [\"{}/{}/train/\".format(dev_path, machine_type) + file for file in os.listdir(\"{}/{}/train\".format(dev_path, machine_type))]\n",
    "    dev_train_paths = sorted(dev_train_paths)\n",
    "    # add_dev train\n",
    "    add_train_paths = [\"{}/{}/train/\".format(add_dev_path, machine_type) + file for file in os.listdir(\"{}/{}/train\".format(add_dev_path, machine_type))]\n",
    "    add_train_paths = sorted(add_train_paths)\n",
    "    # valid\n",
    "    dev_valid_paths = [\"{}/{}/test/\".format(dev_path, machine_type) + file for file in os.listdir(\"{}/{}/test\".format(dev_path, machine_type))]\n",
    "    dev_valid_paths = sorted(dev_valid_paths)\n",
    "    \n",
    "    train_paths[machine_type] = {}\n",
    "    train_paths[machine_type]['train'] = dev_train_paths + add_train_paths\n",
    "    train_paths[machine_type]['valid'] = dev_valid_paths"
   ]
  },
  {
   "cell_type": "raw",
   "metadata": {},
   "source": [
    "# for machine_type in machine_types:\n",
    "    # dev train\n",
    "    dev_train_all_paths = [\"{}/{}/train/\".format(dev_path, machine_type) + file for file in os.listdir(\"{}/{}/train\".format(dev_path, machine_type))]\n",
    "    dev_train_all_paths = sorted(dev_train_all_paths)\n",
    "    dev_train_paths[machine_type] = {}\n",
    "    dev_train_paths[machine_type]['train'], \\\n",
    "    dev_train_paths[machine_type]['valid'] = train_test_split(dev_train_all_paths,\n",
    "                                                              test_size=config['etc']['test_size'],\n",
    "                                                              shuffle=False,\n",
    "                                                             )\n",
    "    # add_dev train\n",
    "    add_train_all_paths = [\"{}/{}/train/\".format(add_dev_path, machine_type) + file for file in os.listdir(\"{}/{}/train\".format(add_dev_path, machine_type))]\n",
    "    add_train_all_paths = sorted(add_train_all_paths)\n",
    "    add_train_paths[machine_type] = {}\n",
    "    add_train_paths[machine_type]['train'], \\\n",
    "    add_train_paths[machine_type]['valid'] = train_test_split(add_train_all_paths,\n",
    "                                                              test_size=config['etc']['test_size'],\n",
    "                                                              shuffle=False,\n",
    "                                                             )\n",
    "    train_paths[machine_type] = {}\n",
    "    train_paths[machine_type]['train'] = dev_train_paths[machine_type]['train'] + add_train_paths[machine_type]['train']\n",
    "    train_paths[machine_type]['valid'] = dev_train_paths[machine_type]['valid'] + add_train_paths[machine_type]['valid']"
   ]
  },
  {
   "cell_type": "markdown",
   "metadata": {},
   "source": [
    "## training"
   ]
  },
  {
   "cell_type": "code",
   "execution_count": 9,
   "metadata": {},
   "outputs": [],
   "source": [
    "#############################################################################\n",
    "# run\n",
    "#############################################################################\n",
    "def run(machine_type):\n",
    "    com.tic()\n",
    "    logger.info('TARGET MACHINE_TYPE: {0}'.format(machine_type))\n",
    "    logger.info('MAKE DATA_LOADER')\n",
    "    # dev_train_paths\n",
    "    dataloaders_dict = modeler.make_dataloader(train_paths, machine_type)\n",
    "    # define writer for tensorbord\n",
    "    os.makedirs(TB_DIR+'/'+machine_type, exist_ok=True)         # debug\n",
    "    tb_log_dir = TB_DIR + '/' + machine_type\n",
    "    writer = SummaryWriter(log_dir = tb_log_dir)\n",
    "    logger.info('TRAINING')\n",
    "    # parameter setting\n",
    "    net = Model(sample_rate=config['preprocessing']['sample_rate'],\n",
    "                window_size=config['preprocessing']['window_size'],\n",
    "                hop_size=config['preprocessing']['hop_size'],\n",
    "                mel_bins=config['preprocessing']['mel_bins'],\n",
    "                fmin=config['preprocessing']['fmin'],\n",
    "                fmax=config['preprocessing']['fmax'],\n",
    "                latent_size=config['fit']['latent_size'],\n",
    "                mixture_size=config['fit']['mixture_size'])\n",
    "    #pretrained_dict = torch.load(config['IO_OPTION']['PREMODEL_PATH'])\n",
    "    #net = filtered_load_model(net, pretrained_dict)\n",
    "    optimizer = optim.Adam(net.parameters(), lr=1e-3)\n",
    "    num_epochs = config['fit']['num_epochs']\n",
    "    scheduler = optim.lr_scheduler.OneCycleLR(optimizer=optimizer, pct_start=0.1, div_factor=1e2, \n",
    "                                              max_lr=1e-3, epochs=num_epochs, steps_per_epoch=len(dataloaders_dict['train']))\n",
    "    criterion = nn.MSELoss()\n",
    "    try:\n",
    "        history = modeler.train_net(net, dataloaders_dict, criterion, optimizer, scheduler, num_epochs, writer)\n",
    "        # output\n",
    "        model = history['model']\n",
    "        gmm_param = history['gmm_param']\n",
    "        model_out_path = MODEL_DIR+'/{}_model.pth'.format(machine_type)\n",
    "        gmm_param_path = MODEL_DIR+'/{}_gmm_param.pkl'.format(machine_type)\n",
    "        torch.save(model.state_dict(), model_out_path)\n",
    "        logger.info('\\n success:{0} \\n'.format(machine_type) + \\\n",
    "                        'model_out_path ==> \\n {0}'.format(model_out_path))\n",
    "        pd.to_pickle(gmm_param, gmm_param_path)\n",
    "        #  close writer for tensorbord\n",
    "        writer.close()\n",
    "        #modeler.mlflow_log(history, config, machine_type, model_out_path, tb_log_dir)\n",
    "        com.toc()\n",
    "    except:\n",
    "        print(\"error\")\n",
    "        history = \"error\"\n",
    "    return history"
   ]
  },
  {
   "cell_type": "code",
   "execution_count": 10,
   "metadata": {},
   "outputs": [
    {
     "data": {
      "text/plain": [
       "['fan', 'pump', 'slider', 'ToyCar', 'ToyConveyor', 'valve']"
      ]
     },
     "execution_count": 10,
     "metadata": {},
     "output_type": "execute_result"
    }
   ],
   "source": [
    "machine_types"
   ]
  },
  {
   "cell_type": "code",
   "execution_count": 11,
   "metadata": {
    "scrolled": true
   },
   "outputs": [
    {
     "name": "stderr",
     "output_type": "stream",
     "text": [
      "2020-11-30 22:44:18,964 - 00_train.py - INFO - TARGET MACHINE_TYPE: fan\n",
      "2020-11-30 22:44:18,965 - 00_train.py - INFO - MAKE DATA_LOADER\n",
      "2020-11-30 22:44:19,788 - 00_train.py - INFO - TRAINING\n",
      "  0%|          | 0/51 [00:00<?, ?it/s]"
     ]
    },
    {
     "name": "stdout",
     "output_type": "stream",
     "text": [
      "use: cuda:0\n"
     ]
    },
    {
     "name": "stderr",
     "output_type": "stream",
     "text": [
      "100%|██████████| 51/51 [00:29<00:00,  1.75it/s]\n",
      "100%|██████████| 15/15 [00:01<00:00,  7.86it/s]\n",
      "2020-11-30 22:44:51,719 - pytorch_modeler.py - INFO - Epoch 1/300:train_loss:48348.507996, tr_rec:48249.741394, tr_eng:792.180138, tr_covd:3909.672585, val_AUC:0.502790, val_pAUC:0.498988\n",
      "100%|██████████| 51/51 [00:28<00:00,  1.79it/s]\n",
      "100%|██████████| 15/15 [00:01<00:00,  8.02it/s]\n",
      "2020-11-30 22:45:22,161 - pytorch_modeler.py - INFO - Epoch 2/300:train_loss:47972.970398, tr_rec:47906.884583, tr_eng:468.113750, tr_covd:3854.878761, val_AUC:0.487741, val_pAUC:0.504844\n",
      "100%|██████████| 51/51 [00:28<00:00,  1.79it/s]\n",
      "100%|██████████| 15/15 [00:01<00:00,  8.32it/s]\n",
      "2020-11-30 22:45:52,463 - pytorch_modeler.py - INFO - Epoch 3/300:train_loss:47498.253662, tr_rec:47448.653992, tr_eng:300.516018, tr_covd:3909.549820, val_AUC:0.476325, val_pAUC:0.503465\n",
      "100%|██████████| 51/51 [00:28<00:00,  1.81it/s]\n",
      "100%|██████████| 15/15 [00:01<00:00,  8.24it/s]\n",
      "2020-11-30 22:46:22,523 - pytorch_modeler.py - INFO - Epoch 4/300:train_loss:47023.222046, tr_rec:46979.572083, tr_eng:244.519816, tr_covd:3839.617104, val_AUC:0.479262, val_pAUC:0.500882\n",
      "100%|██████████| 51/51 [00:28<00:00,  1.80it/s]\n",
      "100%|██████████| 15/15 [00:01<00:00,  8.16it/s]\n",
      "2020-11-30 22:46:52,677 - pytorch_modeler.py - INFO - Epoch 5/300:train_loss:46609.019348, tr_rec:46570.524780, tr_eng:193.933745, tr_covd:3820.207726, val_AUC:0.483816, val_pAUC:0.496002\n",
      "100%|██████████| 51/51 [00:28<00:00,  1.80it/s]\n",
      "100%|██████████| 15/15 [00:01<00:00,  7.83it/s]\n",
      "2020-11-30 22:47:22,923 - pytorch_modeler.py - INFO - Epoch 6/300:train_loss:46240.774719, tr_rec:46207.077271, tr_eng:144.823395, tr_covd:3843.039413, val_AUC:0.487913, val_pAUC:0.503071\n",
      "100%|██████████| 51/51 [00:28<00:00,  1.79it/s]\n",
      "100%|██████████| 15/15 [00:01<00:00,  7.52it/s]\n",
      "2020-11-30 22:47:53,393 - pytorch_modeler.py - INFO - Epoch 7/300:train_loss:45863.581665, tr_rec:45833.895874, tr_eng:109.284305, tr_covd:3751.435623, val_AUC:0.498298, val_pAUC:0.502345\n",
      "100%|██████████| 51/51 [00:47<00:00,  1.08it/s]\n",
      "100%|██████████| 15/15 [00:03<00:00,  4.79it/s]\n",
      "2020-11-30 22:48:43,893 - pytorch_modeler.py - INFO - Epoch 8/300:train_loss:45418.600098, tr_rec:45392.819580, tr_eng:69.825892, tr_covd:3759.631325, val_AUC:0.498372, val_pAUC:0.500718\n",
      "100%|██████████| 51/51 [00:47<00:00,  1.06it/s]\n",
      "100%|██████████| 15/15 [00:03<00:00,  4.38it/s]\n",
      "2020-11-30 22:49:35,323 - pytorch_modeler.py - INFO - Epoch 9/300:train_loss:44852.106689, tr_rec:44828.978333, tr_eng:46.369841, tr_covd:3698.366638, val_AUC:0.493967, val_pAUC:0.496192\n",
      "100%|██████████| 51/51 [00:47<00:00,  1.07it/s]\n",
      "100%|██████████| 15/15 [00:03<00:00,  4.46it/s]\n",
      "2020-11-30 22:50:26,205 - pytorch_modeler.py - INFO - Epoch 10/300:train_loss:44115.808655, tr_rec:44098.586426, tr_eng:-9.757102, tr_covd:3639.624542, val_AUC:0.492370, val_pAUC:0.503432\n",
      "100%|██████████| 51/51 [00:47<00:00,  1.06it/s]\n",
      "100%|██████████| 15/15 [00:03<00:00,  4.62it/s]\n",
      "2020-11-30 22:51:17,387 - pytorch_modeler.py - INFO - Epoch 11/300:train_loss:43171.861084, tr_rec:43160.941711, tr_eng:-71.298269, tr_covd:3609.795364, val_AUC:0.499403, val_pAUC:0.505196\n",
      "100%|██████████| 51/51 [00:46<00:00,  1.09it/s]\n",
      "100%|██████████| 15/15 [00:03<00:00,  4.53it/s]\n",
      "2020-11-30 22:52:07,576 - pytorch_modeler.py - INFO - Epoch 12/300:train_loss:42003.428650, tr_rec:41996.843201, tr_eng:-111.093290, tr_covd:3538.959900, val_AUC:0.508787, val_pAUC:0.503432\n",
      "100%|██████████| 51/51 [00:47<00:00,  1.08it/s]\n",
      "100%|██████████| 15/15 [00:03<00:00,  4.26it/s]\n",
      "2020-11-30 22:52:58,399 - pytorch_modeler.py - INFO - Epoch 13/300:train_loss:40582.693787, tr_rec:40581.508789, tr_eng:-162.714307, tr_covd:3491.210121, val_AUC:0.481947, val_pAUC:0.500551\n",
      "100%|██████████| 51/51 [00:46<00:00,  1.09it/s]\n",
      "100%|██████████| 15/15 [00:03<00:00,  4.44it/s]\n",
      "2020-11-30 22:53:48,724 - pytorch_modeler.py - INFO - Epoch 14/300:train_loss:38880.873047, tr_rec:38873.903442, tr_eng:-102.251779, tr_covd:3438.937782, val_AUC:0.477583, val_pAUC:0.507123\n",
      "100%|██████████| 51/51 [00:46<00:00,  1.10it/s]\n",
      "100%|██████████| 15/15 [00:03<00:00,  4.54it/s]\n",
      "2020-11-30 22:54:38,595 - pytorch_modeler.py - INFO - Epoch 15/300:train_loss:36864.352112, tr_rec:36873.770813, tr_eng:-259.775933, tr_covd:3311.821434, val_AUC:0.503789, val_pAUC:0.505132\n",
      "100%|██████████| 51/51 [00:46<00:00,  1.09it/s]\n",
      "100%|██████████| 15/15 [00:03<00:00,  4.46it/s]\n",
      "2020-11-30 22:55:28,640 - pytorch_modeler.py - INFO - Epoch 16/300:train_loss:34563.229736, tr_rec:34569.719788, tr_eng:-227.068913, tr_covd:3243.316441, val_AUC:0.510413, val_pAUC:0.498745\n",
      "100%|██████████| 51/51 [00:46<00:00,  1.10it/s]\n",
      "100%|██████████| 15/15 [00:03<00:00,  4.51it/s]\n",
      "2020-11-30 22:56:18,494 - pytorch_modeler.py - INFO - Epoch 17/300:train_loss:31964.263123, tr_rec:31963.808838, tr_eng:-154.180405, tr_covd:3174.486549, val_AUC:0.504447, val_pAUC:0.500191\n",
      "100%|██████████| 51/51 [00:46<00:00,  1.09it/s]\n",
      "100%|██████████| 15/15 [00:03<00:00,  4.39it/s]\n",
      "2020-11-30 22:57:08,521 - pytorch_modeler.py - INFO - Epoch 18/300:train_loss:29022.894226, tr_rec:29023.172546, tr_eng:-158.574977, tr_covd:3115.852135, val_AUC:0.509598, val_pAUC:0.501912\n",
      "100%|██████████| 51/51 [00:46<00:00,  1.09it/s]\n",
      "100%|██████████| 15/15 [00:03<00:00,  4.54it/s]\n",
      "2020-11-30 22:57:58,553 - pytorch_modeler.py - INFO - Epoch 19/300:train_loss:25800.382782, tr_rec:25792.679016, tr_eng:-82.766041, tr_covd:3196.057945, val_AUC:0.490822, val_pAUC:0.499082\n",
      "100%|██████████| 51/51 [00:46<00:00,  1.09it/s]\n",
      "100%|██████████| 15/15 [00:03<00:00,  4.59it/s]\n",
      "2020-11-30 22:58:48,651 - pytorch_modeler.py - INFO - Epoch 20/300:train_loss:22274.158722, tr_rec:22294.635742, tr_eng:-357.290336, tr_covd:3050.398952, val_AUC:0.503733, val_pAUC:0.500203\n",
      "100%|██████████| 51/51 [00:47<00:00,  1.08it/s]\n",
      "100%|██████████| 15/15 [00:03<00:00,  4.41it/s]\n",
      "2020-11-30 22:59:39,140 - pytorch_modeler.py - INFO - Epoch 21/300:train_loss:18601.135040, tr_rec:18621.860931, tr_eng:-358.885208, tr_covd:3032.545727, val_AUC:0.492813, val_pAUC:0.500888\n",
      "100%|██████████| 51/51 [00:49<00:00,  1.02it/s]\n",
      "100%|██████████| 15/15 [00:03<00:00,  4.51it/s]\n",
      "2020-11-30 23:00:32,304 - pytorch_modeler.py - INFO - Epoch 22/300:train_loss:14955.684967, tr_rec:14979.396851, tr_eng:-389.172820, tr_covd:3041.048477, val_AUC:0.482750, val_pAUC:0.499319\n",
      "100%|██████████| 51/51 [00:46<00:00,  1.10it/s]\n",
      "100%|██████████| 15/15 [00:03<00:00,  4.68it/s]\n",
      "2020-11-30 23:01:21,876 - pytorch_modeler.py - INFO - Epoch 23/300:train_loss:11255.011658, tr_rec:11292.324509, tr_eng:-523.988342, tr_covd:3017.175499, val_AUC:0.512166, val_pAUC:0.500661\n",
      "100%|██████████| 51/51 [00:46<00:00,  1.10it/s]\n",
      "100%|██████████| 15/15 [00:03<00:00,  4.54it/s]\n",
      "2020-11-30 23:02:11,636 - pytorch_modeler.py - INFO - Epoch 24/300:train_loss:7673.475006, tr_rec:7747.393280, tr_eng:-880.596448, tr_covd:2828.273361, val_AUC:0.500000, val_pAUC:0.500000\n",
      "100%|██████████| 51/51 [00:46<00:00,  1.10it/s]\n",
      "100%|██████████| 15/15 [00:03<00:00,  4.56it/s]\n",
      "2020-11-30 23:03:01,302 - pytorch_modeler.py - INFO - Epoch 25/300:train_loss:4528.597855, tr_rec:4605.079704, tr_eng:-907.926041, tr_covd:2862.141991, val_AUC:0.500000, val_pAUC:0.500000\n",
      "100%|██████████| 51/51 [00:46<00:00,  1.10it/s]\n",
      "100%|██████████| 15/15 [00:03<00:00,  4.61it/s]\n",
      "2020-11-30 23:03:51,082 - pytorch_modeler.py - INFO - Epoch 26/300:train_loss:2193.791544, tr_rec:2277.875751, tr_eng:-986.033241, tr_covd:2903.827175, val_AUC:0.486973, val_pAUC:0.499309\n",
      "100%|██████████| 51/51 [00:46<00:00,  1.10it/s]\n",
      "100%|██████████| 15/15 [00:03<00:00,  4.64it/s]\n",
      "2020-11-30 23:04:40,822 - pytorch_modeler.py - INFO - Epoch 27/300:train_loss:894.802730, tr_rec:987.688907, tr_eng:-1076.165504, tr_covd:2946.075394, val_AUC:0.501429, val_pAUC:0.500076\n",
      "100%|██████████| 51/51 [00:46<00:00,  1.10it/s]\n",
      "100%|██████████| 15/15 [00:03<00:00,  4.52it/s]\n",
      "2020-11-30 23:05:30,665 - pytorch_modeler.py - INFO - Epoch 28/300:train_loss:731.947544, tr_rec:824.620297, tr_eng:-1082.701149, tr_covd:3119.472366, val_AUC:0.500000, val_pAUC:0.500000\n",
      "100%|██████████| 51/51 [00:46<00:00,  1.10it/s]\n",
      "100%|██████████| 15/15 [00:03<00:00,  4.67it/s]\n",
      "2020-11-30 23:06:20,293 - pytorch_modeler.py - INFO - Epoch 29/300:train_loss:602.078408, tr_rec:728.543833, tr_eng:-1450.359442, tr_covd:3714.104347, val_AUC:0.489968, val_pAUC:0.498818\n"
     ]
    },
    {
     "name": "stderr",
     "output_type": "stream",
     "text": [
      "100%|██████████| 51/51 [00:46<00:00,  1.10it/s]\n",
      "100%|██████████| 15/15 [00:02<00:00,  5.02it/s]\n",
      "2020-11-30 23:07:09,779 - pytorch_modeler.py - INFO - Epoch 30/300:train_loss:2763.500822, tr_rec:889.000427, tr_eng:-3886.432796, tr_covd:452628.747597, val_AUC:0.506736, val_pAUC:0.496399\n",
      "100%|██████████| 51/51 [00:46<00:00,  1.09it/s]\n",
      "100%|██████████| 15/15 [00:02<00:00,  5.06it/s]\n",
      "2020-11-30 23:07:59,637 - pytorch_modeler.py - INFO - Epoch 31/300:train_loss:1010.907263, tr_rec:1110.073347, tr_eng:-1224.199682, tr_covd:4650.776619, val_AUC:0.500000, val_pAUC:0.500000\n",
      "100%|██████████| 51/51 [00:46<00:00,  1.09it/s]\n",
      "100%|██████████| 15/15 [00:02<00:00,  5.63it/s]\n",
      "2020-11-30 23:08:49,157 - pytorch_modeler.py - INFO - Epoch 32/300:train_loss:732.529280, tr_rec:826.417213, tr_eng:-1104.803148, tr_covd:3318.477993, val_AUC:0.473866, val_pAUC:0.505614\n",
      "100%|██████████| 51/51 [00:47<00:00,  1.08it/s]\n",
      "100%|██████████| 15/15 [00:02<00:00,  5.07it/s]\n",
      "2020-11-30 23:09:39,211 - pytorch_modeler.py - INFO - Epoch 33/300:train_loss:757.355861, tr_rec:934.576091, tr_eng:-2081.835459, tr_covd:6192.664383, val_AUC:0.453936, val_pAUC:0.489740\n",
      "100%|██████████| 51/51 [00:46<00:00,  1.09it/s]\n",
      "100%|██████████| 15/15 [00:03<00:00,  4.97it/s]\n",
      "2020-11-30 23:10:28,981 - pytorch_modeler.py - INFO - Epoch 34/300:train_loss:772.238930, tr_rec:924.214350, tr_eng:-1662.390696, tr_covd:2852.729950, val_AUC:0.505903, val_pAUC:0.503489\n",
      "100%|██████████| 51/51 [00:46<00:00,  1.09it/s]\n",
      "100%|██████████| 15/15 [00:03<00:00,  4.61it/s]\n",
      "2020-11-30 23:11:18,974 - pytorch_modeler.py - INFO - Epoch 35/300:train_loss:728.321867, tr_rec:900.970230, tr_eng:-1852.053986, tr_covd:2511.406696, val_AUC:0.478791, val_pAUC:0.508244\n",
      "100%|██████████| 51/51 [00:46<00:00,  1.10it/s]\n",
      "100%|██████████| 15/15 [00:03<00:00,  4.55it/s]\n",
      "2020-11-30 23:12:08,754 - pytorch_modeler.py - INFO - Epoch 36/300:train_loss:746.457320, tr_rec:910.708714, tr_eng:-1772.609390, tr_covd:2601.910172, val_AUC:0.478266, val_pAUC:0.506293\n",
      "100%|██████████| 51/51 [00:45<00:00,  1.11it/s]\n",
      "100%|██████████| 15/15 [00:03<00:00,  4.53it/s]\n",
      "2020-11-30 23:12:58,034 - pytorch_modeler.py - INFO - Epoch 37/300:train_loss:771.821693, tr_rec:920.914257, tr_eng:-1623.684624, tr_covd:2655.181126, val_AUC:0.500000, val_pAUC:0.500000\n",
      "100%|██████████| 51/51 [00:46<00:00,  1.10it/s]\n",
      "100%|██████████| 15/15 [00:03<00:00,  4.61it/s]\n",
      "2020-11-30 23:13:47,452 - pytorch_modeler.py - INFO - Epoch 38/300:train_loss:804.360072, tr_rec:926.795248, tr_eng:-1352.349825, tr_covd:2559.961700, val_AUC:0.500000, val_pAUC:0.500000\n",
      "100%|██████████| 51/51 [00:46<00:00,  1.11it/s]\n",
      "100%|██████████| 15/15 [00:03<00:00,  4.55it/s]\n",
      "2020-11-30 23:14:36,888 - pytorch_modeler.py - INFO - Epoch 39/300:train_loss:786.352289, tr_rec:894.784643, tr_eng:-1214.103691, tr_covd:2595.604069, val_AUC:0.473427, val_pAUC:0.499561\n",
      "100%|██████████| 51/51 [00:46<00:00,  1.10it/s]\n",
      "100%|██████████| 15/15 [00:03<00:00,  4.58it/s]\n",
      "2020-11-30 23:15:26,547 - pytorch_modeler.py - INFO - Epoch 40/300:train_loss:770.475805, tr_rec:874.079657, tr_eng:-1164.566269, tr_covd:2570.556080, val_AUC:0.519515, val_pAUC:0.501246\n",
      "100%|██████████| 51/51 [00:46<00:00,  1.11it/s]\n",
      "100%|██████████| 15/15 [00:03<00:00,  4.54it/s]\n",
      "2020-11-30 23:16:15,965 - pytorch_modeler.py - INFO - Epoch 41/300:train_loss:719.450502, tr_rec:849.511758, tr_eng:-1427.284693, tr_covd:2533.444164, val_AUC:0.476377, val_pAUC:0.500141\n",
      "100%|██████████| 51/51 [00:46<00:00,  1.10it/s]\n",
      "100%|██████████| 15/15 [00:03<00:00,  4.56it/s]\n",
      "2020-11-30 23:17:05,442 - pytorch_modeler.py - INFO - Epoch 42/300:train_loss:700.590995, tr_rec:842.769547, tr_eng:-1549.188553, tr_covd:2548.061424, val_AUC:0.481082, val_pAUC:0.498706\n",
      "100%|██████████| 51/51 [00:46<00:00,  1.10it/s]\n",
      "100%|██████████| 15/15 [00:03<00:00,  4.55it/s]\n",
      "2020-11-30 23:17:54,963 - pytorch_modeler.py - INFO - Epoch 43/300:train_loss:694.697063, tr_rec:821.958115, tr_eng:-1399.135948, tr_covd:2530.509842, val_AUC:0.500000, val_pAUC:0.500000\n",
      "100%|██████████| 51/51 [00:46<00:00,  1.11it/s]\n",
      "100%|██████████| 15/15 [00:03<00:00,  4.58it/s]\n",
      "2020-11-30 23:18:44,308 - pytorch_modeler.py - INFO - Epoch 44/300:train_loss:687.589695, tr_rec:816.229165, tr_eng:-1415.273754, tr_covd:2577.581974, val_AUC:0.500000, val_pAUC:0.500000\n",
      "100%|██████████| 51/51 [00:46<00:00,  1.10it/s]\n",
      "100%|██████████| 15/15 [00:03<00:00,  4.60it/s]\n",
      "2020-11-30 23:19:33,747 - pytorch_modeler.py - INFO - Epoch 45/300:train_loss:413.265687, tr_rec:839.200770, tr_eng:-4391.645803, tr_covd:2645.897118, val_AUC:0.486863, val_pAUC:0.513796\n",
      "100%|██████████| 51/51 [00:46<00:00,  1.10it/s]\n",
      "100%|██████████| 15/15 [00:03<00:00,  4.55it/s]\n",
      "2020-11-30 23:20:23,280 - pytorch_modeler.py - INFO - Epoch 46/300:train_loss:646.997733, tr_rec:859.683823, tr_eng:-2258.368443, tr_covd:2630.151665, val_AUC:0.502308, val_pAUC:0.510991\n",
      "100%|██████████| 51/51 [00:46<00:00,  1.11it/s]\n",
      "100%|██████████| 15/15 [00:03<00:00,  4.52it/s]\n",
      "2020-11-30 23:21:12,744 - pytorch_modeler.py - INFO - Epoch 47/300:train_loss:675.469622, tr_rec:873.637296, tr_eng:-2112.832457, tr_covd:2623.115292, val_AUC:0.519721, val_pAUC:0.510682\n",
      "100%|██████████| 51/51 [00:46<00:00,  1.10it/s]\n",
      "100%|██████████| 15/15 [00:03<00:00,  4.51it/s]\n",
      "2020-11-30 23:22:02,358 - pytorch_modeler.py - INFO - Epoch 48/300:train_loss:679.834723, tr_rec:853.835833, tr_eng:-1879.639370, tr_covd:2792.567348, val_AUC:0.492383, val_pAUC:0.508380\n",
      "100%|██████████| 51/51 [00:46<00:00,  1.09it/s]\n",
      "100%|██████████| 15/15 [00:03<00:00,  4.73it/s]\n",
      "2020-11-30 23:22:52,140 - pytorch_modeler.py - INFO - Epoch 49/300:train_loss:625.158167, tr_rec:846.626193, tr_eng:-2354.760883, tr_covd:2801.612782, val_AUC:0.477972, val_pAUC:0.499240\n",
      "100%|██████████| 51/51 [00:46<00:00,  1.09it/s]\n",
      "100%|██████████| 15/15 [00:02<00:00,  5.01it/s]\n",
      "2020-11-30 23:23:41,815 - pytorch_modeler.py - INFO - Epoch 50/300:train_loss:673.466534, tr_rec:849.833614, tr_eng:-1906.816662, tr_covd:2862.918365, val_AUC:0.517343, val_pAUC:0.509829\n",
      "100%|██████████| 51/51 [00:46<00:00,  1.09it/s]\n",
      "100%|██████████| 15/15 [00:02<00:00,  5.70it/s]\n",
      "2020-11-30 23:24:31,385 - pytorch_modeler.py - INFO - Epoch 51/300:train_loss:505.700757, tr_rec:864.559889, tr_eng:-3754.086491, tr_covd:3309.903408, val_AUC:0.497148, val_pAUC:0.501121\n",
      "100%|██████████| 51/51 [00:47<00:00,  1.08it/s]\n",
      "100%|██████████| 15/15 [00:02<00:00,  5.19it/s]\n",
      "2020-11-30 23:25:21,420 - pytorch_modeler.py - INFO - Epoch 52/300:train_loss:686.425250, tr_rec:856.897713, tr_eng:-1867.628315, tr_covd:3258.073627, val_AUC:0.509869, val_pAUC:0.500535\n",
      "100%|██████████| 51/51 [00:46<00:00,  1.10it/s]\n",
      "100%|██████████| 15/15 [00:03<00:00,  4.83it/s]\n",
      "2020-11-30 23:26:11,088 - pytorch_modeler.py - INFO - Epoch 53/300:train_loss:569.366993, tr_rec:866.978106, tr_eng:-3104.939037, tr_covd:2576.559658, val_AUC:0.490560, val_pAUC:0.498223\n",
      "100%|██████████| 51/51 [00:46<00:00,  1.10it/s]\n",
      "100%|██████████| 15/15 [00:03<00:00,  4.74it/s]\n",
      "2020-11-30 23:27:00,562 - pytorch_modeler.py - INFO - Epoch 54/300:train_loss:657.028186, tr_rec:868.441646, tr_eng:-2243.179558, tr_covd:2580.900414, val_AUC:0.502855, val_pAUC:0.503723\n",
      "100%|██████████| 51/51 [00:46<00:00,  1.11it/s]\n",
      "100%|██████████| 15/15 [00:03<00:00,  4.54it/s]\n",
      "2020-11-30 23:27:49,959 - pytorch_modeler.py - INFO - Epoch 55/300:train_loss:710.533028, tr_rec:863.935009, tr_eng:-1661.460768, tr_covd:2548.820488, val_AUC:0.513824, val_pAUC:0.516740\n",
      "100%|██████████| 51/51 [00:48<00:00,  1.06it/s]\n",
      "100%|██████████| 15/15 [00:03<00:00,  4.52it/s]\n",
      "2020-11-30 23:28:41,493 - pytorch_modeler.py - INFO - Epoch 56/300:train_loss:698.836581, tr_rec:861.894976, tr_eng:-1759.579618, tr_covd:2579.913979, val_AUC:0.515625, val_pAUC:0.502631\n",
      "100%|██████████| 51/51 [00:47<00:00,  1.07it/s]\n",
      "100%|██████████| 15/15 [00:03<00:00,  4.39it/s]\n",
      "2020-11-30 23:29:32,643 - pytorch_modeler.py - INFO - Epoch 57/300:train_loss:662.694100, tr_rec:875.200631, tr_eng:-2252.069376, tr_covd:2540.082737, val_AUC:0.513096, val_pAUC:0.495742\n",
      "100%|██████████| 51/51 [00:47<00:00,  1.08it/s]\n",
      "100%|██████████| 15/15 [00:03<00:00,  4.38it/s]\n",
      "2020-11-30 23:30:23,380 - pytorch_modeler.py - INFO - Epoch 58/300:train_loss:634.681208, tr_rec:876.488187, tr_eng:-2551.415911, tr_covd:2666.924126, val_AUC:0.532471, val_pAUC:0.503104\n"
     ]
    },
    {
     "name": "stderr",
     "output_type": "stream",
     "text": [
      "100%|██████████| 51/51 [00:47<00:00,  1.07it/s]\n",
      "100%|██████████| 15/15 [00:03<00:00,  4.34it/s]\n",
      "2020-11-30 23:31:14,701 - pytorch_modeler.py - INFO - Epoch 59/300:train_loss:651.082371, tr_rec:878.380129, tr_eng:-2419.911507, tr_covd:2938.679535, val_AUC:0.543517, val_pAUC:0.510701\n",
      "100%|██████████| 51/51 [00:47<00:00,  1.07it/s]\n",
      "100%|██████████| 15/15 [00:03<00:00,  4.31it/s]\n",
      "2020-11-30 23:32:05,759 - pytorch_modeler.py - INFO - Epoch 60/300:train_loss:727.876824, tr_rec:888.972192, tr_eng:-1886.283274, tr_covd:5506.592438, val_AUC:0.503449, val_pAUC:0.504425\n",
      "100%|██████████| 51/51 [00:47<00:00,  1.07it/s]\n",
      "100%|██████████| 15/15 [00:03<00:00,  4.26it/s]\n",
      "2020-11-30 23:32:56,819 - pytorch_modeler.py - INFO - Epoch 61/300:train_loss:788.478131, tr_rec:879.993805, tr_eng:-1076.336901, tr_covd:3223.603008, val_AUC:0.498937, val_pAUC:0.499934\n",
      "100%|██████████| 51/51 [00:47<00:00,  1.07it/s]\n",
      "100%|██████████| 15/15 [00:03<00:00,  4.45it/s]\n",
      "2020-11-30 23:33:47,989 - pytorch_modeler.py - INFO - Epoch 62/300:train_loss:774.324101, tr_rec:866.405977, tr_eng:-1060.812544, tr_covd:2799.875896, val_AUC:0.506035, val_pAUC:0.500102\n",
      "100%|██████████| 51/51 [00:47<00:00,  1.08it/s]\n",
      "100%|██████████| 15/15 [00:03<00:00,  4.26it/s]\n",
      "2020-11-30 23:34:38,869 - pytorch_modeler.py - INFO - Epoch 63/300:train_loss:651.804313, tr_rec:805.945119, tr_eng:-1677.732742, tr_covd:2726.494045, val_AUC:0.512900, val_pAUC:0.504783\n",
      "100%|██████████| 51/51 [00:47<00:00,  1.07it/s]\n",
      "100%|██████████| 15/15 [00:03<00:00,  4.39it/s]\n",
      "2020-11-30 23:35:29,882 - pytorch_modeler.py - INFO - Epoch 64/300:train_loss:586.111896, tr_rec:1212.790531, tr_eng:-6392.757187, tr_covd:2519.421593, val_AUC:0.516274, val_pAUC:0.499672\n",
      "100%|██████████| 51/51 [00:46<00:00,  1.09it/s]\n",
      "100%|██████████| 15/15 [00:03<00:00,  4.01it/s]\n",
      "2020-11-30 23:36:20,474 - pytorch_modeler.py - INFO - Epoch 65/300:train_loss:-6070.578237, tr_rec:1161.860916, tr_eng:-72459.488441, tr_covd:2701.928474, val_AUC:0.487207, val_pAUC:0.505411\n",
      "100%|██████████| 51/51 [00:47<00:00,  1.07it/s]\n",
      "100%|██████████| 15/15 [00:03<00:00,  4.70it/s]\n",
      "2020-11-30 23:37:11,253 - pytorch_modeler.py - INFO - Epoch 66/300:train_loss:1008.641182, tr_rec:1225.283981, tr_eng:-2306.514214, tr_covd:2801.724384, val_AUC:0.518444, val_pAUC:0.508844\n",
      "100%|██████████| 51/51 [00:48<00:00,  1.06it/s]\n",
      "100%|██████████| 15/15 [00:02<00:00,  5.39it/s]\n",
      "2020-11-30 23:38:02,108 - pytorch_modeler.py - INFO - Epoch 67/300:train_loss:1067.656235, tr_rec:1225.538546, tr_eng:-1709.851852, tr_covd:2620.576687, val_AUC:0.545292, val_pAUC:0.505393\n",
      "100%|██████████| 51/51 [00:48<00:00,  1.06it/s]\n",
      "100%|██████████| 15/15 [00:03<00:00,  4.91it/s]\n",
      "2020-11-30 23:38:53,267 - pytorch_modeler.py - INFO - Epoch 68/300:train_loss:1006.047476, tr_rec:1190.100527, tr_eng:-1970.873888, tr_covd:2606.866886, val_AUC:0.490834, val_pAUC:0.503484\n",
      "100%|██████████| 51/51 [00:47<00:00,  1.06it/s]\n",
      "100%|██████████| 15/15 [00:03<00:00,  4.65it/s]\n",
      "2020-11-30 23:39:44,499 - pytorch_modeler.py - INFO - Epoch 69/300:train_loss:912.455244, tr_rec:1205.113657, tr_eng:-3059.093489, tr_covd:2650.187035, val_AUC:0.505847, val_pAUC:0.503423\n",
      "100%|██████████| 51/51 [00:48<00:00,  1.05it/s]\n",
      "100%|██████████| 15/15 [00:03<00:00,  4.47it/s]\n",
      "2020-11-30 23:40:36,482 - pytorch_modeler.py - INFO - Epoch 70/300:train_loss:1010.794260, tr_rec:1167.640627, tr_eng:-1693.635239, tr_covd:2503.430820, val_AUC:0.483225, val_pAUC:0.506574\n",
      "100%|██████████| 51/51 [00:47<00:00,  1.08it/s]\n",
      "100%|██████████| 15/15 [00:03<00:00,  4.32it/s]\n",
      "2020-11-30 23:41:27,329 - pytorch_modeler.py - INFO - Epoch 71/300:train_loss:928.831098, tr_rec:1144.923857, tr_eng:-2284.591333, tr_covd:2473.277954, val_AUC:0.510592, val_pAUC:0.505397\n",
      "100%|██████████| 51/51 [00:47<00:00,  1.08it/s]\n",
      "100%|██████████| 15/15 [00:03<00:00,  4.51it/s]\n",
      "2020-11-30 23:42:17,733 - pytorch_modeler.py - INFO - Epoch 72/300:train_loss:961.529053, tr_rec:1120.925297, tr_eng:-1715.245598, tr_covd:2425.663254, val_AUC:0.501347, val_pAUC:0.505233\n",
      "100%|██████████| 51/51 [00:47<00:00,  1.08it/s]\n",
      "100%|██████████| 15/15 [00:03<00:00,  4.26it/s]\n",
      "2020-11-30 23:43:08,580 - pytorch_modeler.py - INFO - Epoch 73/300:train_loss:752.865690, tr_rec:878.241773, tr_eng:-1388.283499, tr_covd:2690.452496, val_AUC:0.539619, val_pAUC:0.515549\n",
      "100%|██████████| 51/51 [00:47<00:00,  1.08it/s]\n",
      "100%|██████████| 15/15 [00:03<00:00,  4.34it/s]\n",
      "2020-11-30 23:43:59,082 - pytorch_modeler.py - INFO - Epoch 74/300:train_loss:545.625008, tr_rec:773.588175, tr_eng:-2410.797159, tr_covd:2623.309460, val_AUC:0.500000, val_pAUC:0.500000\n",
      "100%|██████████| 51/51 [00:47<00:00,  1.08it/s]\n",
      "100%|██████████| 15/15 [00:03<00:00,  4.24it/s]\n",
      "2020-11-30 23:44:50,056 - pytorch_modeler.py - INFO - Epoch 75/300:train_loss:657.214986, tr_rec:791.483748, tr_eng:-1473.515907, tr_covd:2616.565475, val_AUC:0.472536, val_pAUC:0.503015\n",
      "100%|██████████| 51/51 [00:47<00:00,  1.07it/s]\n",
      "100%|██████████| 15/15 [00:03<00:00,  4.25it/s]\n",
      "2020-11-30 23:45:41,407 - pytorch_modeler.py - INFO - Epoch 76/300:train_loss:706.043881, tr_rec:851.410117, tr_eng:-1587.692005, tr_covd:2680.594090, val_AUC:0.472727, val_pAUC:0.501679\n",
      "100%|██████████| 51/51 [00:47<00:00,  1.07it/s]\n",
      "100%|██████████| 15/15 [00:03<00:00,  4.16it/s]\n",
      "2020-11-30 23:46:32,769 - pytorch_modeler.py - INFO - Epoch 77/300:train_loss:836.367312, tr_rec:1022.719547, tr_eng:-2008.122135, tr_covd:2891.996407, val_AUC:0.526255, val_pAUC:0.497172\n",
      "100%|██████████| 51/51 [00:48<00:00,  1.05it/s]\n",
      "100%|██████████| 15/15 [00:03<00:00,  4.32it/s]\n",
      "2020-11-30 23:47:24,994 - pytorch_modeler.py - INFO - Epoch 78/300:train_loss:799.843844, tr_rec:977.038265, tr_eng:-1919.186989, tr_covd:2944.855755, val_AUC:0.512641, val_pAUC:0.503704\n",
      "100%|██████████| 51/51 [00:47<00:00,  1.07it/s]\n",
      "100%|██████████| 15/15 [00:03<00:00,  4.30it/s]\n",
      "2020-11-30 23:48:16,124 - pytorch_modeler.py - INFO - Epoch 79/300:train_loss:789.505718, tr_rec:943.388828, tr_eng:-1689.797228, tr_covd:3019.323372, val_AUC:0.474916, val_pAUC:0.501894\n",
      "100%|██████████| 51/51 [00:48<00:00,  1.04it/s]\n",
      "100%|██████████| 15/15 [00:03<00:00,  3.93it/s]\n",
      "2020-11-30 23:49:08,752 - pytorch_modeler.py - INFO - Epoch 80/300:train_loss:739.333152, tr_rec:927.985723, tr_eng:-2032.533186, tr_covd:2920.150654, val_AUC:0.506135, val_pAUC:0.505158\n",
      "100%|██████████| 51/51 [00:49<00:00,  1.03it/s]\n",
      "100%|██████████| 15/15 [00:03<00:00,  4.02it/s]\n",
      "2020-11-30 23:50:02,114 - pytorch_modeler.py - INFO - Epoch 81/300:train_loss:721.094671, tr_rec:941.537580, tr_eng:-2346.712503, tr_covd:2845.668236, val_AUC:0.458345, val_pAUC:0.497557\n",
      "100%|██████████| 51/51 [00:50<00:00,  1.02it/s]\n",
      "100%|██████████| 15/15 [00:03<00:00,  4.16it/s]\n",
      "2020-11-30 23:50:55,972 - pytorch_modeler.py - INFO - Epoch 82/300:train_loss:748.454833, tr_rec:932.822023, tr_eng:-1991.313404, tr_covd:2952.829548, val_AUC:0.515763, val_pAUC:0.504830\n",
      "100%|██████████| 51/51 [00:50<00:00,  1.02it/s]\n",
      "100%|██████████| 15/15 [00:03<00:00,  4.43it/s]\n",
      "2020-11-30 23:51:49,384 - pytorch_modeler.py - INFO - Epoch 83/300:train_loss:757.943584, tr_rec:923.411863, tr_eng:-1806.576258, tr_covd:3037.869591, val_AUC:0.486797, val_pAUC:0.504220\n",
      "100%|██████████| 51/51 [00:50<00:00,  1.01it/s]\n",
      "100%|██████████| 15/15 [00:02<00:00,  5.04it/s]\n",
      "2020-11-30 23:52:43,102 - pytorch_modeler.py - INFO - Epoch 84/300:train_loss:814.479705, tr_rec:991.748152, tr_eng:-1957.783272, tr_covd:3701.977997, val_AUC:0.462428, val_pAUC:0.499864\n",
      "100%|██████████| 51/51 [00:50<00:00,  1.02it/s]\n",
      "100%|██████████| 15/15 [00:03<00:00,  4.59it/s]\n",
      "2020-11-30 23:53:36,551 - pytorch_modeler.py - INFO - Epoch 85/300:train_loss:764.691346, tr_rec:912.424911, tr_eng:-1682.585037, tr_covd:4104.988888, val_AUC:0.466639, val_pAUC:0.501688\n",
      "100%|██████████| 51/51 [00:48<00:00,  1.06it/s]\n",
      "100%|██████████| 15/15 [00:03<00:00,  4.30it/s]\n",
      "2020-11-30 23:54:28,223 - pytorch_modeler.py - INFO - Epoch 86/300:train_loss:750.685102, tr_rec:900.073416, tr_eng:-1645.311079, tr_covd:3028.559734, val_AUC:0.465655, val_pAUC:0.502795\n",
      "100%|██████████| 51/51 [00:47<00:00,  1.08it/s]\n",
      "100%|██████████| 15/15 [00:03<00:00,  4.39it/s]\n",
      "2020-11-30 23:55:19,054 - pytorch_modeler.py - INFO - Epoch 87/300:train_loss:594.909759, tr_rec:919.007951, tr_eng:-3405.343092, tr_covd:3287.223778, val_AUC:0.499287, val_pAUC:0.499962\n"
     ]
    },
    {
     "name": "stderr",
     "output_type": "stream",
     "text": [
      "100%|██████████| 51/51 [00:47<00:00,  1.07it/s]\n",
      "100%|██████████| 15/15 [00:03<00:00,  4.37it/s]\n",
      "2020-11-30 23:56:09,951 - pytorch_modeler.py - INFO - Epoch 88/300:train_loss:832.699683, tr_rec:964.657061, tr_eng:-1469.557629, tr_covd:2999.678833, val_AUC:0.482887, val_pAUC:0.507292\n",
      "100%|██████████| 51/51 [00:47<00:00,  1.08it/s]\n",
      "100%|██████████| 15/15 [00:03<00:00,  4.36it/s]\n",
      "2020-11-30 23:57:00,561 - pytorch_modeler.py - INFO - Epoch 89/300:train_loss:885.500829, tr_rec:1030.038422, tr_eng:-1600.442877, tr_covd:3101.338493, val_AUC:0.448319, val_pAUC:0.495545\n",
      "100%|██████████| 51/51 [00:47<00:00,  1.07it/s]\n",
      "100%|██████████| 15/15 [00:03<00:00,  4.31it/s]\n",
      "2020-11-30 23:57:51,831 - pytorch_modeler.py - INFO - Epoch 90/300:train_loss:660.714517, tr_rec:879.627318, tr_eng:-2335.042990, tr_covd:2918.301605, val_AUC:0.536184, val_pAUC:0.506626\n",
      "100%|██████████| 51/51 [00:46<00:00,  1.10it/s]\n",
      "100%|██████████| 15/15 [00:03<00:00,  4.45it/s]\n",
      "2020-11-30 23:58:41,728 - pytorch_modeler.py - INFO - Epoch 91/300:train_loss:715.498858, tr_rec:862.297960, tr_eng:-1607.574877, tr_covd:2791.677727, val_AUC:0.488648, val_pAUC:0.504145\n",
      "100%|██████████| 51/51 [00:46<00:00,  1.10it/s]\n",
      "100%|██████████| 15/15 [00:03<00:00,  4.40it/s]\n",
      "2020-11-30 23:59:31,436 - pytorch_modeler.py - INFO - Epoch 92/300:train_loss:436.652368, tr_rec:889.093210, tr_eng:-4665.655649, tr_covd:2824.947552, val_AUC:0.517065, val_pAUC:0.507615\n",
      "100%|██████████| 51/51 [00:46<00:00,  1.09it/s]\n",
      "100%|██████████| 15/15 [00:03<00:00,  4.08it/s]\n",
      "2020-12-01 00:00:21,956 - pytorch_modeler.py - INFO - Epoch 93/300:train_loss:716.221442, tr_rec:875.988732, tr_eng:-1738.085953, tr_covd:2808.261288, val_AUC:0.522938, val_pAUC:0.506921\n",
      "100%|██████████| 51/51 [00:47<00:00,  1.07it/s]\n",
      "100%|██████████| 15/15 [00:03<00:00,  4.29it/s]\n",
      "2020-12-01 00:01:13,000 - pytorch_modeler.py - INFO - Epoch 94/300:train_loss:739.907013, tr_rec:873.517421, tr_eng:-1477.428770, tr_covd:2826.495003, val_AUC:0.523159, val_pAUC:0.506077\n",
      "100%|██████████| 51/51 [00:47<00:00,  1.08it/s]\n",
      "100%|██████████| 15/15 [00:03<00:00,  4.38it/s]\n",
      "2020-12-01 00:02:03,759 - pytorch_modeler.py - INFO - Epoch 95/300:train_loss:617.677293, tr_rec:859.043910, tr_eng:-2545.993401, tr_covd:2646.545246, val_AUC:0.468308, val_pAUC:0.501688\n",
      "100%|██████████| 51/51 [00:46<00:00,  1.09it/s]\n",
      "100%|██████████| 15/15 [00:03<00:00,  4.33it/s]\n",
      "2020-12-01 00:02:54,180 - pytorch_modeler.py - INFO - Epoch 96/300:train_loss:683.310686, tr_rec:844.209850, tr_eng:-1740.951353, tr_covd:2639.194759, val_AUC:0.467635, val_pAUC:0.492132\n",
      "100%|██████████| 51/51 [00:47<00:00,  1.08it/s]\n",
      "100%|██████████| 15/15 [00:03<00:00,  4.20it/s]\n",
      "2020-12-01 00:03:44,935 - pytorch_modeler.py - INFO - Epoch 97/300:train_loss:694.435583, tr_rec:847.726382, tr_eng:-1665.631540, tr_covd:2654.471783, val_AUC:0.546665, val_pAUC:0.501350\n",
      "100%|██████████| 51/51 [00:47<00:00,  1.08it/s]\n",
      "100%|██████████| 15/15 [00:03<00:00,  4.47it/s]\n",
      "2020-12-01 00:04:35,341 - pytorch_modeler.py - INFO - Epoch 98/300:train_loss:707.038620, tr_rec:807.913116, tr_eng:-1147.489582, tr_covd:2774.893597, val_AUC:0.500000, val_pAUC:0.500000\n",
      "100%|██████████| 51/51 [00:47<00:00,  1.06it/s]\n",
      "100%|██████████| 15/15 [00:03<00:00,  4.84it/s]\n",
      "2020-12-01 00:05:26,344 - pytorch_modeler.py - INFO - Epoch 99/300:train_loss:592.147620, tr_rec:763.546569, tr_eng:-1843.381741, tr_covd:2587.846115, val_AUC:0.528052, val_pAUC:0.503329\n",
      "100%|██████████| 51/51 [00:47<00:00,  1.06it/s]\n",
      "100%|██████████| 15/15 [00:02<00:00,  5.14it/s]\n",
      "2020-12-01 00:06:17,203 - pytorch_modeler.py - INFO - Epoch 100/300:train_loss:697.243589, tr_rec:798.772007, tr_eng:-1184.664040, tr_covd:3387.599308, val_AUC:0.500000, val_pAUC:0.500000\n",
      "100%|██████████| 51/51 [00:47<00:00,  1.07it/s]\n",
      "100%|██████████| 15/15 [00:03<00:00,  4.57it/s]\n",
      "2020-12-01 00:07:08,015 - pytorch_modeler.py - INFO - Epoch 101/300:train_loss:652.519588, tr_rec:765.283241, tr_eng:-1282.314299, tr_covd:3093.556236, val_AUC:0.487863, val_pAUC:0.501200\n",
      "100%|██████████| 51/51 [00:47<00:00,  1.08it/s]\n",
      "100%|██████████| 15/15 [00:03<00:00,  4.37it/s]\n",
      "2020-12-01 00:07:58,817 - pytorch_modeler.py - INFO - Epoch 102/300:train_loss:754.197980, tr_rec:896.864319, tr_eng:-1569.852444, tr_covd:2863.782753, val_AUC:0.500000, val_pAUC:0.500000\n",
      "100%|██████████| 51/51 [00:47<00:00,  1.08it/s]\n",
      "100%|██████████| 15/15 [00:03<00:00,  4.57it/s]\n",
      "2020-12-01 00:08:49,226 - pytorch_modeler.py - INFO - Epoch 103/300:train_loss:729.419603, tr_rec:830.066372, tr_eng:-1133.031021, tr_covd:2531.267853, val_AUC:0.498600, val_pAUC:0.499933\n",
      "100%|██████████| 51/51 [00:46<00:00,  1.09it/s]\n",
      "100%|██████████| 15/15 [00:03<00:00,  4.34it/s]\n",
      "2020-12-01 00:09:39,652 - pytorch_modeler.py - INFO - Epoch 104/300:train_loss:740.141886, tr_rec:836.763418, tr_eng:-1091.523552, tr_covd:2506.165100, val_AUC:0.509519, val_pAUC:0.500536\n",
      "100%|██████████| 51/51 [00:47<00:00,  1.07it/s]\n",
      "100%|██████████| 15/15 [00:03<00:00,  4.31it/s]\n",
      "2020-12-01 00:10:31,017 - pytorch_modeler.py - INFO - Epoch 105/300:train_loss:706.411810, tr_rec:801.486831, tr_eng:-1077.067606, tr_covd:2526.349400, val_AUC:0.500000, val_pAUC:0.500000\n",
      "100%|██████████| 51/51 [00:47<00:00,  1.08it/s]\n",
      "100%|██████████| 15/15 [00:04<00:00,  3.56it/s]\n",
      "2020-12-01 00:11:22,579 - pytorch_modeler.py - INFO - Epoch 106/300:train_loss:654.260660, tr_rec:749.494415, tr_eng:-1090.299248, tr_covd:2759.235882, val_AUC:0.500000, val_pAUC:0.500000\n",
      "100%|██████████| 51/51 [01:01<00:00,  1.21s/it]\n",
      "100%|██████████| 15/15 [00:04<00:00,  3.22it/s]\n",
      "2020-12-01 00:12:28,994 - pytorch_modeler.py - INFO - Epoch 107/300:train_loss:596.991799, tr_rec:695.276212, tr_eng:-1112.580217, tr_covd:2594.722591, val_AUC:0.500000, val_pAUC:0.500000\n",
      "100%|██████████| 51/51 [01:01<00:00,  1.20s/it]\n",
      "100%|██████████| 15/15 [00:04<00:00,  3.26it/s]\n",
      "2020-12-01 00:13:34,713 - pytorch_modeler.py - INFO - Epoch 108/300:train_loss:611.991797, tr_rec:709.754715, tr_eng:-1110.005022, tr_covd:2647.517540, val_AUC:0.499644, val_pAUC:0.499981\n",
      "100%|██████████| 51/51 [01:00<00:00,  1.19s/it]\n",
      "100%|██████████| 15/15 [00:04<00:00,  3.65it/s]\n",
      "2020-12-01 00:14:39,538 - pytorch_modeler.py - INFO - Epoch 109/300:train_loss:627.450905, tr_rec:723.419039, tr_eng:-1092.343494, tr_covd:2653.244358, val_AUC:0.500000, val_pAUC:0.500000\n",
      "100%|██████████| 51/51 [01:00<00:00,  1.20s/it]\n",
      "100%|██████████| 15/15 [00:04<00:00,  3.24it/s]\n",
      "2020-12-01 00:15:45,163 - pytorch_modeler.py - INFO - Epoch 110/300:train_loss:732.435770, tr_rec:850.662786, tr_eng:-1314.553320, tr_covd:2645.664726, val_AUC:0.536915, val_pAUC:0.502860\n",
      "100%|██████████| 51/51 [01:01<00:00,  1.20s/it]\n",
      "100%|██████████| 15/15 [00:04<00:00,  3.28it/s]\n",
      "2020-12-01 00:16:50,778 - pytorch_modeler.py - INFO - Epoch 111/300:train_loss:600.667510, tr_rec:820.819655, tr_eng:-2338.359184, tr_covd:2736.755383, val_AUC:0.482591, val_pAUC:0.499119\n",
      "100%|██████████| 51/51 [01:01<00:00,  1.21s/it]\n",
      "100%|██████████| 15/15 [00:04<00:00,  3.22it/s]\n",
      "2020-12-01 00:17:57,070 - pytorch_modeler.py - INFO - Epoch 112/300:train_loss:633.091662, tr_rec:826.579021, tr_eng:-2075.122877, tr_covd:2804.986088, val_AUC:0.484710, val_pAUC:0.502767\n",
      "100%|██████████| 51/51 [01:00<00:00,  1.19s/it]\n",
      "100%|██████████| 15/15 [00:04<00:00,  3.33it/s]\n",
      "2020-12-01 00:19:02,298 - pytorch_modeler.py - INFO - Epoch 113/300:train_loss:379.190131, tr_rec:825.373260, tr_eng:-4781.566710, tr_covd:6394.708458, val_AUC:0.486397, val_pAUC:0.499281\n",
      "100%|██████████| 51/51 [01:01<00:00,  1.21s/it]\n",
      "100%|██████████| 15/15 [00:04<00:00,  3.45it/s]\n",
      "2020-12-01 00:20:08,525 - pytorch_modeler.py - INFO - Epoch 114/300:train_loss:597.374899, tr_rec:812.844480, tr_eng:-2568.508469, tr_covd:8276.254356, val_AUC:0.462131, val_pAUC:0.503526\n",
      "100%|██████████| 51/51 [01:02<00:00,  1.23s/it]\n",
      "100%|██████████| 15/15 [00:04<00:00,  3.65it/s]\n",
      "2020-12-01 00:21:15,317 - pytorch_modeler.py - INFO - Epoch 115/300:train_loss:-1077.618785, tr_rec:804.884718, tr_eng:-19649.057680, tr_covd:16480.466705, val_AUC:0.517267, val_pAUC:0.497712\n",
      "100%|██████████| 51/51 [01:01<00:00,  1.21s/it]\n",
      "100%|██████████| 15/15 [00:03<00:00,  4.18it/s]\n",
      "2020-12-01 00:22:20,717 - pytorch_modeler.py - INFO - Epoch 116/300:train_loss:690.080969, tr_rec:813.651749, tr_eng:-1874.621616, tr_covd:12778.277443, val_AUC:0.500000, val_pAUC:0.500000\n"
     ]
    },
    {
     "name": "stderr",
     "output_type": "stream",
     "text": [
      "100%|██████████| 51/51 [01:01<00:00,  1.21s/it]\n",
      "100%|██████████| 15/15 [00:04<00:00,  3.40it/s]\n",
      "2020-12-01 00:23:26,915 - pytorch_modeler.py - INFO - Epoch 117/300:train_loss:694.527670, tr_rec:799.609602, tr_eng:-1291.155733, tr_covd:4806.729126, val_AUC:0.502509, val_pAUC:0.500134\n",
      "100%|██████████| 51/51 [01:01<00:00,  1.21s/it]\n",
      "100%|██████████| 15/15 [00:04<00:00,  3.18it/s]\n",
      "2020-12-01 00:24:33,524 - pytorch_modeler.py - INFO - Epoch 118/300:train_loss:702.803679, tr_rec:824.136360, tr_eng:-1454.069984, tr_covd:4814.863716, val_AUC:0.464232, val_pAUC:0.496605\n",
      "100%|██████████| 51/51 [01:01<00:00,  1.20s/it]\n",
      "100%|██████████| 15/15 [00:04<00:00,  3.21it/s]\n",
      "2020-12-01 00:25:39,496 - pytorch_modeler.py - INFO - Epoch 119/300:train_loss:578.365638, tr_rec:846.103114, tr_eng:-3195.204344, tr_covd:10356.591736, val_AUC:0.458248, val_pAUC:0.503306\n",
      "100%|██████████| 51/51 [01:01<00:00,  1.20s/it]\n",
      "100%|██████████| 15/15 [00:04<00:00,  3.27it/s]\n",
      "2020-12-01 00:26:45,115 - pytorch_modeler.py - INFO - Epoch 120/300:train_loss:595.535896, tr_rec:836.231304, tr_eng:-2868.555008, tr_covd:9232.019279, val_AUC:0.448593, val_pAUC:0.497036\n",
      " 24%|██▎       | 12/51 [00:15<00:50,  1.31s/it]\n",
      "2020-12-01 00:27:00,793 - 00_train.py - INFO - TARGET MACHINE_TYPE: pump\n",
      "2020-12-01 00:27:00,794 - 00_train.py - INFO - MAKE DATA_LOADER\n",
      "2020-12-01 00:27:00,796 - 00_train.py - INFO - TRAINING\n"
     ]
    },
    {
     "name": "stdout",
     "output_type": "stream",
     "text": [
      "error\n",
      "use: cuda:0\n"
     ]
    },
    {
     "name": "stderr",
     "output_type": "stream",
     "text": [
      "  0%|          | 0/46 [00:01<?, ?it/s]\n",
      "2020-12-01 00:27:03,656 - 00_train.py - INFO - TARGET MACHINE_TYPE: slider\n",
      "2020-12-01 00:27:03,656 - 00_train.py - INFO - MAKE DATA_LOADER\n",
      "2020-12-01 00:27:03,659 - 00_train.py - INFO - TRAINING\n"
     ]
    },
    {
     "name": "stdout",
     "output_type": "stream",
     "text": [
      "error\n"
     ]
    },
    {
     "ename": "KeyboardInterrupt",
     "evalue": "",
     "output_type": "error",
     "traceback": [
      "\u001b[0;31m---------------------------------------------------------------------------\u001b[0m",
      "\u001b[0;31mKeyboardInterrupt\u001b[0m                         Traceback (most recent call last)",
      "\u001b[0;32m<ipython-input-11-b2d34d1d6174>\u001b[0m in \u001b[0;36m<module>\u001b[0;34m\u001b[0m\n\u001b[1;32m      1\u001b[0m \u001b[0;32mfor\u001b[0m \u001b[0mmachine_type\u001b[0m \u001b[0;32min\u001b[0m \u001b[0mmachine_types\u001b[0m\u001b[0;34m:\u001b[0m\u001b[0;34m\u001b[0m\u001b[0;34m\u001b[0m\u001b[0m\n\u001b[0;32m----> 2\u001b[0;31m     \u001b[0mhistory\u001b[0m \u001b[0;34m=\u001b[0m \u001b[0mrun\u001b[0m\u001b[0;34m(\u001b[0m\u001b[0mmachine_type\u001b[0m\u001b[0;34m)\u001b[0m\u001b[0;34m\u001b[0m\u001b[0;34m\u001b[0m\u001b[0m\n\u001b[0m\u001b[1;32m      3\u001b[0m     \u001b[0;31m#with open('{}/{}_history.pkl'.format(PKL_DIR, machine_type), 'wb') as file:\u001b[0m\u001b[0;34m\u001b[0m\u001b[0;34m\u001b[0m\u001b[0;34m\u001b[0m\u001b[0m\n\u001b[1;32m      4\u001b[0m     \u001b[0;31m#    pickle.dump(history , file)\u001b[0m\u001b[0;34m\u001b[0m\u001b[0;34m\u001b[0m\u001b[0;34m\u001b[0m\u001b[0m\n",
      "\u001b[0;32m<ipython-input-9-8faa6d0eabaa>\u001b[0m in \u001b[0;36mrun\u001b[0;34m(machine_type)\u001b[0m\n\u001b[1;32m     21\u001b[0m                 \u001b[0mfmax\u001b[0m\u001b[0;34m=\u001b[0m\u001b[0mconfig\u001b[0m\u001b[0;34m[\u001b[0m\u001b[0;34m'preprocessing'\u001b[0m\u001b[0;34m]\u001b[0m\u001b[0;34m[\u001b[0m\u001b[0;34m'fmax'\u001b[0m\u001b[0;34m]\u001b[0m\u001b[0;34m,\u001b[0m\u001b[0;34m\u001b[0m\u001b[0;34m\u001b[0m\u001b[0m\n\u001b[1;32m     22\u001b[0m                 \u001b[0mlatent_size\u001b[0m\u001b[0;34m=\u001b[0m\u001b[0mconfig\u001b[0m\u001b[0;34m[\u001b[0m\u001b[0;34m'fit'\u001b[0m\u001b[0;34m]\u001b[0m\u001b[0;34m[\u001b[0m\u001b[0;34m'latent_size'\u001b[0m\u001b[0;34m]\u001b[0m\u001b[0;34m,\u001b[0m\u001b[0;34m\u001b[0m\u001b[0;34m\u001b[0m\u001b[0m\n\u001b[0;32m---> 23\u001b[0;31m                 mixture_size=config['fit']['mixture_size'])\n\u001b[0m\u001b[1;32m     24\u001b[0m     \u001b[0;31m#pretrained_dict = torch.load(config['IO_OPTION']['PREMODEL_PATH'])\u001b[0m\u001b[0;34m\u001b[0m\u001b[0;34m\u001b[0m\u001b[0;34m\u001b[0m\u001b[0m\n\u001b[1;32m     25\u001b[0m     \u001b[0;31m#net = filtered_load_model(net, pretrained_dict)\u001b[0m\u001b[0;34m\u001b[0m\u001b[0;34m\u001b[0m\u001b[0;34m\u001b[0m\u001b[0m\n",
      "\u001b[0;32m/media/hiroki/working/research/dcase2020/2D_codes/DPGMM_LSTM_CONV/strict_comp/latent5_mixture3_batchnorm/pytorch_model.py\u001b[0m in \u001b[0;36m__init__\u001b[0;34m(self, sample_rate, window_size, hop_size, mel_bins, fmin, fmax, latent_size, mixture_size)\u001b[0m\n\u001b[1;32m    278\u001b[0m         self.spectrogram_extractor = Spectrogram(n_fft=window_size, hop_length=hop_size, \n\u001b[1;32m    279\u001b[0m             \u001b[0mwin_length\u001b[0m\u001b[0;34m=\u001b[0m\u001b[0mwindow_size\u001b[0m\u001b[0;34m,\u001b[0m \u001b[0mwindow\u001b[0m\u001b[0;34m=\u001b[0m\u001b[0mwindow\u001b[0m\u001b[0;34m,\u001b[0m \u001b[0mcenter\u001b[0m\u001b[0;34m=\u001b[0m\u001b[0mcenter\u001b[0m\u001b[0;34m,\u001b[0m \u001b[0mpad_mode\u001b[0m\u001b[0;34m=\u001b[0m\u001b[0mpad_mode\u001b[0m\u001b[0;34m,\u001b[0m\u001b[0;34m\u001b[0m\u001b[0;34m\u001b[0m\u001b[0m\n\u001b[0;32m--> 280\u001b[0;31m             freeze_parameters=True)\n\u001b[0m\u001b[1;32m    281\u001b[0m \u001b[0;34m\u001b[0m\u001b[0m\n\u001b[1;32m    282\u001b[0m         \u001b[0;31m# Logmel feature extractor\u001b[0m\u001b[0;34m\u001b[0m\u001b[0;34m\u001b[0m\u001b[0;34m\u001b[0m\u001b[0m\n",
      "\u001b[0;32m~/anaconda3/lib/python3.7/site-packages/torchlibrosa/stft.py\u001b[0m in \u001b[0;36m__init__\u001b[0;34m(self, n_fft, hop_length, win_length, window, center, pad_mode, power, freeze_parameters)\u001b[0m\n\u001b[1;32m    365\u001b[0m         self.stft = STFT(n_fft=n_fft, hop_length=hop_length, \n\u001b[1;32m    366\u001b[0m             \u001b[0mwin_length\u001b[0m\u001b[0;34m=\u001b[0m\u001b[0mwin_length\u001b[0m\u001b[0;34m,\u001b[0m \u001b[0mwindow\u001b[0m\u001b[0;34m=\u001b[0m\u001b[0mwindow\u001b[0m\u001b[0;34m,\u001b[0m \u001b[0mcenter\u001b[0m\u001b[0;34m=\u001b[0m\u001b[0mcenter\u001b[0m\u001b[0;34m,\u001b[0m\u001b[0;34m\u001b[0m\u001b[0;34m\u001b[0m\u001b[0m\n\u001b[0;32m--> 367\u001b[0;31m             pad_mode=pad_mode, freeze_parameters=True)\n\u001b[0m\u001b[1;32m    368\u001b[0m \u001b[0;34m\u001b[0m\u001b[0m\n\u001b[1;32m    369\u001b[0m     \u001b[0;32mdef\u001b[0m \u001b[0mforward\u001b[0m\u001b[0;34m(\u001b[0m\u001b[0mself\u001b[0m\u001b[0;34m,\u001b[0m \u001b[0minput\u001b[0m\u001b[0;34m)\u001b[0m\u001b[0;34m:\u001b[0m\u001b[0;34m\u001b[0m\u001b[0;34m\u001b[0m\u001b[0m\n",
      "\u001b[0;32m~/anaconda3/lib/python3.7/site-packages/torchlibrosa/stft.py\u001b[0m in \u001b[0;36m__init__\u001b[0;34m(self, n_fft, hop_length, win_length, window, center, pad_mode, freeze_parameters)\u001b[0m\n\u001b[1;32m    165\u001b[0m \u001b[0;34m\u001b[0m\u001b[0m\n\u001b[1;32m    166\u001b[0m         \u001b[0;31m# DFT & IDFT matrix\u001b[0m\u001b[0;34m\u001b[0m\u001b[0;34m\u001b[0m\u001b[0;34m\u001b[0m\u001b[0m\n\u001b[0;32m--> 167\u001b[0;31m         \u001b[0mself\u001b[0m\u001b[0;34m.\u001b[0m\u001b[0mW\u001b[0m \u001b[0;34m=\u001b[0m \u001b[0mself\u001b[0m\u001b[0;34m.\u001b[0m\u001b[0mdft_matrix\u001b[0m\u001b[0;34m(\u001b[0m\u001b[0mn_fft\u001b[0m\u001b[0;34m)\u001b[0m\u001b[0;34m\u001b[0m\u001b[0;34m\u001b[0m\u001b[0m\n\u001b[0m\u001b[1;32m    168\u001b[0m \u001b[0;34m\u001b[0m\u001b[0m\n\u001b[1;32m    169\u001b[0m         \u001b[0mout_channels\u001b[0m \u001b[0;34m=\u001b[0m \u001b[0mn_fft\u001b[0m \u001b[0;34m//\u001b[0m \u001b[0;36m2\u001b[0m \u001b[0;34m+\u001b[0m \u001b[0;36m1\u001b[0m\u001b[0;34m\u001b[0m\u001b[0;34m\u001b[0m\u001b[0m\n",
      "\u001b[0;32m~/anaconda3/lib/python3.7/site-packages/torchlibrosa/stft.py\u001b[0m in \u001b[0;36mdft_matrix\u001b[0;34m(self, n)\u001b[0m\n\u001b[1;32m     17\u001b[0m         \u001b[0;34m(\u001b[0m\u001b[0mx\u001b[0m\u001b[0;34m,\u001b[0m \u001b[0my\u001b[0m\u001b[0;34m)\u001b[0m \u001b[0;34m=\u001b[0m \u001b[0mnp\u001b[0m\u001b[0;34m.\u001b[0m\u001b[0mmeshgrid\u001b[0m\u001b[0;34m(\u001b[0m\u001b[0mnp\u001b[0m\u001b[0;34m.\u001b[0m\u001b[0marange\u001b[0m\u001b[0;34m(\u001b[0m\u001b[0mn\u001b[0m\u001b[0;34m)\u001b[0m\u001b[0;34m,\u001b[0m \u001b[0mnp\u001b[0m\u001b[0;34m.\u001b[0m\u001b[0marange\u001b[0m\u001b[0;34m(\u001b[0m\u001b[0mn\u001b[0m\u001b[0;34m)\u001b[0m\u001b[0;34m)\u001b[0m\u001b[0;34m\u001b[0m\u001b[0;34m\u001b[0m\u001b[0m\n\u001b[1;32m     18\u001b[0m         \u001b[0momega\u001b[0m \u001b[0;34m=\u001b[0m \u001b[0mnp\u001b[0m\u001b[0;34m.\u001b[0m\u001b[0mexp\u001b[0m\u001b[0;34m(\u001b[0m\u001b[0;34m-\u001b[0m\u001b[0;36m2\u001b[0m \u001b[0;34m*\u001b[0m \u001b[0mnp\u001b[0m\u001b[0;34m.\u001b[0m\u001b[0mpi\u001b[0m \u001b[0;34m*\u001b[0m \u001b[0;36m1j\u001b[0m \u001b[0;34m/\u001b[0m \u001b[0mn\u001b[0m\u001b[0;34m)\u001b[0m\u001b[0;34m\u001b[0m\u001b[0;34m\u001b[0m\u001b[0m\n\u001b[0;32m---> 19\u001b[0;31m         \u001b[0mW\u001b[0m \u001b[0;34m=\u001b[0m \u001b[0mnp\u001b[0m\u001b[0;34m.\u001b[0m\u001b[0mpower\u001b[0m\u001b[0;34m(\u001b[0m\u001b[0momega\u001b[0m\u001b[0;34m,\u001b[0m \u001b[0mx\u001b[0m \u001b[0;34m*\u001b[0m \u001b[0my\u001b[0m\u001b[0;34m)\u001b[0m\u001b[0;34m\u001b[0m\u001b[0;34m\u001b[0m\u001b[0m\n\u001b[0m\u001b[1;32m     20\u001b[0m         \u001b[0;32mreturn\u001b[0m \u001b[0mW\u001b[0m\u001b[0;34m\u001b[0m\u001b[0;34m\u001b[0m\u001b[0m\n\u001b[1;32m     21\u001b[0m \u001b[0;34m\u001b[0m\u001b[0m\n",
      "\u001b[0;31mKeyboardInterrupt\u001b[0m: "
     ]
    }
   ],
   "source": [
    "for machine_type in machine_types:\n",
    "    history = run(machine_type)\n",
    "    #with open('{}/{}_history.pkl'.format(PKL_DIR, machine_type), 'wb') as file:\n",
    "    #    pickle.dump(history , file)"
   ]
  },
  {
   "cell_type": "markdown",
   "metadata": {},
   "source": [
    "history = run('ToyCar')\n",
    "with open('{}/{}_history.pkl'.format(PKL_DIR, machine_type), 'wb') as file:\n",
    "    pickle.dump(history , file)"
   ]
  },
  {
   "cell_type": "raw",
   "metadata": {},
   "source": [
    "history['reconstruct_img']['label']"
   ]
  }
 ],
 "metadata": {
  "kernelspec": {
   "display_name": "Python 3",
   "language": "python",
   "name": "python3"
  },
  "language_info": {
   "codemirror_mode": {
    "name": "ipython",
    "version": 3
   },
   "file_extension": ".py",
   "mimetype": "text/x-python",
   "name": "python",
   "nbconvert_exporter": "python",
   "pygments_lexer": "ipython3",
   "version": "3.7.7"
  },
  "toc": {
   "base_numbering": 1,
   "nav_menu": {},
   "number_sections": true,
   "sideBar": true,
   "skip_h1_title": false,
   "title_cell": "Table of Contents",
   "title_sidebar": "Contents",
   "toc_cell": false,
   "toc_position": {},
   "toc_section_display": true,
   "toc_window_display": false
  }
 },
 "nbformat": 4,
 "nbformat_minor": 4
}
