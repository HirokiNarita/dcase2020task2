{
 "cells": [
  {
   "cell_type": "markdown",
   "metadata": {},
   "source": [
    "# train"
   ]
  },
  {
   "cell_type": "code",
   "execution_count": 1,
   "metadata": {},
   "outputs": [
    {
     "name": "stderr",
     "output_type": "stream",
     "text": [
      "/home/hiroki/anaconda3/lib/python3.7/site-packages/ipykernel_launcher.py:5: YAMLLoadWarning: calling yaml.load() without Loader=... is deprecated, as the default Loader is unsafe. Please read https://msg.pyyaml.org/load for full details.\n",
      "  \"\"\"\n"
     ]
    }
   ],
   "source": [
    "import yaml\n",
    "import os\n",
    "\n",
    "with open(\"./config.yaml\", 'rb') as f:\n",
    "    config = yaml.load(f)"
   ]
  },
  {
   "cell_type": "code",
   "execution_count": 2,
   "metadata": {},
   "outputs": [],
   "source": [
    "OUTPUT_ROOT = config['IO_OPTION']['OUTPUT_ROOT']\n",
    "os.makedirs(OUTPUT_ROOT, exist_ok=True)"
   ]
  },
  {
   "cell_type": "markdown",
   "metadata": {},
   "source": [
    "## load library"
   ]
  },
  {
   "cell_type": "code",
   "execution_count": 3,
   "metadata": {},
   "outputs": [],
   "source": [
    "# python default library\n",
    "import os\n",
    "import shutil\n",
    "import datetime\n",
    "import sys\n",
    "import pickle\n",
    "\n",
    "# general analysis tool-kit\n",
    "import numpy as np\n",
    "from sklearn.model_selection import train_test_split\n",
    "import matplotlib.pyplot as plt\n",
    "\n",
    "# pytorch\n",
    "import torch\n",
    "from torch import optim, nn\n",
    "from torch.utils.tensorboard import SummaryWriter\n",
    "\n",
    "from torchsummary import summary\n",
    "\n",
    "# etc\n",
    "import yaml\n",
    "yaml.warnings({'YAMLLoadWarning': False})\n",
    "import mlflow\n",
    "from collections import defaultdict\n",
    "from scipy.stats import zscore\n",
    "\n",
    "# original library\n",
    "\n",
    "import common as com\n",
    "import pytorch_modeler as modeler\n",
    "from pytorch_model import DAGMM as Model\n",
    "from pytorch_utils import filtered_load_model\n",
    "import models\n",
    "\n",
    "import librosa\n",
    "import IPython\n",
    "import librosa.display"
   ]
  },
  {
   "cell_type": "markdown",
   "metadata": {},
   "source": [
    "## load config and set logger"
   ]
  },
  {
   "cell_type": "code",
   "execution_count": 4,
   "metadata": {},
   "outputs": [
    {
     "name": "stderr",
     "output_type": "stream",
     "text": [
      "/home/hiroki/anaconda3/lib/python3.7/site-packages/ipykernel/ipkernel.py:287: DeprecationWarning: `should_run_async` will not call `transform_cell` automatically in the future. Please pass the result to `transformed_cell` argument and any exception that happen during thetransform in `preprocessing_exc_tuple` in IPython 7.17 and above.\n",
      "  and should_run_async(code)\n"
     ]
    }
   ],
   "source": [
    "#with open(\"./config.yaml\", 'rb') as f:\n",
    "#    config = yaml.load(f)\n",
    "\n",
    "log_folder = config['IO_OPTION']['OUTPUT_ROOT']+'/{0}.log'.format(datetime.date.today())\n",
    "logger = com.setup_logger(log_folder, '00_train.py')"
   ]
  },
  {
   "cell_type": "markdown",
   "metadata": {},
   "source": [
    "## Setting"
   ]
  },
  {
   "cell_type": "code",
   "execution_count": 5,
   "metadata": {},
   "outputs": [],
   "source": [
    "# Setting seed\n",
    "modeler.set_seed(42)"
   ]
  },
  {
   "cell_type": "code",
   "execution_count": 6,
   "metadata": {},
   "outputs": [
    {
     "data": {
      "text/plain": [
       "'/media/hiroki/working/research/dcase2020/result/2D/DAGMM/v4/config.yaml'"
      ]
     },
     "execution_count": 6,
     "metadata": {},
     "output_type": "execute_result"
    }
   ],
   "source": [
    "############################################################################\n",
    "# Setting I/O path\n",
    "############################################################################\n",
    "# input dirs\n",
    "INPUT_ROOT = config['IO_OPTION']['INPUT_ROOT']\n",
    "dev_path = INPUT_ROOT + \"/dev_data\"\n",
    "add_dev_path = INPUT_ROOT + \"/add_dev_data\"\n",
    "# machine type\n",
    "MACHINE_TYPE = config['IO_OPTION']['MACHINE_TYPE']\n",
    "machine_types = os.listdir(dev_path)\n",
    "# output dirs\n",
    "OUTPUT_ROOT = config['IO_OPTION']['OUTPUT_ROOT']\n",
    "MODEL_DIR = config['IO_OPTION']['OUTPUT_ROOT'] + '/models'\n",
    "TB_DIR = config['IO_OPTION']['OUTPUT_ROOT'] + '/tb'\n",
    "PKL_DIR = OUTPUT_ROOT + '/pkl'\n",
    "#os.makedirs(OUTPUT_ROOT, exist_ok=True)\n",
    "os.makedirs(MODEL_DIR, exist_ok=True)\n",
    "os.makedirs(TB_DIR, exist_ok=True)\n",
    "os.makedirs(PKL_DIR, exist_ok=True)\n",
    "# copy config\n",
    "shutil.copy('./config.yaml', OUTPUT_ROOT)"
   ]
  },
  {
   "cell_type": "markdown",
   "metadata": {},
   "source": [
    "## make path list and train/valid split"
   ]
  },
  {
   "cell_type": "code",
   "execution_count": 7,
   "metadata": {},
   "outputs": [],
   "source": [
    "############################################################################\n",
    "# make path set and train/valid split\n",
    "############################################################################\n",
    "'''\n",
    "train_paths[machine_type]['train' or 'valid'] = path\n",
    "'''\n",
    "dev_train_paths = {}\n",
    "add_train_paths = {}\n",
    "train_paths = {}"
   ]
  },
  {
   "cell_type": "code",
   "execution_count": 8,
   "metadata": {},
   "outputs": [],
   "source": [
    "for machine_type in machine_types:\n",
    "    # dev train\n",
    "    dev_train_paths = [\"{}/{}/train/\".format(dev_path, machine_type) + file for file in os.listdir(\"{}/{}/train\".format(dev_path, machine_type))]\n",
    "    dev_train_paths = sorted(dev_train_paths)\n",
    "    # add_dev train\n",
    "    add_train_paths = [\"{}/{}/train/\".format(add_dev_path, machine_type) + file for file in os.listdir(\"{}/{}/train\".format(add_dev_path, machine_type))]\n",
    "    add_train_paths = sorted(add_train_paths)\n",
    "    # valid\n",
    "    dev_valid_paths = [\"{}/{}/test/\".format(dev_path, machine_type) + file for file in os.listdir(\"{}/{}/test\".format(dev_path, machine_type))]\n",
    "    dev_valid_paths = sorted(dev_valid_paths)\n",
    "    \n",
    "    train_paths[machine_type] = {}\n",
    "    train_paths[machine_type]['train'] = dev_train_paths + add_train_paths\n",
    "    train_paths[machine_type]['valid'] = dev_valid_paths"
   ]
  },
  {
   "cell_type": "raw",
   "metadata": {},
   "source": [
    "# for machine_type in machine_types:\n",
    "    # dev train\n",
    "    dev_train_all_paths = [\"{}/{}/train/\".format(dev_path, machine_type) + file for file in os.listdir(\"{}/{}/train\".format(dev_path, machine_type))]\n",
    "    dev_train_all_paths = sorted(dev_train_all_paths)\n",
    "    dev_train_paths[machine_type] = {}\n",
    "    dev_train_paths[machine_type]['train'], \\\n",
    "    dev_train_paths[machine_type]['valid'] = train_test_split(dev_train_all_paths,\n",
    "                                                              test_size=config['etc']['test_size'],\n",
    "                                                              shuffle=False,\n",
    "                                                             )\n",
    "    # add_dev train\n",
    "    add_train_all_paths = [\"{}/{}/train/\".format(add_dev_path, machine_type) + file for file in os.listdir(\"{}/{}/train\".format(add_dev_path, machine_type))]\n",
    "    add_train_all_paths = sorted(add_train_all_paths)\n",
    "    add_train_paths[machine_type] = {}\n",
    "    add_train_paths[machine_type]['train'], \\\n",
    "    add_train_paths[machine_type]['valid'] = train_test_split(add_train_all_paths,\n",
    "                                                              test_size=config['etc']['test_size'],\n",
    "                                                              shuffle=False,\n",
    "                                                             )\n",
    "    train_paths[machine_type] = {}\n",
    "    train_paths[machine_type]['train'] = dev_train_paths[machine_type]['train'] + add_train_paths[machine_type]['train']\n",
    "    train_paths[machine_type]['valid'] = dev_train_paths[machine_type]['valid'] + add_train_paths[machine_type]['valid']"
   ]
  },
  {
   "cell_type": "markdown",
   "metadata": {},
   "source": [
    "## training"
   ]
  },
  {
   "cell_type": "code",
   "execution_count": 9,
   "metadata": {},
   "outputs": [],
   "source": [
    "#############################################################################\n",
    "# run\n",
    "#############################################################################\n",
    "def run(machine_type):\n",
    "    com.tic()\n",
    "    logger.info('TARGET MACHINE_TYPE: {0}'.format(machine_type))\n",
    "    logger.info('MAKE DATA_LOADER')\n",
    "    # dev_train_paths\n",
    "    dataloaders_dict = modeler.make_dataloader(train_paths, machine_type)\n",
    "    # define writer for tensorbord\n",
    "    os.makedirs(TB_DIR+'/'+machine_type, exist_ok=True)         # debug\n",
    "    tb_log_dir = TB_DIR + '/' + machine_type\n",
    "    writer = SummaryWriter(log_dir = tb_log_dir)\n",
    "    logger.info('TRAINING')\n",
    "    # parameter setting\n",
    "    net = Model(sample_rate=config['preprocessing']['sample_rate'],\n",
    "                window_size=config['preprocessing']['window_size'],\n",
    "                hop_size=config['preprocessing']['hop_size'],\n",
    "                mel_bins=config['preprocessing']['mel_bins'],\n",
    "                fmin=config['preprocessing']['fmin'],\n",
    "                fmax=config['preprocessing']['fmax'],\n",
    "                latent_size=config['fit']['latent_size'],\n",
    "                mixture_size=config['fit']['mixture_size'])\n",
    "    #pretrained_dict = torch.load(config['IO_OPTION']['PREMODEL_PATH'])\n",
    "    #net = filtered_load_model(net, pretrained_dict)\n",
    "    optimizer = optim.Adam(net.parameters(), lr=1e-4)\n",
    "    num_epochs = config['fit']['num_epochs']\n",
    "    scheduler = optim.lr_scheduler.OneCycleLR(optimizer=optimizer, pct_start=0.1, div_factor=1e3, \n",
    "                                              max_lr=1e-3, epochs=num_epochs, steps_per_epoch=len(dataloaders_dict['train']))\n",
    "    criterion = nn.MSELoss()\n",
    "    history = modeler.train_net(net, dataloaders_dict, criterion, optimizer, scheduler, num_epochs, writer)\n",
    "    # output\n",
    "    model = history['model']\n",
    "    model_out_path = MODEL_DIR+'/{}_model.pth'.format(machine_type)\n",
    "    torch.save(model.state_dict(), model_out_path)\n",
    "    logger.info('\\n success:{0} \\n'.format(machine_type) + \\\n",
    "                    'model_out_path ==> \\n {0}'.format(model_out_path))\n",
    "    #  close writer for tensorbord\n",
    "    writer.close()\n",
    "    #modeler.mlflow_log(history, config, machine_type, model_out_path, tb_log_dir)\n",
    "    com.toc()\n",
    "    return history"
   ]
  },
  {
   "cell_type": "code",
   "execution_count": 10,
   "metadata": {},
   "outputs": [
    {
     "data": {
      "text/plain": [
       "['fan', 'pump', 'slider', 'ToyCar', 'ToyConveyor', 'valve']"
      ]
     },
     "execution_count": 10,
     "metadata": {},
     "output_type": "execute_result"
    }
   ],
   "source": [
    "machine_types"
   ]
  },
  {
   "cell_type": "code",
   "execution_count": 11,
   "metadata": {
    "scrolled": true
   },
   "outputs": [
    {
     "name": "stderr",
     "output_type": "stream",
     "text": [
      "2020-11-27 16:23:04,947 - 00_train.py - INFO - TARGET MACHINE_TYPE: fan\n",
      "2020-11-27 16:23:04,947 - 00_train.py - INFO - MAKE DATA_LOADER\n",
      "2020-11-27 16:23:05,861 - 00_train.py - INFO - TRAINING\n"
     ]
    },
    {
     "name": "stdout",
     "output_type": "stream",
     "text": [
      "use: cuda:0\n"
     ]
    },
    {
     "name": "stderr",
     "output_type": "stream",
     "text": [
      "100%|██████████| 51/51 [00:13<00:00,  3.75it/s]\n",
      "100%|██████████| 15/15 [00:02<00:00,  5.32it/s]\n",
      "2020-11-27 16:23:24,261 - pytorch_modeler.py - INFO - Epoch 1/200:train_loss:1410.715391, tr_rec:18.769588, tr_eng:599.130491, tr_covd:266406.559629, val_AUC:0.500000, val_pAUC:0.500000\n",
      "100%|██████████| 51/51 [00:21<00:00,  2.41it/s]\n",
      "100%|██████████| 15/15 [00:02<00:00,  5.26it/s]\n",
      "2020-11-27 16:23:48,290 - pytorch_modeler.py - INFO - Epoch 2/200:train_loss:90.391304, tr_rec:17.872136, tr_eng:520.698848, tr_covd:4089.856747, val_AUC:0.466590, val_pAUC:0.492511\n",
      "100%|██████████| 51/51 [00:21<00:00,  2.42it/s]\n",
      "100%|██████████| 15/15 [00:03<00:00,  4.90it/s]\n",
      "2020-11-27 16:24:12,468 - pytorch_modeler.py - INFO - Epoch 3/200:train_loss:58.664784, tr_rec:12.446926, tr_eng:332.629471, tr_covd:2590.982311, val_AUC:0.511137, val_pAUC:0.494192\n",
      "100%|██████████| 51/51 [00:21<00:00,  2.34it/s]\n",
      "100%|██████████| 15/15 [00:03<00:00,  4.63it/s]\n",
      "2020-11-27 16:24:37,555 - pytorch_modeler.py - INFO - Epoch 4/200:train_loss:30.884960, tr_rec:5.175920, tr_eng:108.611350, tr_covd:2969.581009, val_AUC:0.512179, val_pAUC:0.501360\n",
      "100%|██████████| 51/51 [00:20<00:00,  2.44it/s]\n",
      "100%|██████████| 15/15 [00:03<00:00,  4.88it/s]\n",
      "2020-11-27 16:25:01,537 - pytorch_modeler.py - INFO - Epoch 5/200:train_loss:12.208992, tr_rec:3.229157, tr_eng:-29.807766, tr_covd:2392.122429, val_AUC:0.491831, val_pAUC:0.490373\n",
      "100%|██████████| 51/51 [00:21<00:00,  2.40it/s]\n",
      "100%|██████████| 15/15 [00:03<00:00,  4.96it/s]\n",
      "2020-11-27 16:25:25,818 - pytorch_modeler.py - INFO - Epoch 6/200:train_loss:12.932330, tr_rec:2.594784, tr_eng:-73.466944, tr_covd:3536.848207, val_AUC:0.476402, val_pAUC:0.493110\n",
      "100%|██████████| 51/51 [00:21<00:00,  2.38it/s]\n",
      "100%|██████████| 15/15 [00:02<00:00,  5.20it/s]\n",
      "2020-11-27 16:25:50,163 - pytorch_modeler.py - INFO - Epoch 7/200:train_loss:10.094296, tr_rec:2.434100, tr_eng:-71.013548, tr_covd:2952.310143, val_AUC:0.482311, val_pAUC:0.493358\n",
      "100%|██████████| 51/51 [00:21<00:00,  2.42it/s]\n",
      "100%|██████████| 15/15 [00:02<00:00,  5.16it/s]\n",
      "2020-11-27 16:26:14,117 - pytorch_modeler.py - INFO - Epoch 8/200:train_loss:19.465052, tr_rec:2.340826, tr_eng:-17.938312, tr_covd:3783.611563, val_AUC:0.497698, val_pAUC:0.498734\n",
      "100%|██████████| 51/51 [00:21<00:00,  2.40it/s]\n",
      "100%|██████████| 15/15 [00:03<00:00,  4.63it/s]\n",
      "2020-11-27 16:26:38,655 - pytorch_modeler.py - INFO - Epoch 9/200:train_loss:755.397836, tr_rec:2.163270, tr_eng:35.351172, tr_covd:149939.893927, val_AUC:0.494001, val_pAUC:0.499776\n",
      "100%|██████████| 51/51 [00:20<00:00,  2.44it/s]\n",
      "100%|██████████| 15/15 [00:02<00:00,  5.18it/s]\n",
      "2020-11-27 16:27:02,432 - pytorch_modeler.py - INFO - Epoch 10/200:train_loss:20.060332, tr_rec:1.866786, tr_eng:1.031187, tr_covd:3618.085545, val_AUC:0.502112, val_pAUC:0.500093\n",
      "100%|██████████| 51/51 [00:21<00:00,  2.42it/s]\n",
      "100%|██████████| 15/15 [00:02<00:00,  5.32it/s]\n",
      "2020-11-27 16:27:26,308 - pytorch_modeler.py - INFO - Epoch 11/200:train_loss:21.647353, tr_rec:1.771784, tr_eng:-45.227840, tr_covd:4879.670801, val_AUC:0.492567, val_pAUC:0.498029\n",
      "100%|██████████| 51/51 [00:21<00:00,  2.43it/s]\n",
      "100%|██████████| 15/15 [00:02<00:00,  5.22it/s]\n",
      "2020-11-27 16:27:50,213 - pytorch_modeler.py - INFO - Epoch 12/200:train_loss:10.266098, tr_rec:1.688450, tr_eng:-34.681677, tr_covd:2409.163202, val_AUC:0.499880, val_pAUC:0.499984\n",
      "100%|██████████| 51/51 [00:21<00:00,  2.40it/s]\n",
      "100%|██████████| 15/15 [00:03<00:00,  4.78it/s]\n",
      "2020-11-27 16:28:14,616 - pytorch_modeler.py - INFO - Epoch 13/200:train_loss:14.049512, tr_rec:1.676725, tr_eng:10.522148, tr_covd:2264.114405, val_AUC:0.496807, val_pAUC:0.499829\n",
      "100%|██████████| 51/51 [00:21<00:00,  2.36it/s]\n",
      "100%|██████████| 15/15 [00:03<00:00,  4.63it/s]\n",
      "2020-11-27 16:28:39,466 - pytorch_modeler.py - INFO - Epoch 14/200:train_loss:74.625998, tr_rec:1.761466, tr_eng:-64.956220, tr_covd:15872.030432, val_AUC:0.497709, val_pAUC:0.499877\n",
      "100%|██████████| 51/51 [00:21<00:00,  2.38it/s]\n",
      "100%|██████████| 15/15 [00:02<00:00,  5.01it/s]\n",
      "2020-11-27 16:29:03,913 - pytorch_modeler.py - INFO - Epoch 15/200:train_loss:3.681253, tr_rec:2.329732, tr_eng:-102.336363, tr_covd:2317.031660, val_AUC:0.491267, val_pAUC:0.499533\n",
      "100%|██████████| 51/51 [00:21<00:00,  2.41it/s]\n",
      "100%|██████████| 15/15 [00:03<00:00,  4.54it/s]\n",
      "2020-11-27 16:29:28,370 - pytorch_modeler.py - INFO - Epoch 16/200:train_loss:20.872474, tr_rec:2.060354, tr_eng:-167.191732, tr_covd:7106.258711, val_AUC:0.497491, val_pAUC:0.499868\n",
      "100%|██████████| 51/51 [00:21<00:00,  2.37it/s]\n",
      "100%|██████████| 15/15 [00:03<00:00,  4.87it/s]\n",
      "2020-11-27 16:29:52,968 - pytorch_modeler.py - INFO - Epoch 17/200:train_loss:62.332114, tr_rec:1.833103, tr_eng:-86.288154, tr_covd:13825.565910, val_AUC:0.499514, val_pAUC:0.500062\n",
      "100%|██████████| 51/51 [00:21<00:00,  2.35it/s]\n",
      "100%|██████████| 15/15 [00:03<00:00,  4.99it/s]\n",
      "2020-11-27 16:30:17,729 - pytorch_modeler.py - INFO - Epoch 18/200:train_loss:80.428973, tr_rec:2.076818, tr_eng:68.014222, tr_covd:14310.147264, val_AUC:0.503763, val_pAUC:0.500200\n",
      "100%|██████████| 51/51 [00:21<00:00,  2.39it/s]\n",
      "100%|██████████| 15/15 [00:03<00:00,  4.60it/s]\n",
      "2020-11-27 16:30:42,352 - pytorch_modeler.py - INFO - Epoch 19/200:train_loss:43.825737, tr_rec:1.689361, tr_eng:124.240154, tr_covd:5942.472229, val_AUC:0.502025, val_pAUC:0.500016\n",
      "100%|██████████| 51/51 [00:20<00:00,  2.43it/s]\n",
      "100%|██████████| 15/15 [00:02<00:00,  5.20it/s]\n",
      "2020-11-27 16:31:06,227 - pytorch_modeler.py - INFO - Epoch 20/200:train_loss:52.059580, tr_rec:1.122317, tr_eng:157.399981, tr_covd:7039.452864, val_AUC:0.449916, val_pAUC:0.496789\n",
      "100%|██████████| 51/51 [00:21<00:00,  2.38it/s]\n",
      "100%|██████████| 15/15 [00:03<00:00,  4.65it/s]\n",
      "2020-11-27 16:31:30,910 - pytorch_modeler.py - INFO - Epoch 21/200:train_loss:25.634982, tr_rec:0.899589, tr_eng:122.895334, tr_covd:2489.171936, val_AUC:0.527161, val_pAUC:0.501884\n",
      "100%|██████████| 51/51 [00:21<00:00,  2.40it/s]\n",
      "100%|██████████| 15/15 [00:03<00:00,  4.89it/s]\n",
      "2020-11-27 16:31:55,264 - pytorch_modeler.py - INFO - Epoch 22/200:train_loss:39.662214, tr_rec:0.726073, tr_eng:96.878899, tr_covd:5849.650240, val_AUC:0.499644, val_pAUC:0.499981\n",
      "100%|██████████| 51/51 [00:21<00:00,  2.39it/s]\n",
      "100%|██████████| 15/15 [00:03<00:00,  4.86it/s]\n",
      "2020-11-27 16:32:19,748 - pytorch_modeler.py - INFO - Epoch 23/200:train_loss:26.684169, tr_rec:0.627154, tr_eng:95.352584, tr_covd:3304.351341, val_AUC:0.501860, val_pAUC:0.500098\n",
      "100%|██████████| 51/51 [00:21<00:00,  2.40it/s]\n",
      "100%|██████████| 15/15 [00:02<00:00,  5.26it/s]\n",
      "2020-11-27 16:32:43,900 - pytorch_modeler.py - INFO - Epoch 24/200:train_loss:45.740647, tr_rec:0.588933, tr_eng:60.329633, tr_covd:7823.750261, val_AUC:0.523848, val_pAUC:0.501508\n",
      "100%|██████████| 51/51 [00:22<00:00,  2.32it/s]\n",
      "100%|██████████| 15/15 [00:03<00:00,  4.65it/s]\n",
      "2020-11-27 16:33:09,166 - pytorch_modeler.py - INFO - Epoch 25/200:train_loss:34.860198, tr_rec:0.546879, tr_eng:46.890218, tr_covd:5924.859756, val_AUC:0.435797, val_pAUC:0.492875\n",
      "100%|██████████| 51/51 [00:21<00:00,  2.33it/s]\n",
      "100%|██████████| 15/15 [00:03<00:00,  4.78it/s]\n",
      "2020-11-27 16:33:34,196 - pytorch_modeler.py - INFO - Epoch 26/200:train_loss:18.795390, tr_rec:0.507185, tr_eng:32.760869, tr_covd:3002.423805, val_AUC:0.504075, val_pAUC:0.500223\n",
      "100%|██████████| 51/51 [00:20<00:00,  2.48it/s]\n",
      "100%|██████████| 15/15 [00:03<00:00,  4.99it/s]\n",
      "2020-11-27 16:33:57,752 - pytorch_modeler.py - INFO - Epoch 27/200:train_loss:17.318607, tr_rec:0.433668, tr_eng:-12.368139, tr_covd:3624.350647, val_AUC:0.510249, val_pAUC:0.496389\n",
      "100%|██████████| 51/51 [00:20<00:00,  2.43it/s]\n",
      "100%|██████████| 15/15 [00:02<00:00,  5.44it/s]\n",
      "2020-11-27 16:34:21,495 - pytorch_modeler.py - INFO - Epoch 28/200:train_loss:19.330475, tr_rec:0.591488, tr_eng:48.649307, tr_covd:2774.811443, val_AUC:0.501603, val_pAUC:0.500087\n",
      "100%|██████████| 51/51 [00:21<00:00,  2.43it/s]\n",
      "100%|██████████| 15/15 [00:03<00:00,  4.93it/s]\n",
      "2020-11-27 16:34:45,572 - pytorch_modeler.py - INFO - Epoch 29/200:train_loss:28.563344, tr_rec:0.774156, tr_eng:3.509026, tr_covd:5487.657330, val_AUC:0.494610, val_pAUC:0.499716\n",
      "100%|██████████| 51/51 [00:20<00:00,  2.43it/s]\n",
      "100%|██████████| 15/15 [00:03<00:00,  4.84it/s]\n",
      "2020-11-27 16:35:09,646 - pytorch_modeler.py - INFO - Epoch 30/200:train_loss:43.700968, tr_rec:0.747895, tr_eng:-8.540421, tr_covd:8761.422846, val_AUC:0.520223, val_pAUC:0.501274\n"
     ]
    },
    {
     "name": "stderr",
     "output_type": "stream",
     "text": [
      "100%|██████████| 51/51 [00:21<00:00,  2.43it/s]\n",
      "100%|██████████| 15/15 [00:02<00:00,  5.01it/s]\n",
      "2020-11-27 16:35:33,673 - pytorch_modeler.py - INFO - Epoch 31/200:train_loss:99.416513, tr_rec:0.904815, tr_eng:39.274783, tr_covd:18916.844193, val_AUC:0.497021, val_pAUC:0.499423\n",
      "100%|██████████| 51/51 [00:20<00:00,  2.45it/s]\n",
      "100%|██████████| 15/15 [00:02<00:00,  5.13it/s]\n",
      "2020-11-27 16:35:57,459 - pytorch_modeler.py - INFO - Epoch 32/200:train_loss:16.313647, tr_rec:0.843456, tr_eng:48.799837, tr_covd:2118.041407, val_AUC:0.488356, val_pAUC:0.499296\n",
      "100%|██████████| 51/51 [00:21<00:00,  2.41it/s]\n",
      "100%|██████████| 15/15 [00:03<00:00,  4.82it/s]\n",
      "2020-11-27 16:36:21,724 - pytorch_modeler.py - INFO - Epoch 33/200:train_loss:25.395815, tr_rec:0.746286, tr_eng:64.968413, tr_covd:3630.537584, val_AUC:0.496966, val_pAUC:0.499839\n",
      "100%|██████████| 51/51 [00:21<00:00,  2.35it/s]\n",
      "100%|██████████| 15/15 [00:03<00:00,  4.87it/s]\n",
      "2020-11-27 16:36:46,556 - pytorch_modeler.py - INFO - Epoch 34/200:train_loss:18.734075, tr_rec:0.565074, tr_eng:70.307289, tr_covd:2227.654484, val_AUC:0.499644, val_pAUC:0.499981\n",
      "100%|██████████| 51/51 [00:21<00:00,  2.42it/s]\n",
      "100%|██████████| 15/15 [00:03<00:00,  4.89it/s]\n",
      "2020-11-27 16:37:10,785 - pytorch_modeler.py - INFO - Epoch 35/200:train_loss:21.316143, tr_rec:0.587504, tr_eng:89.100427, tr_covd:2363.719387, val_AUC:0.500000, val_pAUC:0.500000\n",
      "100%|██████████| 51/51 [00:21<00:00,  2.40it/s]\n",
      "100%|██████████| 15/15 [00:03<00:00,  4.67it/s]\n",
      "2020-11-27 16:37:35,286 - pytorch_modeler.py - INFO - Epoch 36/200:train_loss:26.612444, tr_rec:0.761872, tr_eng:113.832057, tr_covd:2893.473261, val_AUC:0.496536, val_pAUC:0.499817\n",
      "100%|██████████| 51/51 [00:21<00:00,  2.41it/s]\n",
      "100%|██████████| 15/15 [00:03<00:00,  4.89it/s]\n",
      "2020-11-27 16:37:59,546 - pytorch_modeler.py - INFO - Epoch 37/200:train_loss:27.439452, tr_rec:0.670330, tr_eng:118.555972, tr_covd:2982.704880, val_AUC:0.500000, val_pAUC:0.500000\n",
      "100%|██████████| 51/51 [00:21<00:00,  2.40it/s]\n",
      "100%|██████████| 15/15 [00:03<00:00,  4.78it/s]\n",
      "2020-11-27 16:38:23,914 - pytorch_modeler.py - INFO - Epoch 38/200:train_loss:25.056176, tr_rec:1.004556, tr_eng:133.655976, tr_covd:2137.204481, val_AUC:0.487792, val_pAUC:0.499305\n",
      "100%|██████████| 51/51 [00:21<00:00,  2.42it/s]\n",
      "100%|██████████| 15/15 [00:02<00:00,  5.04it/s]\n",
      "2020-11-27 16:38:47,936 - pytorch_modeler.py - INFO - Epoch 39/200:train_loss:27.921278, tr_rec:0.745177, tr_eng:141.712992, tr_covd:2600.960337, val_AUC:0.500000, val_pAUC:0.500000\n",
      " 75%|███████▍  | 38/51 [00:16<00:05,  2.25it/s]\n"
     ]
    },
    {
     "ename": "RuntimeError",
     "evalue": "cholesky_cpu: U(6,6) is zero, singular U.",
     "output_type": "error",
     "traceback": [
      "\u001b[0;31m---------------------------------------------------------------------------\u001b[0m",
      "\u001b[0;31mRuntimeError\u001b[0m                              Traceback (most recent call last)",
      "\u001b[0;32m<ipython-input-11-6a6a79f8498a>\u001b[0m in \u001b[0;36m<module>\u001b[0;34m\u001b[0m\n\u001b[1;32m      1\u001b[0m \u001b[0;32mfor\u001b[0m \u001b[0mmachine_type\u001b[0m \u001b[0;32min\u001b[0m \u001b[0mmachine_types\u001b[0m\u001b[0;34m:\u001b[0m\u001b[0;34m\u001b[0m\u001b[0;34m\u001b[0m\u001b[0m\n\u001b[0;32m----> 2\u001b[0;31m     \u001b[0mhistory\u001b[0m \u001b[0;34m=\u001b[0m \u001b[0mrun\u001b[0m\u001b[0;34m(\u001b[0m\u001b[0mmachine_type\u001b[0m\u001b[0;34m)\u001b[0m\u001b[0;34m\u001b[0m\u001b[0;34m\u001b[0m\u001b[0m\n\u001b[0m\u001b[1;32m      3\u001b[0m     \u001b[0;32mwith\u001b[0m \u001b[0mopen\u001b[0m\u001b[0;34m(\u001b[0m\u001b[0;34m'{}/{}_history.pkl'\u001b[0m\u001b[0;34m.\u001b[0m\u001b[0mformat\u001b[0m\u001b[0;34m(\u001b[0m\u001b[0mPKL_DIR\u001b[0m\u001b[0;34m,\u001b[0m \u001b[0mmachine_type\u001b[0m\u001b[0;34m)\u001b[0m\u001b[0;34m,\u001b[0m \u001b[0;34m'wb'\u001b[0m\u001b[0;34m)\u001b[0m \u001b[0;32mas\u001b[0m \u001b[0mfile\u001b[0m\u001b[0;34m:\u001b[0m\u001b[0;34m\u001b[0m\u001b[0;34m\u001b[0m\u001b[0m\n\u001b[1;32m      4\u001b[0m         \u001b[0mpickle\u001b[0m\u001b[0;34m.\u001b[0m\u001b[0mdump\u001b[0m\u001b[0;34m(\u001b[0m\u001b[0mhistory\u001b[0m \u001b[0;34m,\u001b[0m \u001b[0mfile\u001b[0m\u001b[0;34m)\u001b[0m\u001b[0;34m\u001b[0m\u001b[0;34m\u001b[0m\u001b[0m\n",
      "\u001b[0;32m<ipython-input-9-0a286f57dcf9>\u001b[0m in \u001b[0;36mrun\u001b[0;34m(machine_type)\u001b[0m\n\u001b[1;32m     29\u001b[0m                                               max_lr=1e-3, epochs=num_epochs, steps_per_epoch=len(dataloaders_dict['train']))\n\u001b[1;32m     30\u001b[0m     \u001b[0mcriterion\u001b[0m \u001b[0;34m=\u001b[0m \u001b[0mnn\u001b[0m\u001b[0;34m.\u001b[0m\u001b[0mMSELoss\u001b[0m\u001b[0;34m(\u001b[0m\u001b[0;34m)\u001b[0m\u001b[0;34m\u001b[0m\u001b[0;34m\u001b[0m\u001b[0m\n\u001b[0;32m---> 31\u001b[0;31m     \u001b[0mhistory\u001b[0m \u001b[0;34m=\u001b[0m \u001b[0mmodeler\u001b[0m\u001b[0;34m.\u001b[0m\u001b[0mtrain_net\u001b[0m\u001b[0;34m(\u001b[0m\u001b[0mnet\u001b[0m\u001b[0;34m,\u001b[0m \u001b[0mdataloaders_dict\u001b[0m\u001b[0;34m,\u001b[0m \u001b[0mcriterion\u001b[0m\u001b[0;34m,\u001b[0m \u001b[0moptimizer\u001b[0m\u001b[0;34m,\u001b[0m \u001b[0mscheduler\u001b[0m\u001b[0;34m,\u001b[0m \u001b[0mnum_epochs\u001b[0m\u001b[0;34m,\u001b[0m \u001b[0mwriter\u001b[0m\u001b[0;34m)\u001b[0m\u001b[0;34m\u001b[0m\u001b[0;34m\u001b[0m\u001b[0m\n\u001b[0m\u001b[1;32m     32\u001b[0m     \u001b[0;31m# output\u001b[0m\u001b[0;34m\u001b[0m\u001b[0;34m\u001b[0m\u001b[0;34m\u001b[0m\u001b[0m\n\u001b[1;32m     33\u001b[0m     \u001b[0mmodel\u001b[0m \u001b[0;34m=\u001b[0m \u001b[0mhistory\u001b[0m\u001b[0;34m[\u001b[0m\u001b[0;34m'model'\u001b[0m\u001b[0;34m]\u001b[0m\u001b[0;34m\u001b[0m\u001b[0;34m\u001b[0m\u001b[0m\n",
      "\u001b[0;32m/media/hiroki/working/research/dcase2020/2D_codes/DPGMM_LSTM_CONV/param_tune_v4/pytorch_modeler.py\u001b[0m in \u001b[0;36mtrain_net\u001b[0;34m(net, dataloaders_dict, criterion, optimizer, scheduler, num_epochs, writer)\u001b[0m\n\u001b[1;32m    158\u001b[0m                     \u001b[0minput\u001b[0m \u001b[0;34m=\u001b[0m \u001b[0msample\u001b[0m\u001b[0;34m[\u001b[0m\u001b[0;34m'feature'\u001b[0m\u001b[0;34m]\u001b[0m\u001b[0;34m\u001b[0m\u001b[0;34m\u001b[0m\u001b[0m\n\u001b[1;32m    159\u001b[0m                     \u001b[0minput\u001b[0m \u001b[0;34m=\u001b[0m \u001b[0mto_var\u001b[0m\u001b[0;34m(\u001b[0m\u001b[0minput\u001b[0m\u001b[0;34m)\u001b[0m\u001b[0;34m\u001b[0m\u001b[0;34m\u001b[0m\u001b[0m\n\u001b[0;32m--> 160\u001b[0;31m                     \u001b[0mnet\u001b[0m\u001b[0;34m,\u001b[0m \u001b[0mtotal_loss\u001b[0m\u001b[0;34m,\u001b[0m \u001b[0msample_energy\u001b[0m\u001b[0;34m,\u001b[0m \u001b[0mrecon_error\u001b[0m\u001b[0;34m,\u001b[0m \u001b[0mcov_diag\u001b[0m \u001b[0;34m=\u001b[0m \u001b[0mdagmm_step\u001b[0m\u001b[0;34m(\u001b[0m\u001b[0mnet\u001b[0m\u001b[0;34m,\u001b[0m \u001b[0minput\u001b[0m\u001b[0;34m,\u001b[0m \u001b[0moptimizer\u001b[0m\u001b[0;34m,\u001b[0m \u001b[0mscheduler\u001b[0m\u001b[0;34m,\u001b[0m \u001b[0mdevice\u001b[0m\u001b[0;34m)\u001b[0m\u001b[0;34m\u001b[0m\u001b[0;34m\u001b[0m\u001b[0m\n\u001b[0m\u001b[1;32m    161\u001b[0m                     \u001b[0mtr_losses\u001b[0m \u001b[0;34m+=\u001b[0m \u001b[0mtotal_loss\u001b[0m\u001b[0;34m.\u001b[0m\u001b[0mdata\u001b[0m\u001b[0;34m.\u001b[0m\u001b[0mitem\u001b[0m\u001b[0;34m(\u001b[0m\u001b[0;34m)\u001b[0m\u001b[0;34m\u001b[0m\u001b[0;34m\u001b[0m\u001b[0m\n\u001b[1;32m    162\u001b[0m                     \u001b[0mtr_eng\u001b[0m \u001b[0;34m+=\u001b[0m \u001b[0msample_energy\u001b[0m\u001b[0;34m.\u001b[0m\u001b[0mitem\u001b[0m\u001b[0;34m(\u001b[0m\u001b[0;34m)\u001b[0m\u001b[0;34m\u001b[0m\u001b[0;34m\u001b[0m\u001b[0m\n",
      "\u001b[0;32m/media/hiroki/working/research/dcase2020/2D_codes/DPGMM_LSTM_CONV/param_tune_v4/pytorch_modeler.py\u001b[0m in \u001b[0;36mdagmm_step\u001b[0;34m(net, input_data, optimizer, scheduler, device)\u001b[0m\n\u001b[1;32m    249\u001b[0m                                                                          \u001b[0mnn_out\u001b[0m\u001b[0;34m[\u001b[0m\u001b[0;34m'gamma'\u001b[0m\u001b[0;34m]\u001b[0m\u001b[0;34m,\u001b[0m\u001b[0;34m\u001b[0m\u001b[0;34m\u001b[0m\u001b[0m\n\u001b[1;32m    250\u001b[0m                                                                          \u001b[0mconfig\u001b[0m\u001b[0;34m[\u001b[0m\u001b[0;34m'fit'\u001b[0m\u001b[0;34m]\u001b[0m\u001b[0;34m[\u001b[0m\u001b[0;34m'lambda_energy'\u001b[0m\u001b[0;34m]\u001b[0m\u001b[0;34m,\u001b[0m\u001b[0;34m\u001b[0m\u001b[0;34m\u001b[0m\u001b[0m\n\u001b[0;32m--> 251\u001b[0;31m                                                                          config['fit']['lambda_cov_diag'])\n\u001b[0m\u001b[1;32m    252\u001b[0m     \u001b[0;31m#print(total_loss, sample_energy, recon_error, cov_diag)\u001b[0m\u001b[0;34m\u001b[0m\u001b[0;34m\u001b[0m\u001b[0;34m\u001b[0m\u001b[0m\n\u001b[1;32m    253\u001b[0m     \u001b[0mnet\u001b[0m\u001b[0;34m.\u001b[0m\u001b[0mzero_grad\u001b[0m\u001b[0;34m(\u001b[0m\u001b[0;34m)\u001b[0m\u001b[0;34m\u001b[0m\u001b[0;34m\u001b[0m\u001b[0m\n",
      "\u001b[0;32m/media/hiroki/working/research/dcase2020/2D_codes/DPGMM_LSTM_CONV/param_tune_v4/pytorch_model.py\u001b[0m in \u001b[0;36mloss_function\u001b[0;34m(self, x, x_hat, z, gamma, lambda_energy, lambda_cov_diag)\u001b[0m\n\u001b[1;32m    468\u001b[0m         \u001b[0mphi\u001b[0m\u001b[0;34m,\u001b[0m \u001b[0mmu\u001b[0m\u001b[0;34m,\u001b[0m \u001b[0mcov\u001b[0m \u001b[0;34m=\u001b[0m \u001b[0mself\u001b[0m\u001b[0;34m.\u001b[0m\u001b[0mcompute_gmm_params\u001b[0m\u001b[0;34m(\u001b[0m\u001b[0mz\u001b[0m\u001b[0;34m,\u001b[0m \u001b[0mgamma\u001b[0m\u001b[0;34m)\u001b[0m\u001b[0;34m\u001b[0m\u001b[0;34m\u001b[0m\u001b[0m\n\u001b[1;32m    469\u001b[0m \u001b[0;34m\u001b[0m\u001b[0m\n\u001b[0;32m--> 470\u001b[0;31m         \u001b[0msample_energy\u001b[0m\u001b[0;34m,\u001b[0m \u001b[0mcov_diag\u001b[0m \u001b[0;34m=\u001b[0m \u001b[0mself\u001b[0m\u001b[0;34m.\u001b[0m\u001b[0mcompute_energy\u001b[0m\u001b[0;34m(\u001b[0m\u001b[0mz\u001b[0m\u001b[0;34m,\u001b[0m \u001b[0mphi\u001b[0m\u001b[0;34m,\u001b[0m \u001b[0mmu\u001b[0m\u001b[0;34m,\u001b[0m \u001b[0mcov\u001b[0m\u001b[0;34m)\u001b[0m\u001b[0;34m\u001b[0m\u001b[0;34m\u001b[0m\u001b[0m\n\u001b[0m\u001b[1;32m    471\u001b[0m \u001b[0;34m\u001b[0m\u001b[0m\n\u001b[1;32m    472\u001b[0m         \u001b[0mloss\u001b[0m \u001b[0;34m=\u001b[0m \u001b[0mrecon_error\u001b[0m \u001b[0;34m+\u001b[0m \u001b[0mlambda_energy\u001b[0m \u001b[0;34m*\u001b[0m \u001b[0msample_energy\u001b[0m \u001b[0;34m+\u001b[0m \u001b[0mlambda_cov_diag\u001b[0m \u001b[0;34m*\u001b[0m \u001b[0mcov_diag\u001b[0m\u001b[0;34m\u001b[0m\u001b[0;34m\u001b[0m\u001b[0m\n",
      "\u001b[0;32m/media/hiroki/working/research/dcase2020/2D_codes/DPGMM_LSTM_CONV/param_tune_v4/pytorch_model.py\u001b[0m in \u001b[0;36mcompute_energy\u001b[0;34m(self, z, phi, mu, cov, size_average)\u001b[0m\n\u001b[1;32m    438\u001b[0m \u001b[0;34m\u001b[0m\u001b[0m\n\u001b[1;32m    439\u001b[0m             \u001b[0;31m#det_cov.append(np.linalg.det(cov_k.data.cpu().numpy()* (2*np.pi)))\u001b[0m\u001b[0;34m\u001b[0m\u001b[0;34m\u001b[0m\u001b[0;34m\u001b[0m\u001b[0m\n\u001b[0;32m--> 440\u001b[0;31m             \u001b[0mdet_cov\u001b[0m\u001b[0;34m.\u001b[0m\u001b[0mappend\u001b[0m\u001b[0;34m(\u001b[0m\u001b[0;34m(\u001b[0m\u001b[0mCholesky\u001b[0m\u001b[0;34m.\u001b[0m\u001b[0mapply\u001b[0m\u001b[0;34m(\u001b[0m\u001b[0mcov_k\u001b[0m\u001b[0;34m.\u001b[0m\u001b[0mcpu\u001b[0m\u001b[0;34m(\u001b[0m\u001b[0;34m)\u001b[0m \u001b[0;34m*\u001b[0m \u001b[0;34m(\u001b[0m\u001b[0;36m2\u001b[0m\u001b[0;34m*\u001b[0m\u001b[0mnp\u001b[0m\u001b[0;34m.\u001b[0m\u001b[0mpi\u001b[0m\u001b[0;34m)\u001b[0m\u001b[0;34m)\u001b[0m\u001b[0;34m.\u001b[0m\u001b[0mdiag\u001b[0m\u001b[0;34m(\u001b[0m\u001b[0;34m)\u001b[0m\u001b[0;34m.\u001b[0m\u001b[0mprod\u001b[0m\u001b[0;34m(\u001b[0m\u001b[0;34m)\u001b[0m\u001b[0;34m)\u001b[0m\u001b[0;34m.\u001b[0m\u001b[0munsqueeze\u001b[0m\u001b[0;34m(\u001b[0m\u001b[0;36m0\u001b[0m\u001b[0;34m)\u001b[0m\u001b[0;34m)\u001b[0m\u001b[0;34m\u001b[0m\u001b[0;34m\u001b[0m\u001b[0m\n\u001b[0m\u001b[1;32m    441\u001b[0m             \u001b[0mcov_diag\u001b[0m \u001b[0;34m=\u001b[0m \u001b[0mcov_diag\u001b[0m \u001b[0;34m+\u001b[0m \u001b[0mtorch\u001b[0m\u001b[0;34m.\u001b[0m\u001b[0msum\u001b[0m\u001b[0;34m(\u001b[0m\u001b[0;36m1\u001b[0m \u001b[0;34m/\u001b[0m \u001b[0;34m(\u001b[0m\u001b[0mcov_k\u001b[0m\u001b[0;34m.\u001b[0m\u001b[0mdiag\u001b[0m\u001b[0;34m(\u001b[0m\u001b[0;34m)\u001b[0m\u001b[0;34m)\u001b[0m\u001b[0;34m)\u001b[0m\u001b[0;34m\u001b[0m\u001b[0;34m\u001b[0m\u001b[0m\n\u001b[1;32m    442\u001b[0m \u001b[0;34m\u001b[0m\u001b[0m\n",
      "\u001b[0;32m/media/hiroki/working/research/dcase2020/2D_codes/DPGMM_LSTM_CONV/param_tune_v4/pytorch_model.py\u001b[0m in \u001b[0;36mforward\u001b[0;34m(ctx, a)\u001b[0m\n\u001b[1;32m    251\u001b[0m     \u001b[0;34m@\u001b[0m\u001b[0mstaticmethod\u001b[0m\u001b[0;34m\u001b[0m\u001b[0;34m\u001b[0m\u001b[0m\n\u001b[1;32m    252\u001b[0m     \u001b[0;32mdef\u001b[0m \u001b[0mforward\u001b[0m\u001b[0;34m(\u001b[0m\u001b[0mctx\u001b[0m\u001b[0;34m,\u001b[0m \u001b[0ma\u001b[0m\u001b[0;34m)\u001b[0m\u001b[0;34m:\u001b[0m\u001b[0;34m\u001b[0m\u001b[0;34m\u001b[0m\u001b[0m\n\u001b[0;32m--> 253\u001b[0;31m         \u001b[0ml\u001b[0m \u001b[0;34m=\u001b[0m \u001b[0mtorch\u001b[0m\u001b[0;34m.\u001b[0m\u001b[0mcholesky\u001b[0m\u001b[0;34m(\u001b[0m\u001b[0ma\u001b[0m\u001b[0;34m,\u001b[0m \u001b[0;32mFalse\u001b[0m\u001b[0;34m)\u001b[0m\u001b[0;34m\u001b[0m\u001b[0;34m\u001b[0m\u001b[0m\n\u001b[0m\u001b[1;32m    254\u001b[0m         \u001b[0mctx\u001b[0m\u001b[0;34m.\u001b[0m\u001b[0msave_for_backward\u001b[0m\u001b[0;34m(\u001b[0m\u001b[0ml\u001b[0m\u001b[0;34m)\u001b[0m\u001b[0;34m\u001b[0m\u001b[0;34m\u001b[0m\u001b[0m\n\u001b[1;32m    255\u001b[0m         \u001b[0;32mreturn\u001b[0m \u001b[0ml\u001b[0m\u001b[0;34m\u001b[0m\u001b[0;34m\u001b[0m\u001b[0m\n",
      "\u001b[0;31mRuntimeError\u001b[0m: cholesky_cpu: U(6,6) is zero, singular U."
     ]
    }
   ],
   "source": [
    "for machine_type in machine_types:\n",
    "    history = run(machine_type)\n",
    "    with open('{}/{}_history.pkl'.format(PKL_DIR, machine_type), 'wb') as file:\n",
    "        pickle.dump(history , file)"
   ]
  },
  {
   "cell_type": "markdown",
   "metadata": {},
   "source": [
    "history = run('ToyCar')\n",
    "with open('{}/{}_history.pkl'.format(PKL_DIR, machine_type), 'wb') as file:\n",
    "    pickle.dump(history , file)"
   ]
  },
  {
   "cell_type": "raw",
   "metadata": {},
   "source": [
    "history['reconstruct_img']['label']"
   ]
  }
 ],
 "metadata": {
  "kernelspec": {
   "display_name": "Python 3",
   "language": "python",
   "name": "python3"
  },
  "language_info": {
   "codemirror_mode": {
    "name": "ipython",
    "version": 3
   },
   "file_extension": ".py",
   "mimetype": "text/x-python",
   "name": "python",
   "nbconvert_exporter": "python",
   "pygments_lexer": "ipython3",
   "version": "3.7.7"
  },
  "toc": {
   "base_numbering": 1,
   "nav_menu": {},
   "number_sections": true,
   "sideBar": true,
   "skip_h1_title": false,
   "title_cell": "Table of Contents",
   "title_sidebar": "Contents",
   "toc_cell": false,
   "toc_position": {},
   "toc_section_display": true,
   "toc_window_display": false
  }
 },
 "nbformat": 4,
 "nbformat_minor": 4
}
