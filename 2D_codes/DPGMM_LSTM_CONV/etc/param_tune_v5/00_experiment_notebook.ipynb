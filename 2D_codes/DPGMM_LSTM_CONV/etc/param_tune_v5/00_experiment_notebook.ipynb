{
 "cells": [
  {
   "cell_type": "markdown",
   "metadata": {},
   "source": [
    "# train"
   ]
  },
  {
   "cell_type": "code",
   "execution_count": 1,
   "metadata": {},
   "outputs": [
    {
     "name": "stderr",
     "output_type": "stream",
     "text": [
      "/home/hiroki/anaconda3/lib/python3.7/site-packages/ipykernel_launcher.py:5: YAMLLoadWarning: calling yaml.load() without Loader=... is deprecated, as the default Loader is unsafe. Please read https://msg.pyyaml.org/load for full details.\n",
      "  \"\"\"\n"
     ]
    }
   ],
   "source": [
    "import yaml\n",
    "import os\n",
    "\n",
    "with open(\"./config.yaml\", 'rb') as f:\n",
    "    config = yaml.load(f)"
   ]
  },
  {
   "cell_type": "code",
   "execution_count": 2,
   "metadata": {},
   "outputs": [],
   "source": [
    "OUTPUT_ROOT = config['IO_OPTION']['OUTPUT_ROOT']\n",
    "os.makedirs(OUTPUT_ROOT, exist_ok=True)"
   ]
  },
  {
   "cell_type": "markdown",
   "metadata": {},
   "source": [
    "## load library"
   ]
  },
  {
   "cell_type": "code",
   "execution_count": 3,
   "metadata": {},
   "outputs": [],
   "source": [
    "# python default library\n",
    "import os\n",
    "import shutil\n",
    "import datetime\n",
    "import sys\n",
    "import pickle\n",
    "\n",
    "# general analysis tool-kit\n",
    "import numpy as np\n",
    "from sklearn.model_selection import train_test_split\n",
    "import matplotlib.pyplot as plt\n",
    "\n",
    "# pytorch\n",
    "import torch\n",
    "from torch import optim, nn\n",
    "from torch.utils.tensorboard import SummaryWriter\n",
    "\n",
    "from torchsummary import summary\n",
    "\n",
    "# etc\n",
    "import yaml\n",
    "yaml.warnings({'YAMLLoadWarning': False})\n",
    "import mlflow\n",
    "from collections import defaultdict\n",
    "from scipy.stats import zscore\n",
    "\n",
    "# original library\n",
    "\n",
    "import common as com\n",
    "import pytorch_modeler as modeler\n",
    "from pytorch_model import DAGMM as Model\n",
    "from pytorch_utils import filtered_load_model\n",
    "import models\n",
    "\n",
    "import librosa\n",
    "import IPython\n",
    "import librosa.display"
   ]
  },
  {
   "cell_type": "markdown",
   "metadata": {},
   "source": [
    "## load config and set logger"
   ]
  },
  {
   "cell_type": "code",
   "execution_count": 4,
   "metadata": {},
   "outputs": [
    {
     "name": "stderr",
     "output_type": "stream",
     "text": [
      "/home/hiroki/anaconda3/lib/python3.7/site-packages/ipykernel/ipkernel.py:287: DeprecationWarning: `should_run_async` will not call `transform_cell` automatically in the future. Please pass the result to `transformed_cell` argument and any exception that happen during thetransform in `preprocessing_exc_tuple` in IPython 7.17 and above.\n",
      "  and should_run_async(code)\n"
     ]
    }
   ],
   "source": [
    "#with open(\"./config.yaml\", 'rb') as f:\n",
    "#    config = yaml.load(f)\n",
    "\n",
    "log_folder = config['IO_OPTION']['OUTPUT_ROOT']+'/{0}.log'.format(datetime.date.today())\n",
    "logger = com.setup_logger(log_folder, '00_train.py')"
   ]
  },
  {
   "cell_type": "markdown",
   "metadata": {},
   "source": [
    "## Setting"
   ]
  },
  {
   "cell_type": "code",
   "execution_count": 5,
   "metadata": {},
   "outputs": [],
   "source": [
    "# Setting seed\n",
    "modeler.set_seed(42)"
   ]
  },
  {
   "cell_type": "code",
   "execution_count": 6,
   "metadata": {},
   "outputs": [
    {
     "data": {
      "text/plain": [
       "'/media/hiroki/working/research/dcase2020/result/2D/DAGMM/v5/config.yaml'"
      ]
     },
     "execution_count": 6,
     "metadata": {},
     "output_type": "execute_result"
    }
   ],
   "source": [
    "############################################################################\n",
    "# Setting I/O path\n",
    "############################################################################\n",
    "# input dirs\n",
    "INPUT_ROOT = config['IO_OPTION']['INPUT_ROOT']\n",
    "dev_path = INPUT_ROOT + \"/dev_data\"\n",
    "add_dev_path = INPUT_ROOT + \"/add_dev_data\"\n",
    "# machine type\n",
    "MACHINE_TYPE = config['IO_OPTION']['MACHINE_TYPE']\n",
    "machine_types = os.listdir(dev_path)\n",
    "# output dirs\n",
    "OUTPUT_ROOT = config['IO_OPTION']['OUTPUT_ROOT']\n",
    "MODEL_DIR = config['IO_OPTION']['OUTPUT_ROOT'] + '/models'\n",
    "TB_DIR = config['IO_OPTION']['OUTPUT_ROOT'] + '/tb'\n",
    "PKL_DIR = OUTPUT_ROOT + '/pkl'\n",
    "#os.makedirs(OUTPUT_ROOT, exist_ok=True)\n",
    "os.makedirs(MODEL_DIR, exist_ok=True)\n",
    "os.makedirs(TB_DIR, exist_ok=True)\n",
    "os.makedirs(PKL_DIR, exist_ok=True)\n",
    "# copy config\n",
    "shutil.copy('./config.yaml', OUTPUT_ROOT)"
   ]
  },
  {
   "cell_type": "markdown",
   "metadata": {},
   "source": [
    "## make path list and train/valid split"
   ]
  },
  {
   "cell_type": "code",
   "execution_count": 7,
   "metadata": {},
   "outputs": [],
   "source": [
    "############################################################################\n",
    "# make path set and train/valid split\n",
    "############################################################################\n",
    "'''\n",
    "train_paths[machine_type]['train' or 'valid'] = path\n",
    "'''\n",
    "dev_train_paths = {}\n",
    "add_train_paths = {}\n",
    "train_paths = {}"
   ]
  },
  {
   "cell_type": "code",
   "execution_count": 8,
   "metadata": {},
   "outputs": [],
   "source": [
    "for machine_type in machine_types:\n",
    "    # dev train\n",
    "    dev_train_paths = [\"{}/{}/train/\".format(dev_path, machine_type) + file for file in os.listdir(\"{}/{}/train\".format(dev_path, machine_type))]\n",
    "    dev_train_paths = sorted(dev_train_paths)\n",
    "    # add_dev train\n",
    "    add_train_paths = [\"{}/{}/train/\".format(add_dev_path, machine_type) + file for file in os.listdir(\"{}/{}/train\".format(add_dev_path, machine_type))]\n",
    "    add_train_paths = sorted(add_train_paths)\n",
    "    # valid\n",
    "    dev_valid_paths = [\"{}/{}/test/\".format(dev_path, machine_type) + file for file in os.listdir(\"{}/{}/test\".format(dev_path, machine_type))]\n",
    "    dev_valid_paths = sorted(dev_valid_paths)\n",
    "    \n",
    "    train_paths[machine_type] = {}\n",
    "    train_paths[machine_type]['train'] = dev_train_paths + add_train_paths\n",
    "    train_paths[machine_type]['valid'] = dev_valid_paths"
   ]
  },
  {
   "cell_type": "raw",
   "metadata": {},
   "source": [
    "# for machine_type in machine_types:\n",
    "    # dev train\n",
    "    dev_train_all_paths = [\"{}/{}/train/\".format(dev_path, machine_type) + file for file in os.listdir(\"{}/{}/train\".format(dev_path, machine_type))]\n",
    "    dev_train_all_paths = sorted(dev_train_all_paths)\n",
    "    dev_train_paths[machine_type] = {}\n",
    "    dev_train_paths[machine_type]['train'], \\\n",
    "    dev_train_paths[machine_type]['valid'] = train_test_split(dev_train_all_paths,\n",
    "                                                              test_size=config['etc']['test_size'],\n",
    "                                                              shuffle=False,\n",
    "                                                             )\n",
    "    # add_dev train\n",
    "    add_train_all_paths = [\"{}/{}/train/\".format(add_dev_path, machine_type) + file for file in os.listdir(\"{}/{}/train\".format(add_dev_path, machine_type))]\n",
    "    add_train_all_paths = sorted(add_train_all_paths)\n",
    "    add_train_paths[machine_type] = {}\n",
    "    add_train_paths[machine_type]['train'], \\\n",
    "    add_train_paths[machine_type]['valid'] = train_test_split(add_train_all_paths,\n",
    "                                                              test_size=config['etc']['test_size'],\n",
    "                                                              shuffle=False,\n",
    "                                                             )\n",
    "    train_paths[machine_type] = {}\n",
    "    train_paths[machine_type]['train'] = dev_train_paths[machine_type]['train'] + add_train_paths[machine_type]['train']\n",
    "    train_paths[machine_type]['valid'] = dev_train_paths[machine_type]['valid'] + add_train_paths[machine_type]['valid']"
   ]
  },
  {
   "cell_type": "markdown",
   "metadata": {},
   "source": [
    "## training"
   ]
  },
  {
   "cell_type": "code",
   "execution_count": 9,
   "metadata": {},
   "outputs": [],
   "source": [
    "#############################################################################\n",
    "# run\n",
    "#############################################################################\n",
    "def run(machine_type):\n",
    "    com.tic()\n",
    "    logger.info('TARGET MACHINE_TYPE: {0}'.format(machine_type))\n",
    "    logger.info('MAKE DATA_LOADER')\n",
    "    # dev_train_paths\n",
    "    dataloaders_dict = modeler.make_dataloader(train_paths, machine_type)\n",
    "    # define writer for tensorbord\n",
    "    os.makedirs(TB_DIR+'/'+machine_type, exist_ok=True)         # debug\n",
    "    tb_log_dir = TB_DIR + '/' + machine_type\n",
    "    writer = SummaryWriter(log_dir = tb_log_dir)\n",
    "    logger.info('TRAINING')\n",
    "    # parameter setting\n",
    "    net = Model(sample_rate=config['preprocessing']['sample_rate'],\n",
    "                window_size=config['preprocessing']['window_size'],\n",
    "                hop_size=config['preprocessing']['hop_size'],\n",
    "                mel_bins=config['preprocessing']['mel_bins'],\n",
    "                fmin=config['preprocessing']['fmin'],\n",
    "                fmax=config['preprocessing']['fmax'],\n",
    "                latent_size=config['fit']['latent_size'],\n",
    "                mixture_size=config['fit']['mixture_size'])\n",
    "    #pretrained_dict = torch.load(config['IO_OPTION']['PREMODEL_PATH'])\n",
    "    #net = filtered_load_model(net, pretrained_dict)\n",
    "    optimizer = optim.Adam(net.parameters(), lr=1e-4)\n",
    "    num_epochs = config['fit']['num_epochs']\n",
    "    scheduler = optim.lr_scheduler.OneCycleLR(optimizer=optimizer, pct_start=0.1, div_factor=1e3, \n",
    "                                              max_lr=1e-3, epochs=num_epochs, steps_per_epoch=len(dataloaders_dict['train']))\n",
    "    criterion = nn.MSELoss()\n",
    "    history = modeler.train_net(net, dataloaders_dict, criterion, optimizer, scheduler, num_epochs, writer)\n",
    "    # output\n",
    "    model = history['model']\n",
    "    model_out_path = MODEL_DIR+'/{}_model.pth'.format(machine_type)\n",
    "    torch.save(model.state_dict(), model_out_path)\n",
    "    logger.info('\\n success:{0} \\n'.format(machine_type) + \\\n",
    "                    'model_out_path ==> \\n {0}'.format(model_out_path))\n",
    "    #  close writer for tensorbord\n",
    "    writer.close()\n",
    "    #modeler.mlflow_log(history, config, machine_type, model_out_path, tb_log_dir)\n",
    "    com.toc()\n",
    "    return history"
   ]
  },
  {
   "cell_type": "code",
   "execution_count": 10,
   "metadata": {},
   "outputs": [
    {
     "data": {
      "text/plain": [
       "['fan', 'pump', 'slider', 'ToyCar', 'ToyConveyor', 'valve']"
      ]
     },
     "execution_count": 10,
     "metadata": {},
     "output_type": "execute_result"
    }
   ],
   "source": [
    "machine_types"
   ]
  },
  {
   "cell_type": "code",
   "execution_count": 11,
   "metadata": {
    "scrolled": true
   },
   "outputs": [
    {
     "name": "stderr",
     "output_type": "stream",
     "text": [
      "2020-11-27 16:23:14,434 - 00_train.py - INFO - TARGET MACHINE_TYPE: fan\n",
      "2020-11-27 16:23:14,435 - 00_train.py - INFO - MAKE DATA_LOADER\n",
      "2020-11-27 16:23:15,588 - 00_train.py - INFO - TRAINING\n"
     ]
    },
    {
     "name": "stdout",
     "output_type": "stream",
     "text": [
      "use: cuda:0\n"
     ]
    },
    {
     "name": "stderr",
     "output_type": "stream",
     "text": [
      "100%|██████████| 51/51 [00:21<00:00,  2.33it/s]\n",
      "100%|██████████| 15/15 [00:02<00:00,  5.36it/s]\n",
      "2020-11-27 16:23:43,806 - pytorch_modeler.py - INFO - Epoch 1/200:train_loss:101.475942, tr_rec:18.742997, tr_eng:658.745100, tr_covd:3371.686947, val_AUC:0.500000, val_pAUC:0.500000\n",
      "100%|██████████| 51/51 [00:21<00:00,  2.42it/s]\n",
      "100%|██████████| 15/15 [00:02<00:00,  5.09it/s]\n",
      "2020-11-27 16:24:07,824 - pytorch_modeler.py - INFO - Epoch 2/200:train_loss:90.480555, tr_rec:17.068632, tr_eng:570.134301, tr_covd:3279.698261, val_AUC:0.469554, val_pAUC:0.491649\n",
      "100%|██████████| 51/51 [00:21<00:00,  2.33it/s]\n",
      "100%|██████████| 15/15 [00:02<00:00,  5.05it/s]\n",
      "2020-11-27 16:24:32,743 - pytorch_modeler.py - INFO - Epoch 3/200:train_loss:58.063287, tr_rec:9.488281, tr_eng:370.990759, tr_covd:2295.185955, val_AUC:0.472317, val_pAUC:0.496938\n",
      "100%|██████████| 51/51 [00:21<00:00,  2.40it/s]\n",
      "100%|██████████| 15/15 [00:02<00:00,  5.02it/s]\n",
      "2020-11-27 16:24:57,042 - pytorch_modeler.py - INFO - Epoch 4/200:train_loss:33.834458, tr_rec:3.785782, tr_eng:79.529509, tr_covd:4419.144993, val_AUC:0.503784, val_pAUC:0.498529\n",
      "100%|██████████| 51/51 [00:21<00:00,  2.39it/s]\n",
      "100%|██████████| 15/15 [00:02<00:00,  5.03it/s]\n",
      "2020-11-27 16:25:21,360 - pytorch_modeler.py - INFO - Epoch 5/200:train_loss:5.885936, tr_rec:2.603879, tr_eng:-66.546702, tr_covd:1987.345501, val_AUC:0.490309, val_pAUC:0.495972\n",
      "100%|██████████| 51/51 [00:21<00:00,  2.41it/s]\n",
      "100%|██████████| 15/15 [00:02<00:00,  5.20it/s]\n",
      "2020-11-27 16:25:45,428 - pytorch_modeler.py - INFO - Epoch 6/200:train_loss:3.147659, tr_rec:2.348719, tr_eng:-93.452999, tr_covd:2028.848244, val_AUC:0.498385, val_pAUC:0.491208\n",
      "100%|██████████| 51/51 [00:20<00:00,  2.45it/s]\n",
      "100%|██████████| 15/15 [00:02<00:00,  5.28it/s]\n",
      "2020-11-27 16:26:09,119 - pytorch_modeler.py - INFO - Epoch 7/200:train_loss:5.661312, tr_rec:2.250291, tr_eng:-87.990899, tr_covd:2442.022362, val_AUC:0.499111, val_pAUC:0.498180\n",
      "100%|██████████| 51/51 [00:21<00:00,  2.40it/s]\n",
      "100%|██████████| 15/15 [00:03<00:00,  4.84it/s]\n",
      "2020-11-27 16:26:33,476 - pytorch_modeler.py - INFO - Epoch 8/200:train_loss:6.875733, tr_rec:2.104726, tr_eng:-65.138694, tr_covd:2256.975246, val_AUC:0.501010, val_pAUC:0.500155\n",
      "100%|██████████| 51/51 [00:21<00:00,  2.40it/s]\n",
      "100%|██████████| 15/15 [00:02<00:00,  5.21it/s]\n",
      "2020-11-27 16:26:57,663 - pytorch_modeler.py - INFO - Epoch 9/200:train_loss:0.760649, tr_rec:2.758123, tr_eng:-130.124887, tr_covd:2203.003017, val_AUC:0.508713, val_pAUC:0.502143\n",
      "100%|██████████| 51/51 [00:20<00:00,  2.44it/s]\n",
      "100%|██████████| 15/15 [00:03<00:00,  4.63it/s]\n",
      "2020-11-27 16:27:21,809 - pytorch_modeler.py - INFO - Epoch 10/200:train_loss:3.499080, tr_rec:2.821393, tr_eng:-97.534785, tr_covd:2086.233170, val_AUC:0.491633, val_pAUC:0.497168\n",
      "100%|██████████| 51/51 [00:21<00:00,  2.41it/s]\n",
      "100%|██████████| 15/15 [00:02<00:00,  5.08it/s]\n",
      "2020-11-27 16:27:45,916 - pytorch_modeler.py - INFO - Epoch 11/200:train_loss:7.392996, tr_rec:2.433699, tr_eng:-69.747337, tr_covd:2386.806126, val_AUC:0.499287, val_pAUC:0.499962\n",
      "100%|██████████| 51/51 [00:20<00:00,  2.45it/s]\n",
      "100%|██████████| 15/15 [00:02<00:00,  5.02it/s]\n",
      "2020-11-27 16:28:09,755 - pytorch_modeler.py - INFO - Epoch 12/200:train_loss:7.805758, tr_rec:1.965454, tr_eng:-110.125978, tr_covd:3370.580387, val_AUC:0.500180, val_pAUC:0.500010\n",
      "100%|██████████| 51/51 [00:21<00:00,  2.40it/s]\n",
      "100%|██████████| 15/15 [00:02<00:00,  5.33it/s]\n",
      "2020-11-27 16:28:33,876 - pytorch_modeler.py - INFO - Epoch 13/200:train_loss:14.690661, tr_rec:1.696053, tr_eng:-25.334033, tr_covd:3105.602493, val_AUC:0.500000, val_pAUC:0.500000\n",
      "100%|██████████| 51/51 [00:21<00:00,  2.39it/s]\n",
      "100%|██████████| 15/15 [00:03<00:00,  4.95it/s]\n",
      "2020-11-27 16:28:58,230 - pytorch_modeler.py - INFO - Epoch 14/200:train_loss:-0.328063, tr_rec:1.631628, tr_eng:-138.172771, tr_covd:2371.517284, val_AUC:0.496071, val_pAUC:0.499764\n",
      "100%|██████████| 51/51 [00:20<00:00,  2.47it/s]\n",
      "100%|██████████| 15/15 [00:02<00:00,  5.20it/s]\n",
      "2020-11-27 16:29:21,805 - pytorch_modeler.py - INFO - Epoch 15/200:train_loss:6.896846, tr_rec:1.749212, tr_eng:-85.454938, tr_covd:2738.625675, val_AUC:0.500000, val_pAUC:0.500000\n",
      "100%|██████████| 51/51 [00:21<00:00,  2.36it/s]\n",
      "100%|██████████| 15/15 [00:03<00:00,  4.39it/s]\n",
      "2020-11-27 16:29:46,847 - pytorch_modeler.py - INFO - Epoch 16/200:train_loss:16.056348, tr_rec:1.674761, tr_eng:35.138676, tr_covd:2173.544071, val_AUC:0.500895, val_pAUC:0.500048\n",
      "100%|██████████| 51/51 [00:22<00:00,  2.30it/s]\n",
      "100%|██████████| 15/15 [00:02<00:00,  5.06it/s]\n",
      "2020-11-27 16:30:11,958 - pytorch_modeler.py - INFO - Epoch 17/200:train_loss:17.401922, tr_rec:1.464114, tr_eng:32.820089, tr_covd:2531.159748, val_AUC:0.500000, val_pAUC:0.500000\n",
      "100%|██████████| 51/51 [00:21<00:00,  2.38it/s]\n",
      "100%|██████████| 15/15 [00:02<00:00,  5.05it/s]\n",
      "2020-11-27 16:30:36,372 - pytorch_modeler.py - INFO - Epoch 18/200:train_loss:14.308105, tr_rec:1.400969, tr_eng:-57.537370, tr_covd:3732.174690, val_AUC:0.459457, val_pAUC:0.497007\n",
      "100%|██████████| 51/51 [00:21<00:00,  2.40it/s]\n",
      "100%|██████████| 15/15 [00:02<00:00,  5.09it/s]\n",
      "2020-11-27 16:31:00,609 - pytorch_modeler.py - INFO - Epoch 19/200:train_loss:16.582856, tr_rec:1.101914, tr_eng:-127.181236, tr_covd:5639.813358, val_AUC:0.504630, val_pAUC:0.500258\n",
      "100%|██████████| 51/51 [00:21<00:00,  2.41it/s]\n",
      "100%|██████████| 15/15 [00:03<00:00,  4.64it/s]\n",
      "2020-11-27 16:31:25,067 - pytorch_modeler.py - INFO - Epoch 20/200:train_loss:14.774886, tr_rec:1.190539, tr_eng:3.630508, tr_covd:2644.259205, val_AUC:0.500000, val_pAUC:0.500000\n",
      "100%|██████████| 51/51 [00:21<00:00,  2.38it/s]\n",
      "100%|██████████| 15/15 [00:02<00:00,  5.09it/s]\n",
      "2020-11-27 16:31:49,446 - pytorch_modeler.py - INFO - Epoch 21/200:train_loss:18.394105, tr_rec:0.999287, tr_eng:36.497640, tr_covd:2749.010826, val_AUC:0.508266, val_pAUC:0.500444\n",
      "100%|██████████| 51/51 [00:21<00:00,  2.37it/s]\n",
      "100%|██████████| 15/15 [00:02<00:00,  5.02it/s]\n",
      "2020-11-27 16:32:13,963 - pytorch_modeler.py - INFO - Epoch 22/200:train_loss:19.067605, tr_rec:0.860139, tr_eng:28.648117, tr_covd:3068.530926, val_AUC:0.501597, val_pAUC:0.500085\n",
      "100%|██████████| 51/51 [00:21<00:00,  2.39it/s]\n",
      "100%|██████████| 15/15 [00:03<00:00,  4.91it/s]\n",
      "2020-11-27 16:32:38,345 - pytorch_modeler.py - INFO - Epoch 23/200:train_loss:20.021961, tr_rec:1.927762, tr_eng:23.995937, tr_covd:3138.921188, val_AUC:0.495040, val_pAUC:0.499734\n",
      "100%|██████████| 51/51 [00:21<00:00,  2.36it/s]\n",
      "100%|██████████| 15/15 [00:03<00:00,  4.81it/s]\n",
      "2020-11-27 16:33:03,095 - pytorch_modeler.py - INFO - Epoch 24/200:train_loss:18.330969, tr_rec:1.365718, tr_eng:16.310794, tr_covd:3066.834225, val_AUC:0.505720, val_pAUC:0.500325\n",
      "100%|██████████| 51/51 [00:21<00:00,  2.37it/s]\n",
      "100%|██████████| 15/15 [00:03<00:00,  4.54it/s]\n",
      "2020-11-27 16:33:27,931 - pytorch_modeler.py - INFO - Epoch 25/200:train_loss:13.887762, tr_rec:1.102446, tr_eng:13.723434, tr_covd:2282.594662, val_AUC:0.508536, val_pAUC:0.500469\n",
      "100%|██████████| 51/51 [00:21<00:00,  2.40it/s]\n",
      "100%|██████████| 15/15 [00:02<00:00,  5.25it/s]\n",
      "2020-11-27 16:33:52,052 - pytorch_modeler.py - INFO - Epoch 26/200:train_loss:14.711208, tr_rec:0.873664, tr_eng:21.988019, tr_covd:2327.748413, val_AUC:0.515226, val_pAUC:0.500847\n",
      "100%|██████████| 51/51 [00:20<00:00,  2.44it/s]\n",
      "100%|██████████| 15/15 [00:02<00:00,  5.16it/s]\n",
      "2020-11-27 16:34:15,852 - pytorch_modeler.py - INFO - Epoch 27/200:train_loss:12.490006, tr_rec:0.705551, tr_eng:9.548988, tr_covd:2165.911274, val_AUC:0.498571, val_pAUC:0.499925\n",
      "100%|██████████| 51/51 [00:20<00:00,  2.46it/s]\n",
      "100%|██████████| 15/15 [00:02<00:00,  5.36it/s]\n",
      "2020-11-27 16:34:39,416 - pytorch_modeler.py - INFO - Epoch 28/200:train_loss:3.571194, tr_rec:0.643440, tr_eng:-80.006243, tr_covd:2185.675644, val_AUC:0.496251, val_pAUC:0.499802\n",
      "100%|██████████| 51/51 [00:20<00:00,  2.44it/s]\n",
      "100%|██████████| 15/15 [00:03<00:00,  4.74it/s]\n",
      "2020-11-27 16:35:03,480 - pytorch_modeler.py - INFO - Epoch 29/200:train_loss:10.174247, tr_rec:0.593586, tr_eng:-52.678274, tr_covd:2969.697887, val_AUC:0.487890, val_pAUC:0.494504\n",
      "100%|██████████| 51/51 [00:21<00:00,  2.38it/s]\n",
      "100%|██████████| 15/15 [00:02<00:00,  5.01it/s]\n",
      "2020-11-27 16:35:27,947 - pytorch_modeler.py - INFO - Epoch 30/200:train_loss:8.643335, tr_rec:0.572885, tr_eng:-60.121649, tr_covd:2816.523117, val_AUC:0.500000, val_pAUC:0.500000\n"
     ]
    },
    {
     "name": "stderr",
     "output_type": "stream",
     "text": [
      "100%|██████████| 51/51 [00:21<00:00,  2.32it/s]\n",
      "100%|██████████| 15/15 [00:03<00:00,  4.89it/s]\n",
      "2020-11-27 16:35:53,025 - pytorch_modeler.py - INFO - Epoch 31/200:train_loss:5.423704, tr_rec:0.565422, tr_eng:-64.726347, tr_covd:2266.183495, val_AUC:0.500000, val_pAUC:0.500000\n",
      "100%|██████████| 51/51 [00:21<00:00,  2.42it/s]\n",
      "100%|██████████| 15/15 [00:03<00:00,  4.98it/s]\n",
      "2020-11-27 16:36:17,102 - pytorch_modeler.py - INFO - Epoch 32/200:train_loss:-3.019084, tr_rec:0.569015, tr_eng:-147.526317, tr_covd:2232.906643, val_AUC:0.492151, val_pAUC:0.499584\n",
      "100%|██████████| 51/51 [00:21<00:00,  2.34it/s]\n",
      "100%|██████████| 15/15 [00:03<00:00,  4.75it/s]\n",
      "2020-11-27 16:36:42,054 - pytorch_modeler.py - INFO - Epoch 33/200:train_loss:4.600435, tr_rec:0.871817, tr_eng:-73.426573, tr_covd:2214.255127, val_AUC:0.500000, val_pAUC:0.500000\n",
      "100%|██████████| 51/51 [00:21<00:00,  2.41it/s]\n",
      "100%|██████████| 15/15 [00:02<00:00,  5.02it/s]\n",
      "2020-11-27 16:37:06,231 - pytorch_modeler.py - INFO - Epoch 34/200:train_loss:15.379481, tr_rec:0.969573, tr_eng:-44.617561, tr_covd:3774.333035, val_AUC:0.500000, val_pAUC:0.500000\n",
      "100%|██████████| 51/51 [00:21<00:00,  2.40it/s]\n",
      "100%|██████████| 15/15 [00:03<00:00,  4.98it/s]\n",
      "2020-11-27 16:37:30,476 - pytorch_modeler.py - INFO - Epoch 35/200:train_loss:21.880773, tr_rec:0.596688, tr_eng:-173.810578, tr_covd:7733.028824, val_AUC:0.526843, val_pAUC:0.501837\n",
      "100%|██████████| 51/51 [00:21<00:00,  2.37it/s]\n",
      "100%|██████████| 15/15 [00:03<00:00,  4.80it/s]\n",
      "2020-11-27 16:37:55,158 - pytorch_modeler.py - INFO - Epoch 36/200:train_loss:33.955468, tr_rec:0.841243, tr_eng:-16.267877, tr_covd:6948.202866, val_AUC:0.500000, val_pAUC:0.500000\n",
      "100%|██████████| 51/51 [00:21<00:00,  2.41it/s]\n",
      "100%|██████████| 15/15 [00:02<00:00,  5.03it/s]\n",
      "2020-11-27 16:38:19,349 - pytorch_modeler.py - INFO - Epoch 37/200:train_loss:41.057194, tr_rec:0.996770, tr_eng:-274.741680, tr_covd:13506.919357, val_AUC:0.443077, val_pAUC:0.499655\n",
      "100%|██████████| 51/51 [00:21<00:00,  2.42it/s]\n",
      "100%|██████████| 15/15 [00:03<00:00,  4.78it/s]\n",
      "2020-11-27 16:38:43,565 - pytorch_modeler.py - INFO - Epoch 38/200:train_loss:-3.810581, tr_rec:1.639185, tr_eng:-269.160547, tr_covd:4293.257950, val_AUC:0.499816, val_pAUC:0.499991\n",
      "100%|██████████| 51/51 [00:21<00:00,  2.40it/s]\n",
      "100%|██████████| 15/15 [00:01<00:00,  9.14it/s]\n",
      "2020-11-27 16:39:06,445 - pytorch_modeler.py - INFO - Epoch 39/200:train_loss:3.882098, tr_rec:0.958144, tr_eng:-171.224930, tr_covd:4009.289726, val_AUC:0.500000, val_pAUC:0.500000\n",
      "  2%|▏         | 1/51 [00:00<00:37,  1.35it/s]\n"
     ]
    },
    {
     "ename": "RuntimeError",
     "evalue": "cholesky_cpu: U(7,7) is zero, singular U.",
     "output_type": "error",
     "traceback": [
      "\u001b[0;31m---------------------------------------------------------------------------\u001b[0m",
      "\u001b[0;31mRuntimeError\u001b[0m                              Traceback (most recent call last)",
      "\u001b[0;32m<ipython-input-11-6a6a79f8498a>\u001b[0m in \u001b[0;36m<module>\u001b[0;34m\u001b[0m\n\u001b[1;32m      1\u001b[0m \u001b[0;32mfor\u001b[0m \u001b[0mmachine_type\u001b[0m \u001b[0;32min\u001b[0m \u001b[0mmachine_types\u001b[0m\u001b[0;34m:\u001b[0m\u001b[0;34m\u001b[0m\u001b[0;34m\u001b[0m\u001b[0m\n\u001b[0;32m----> 2\u001b[0;31m     \u001b[0mhistory\u001b[0m \u001b[0;34m=\u001b[0m \u001b[0mrun\u001b[0m\u001b[0;34m(\u001b[0m\u001b[0mmachine_type\u001b[0m\u001b[0;34m)\u001b[0m\u001b[0;34m\u001b[0m\u001b[0;34m\u001b[0m\u001b[0m\n\u001b[0m\u001b[1;32m      3\u001b[0m     \u001b[0;32mwith\u001b[0m \u001b[0mopen\u001b[0m\u001b[0;34m(\u001b[0m\u001b[0;34m'{}/{}_history.pkl'\u001b[0m\u001b[0;34m.\u001b[0m\u001b[0mformat\u001b[0m\u001b[0;34m(\u001b[0m\u001b[0mPKL_DIR\u001b[0m\u001b[0;34m,\u001b[0m \u001b[0mmachine_type\u001b[0m\u001b[0;34m)\u001b[0m\u001b[0;34m,\u001b[0m \u001b[0;34m'wb'\u001b[0m\u001b[0;34m)\u001b[0m \u001b[0;32mas\u001b[0m \u001b[0mfile\u001b[0m\u001b[0;34m:\u001b[0m\u001b[0;34m\u001b[0m\u001b[0;34m\u001b[0m\u001b[0m\n\u001b[1;32m      4\u001b[0m         \u001b[0mpickle\u001b[0m\u001b[0;34m.\u001b[0m\u001b[0mdump\u001b[0m\u001b[0;34m(\u001b[0m\u001b[0mhistory\u001b[0m \u001b[0;34m,\u001b[0m \u001b[0mfile\u001b[0m\u001b[0;34m)\u001b[0m\u001b[0;34m\u001b[0m\u001b[0;34m\u001b[0m\u001b[0m\n",
      "\u001b[0;32m<ipython-input-9-0a286f57dcf9>\u001b[0m in \u001b[0;36mrun\u001b[0;34m(machine_type)\u001b[0m\n\u001b[1;32m     29\u001b[0m                                               max_lr=1e-3, epochs=num_epochs, steps_per_epoch=len(dataloaders_dict['train']))\n\u001b[1;32m     30\u001b[0m     \u001b[0mcriterion\u001b[0m \u001b[0;34m=\u001b[0m \u001b[0mnn\u001b[0m\u001b[0;34m.\u001b[0m\u001b[0mMSELoss\u001b[0m\u001b[0;34m(\u001b[0m\u001b[0;34m)\u001b[0m\u001b[0;34m\u001b[0m\u001b[0;34m\u001b[0m\u001b[0m\n\u001b[0;32m---> 31\u001b[0;31m     \u001b[0mhistory\u001b[0m \u001b[0;34m=\u001b[0m \u001b[0mmodeler\u001b[0m\u001b[0;34m.\u001b[0m\u001b[0mtrain_net\u001b[0m\u001b[0;34m(\u001b[0m\u001b[0mnet\u001b[0m\u001b[0;34m,\u001b[0m \u001b[0mdataloaders_dict\u001b[0m\u001b[0;34m,\u001b[0m \u001b[0mcriterion\u001b[0m\u001b[0;34m,\u001b[0m \u001b[0moptimizer\u001b[0m\u001b[0;34m,\u001b[0m \u001b[0mscheduler\u001b[0m\u001b[0;34m,\u001b[0m \u001b[0mnum_epochs\u001b[0m\u001b[0;34m,\u001b[0m \u001b[0mwriter\u001b[0m\u001b[0;34m)\u001b[0m\u001b[0;34m\u001b[0m\u001b[0;34m\u001b[0m\u001b[0m\n\u001b[0m\u001b[1;32m     32\u001b[0m     \u001b[0;31m# output\u001b[0m\u001b[0;34m\u001b[0m\u001b[0;34m\u001b[0m\u001b[0;34m\u001b[0m\u001b[0m\n\u001b[1;32m     33\u001b[0m     \u001b[0mmodel\u001b[0m \u001b[0;34m=\u001b[0m \u001b[0mhistory\u001b[0m\u001b[0;34m[\u001b[0m\u001b[0;34m'model'\u001b[0m\u001b[0;34m]\u001b[0m\u001b[0;34m\u001b[0m\u001b[0;34m\u001b[0m\u001b[0m\n",
      "\u001b[0;32m/media/hiroki/working/research/dcase2020/2D_codes/DPGMM_LSTM_CONV/param_tune_v5/pytorch_modeler.py\u001b[0m in \u001b[0;36mtrain_net\u001b[0;34m(net, dataloaders_dict, criterion, optimizer, scheduler, num_epochs, writer)\u001b[0m\n\u001b[1;32m    158\u001b[0m                     \u001b[0minput\u001b[0m \u001b[0;34m=\u001b[0m \u001b[0msample\u001b[0m\u001b[0;34m[\u001b[0m\u001b[0;34m'feature'\u001b[0m\u001b[0;34m]\u001b[0m\u001b[0;34m\u001b[0m\u001b[0;34m\u001b[0m\u001b[0m\n\u001b[1;32m    159\u001b[0m                     \u001b[0minput\u001b[0m \u001b[0;34m=\u001b[0m \u001b[0mto_var\u001b[0m\u001b[0;34m(\u001b[0m\u001b[0minput\u001b[0m\u001b[0;34m)\u001b[0m\u001b[0;34m\u001b[0m\u001b[0;34m\u001b[0m\u001b[0m\n\u001b[0;32m--> 160\u001b[0;31m                     \u001b[0mnet\u001b[0m\u001b[0;34m,\u001b[0m \u001b[0mtotal_loss\u001b[0m\u001b[0;34m,\u001b[0m \u001b[0msample_energy\u001b[0m\u001b[0;34m,\u001b[0m \u001b[0mrecon_error\u001b[0m\u001b[0;34m,\u001b[0m \u001b[0mcov_diag\u001b[0m \u001b[0;34m=\u001b[0m \u001b[0mdagmm_step\u001b[0m\u001b[0;34m(\u001b[0m\u001b[0mnet\u001b[0m\u001b[0;34m,\u001b[0m \u001b[0minput\u001b[0m\u001b[0;34m,\u001b[0m \u001b[0moptimizer\u001b[0m\u001b[0;34m,\u001b[0m \u001b[0mscheduler\u001b[0m\u001b[0;34m,\u001b[0m \u001b[0mdevice\u001b[0m\u001b[0;34m)\u001b[0m\u001b[0;34m\u001b[0m\u001b[0;34m\u001b[0m\u001b[0m\n\u001b[0m\u001b[1;32m    161\u001b[0m                     \u001b[0mtr_losses\u001b[0m \u001b[0;34m+=\u001b[0m \u001b[0mtotal_loss\u001b[0m\u001b[0;34m.\u001b[0m\u001b[0mdata\u001b[0m\u001b[0;34m.\u001b[0m\u001b[0mitem\u001b[0m\u001b[0;34m(\u001b[0m\u001b[0;34m)\u001b[0m\u001b[0;34m\u001b[0m\u001b[0;34m\u001b[0m\u001b[0m\n\u001b[1;32m    162\u001b[0m                     \u001b[0mtr_eng\u001b[0m \u001b[0;34m+=\u001b[0m \u001b[0msample_energy\u001b[0m\u001b[0;34m.\u001b[0m\u001b[0mitem\u001b[0m\u001b[0;34m(\u001b[0m\u001b[0;34m)\u001b[0m\u001b[0;34m\u001b[0m\u001b[0;34m\u001b[0m\u001b[0m\n",
      "\u001b[0;32m/media/hiroki/working/research/dcase2020/2D_codes/DPGMM_LSTM_CONV/param_tune_v5/pytorch_modeler.py\u001b[0m in \u001b[0;36mdagmm_step\u001b[0;34m(net, input_data, optimizer, scheduler, device)\u001b[0m\n\u001b[1;32m    249\u001b[0m                                                                          \u001b[0mnn_out\u001b[0m\u001b[0;34m[\u001b[0m\u001b[0;34m'gamma'\u001b[0m\u001b[0;34m]\u001b[0m\u001b[0;34m,\u001b[0m\u001b[0;34m\u001b[0m\u001b[0;34m\u001b[0m\u001b[0m\n\u001b[1;32m    250\u001b[0m                                                                          \u001b[0mconfig\u001b[0m\u001b[0;34m[\u001b[0m\u001b[0;34m'fit'\u001b[0m\u001b[0;34m]\u001b[0m\u001b[0;34m[\u001b[0m\u001b[0;34m'lambda_energy'\u001b[0m\u001b[0;34m]\u001b[0m\u001b[0;34m,\u001b[0m\u001b[0;34m\u001b[0m\u001b[0;34m\u001b[0m\u001b[0m\n\u001b[0;32m--> 251\u001b[0;31m                                                                          config['fit']['lambda_cov_diag'])\n\u001b[0m\u001b[1;32m    252\u001b[0m     \u001b[0;31m#print(total_loss, sample_energy, recon_error, cov_diag)\u001b[0m\u001b[0;34m\u001b[0m\u001b[0;34m\u001b[0m\u001b[0;34m\u001b[0m\u001b[0m\n\u001b[1;32m    253\u001b[0m     \u001b[0mnet\u001b[0m\u001b[0;34m.\u001b[0m\u001b[0mzero_grad\u001b[0m\u001b[0;34m(\u001b[0m\u001b[0;34m)\u001b[0m\u001b[0;34m\u001b[0m\u001b[0;34m\u001b[0m\u001b[0m\n",
      "\u001b[0;32m/media/hiroki/working/research/dcase2020/2D_codes/DPGMM_LSTM_CONV/param_tune_v5/pytorch_model.py\u001b[0m in \u001b[0;36mloss_function\u001b[0;34m(self, x, x_hat, z, gamma, lambda_energy, lambda_cov_diag)\u001b[0m\n\u001b[1;32m    468\u001b[0m         \u001b[0mphi\u001b[0m\u001b[0;34m,\u001b[0m \u001b[0mmu\u001b[0m\u001b[0;34m,\u001b[0m \u001b[0mcov\u001b[0m \u001b[0;34m=\u001b[0m \u001b[0mself\u001b[0m\u001b[0;34m.\u001b[0m\u001b[0mcompute_gmm_params\u001b[0m\u001b[0;34m(\u001b[0m\u001b[0mz\u001b[0m\u001b[0;34m,\u001b[0m \u001b[0mgamma\u001b[0m\u001b[0;34m)\u001b[0m\u001b[0;34m\u001b[0m\u001b[0;34m\u001b[0m\u001b[0m\n\u001b[1;32m    469\u001b[0m \u001b[0;34m\u001b[0m\u001b[0m\n\u001b[0;32m--> 470\u001b[0;31m         \u001b[0msample_energy\u001b[0m\u001b[0;34m,\u001b[0m \u001b[0mcov_diag\u001b[0m \u001b[0;34m=\u001b[0m \u001b[0mself\u001b[0m\u001b[0;34m.\u001b[0m\u001b[0mcompute_energy\u001b[0m\u001b[0;34m(\u001b[0m\u001b[0mz\u001b[0m\u001b[0;34m,\u001b[0m \u001b[0mphi\u001b[0m\u001b[0;34m,\u001b[0m \u001b[0mmu\u001b[0m\u001b[0;34m,\u001b[0m \u001b[0mcov\u001b[0m\u001b[0;34m)\u001b[0m\u001b[0;34m\u001b[0m\u001b[0;34m\u001b[0m\u001b[0m\n\u001b[0m\u001b[1;32m    471\u001b[0m \u001b[0;34m\u001b[0m\u001b[0m\n\u001b[1;32m    472\u001b[0m         \u001b[0mloss\u001b[0m \u001b[0;34m=\u001b[0m \u001b[0mrecon_error\u001b[0m \u001b[0;34m+\u001b[0m \u001b[0mlambda_energy\u001b[0m \u001b[0;34m*\u001b[0m \u001b[0msample_energy\u001b[0m \u001b[0;34m+\u001b[0m \u001b[0mlambda_cov_diag\u001b[0m \u001b[0;34m*\u001b[0m \u001b[0mcov_diag\u001b[0m\u001b[0;34m\u001b[0m\u001b[0;34m\u001b[0m\u001b[0m\n",
      "\u001b[0;32m/media/hiroki/working/research/dcase2020/2D_codes/DPGMM_LSTM_CONV/param_tune_v5/pytorch_model.py\u001b[0m in \u001b[0;36mcompute_energy\u001b[0;34m(self, z, phi, mu, cov, size_average)\u001b[0m\n\u001b[1;32m    438\u001b[0m \u001b[0;34m\u001b[0m\u001b[0m\n\u001b[1;32m    439\u001b[0m             \u001b[0;31m#det_cov.append(np.linalg.det(cov_k.data.cpu().numpy()* (2*np.pi)))\u001b[0m\u001b[0;34m\u001b[0m\u001b[0;34m\u001b[0m\u001b[0;34m\u001b[0m\u001b[0m\n\u001b[0;32m--> 440\u001b[0;31m             \u001b[0mdet_cov\u001b[0m\u001b[0;34m.\u001b[0m\u001b[0mappend\u001b[0m\u001b[0;34m(\u001b[0m\u001b[0;34m(\u001b[0m\u001b[0mCholesky\u001b[0m\u001b[0;34m.\u001b[0m\u001b[0mapply\u001b[0m\u001b[0;34m(\u001b[0m\u001b[0mcov_k\u001b[0m\u001b[0;34m.\u001b[0m\u001b[0mcpu\u001b[0m\u001b[0;34m(\u001b[0m\u001b[0;34m)\u001b[0m \u001b[0;34m*\u001b[0m \u001b[0;34m(\u001b[0m\u001b[0;36m2\u001b[0m\u001b[0;34m*\u001b[0m\u001b[0mnp\u001b[0m\u001b[0;34m.\u001b[0m\u001b[0mpi\u001b[0m\u001b[0;34m)\u001b[0m\u001b[0;34m)\u001b[0m\u001b[0;34m.\u001b[0m\u001b[0mdiag\u001b[0m\u001b[0;34m(\u001b[0m\u001b[0;34m)\u001b[0m\u001b[0;34m.\u001b[0m\u001b[0mprod\u001b[0m\u001b[0;34m(\u001b[0m\u001b[0;34m)\u001b[0m\u001b[0;34m)\u001b[0m\u001b[0;34m.\u001b[0m\u001b[0munsqueeze\u001b[0m\u001b[0;34m(\u001b[0m\u001b[0;36m0\u001b[0m\u001b[0;34m)\u001b[0m\u001b[0;34m)\u001b[0m\u001b[0;34m\u001b[0m\u001b[0;34m\u001b[0m\u001b[0m\n\u001b[0m\u001b[1;32m    441\u001b[0m             \u001b[0mcov_diag\u001b[0m \u001b[0;34m=\u001b[0m \u001b[0mcov_diag\u001b[0m \u001b[0;34m+\u001b[0m \u001b[0mtorch\u001b[0m\u001b[0;34m.\u001b[0m\u001b[0msum\u001b[0m\u001b[0;34m(\u001b[0m\u001b[0;36m1\u001b[0m \u001b[0;34m/\u001b[0m \u001b[0;34m(\u001b[0m\u001b[0mcov_k\u001b[0m\u001b[0;34m.\u001b[0m\u001b[0mdiag\u001b[0m\u001b[0;34m(\u001b[0m\u001b[0;34m)\u001b[0m\u001b[0;34m)\u001b[0m\u001b[0;34m)\u001b[0m\u001b[0;34m\u001b[0m\u001b[0;34m\u001b[0m\u001b[0m\n\u001b[1;32m    442\u001b[0m \u001b[0;34m\u001b[0m\u001b[0m\n",
      "\u001b[0;32m/media/hiroki/working/research/dcase2020/2D_codes/DPGMM_LSTM_CONV/param_tune_v5/pytorch_model.py\u001b[0m in \u001b[0;36mforward\u001b[0;34m(ctx, a)\u001b[0m\n\u001b[1;32m    251\u001b[0m     \u001b[0;34m@\u001b[0m\u001b[0mstaticmethod\u001b[0m\u001b[0;34m\u001b[0m\u001b[0;34m\u001b[0m\u001b[0m\n\u001b[1;32m    252\u001b[0m     \u001b[0;32mdef\u001b[0m \u001b[0mforward\u001b[0m\u001b[0;34m(\u001b[0m\u001b[0mctx\u001b[0m\u001b[0;34m,\u001b[0m \u001b[0ma\u001b[0m\u001b[0;34m)\u001b[0m\u001b[0;34m:\u001b[0m\u001b[0;34m\u001b[0m\u001b[0;34m\u001b[0m\u001b[0m\n\u001b[0;32m--> 253\u001b[0;31m         \u001b[0ml\u001b[0m \u001b[0;34m=\u001b[0m \u001b[0mtorch\u001b[0m\u001b[0;34m.\u001b[0m\u001b[0mcholesky\u001b[0m\u001b[0;34m(\u001b[0m\u001b[0ma\u001b[0m\u001b[0;34m,\u001b[0m \u001b[0;32mFalse\u001b[0m\u001b[0;34m)\u001b[0m\u001b[0;34m\u001b[0m\u001b[0;34m\u001b[0m\u001b[0m\n\u001b[0m\u001b[1;32m    254\u001b[0m         \u001b[0mctx\u001b[0m\u001b[0;34m.\u001b[0m\u001b[0msave_for_backward\u001b[0m\u001b[0;34m(\u001b[0m\u001b[0ml\u001b[0m\u001b[0;34m)\u001b[0m\u001b[0;34m\u001b[0m\u001b[0;34m\u001b[0m\u001b[0m\n\u001b[1;32m    255\u001b[0m         \u001b[0;32mreturn\u001b[0m \u001b[0ml\u001b[0m\u001b[0;34m\u001b[0m\u001b[0;34m\u001b[0m\u001b[0m\n",
      "\u001b[0;31mRuntimeError\u001b[0m: cholesky_cpu: U(7,7) is zero, singular U."
     ]
    }
   ],
   "source": [
    "for machine_type in machine_types:\n",
    "    history = run(machine_type)\n",
    "    with open('{}/{}_history.pkl'.format(PKL_DIR, machine_type), 'wb') as file:\n",
    "        pickle.dump(history , file)"
   ]
  },
  {
   "cell_type": "markdown",
   "metadata": {},
   "source": [
    "history = run('ToyCar')\n",
    "with open('{}/{}_history.pkl'.format(PKL_DIR, machine_type), 'wb') as file:\n",
    "    pickle.dump(history , file)"
   ]
  },
  {
   "cell_type": "raw",
   "metadata": {},
   "source": [
    "history['reconstruct_img']['label']"
   ]
  }
 ],
 "metadata": {
  "kernelspec": {
   "display_name": "Python 3",
   "language": "python",
   "name": "python3"
  },
  "language_info": {
   "codemirror_mode": {
    "name": "ipython",
    "version": 3
   },
   "file_extension": ".py",
   "mimetype": "text/x-python",
   "name": "python",
   "nbconvert_exporter": "python",
   "pygments_lexer": "ipython3",
   "version": "3.7.7"
  },
  "toc": {
   "base_numbering": 1,
   "nav_menu": {},
   "number_sections": true,
   "sideBar": true,
   "skip_h1_title": false,
   "title_cell": "Table of Contents",
   "title_sidebar": "Contents",
   "toc_cell": false,
   "toc_position": {},
   "toc_section_display": true,
   "toc_window_display": false
  }
 },
 "nbformat": 4,
 "nbformat_minor": 4
}
