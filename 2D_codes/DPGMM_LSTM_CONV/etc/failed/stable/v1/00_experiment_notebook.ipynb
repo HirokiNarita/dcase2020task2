{
 "cells": [
  {
   "cell_type": "markdown",
   "metadata": {},
   "source": [
    "# train"
   ]
  },
  {
   "cell_type": "code",
   "execution_count": 1,
   "metadata": {},
   "outputs": [],
   "source": [
    "import yaml\n",
    "import os\n",
    "\n",
    "with open(\"./config.yaml\", 'rb') as f:\n",
    "    config = yaml.load(f)"
   ]
  },
  {
   "cell_type": "code",
   "execution_count": 2,
   "metadata": {},
   "outputs": [],
   "source": [
    "OUTPUT_ROOT = config['IO_OPTION']['OUTPUT_ROOT']\n",
    "os.makedirs(OUTPUT_ROOT, exist_ok=True)"
   ]
  },
  {
   "cell_type": "markdown",
   "metadata": {},
   "source": [
    "## load library"
   ]
  },
  {
   "cell_type": "code",
   "execution_count": 3,
   "metadata": {},
   "outputs": [],
   "source": [
    "# python default library\n",
    "import os\n",
    "import shutil\n",
    "import datetime\n",
    "import sys\n",
    "import pickle\n",
    "\n",
    "# general analysis tool-kit\n",
    "import numpy as np\n",
    "from sklearn.model_selection import train_test_split\n",
    "import matplotlib.pyplot as plt\n",
    "\n",
    "# pytorch\n",
    "import torch\n",
    "from torch import optim, nn\n",
    "from torch.utils.tensorboard import SummaryWriter\n",
    "\n",
    "from torchsummary import summary\n",
    "\n",
    "# etc\n",
    "import yaml\n",
    "yaml.warnings({'YAMLLoadWarning': False})\n",
    "import mlflow\n",
    "from collections import defaultdict\n",
    "from scipy.stats import zscore\n",
    "\n",
    "# original library\n",
    "\n",
    "import common as com\n",
    "import pytorch_modeler as modeler\n",
    "from pytorch_model import DAGMM as Model\n",
    "from pytorch_utils import filtered_load_model\n",
    "import models\n",
    "\n",
    "import librosa\n",
    "import IPython\n",
    "import librosa.display"
   ]
  },
  {
   "cell_type": "markdown",
   "metadata": {},
   "source": [
    "## load config and set logger"
   ]
  },
  {
   "cell_type": "code",
   "execution_count": 4,
   "metadata": {},
   "outputs": [
    {
     "name": "stderr",
     "output_type": "stream",
     "text": [
      "/home/hiroki/anaconda3/lib/python3.7/site-packages/ipykernel/ipkernel.py:287: DeprecationWarning: `should_run_async` will not call `transform_cell` automatically in the future. Please pass the result to `transformed_cell` argument and any exception that happen during thetransform in `preprocessing_exc_tuple` in IPython 7.17 and above.\n",
      "  and should_run_async(code)\n"
     ]
    }
   ],
   "source": [
    "#with open(\"./config.yaml\", 'rb') as f:\n",
    "#    config = yaml.load(f)\n",
    "\n",
    "log_folder = config['IO_OPTION']['OUTPUT_ROOT']+'/{0}.log'.format(datetime.date.today())\n",
    "logger = com.setup_logger(log_folder, '00_train.py')"
   ]
  },
  {
   "cell_type": "markdown",
   "metadata": {},
   "source": [
    "## Setting"
   ]
  },
  {
   "cell_type": "code",
   "execution_count": 5,
   "metadata": {},
   "outputs": [],
   "source": [
    "# Setting seed\n",
    "modeler.set_seed(42)"
   ]
  },
  {
   "cell_type": "code",
   "execution_count": 6,
   "metadata": {},
   "outputs": [
    {
     "data": {
      "text/plain": [
       "'/media/hiroki/working/research/dcase2020/result/2D/DAGMM/stable/v1/config.yaml'"
      ]
     },
     "execution_count": 6,
     "metadata": {},
     "output_type": "execute_result"
    }
   ],
   "source": [
    "############################################################################\n",
    "# Setting I/O path\n",
    "############################################################################\n",
    "# input dirs\n",
    "INPUT_ROOT = config['IO_OPTION']['INPUT_ROOT']\n",
    "dev_path = INPUT_ROOT + \"/dev_data\"\n",
    "add_dev_path = INPUT_ROOT + \"/add_dev_data\"\n",
    "# machine type\n",
    "MACHINE_TYPE = config['IO_OPTION']['MACHINE_TYPE']\n",
    "machine_types = os.listdir(dev_path)\n",
    "# output dirs\n",
    "OUTPUT_ROOT = config['IO_OPTION']['OUTPUT_ROOT']\n",
    "MODEL_DIR = config['IO_OPTION']['OUTPUT_ROOT'] + '/models'\n",
    "TB_DIR = config['IO_OPTION']['OUTPUT_ROOT'] + '/tb'\n",
    "PKL_DIR = OUTPUT_ROOT + '/pkl'\n",
    "#os.makedirs(OUTPUT_ROOT, exist_ok=True)\n",
    "os.makedirs(MODEL_DIR, exist_ok=True)\n",
    "os.makedirs(TB_DIR, exist_ok=True)\n",
    "os.makedirs(PKL_DIR, exist_ok=True)\n",
    "# copy config\n",
    "shutil.copy('./config.yaml', OUTPUT_ROOT)"
   ]
  },
  {
   "cell_type": "markdown",
   "metadata": {},
   "source": [
    "## make path list and train/valid split"
   ]
  },
  {
   "cell_type": "code",
   "execution_count": 7,
   "metadata": {},
   "outputs": [],
   "source": [
    "############################################################################\n",
    "# make path set and train/valid split\n",
    "############################################################################\n",
    "'''\n",
    "train_paths[machine_type]['train' or 'valid'] = path\n",
    "'''\n",
    "dev_train_paths = {}\n",
    "add_train_paths = {}\n",
    "train_paths = {}"
   ]
  },
  {
   "cell_type": "code",
   "execution_count": 8,
   "metadata": {},
   "outputs": [],
   "source": [
    "for machine_type in machine_types:\n",
    "    # dev train\n",
    "    dev_train_paths = [\"{}/{}/train/\".format(dev_path, machine_type) + file for file in os.listdir(\"{}/{}/train\".format(dev_path, machine_type))]\n",
    "    dev_train_paths = sorted(dev_train_paths)\n",
    "    # add_dev train\n",
    "    add_train_paths = [\"{}/{}/train/\".format(add_dev_path, machine_type) + file for file in os.listdir(\"{}/{}/train\".format(add_dev_path, machine_type))]\n",
    "    add_train_paths = sorted(add_train_paths)\n",
    "    # valid\n",
    "    dev_valid_paths = [\"{}/{}/test/\".format(dev_path, machine_type) + file for file in os.listdir(\"{}/{}/test\".format(dev_path, machine_type))]\n",
    "    dev_valid_paths = sorted(dev_valid_paths)\n",
    "    \n",
    "    train_paths[machine_type] = {}\n",
    "    train_paths[machine_type]['train'] = dev_train_paths + add_train_paths\n",
    "    train_paths[machine_type]['valid'] = dev_valid_paths"
   ]
  },
  {
   "cell_type": "raw",
   "metadata": {},
   "source": [
    "# for machine_type in machine_types:\n",
    "    # dev train\n",
    "    dev_train_all_paths = [\"{}/{}/train/\".format(dev_path, machine_type) + file for file in os.listdir(\"{}/{}/train\".format(dev_path, machine_type))]\n",
    "    dev_train_all_paths = sorted(dev_train_all_paths)\n",
    "    dev_train_paths[machine_type] = {}\n",
    "    dev_train_paths[machine_type]['train'], \\\n",
    "    dev_train_paths[machine_type]['valid'] = train_test_split(dev_train_all_paths,\n",
    "                                                              test_size=config['etc']['test_size'],\n",
    "                                                              shuffle=False,\n",
    "                                                             )\n",
    "    # add_dev train\n",
    "    add_train_all_paths = [\"{}/{}/train/\".format(add_dev_path, machine_type) + file for file in os.listdir(\"{}/{}/train\".format(add_dev_path, machine_type))]\n",
    "    add_train_all_paths = sorted(add_train_all_paths)\n",
    "    add_train_paths[machine_type] = {}\n",
    "    add_train_paths[machine_type]['train'], \\\n",
    "    add_train_paths[machine_type]['valid'] = train_test_split(add_train_all_paths,\n",
    "                                                              test_size=config['etc']['test_size'],\n",
    "                                                              shuffle=False,\n",
    "                                                             )\n",
    "    train_paths[machine_type] = {}\n",
    "    train_paths[machine_type]['train'] = dev_train_paths[machine_type]['train'] + add_train_paths[machine_type]['train']\n",
    "    train_paths[machine_type]['valid'] = dev_train_paths[machine_type]['valid'] + add_train_paths[machine_type]['valid']"
   ]
  },
  {
   "cell_type": "markdown",
   "metadata": {},
   "source": [
    "## training"
   ]
  },
  {
   "cell_type": "code",
   "execution_count": 9,
   "metadata": {},
   "outputs": [],
   "source": [
    "#############################################################################\n",
    "# run\n",
    "#############################################################################\n",
    "def run(machine_type):\n",
    "    com.tic()\n",
    "    logger.info('TARGET MACHINE_TYPE: {0}'.format(machine_type))\n",
    "    logger.info('MAKE DATA_LOADER')\n",
    "    # dev_train_paths\n",
    "    dataloaders_dict = modeler.make_dataloader(train_paths, machine_type)\n",
    "    # define writer for tensorbord\n",
    "    os.makedirs(TB_DIR+'/'+machine_type, exist_ok=True)         # debug\n",
    "    tb_log_dir = TB_DIR + '/' + machine_type\n",
    "    writer = SummaryWriter(log_dir = tb_log_dir)\n",
    "    logger.info('TRAINING')\n",
    "    # parameter setting\n",
    "    net = Model(sample_rate=config['preprocessing']['sample_rate'],\n",
    "                window_size=config['preprocessing']['window_size'],\n",
    "                hop_size=config['preprocessing']['hop_size'],\n",
    "                mel_bins=config['preprocessing']['mel_bins'],\n",
    "                fmin=config['preprocessing']['fmin'],\n",
    "                fmax=config['preprocessing']['fmax'],\n",
    "                latent_size=config['fit']['latent_size'],\n",
    "                mixture_size=config['fit']['mixture_size'])\n",
    "    #pretrained_dict = torch.load(config['IO_OPTION']['PREMODEL_PATH'])\n",
    "    #net = filtered_load_model(net, pretrained_dict)\n",
    "    optimizer = optim.Adam(net.parameters(), lr=1e-3)\n",
    "    num_epochs = config['fit']['num_epochs']\n",
    "    scheduler = optim.lr_scheduler.OneCycleLR(optimizer=optimizer, pct_start=0.1, 1e3\n",
    "                                              max_lr=1e-3, epochs=num_epochs, steps_per_epoch=len(dataloaders_dict['train']))\n",
    "    #scheduler = ReduceLROnPlateau(optimizer, 'min')\n",
    "    criterion = nn.MSELoss()\n",
    "    #try:\n",
    "    history = modeler.train_net(net, dataloaders_dict, criterion, optimizer, scheduler, num_epochs, writer)\n",
    "    #except:\n",
    "    #    return \"error\"\n",
    "        \n",
    "    # output\n",
    "    model = history['model']\n",
    "    model_out_path = MODEL_DIR+'/{}_model.pth'.format(machine_type)\n",
    "    torch.save(model.state_dict(), model_out_path)\n",
    "    logger.info('\\n success:{0} \\n'.format(machine_type) + \\\n",
    "                    'model_out_path ==> \\n {0}'.format(model_out_path))\n",
    "    #  close writer for tensorbord\n",
    "    writer.close()\n",
    "    #modeler.mlflow_log(history, config, machine_type, model_out_path, tb_log_dir)\n",
    "    com.toc()\n",
    "    return history"
   ]
  },
  {
   "cell_type": "code",
   "execution_count": 10,
   "metadata": {},
   "outputs": [
    {
     "data": {
      "text/plain": [
       "['fan', 'pump', 'slider', 'ToyCar', 'ToyConveyor', 'valve']"
      ]
     },
     "execution_count": 10,
     "metadata": {},
     "output_type": "execute_result"
    }
   ],
   "source": [
    "machine_types"
   ]
  },
  {
   "cell_type": "code",
   "execution_count": 11,
   "metadata": {
    "scrolled": true
   },
   "outputs": [
    {
     "name": "stderr",
     "output_type": "stream",
     "text": [
      "2020-11-27 23:40:59,986 - 00_train.py - INFO - TARGET MACHINE_TYPE: slider\n",
      "2020-11-27 23:40:59,987 - 00_train.py - INFO - MAKE DATA_LOADER\n",
      "2020-11-27 23:41:00,850 - 00_train.py - INFO - TRAINING\n"
     ]
    },
    {
     "name": "stdout",
     "output_type": "stream",
     "text": [
      "use: cuda:0\n"
     ]
    },
    {
     "name": "stderr",
     "output_type": "stream",
     "text": [
      "100%|██████████| 41/41 [00:11<00:00,  3.43it/s]\n",
      "100%|██████████| 10/10 [00:01<00:00,  7.19it/s]\n",
      "2020-11-27 23:41:15,972 - pytorch_modeler.py - INFO - Epoch 1/200:train_loss:114.100796, tr_rec:14.991098, tr_eng:86.987486, tr_covd:2424.442528, val_AUC:0.588967, val_pAUC:0.493810\n",
      "100%|██████████| 41/41 [00:09<00:00,  4.22it/s]\n",
      "100%|██████████| 10/10 [00:01<00:00,  8.71it/s]\n",
      "2020-11-27 23:41:26,842 - pytorch_modeler.py - INFO - Epoch 2/200:train_loss:114.154912, tr_rec:14.299691, tr_eng:81.029423, tr_covd:3765.159344, val_AUC:0.540609, val_pAUC:0.495863\n",
      "100%|██████████| 41/41 [00:09<00:00,  4.18it/s]\n",
      "100%|██████████| 10/10 [00:01<00:00,  8.60it/s]\n",
      "2020-11-27 23:41:37,823 - pytorch_modeler.py - INFO - Epoch 3/200:train_loss:97.653340, tr_rec:13.173602, tr_eng:67.526183, tr_covd:3390.711313, val_AUC:0.650621, val_pAUC:0.508492\n",
      "100%|██████████| 41/41 [00:09<00:00,  4.13it/s]\n",
      "100%|██████████| 10/10 [00:01<00:00,  8.41it/s]\n",
      "2020-11-27 23:41:48,938 - pytorch_modeler.py - INFO - Epoch 4/200:train_loss:68.068289, tr_rec:11.911601, tr_eng:37.570754, tr_covd:3717.186848, val_AUC:0.484026, val_pAUC:0.492923\n",
      "100%|██████████| 41/41 [00:10<00:00,  4.07it/s]\n",
      "100%|██████████| 10/10 [00:01<00:00,  8.65it/s]\n",
      "2020-11-27 23:42:00,173 - pytorch_modeler.py - INFO - Epoch 5/200:train_loss:55.296275, tr_rec:10.086375, tr_eng:28.746529, tr_covd:3292.674202, val_AUC:0.520606, val_pAUC:0.497014\n",
      "100%|██████████| 41/41 [00:10<00:00,  3.87it/s]\n",
      "100%|██████████| 10/10 [00:01<00:00,  8.36it/s]\n",
      "2020-11-27 23:42:11,985 - pytorch_modeler.py - INFO - Epoch 6/200:train_loss:50.289772, tr_rec:7.019215, tr_eng:29.425150, tr_covd:2769.081551, val_AUC:0.563277, val_pAUC:0.498196\n",
      "100%|██████████| 41/41 [00:09<00:00,  4.12it/s]\n",
      "100%|██████████| 10/10 [00:01<00:00,  8.53it/s]\n",
      "2020-11-27 23:42:23,116 - pytorch_modeler.py - INFO - Epoch 7/200:train_loss:44.061119, tr_rec:4.508470, tr_eng:27.388354, tr_covd:2432.859097, val_AUC:0.451611, val_pAUC:0.491586\n",
      "100%|██████████| 41/41 [00:09<00:00,  4.11it/s]\n",
      "100%|██████████| 10/10 [00:01<00:00,  8.64it/s]\n",
      "2020-11-27 23:42:34,250 - pytorch_modeler.py - INFO - Epoch 8/200:train_loss:36.420002, tr_rec:2.978722, tr_eng:18.004965, tr_covd:3087.262962, val_AUC:0.527512, val_pAUC:0.490108\n",
      "100%|██████████| 41/41 [00:10<00:00,  4.07it/s]\n",
      "100%|██████████| 10/10 [00:01<00:00,  8.63it/s]\n",
      "2020-11-27 23:42:45,482 - pytorch_modeler.py - INFO - Epoch 9/200:train_loss:17.281464, tr_rec:1.755036, tr_eng:1.198140, tr_covd:2865.657597, val_AUC:0.420963, val_pAUC:0.488514\n",
      "100%|██████████| 41/41 [00:09<00:00,  4.14it/s]\n",
      "100%|██████████| 10/10 [00:01<00:00,  7.72it/s]\n",
      "2020-11-27 23:42:56,683 - pytorch_modeler.py - INFO - Epoch 10/200:train_loss:14.587349, tr_rec:1.606609, tr_eng:-8.787144, tr_covd:4353.576893, val_AUC:0.425956, val_pAUC:0.489766\n",
      "100%|██████████| 41/41 [00:09<00:00,  4.19it/s]\n",
      "100%|██████████| 10/10 [00:01<00:00,  8.09it/s]\n",
      "2020-11-27 23:43:07,709 - pytorch_modeler.py - INFO - Epoch 11/200:train_loss:6.029277, tr_rec:1.315794, tr_eng:-14.118281, tr_covd:3766.352983, val_AUC:0.414746, val_pAUC:0.492892\n",
      "100%|██████████| 41/41 [00:09<00:00,  4.24it/s]\n",
      "100%|██████████| 10/10 [00:01<00:00,  8.72it/s]\n",
      "2020-11-27 23:43:18,528 - pytorch_modeler.py - INFO - Epoch 12/200:train_loss:6.197175, tr_rec:1.204754, tr_eng:-14.935595, tr_covd:3985.603436, val_AUC:0.419184, val_pAUC:0.491944\n",
      "100%|██████████| 41/41 [00:09<00:00,  4.18it/s]\n",
      "100%|██████████| 10/10 [00:01<00:00,  7.70it/s]\n",
      "2020-11-27 23:43:29,633 - pytorch_modeler.py - INFO - Epoch 13/200:train_loss:10.872155, tr_rec:1.148042, tr_eng:-10.877655, tr_covd:4120.353466, val_AUC:0.450863, val_pAUC:0.494292\n",
      "100%|██████████| 41/41 [00:09<00:00,  4.19it/s]\n",
      "100%|██████████| 10/10 [00:01<00:00,  8.65it/s]\n",
      "2020-11-27 23:43:40,588 - pytorch_modeler.py - INFO - Epoch 14/200:train_loss:12.832452, tr_rec:1.055582, tr_eng:-10.375267, tr_covd:4430.427580, val_AUC:0.476330, val_pAUC:0.497605\n",
      "100%|██████████| 41/41 [00:09<00:00,  4.20it/s]\n",
      "100%|██████████| 10/10 [00:01<00:00,  8.31it/s]\n",
      "2020-11-27 23:43:51,574 - pytorch_modeler.py - INFO - Epoch 15/200:train_loss:12.340279, tr_rec:1.012351, tr_eng:-13.323206, tr_covd:4930.226809, val_AUC:0.475198, val_pAUC:0.490614\n",
      "100%|██████████| 41/41 [00:09<00:00,  4.20it/s]\n",
      "100%|██████████| 10/10 [00:01<00:00,  8.08it/s]\n",
      "2020-11-27 23:44:02,584 - pytorch_modeler.py - INFO - Epoch 16/200:train_loss:6.450309, tr_rec:0.991595, tr_eng:-16.494857, tr_covd:4390.714315, val_AUC:0.541129, val_pAUC:0.493981\n",
      "100%|██████████| 41/41 [00:09<00:00,  4.16it/s]\n",
      "100%|██████████| 10/10 [00:01<00:00,  7.82it/s]\n",
      "2020-11-27 23:44:13,737 - pytorch_modeler.py - INFO - Epoch 17/200:train_loss:4.953162, tr_rec:0.969039, tr_eng:-17.127370, tr_covd:4222.298786, val_AUC:0.404538, val_pAUC:0.495396\n",
      "100%|██████████| 41/41 [00:10<00:00,  3.99it/s]\n",
      "100%|██████████| 10/10 [00:01<00:00,  7.90it/s]\n",
      "2020-11-27 23:44:25,276 - pytorch_modeler.py - INFO - Epoch 18/200:train_loss:-2.575087, tr_rec:0.740458, tr_eng:-27.197775, tr_covd:4776.446108, val_AUC:0.489384, val_pAUC:0.497978\n",
      "100%|██████████| 41/41 [00:09<00:00,  4.11it/s]\n",
      "100%|██████████| 10/10 [00:01<00:00,  8.23it/s]\n",
      "2020-11-27 23:44:36,486 - pytorch_modeler.py - INFO - Epoch 19/200:train_loss:-2.004252, tr_rec:0.666101, tr_eng:-28.625951, tr_covd:5191.119541, val_AUC:0.446773, val_pAUC:0.500957\n",
      "100%|██████████| 41/41 [00:09<00:00,  4.12it/s]\n",
      "100%|██████████| 10/10 [00:01<00:00,  8.65it/s]\n",
      "2020-11-27 23:44:47,613 - pytorch_modeler.py - INFO - Epoch 20/200:train_loss:-6.497665, tr_rec:0.688676, tr_eng:-30.549821, tr_covd:4672.695852, val_AUC:0.418753, val_pAUC:0.497776\n",
      "100%|██████████| 41/41 [00:09<00:00,  4.11it/s]\n",
      "100%|██████████| 10/10 [00:01<00:00,  8.86it/s]\n",
      "2020-11-27 23:44:58,734 - pytorch_modeler.py - INFO - Epoch 21/200:train_loss:-6.164943, tr_rec:0.553043, tr_eng:-26.813135, tr_covd:4019.029943, val_AUC:0.462481, val_pAUC:0.494914\n",
      "100%|██████████| 41/41 [00:09<00:00,  4.18it/s]\n",
      "100%|██████████| 10/10 [00:01<00:00,  8.82it/s]\n",
      "2020-11-27 23:45:09,683 - pytorch_modeler.py - INFO - Epoch 22/200:train_loss:-12.453048, tr_rec:0.444547, tr_eng:-35.077220, tr_covd:4435.925072, val_AUC:0.547067, val_pAUC:0.495171\n",
      "100%|██████████| 41/41 [00:09<00:00,  4.14it/s]\n",
      "100%|██████████| 10/10 [00:01<00:00,  8.20it/s]\n",
      "2020-11-27 23:45:20,815 - pytorch_modeler.py - INFO - Epoch 23/200:train_loss:-11.182362, tr_rec:0.447108, tr_eng:-38.455710, tr_covd:5365.248142, val_AUC:0.552797, val_pAUC:0.499518\n",
      "100%|██████████| 41/41 [00:09<00:00,  4.14it/s]\n",
      "100%|██████████| 10/10 [00:01<00:00,  8.34it/s]\n",
      "2020-11-27 23:45:31,927 - pytorch_modeler.py - INFO - Epoch 24/200:train_loss:-10.497163, tr_rec:0.323258, tr_eng:-37.794226, tr_covd:5394.761242, val_AUC:0.566207, val_pAUC:0.497659\n",
      "100%|██████████| 41/41 [00:09<00:00,  4.23it/s]\n",
      "100%|██████████| 10/10 [00:01<00:00,  8.97it/s]\n",
      "2020-11-27 23:45:42,746 - pytorch_modeler.py - INFO - Epoch 25/200:train_loss:-16.547299, tr_rec:0.235637, tr_eng:-40.616066, tr_covd:4766.626066, val_AUC:0.544898, val_pAUC:0.499129\n",
      "100%|██████████| 41/41 [00:09<00:00,  4.19it/s]\n",
      "100%|██████████| 10/10 [00:01<00:00,  8.95it/s]\n",
      "2020-11-27 23:45:53,667 - pytorch_modeler.py - INFO - Epoch 26/200:train_loss:-16.349176, tr_rec:0.350721, tr_eng:-39.329084, tr_covd:4525.837570, val_AUC:0.555724, val_pAUC:0.510654\n",
      "100%|██████████| 41/41 [00:09<00:00,  4.15it/s]\n",
      "100%|██████████| 10/10 [00:01<00:00,  8.71it/s]\n",
      "2020-11-27 23:46:04,710 - pytorch_modeler.py - INFO - Epoch 27/200:train_loss:-18.379079, tr_rec:0.441302, tr_eng:-37.672504, tr_covd:3770.424797, val_AUC:0.423884, val_pAUC:0.493426\n",
      "100%|██████████| 41/41 [00:09<00:00,  4.29it/s]\n",
      "100%|██████████| 10/10 [00:01<00:00,  8.79it/s]\n",
      "2020-11-27 23:46:15,426 - pytorch_modeler.py - INFO - Epoch 28/200:train_loss:-16.900843, tr_rec:0.431137, tr_eng:-38.429546, tr_covd:4219.513290, val_AUC:0.461693, val_pAUC:0.498538\n",
      "100%|██████████| 41/41 [00:09<00:00,  4.13it/s]\n",
      "100%|██████████| 10/10 [00:01<00:00,  8.43it/s]\n",
      "2020-11-27 23:46:26,541 - pytorch_modeler.py - INFO - Epoch 29/200:train_loss:-18.597102, tr_rec:0.495546, tr_eng:-42.339800, tr_covd:4649.430754, val_AUC:0.507754, val_pAUC:0.498040\n",
      "100%|██████████| 41/41 [00:09<00:00,  4.24it/s]\n",
      "100%|██████████| 10/10 [00:01<00:00,  8.59it/s]\n",
      "2020-11-27 23:46:37,375 - pytorch_modeler.py - INFO - Epoch 30/200:train_loss:-20.614848, tr_rec:0.425314, tr_eng:-41.872359, tr_covd:4166.439249, val_AUC:0.491983, val_pAUC:0.499566\n"
     ]
    },
    {
     "name": "stderr",
     "output_type": "stream",
     "text": [
      "100%|██████████| 41/41 [00:09<00:00,  4.16it/s]\n",
      "100%|██████████| 10/10 [00:01<00:00,  8.41it/s]\n",
      "2020-11-27 23:46:48,437 - pytorch_modeler.py - INFO - Epoch 31/200:train_loss:-4.533051, tr_rec:0.331335, tr_eng:-26.664207, tr_covd:4359.964294, val_AUC:0.540709, val_pAUC:0.514480\n",
      "100%|██████████| 41/41 [00:09<00:00,  4.17it/s]\n",
      "100%|██████████| 10/10 [00:01<00:00,  8.69it/s]\n",
      "2020-11-27 23:46:59,429 - pytorch_modeler.py - INFO - Epoch 32/200:train_loss:-17.873224, tr_rec:0.305893, tr_eng:-36.864735, tr_covd:3737.123583, val_AUC:0.445402, val_pAUC:0.503111\n",
      "100%|██████████| 41/41 [00:09<00:00,  4.19it/s]\n",
      "100%|██████████| 10/10 [00:01<00:00,  8.78it/s]\n",
      "2020-11-27 23:47:10,358 - pytorch_modeler.py - INFO - Epoch 33/200:train_loss:-16.305670, tr_rec:0.359152, tr_eng:-35.656942, tr_covd:3798.423988, val_AUC:0.565785, val_pAUC:0.508126\n",
      "100%|██████████| 41/41 [00:09<00:00,  4.24it/s]\n",
      "100%|██████████| 10/10 [00:01<00:00,  8.83it/s]\n",
      "2020-11-27 23:47:21,180 - pytorch_modeler.py - INFO - Epoch 34/200:train_loss:-5.753918, tr_rec:0.298906, tr_eng:-27.069222, tr_covd:4203.279793, val_AUC:0.500000, val_pAUC:0.500000\n",
      "100%|██████████| 41/41 [00:10<00:00,  4.07it/s]\n",
      "100%|██████████| 10/10 [00:01<00:00,  8.28it/s]\n",
      "2020-11-27 23:47:32,483 - pytorch_modeler.py - INFO - Epoch 35/200:train_loss:-9.504048, tr_rec:0.356990, tr_eng:-31.334732, tr_covd:4294.738945, val_AUC:0.500000, val_pAUC:0.500000\n",
      "100%|██████████| 41/41 [00:10<00:00,  3.99it/s]\n",
      "100%|██████████| 10/10 [00:01<00:00,  8.11it/s]\n",
      "2020-11-27 23:47:44,001 - pytorch_modeler.py - INFO - Epoch 36/200:train_loss:-12.406260, tr_rec:0.383552, tr_eng:-35.080966, tr_covd:4458.231003, val_AUC:0.500000, val_pAUC:0.500000\n",
      "100%|██████████| 41/41 [00:10<00:00,  4.08it/s]\n",
      "100%|██████████| 10/10 [00:01<00:00,  8.23it/s]\n",
      "2020-11-27 23:47:55,278 - pytorch_modeler.py - INFO - Epoch 37/200:train_loss:-10.670906, tr_rec:0.378701, tr_eng:-30.944674, tr_covd:3979.013535, val_AUC:0.500000, val_pAUC:0.500000\n",
      "100%|██████████| 41/41 [00:10<00:00,  4.01it/s]\n",
      "100%|██████████| 10/10 [00:01<00:00,  8.17it/s]\n",
      "2020-11-27 23:48:06,730 - pytorch_modeler.py - INFO - Epoch 38/200:train_loss:-10.051497, tr_rec:0.425412, tr_eng:-28.956778, tr_covd:3695.973907, val_AUC:0.500000, val_pAUC:0.500000\n",
      "100%|██████████| 41/41 [00:10<00:00,  3.97it/s]\n",
      "100%|██████████| 10/10 [00:01<00:00,  8.03it/s]\n",
      "2020-11-27 23:48:18,325 - pytorch_modeler.py - INFO - Epoch 39/200:train_loss:-15.063150, tr_rec:0.442342, tr_eng:-36.965585, tr_covd:4292.018875, val_AUC:0.502139, val_pAUC:0.500373\n",
      "100%|██████████| 41/41 [00:10<00:00,  4.05it/s]\n",
      "100%|██████████| 10/10 [00:01<00:00,  8.32it/s]\n",
      "2020-11-27 23:48:29,658 - pytorch_modeler.py - INFO - Epoch 40/200:train_loss:-11.992897, tr_rec:0.421013, tr_eng:-34.677299, tr_covd:4452.677986, val_AUC:0.500000, val_pAUC:0.500000\n",
      "100%|██████████| 41/41 [00:10<00:00,  4.02it/s]\n",
      "100%|██████████| 10/10 [00:01<00:00,  7.92it/s]\n",
      "2020-11-27 23:48:41,135 - pytorch_modeler.py - INFO - Epoch 41/200:train_loss:-13.899032, tr_rec:0.486869, tr_eng:-40.108278, tr_covd:5144.475601, val_AUC:0.500000, val_pAUC:0.500000\n",
      "100%|██████████| 41/41 [00:10<00:00,  4.02it/s]\n",
      "100%|██████████| 10/10 [00:01<00:00,  8.24it/s]\n",
      "2020-11-27 23:48:52,574 - pytorch_modeler.py - INFO - Epoch 42/200:train_loss:-15.894979, tr_rec:0.543598, tr_eng:-38.078335, tr_covd:4327.951645, val_AUC:0.500000, val_pAUC:0.500000\n",
      "100%|██████████| 41/41 [00:10<00:00,  4.01it/s]\n",
      "100%|██████████| 10/10 [00:01<00:00,  7.66it/s]\n",
      "2020-11-27 23:49:04,112 - pytorch_modeler.py - INFO - Epoch 43/200:train_loss:-16.985975, tr_rec:0.476556, tr_eng:-39.857045, tr_covd:4478.902885, val_AUC:0.500000, val_pAUC:0.500000\n",
      "100%|██████████| 41/41 [00:10<00:00,  4.07it/s]\n",
      "100%|██████████| 10/10 [00:01<00:00,  8.79it/s]\n",
      "2020-11-27 23:49:15,342 - pytorch_modeler.py - INFO - Epoch 44/200:train_loss:-14.065343, tr_rec:0.424297, tr_eng:-37.557587, tr_covd:4613.589504, val_AUC:0.500000, val_pAUC:0.500000\n",
      "100%|██████████| 41/41 [00:09<00:00,  4.15it/s]\n",
      "100%|██████████| 10/10 [00:01<00:00,  8.02it/s]\n",
      "2020-11-27 23:49:26,489 - pytorch_modeler.py - INFO - Epoch 45/200:train_loss:-17.562282, tr_rec:0.435018, tr_eng:-43.460506, tr_covd:5092.641277, val_AUC:0.500000, val_pAUC:0.500000\n",
      "100%|██████████| 41/41 [00:10<00:00,  4.07it/s]\n",
      "100%|██████████| 10/10 [00:01<00:00,  8.16it/s]\n",
      "2020-11-27 23:49:37,789 - pytorch_modeler.py - INFO - Epoch 46/200:train_loss:-17.710065, tr_rec:0.405892, tr_eng:-42.532382, tr_covd:4883.285095, val_AUC:0.500000, val_pAUC:0.500000\n",
      "100%|██████████| 41/41 [00:09<00:00,  4.13it/s]\n",
      "100%|██████████| 10/10 [00:01<00:00,  7.63it/s]\n",
      "2020-11-27 23:49:49,032 - pytorch_modeler.py - INFO - Epoch 47/200:train_loss:-16.860334, tr_rec:0.447952, tr_eng:-40.050409, tr_covd:4548.424683, val_AUC:0.445535, val_pAUC:0.497543\n",
      "100%|██████████| 41/41 [00:10<00:00,  4.01it/s]\n",
      "100%|██████████| 10/10 [00:01<00:00,  8.44it/s]\n",
      "2020-11-27 23:50:00,456 - pytorch_modeler.py - INFO - Epoch 48/200:train_loss:-17.920854, tr_rec:0.428062, tr_eng:-45.175444, tr_covd:5365.305466, val_AUC:0.529530, val_pAUC:0.494090\n",
      "100%|██████████| 41/41 [00:09<00:00,  4.13it/s]\n",
      "100%|██████████| 10/10 [00:01<00:00,  8.30it/s]\n",
      "2020-11-27 23:50:11,607 - pytorch_modeler.py - INFO - Epoch 49/200:train_loss:-17.573900, tr_rec:0.444706, tr_eng:-43.799462, tr_covd:5156.171165, val_AUC:0.508574, val_pAUC:0.495591\n",
      "100%|██████████| 41/41 [00:09<00:00,  4.23it/s]\n",
      "100%|██████████| 10/10 [00:01<00:00,  8.78it/s]\n",
      "2020-11-27 23:50:22,455 - pytorch_modeler.py - INFO - Epoch 50/200:train_loss:-17.383810, tr_rec:0.447466, tr_eng:-44.366708, tr_covd:5307.086510, val_AUC:0.435662, val_pAUC:0.500342\n",
      "100%|██████████| 41/41 [00:09<00:00,  4.18it/s]\n",
      "100%|██████████| 10/10 [00:01<00:00,  9.09it/s]\n",
      "2020-11-27 23:50:33,368 - pytorch_modeler.py - INFO - Epoch 51/200:train_loss:-19.185400, tr_rec:0.432939, tr_eng:-44.264390, tr_covd:4929.210403, val_AUC:0.500000, val_pAUC:0.500000\n",
      "100%|██████████| 41/41 [00:10<00:00,  3.99it/s]\n",
      "100%|██████████| 10/10 [00:01<00:00,  7.97it/s]\n",
      "2020-11-27 23:50:44,903 - pytorch_modeler.py - INFO - Epoch 52/200:train_loss:-18.406641, tr_rec:0.405627, tr_eng:-43.483959, tr_covd:4934.338394, val_AUC:0.460173, val_pAUC:0.498001\n",
      "100%|██████████| 41/41 [00:10<00:00,  4.08it/s]\n",
      "100%|██████████| 10/10 [00:01<00:00,  8.79it/s]\n",
      "2020-11-27 23:50:56,087 - pytorch_modeler.py - INFO - Epoch 53/200:train_loss:-17.415947, tr_rec:0.391966, tr_eng:-46.249227, tr_covd:5688.262894, val_AUC:0.459523, val_pAUC:0.491780\n",
      "100%|██████████| 41/41 [00:09<00:00,  4.14it/s]\n",
      "100%|██████████| 10/10 [00:01<00:00,  8.39it/s]\n",
      "2020-11-27 23:51:07,187 - pytorch_modeler.py - INFO - Epoch 54/200:train_loss:-15.539671, tr_rec:0.397102, tr_eng:-43.886888, tr_covd:5590.023224, val_AUC:0.434607, val_pAUC:0.499596\n",
      "100%|██████████| 41/41 [00:09<00:00,  4.20it/s]\n",
      "100%|██████████| 10/10 [00:01<00:00,  8.99it/s]\n",
      "2020-11-27 23:51:18,062 - pytorch_modeler.py - INFO - Epoch 55/200:train_loss:-18.027887, tr_rec:0.358463, tr_eng:-45.616330, tr_covd:5445.996216, val_AUC:0.519631, val_pAUC:0.499891\n",
      "100%|██████████| 41/41 [00:09<00:00,  4.20it/s]\n",
      "100%|██████████| 10/10 [00:01<00:00,  7.64it/s]\n",
      "2020-11-27 23:51:29,145 - pytorch_modeler.py - INFO - Epoch 56/200:train_loss:-17.838248, tr_rec:0.292729, tr_eng:-43.800803, tr_covd:5133.965202, val_AUC:0.455341, val_pAUC:0.499362\n",
      "100%|██████████| 41/41 [00:10<00:00,  4.04it/s]\n",
      "100%|██████████| 10/10 [00:01<00:00,  8.12it/s]\n",
      "2020-11-27 23:51:40,533 - pytorch_modeler.py - INFO - Epoch 57/200:train_loss:-18.289944, tr_rec:0.300716, tr_eng:-45.451231, tr_covd:5372.114227, val_AUC:0.500000, val_pAUC:0.500000\n",
      "100%|██████████| 41/41 [00:10<00:00,  4.04it/s]\n",
      "100%|██████████| 10/10 [00:01<00:00,  7.91it/s]\n",
      "2020-11-27 23:51:51,946 - pytorch_modeler.py - INFO - Epoch 58/200:train_loss:-19.063459, tr_rec:0.298723, tr_eng:-44.356058, tr_covd:4998.775093, val_AUC:0.451489, val_pAUC:0.494696\n",
      "100%|██████████| 41/41 [00:10<00:00,  3.98it/s]\n",
      "100%|██████████| 10/10 [00:01<00:00,  8.15it/s]\n",
      "2020-11-27 23:52:03,486 - pytorch_modeler.py - INFO - Epoch 59/200:train_loss:-17.746176, tr_rec:0.271750, tr_eng:-48.954575, tr_covd:6187.329979, val_AUC:0.588750, val_pAUC:0.496749\n",
      "100%|██████████| 41/41 [00:09<00:00,  4.17it/s]\n",
      "100%|██████████| 10/10 [00:01<00:00,  8.63it/s]\n",
      "2020-11-27 23:52:14,492 - pytorch_modeler.py - INFO - Epoch 60/200:train_loss:-19.084025, tr_rec:0.247695, tr_eng:-45.813350, tr_covd:5296.326057, val_AUC:0.442677, val_pAUC:0.495256\n"
     ]
    },
    {
     "name": "stderr",
     "output_type": "stream",
     "text": [
      "100%|██████████| 41/41 [00:09<00:00,  4.23it/s]\n",
      "100%|██████████| 10/10 [00:01<00:00,  8.79it/s]\n",
      "2020-11-27 23:52:25,330 - pytorch_modeler.py - INFO - Epoch 61/200:train_loss:-18.907484, tr_rec:0.239595, tr_eng:-49.084017, tr_covd:5987.387535, val_AUC:0.547482, val_pAUC:0.498725\n",
      "100%|██████████| 41/41 [00:09<00:00,  4.19it/s]\n",
      "100%|██████████| 10/10 [00:01<00:00,  8.72it/s]\n",
      "2020-11-27 23:52:36,281 - pytorch_modeler.py - INFO - Epoch 62/200:train_loss:-18.997077, tr_rec:0.225491, tr_eng:-46.074976, tr_covd:5370.481747, val_AUC:0.422089, val_pAUC:0.491119\n",
      " 34%|███▍      | 14/41 [00:03<00:07,  3.70it/s]\n"
     ]
    },
    {
     "name": "stdout",
     "output_type": "stream",
     "text": [
      "Traceback (most recent call last):\n",
      "  File \"/home/hiroki/anaconda3/lib/python3.7/site-packages/IPython/core/interactiveshell.py\", line 3417, in run_code\n",
      "    exec(code_obj, self.user_global_ns, self.user_ns)\n",
      "  File \"<ipython-input-11-f84e921ef713>\", line 2, in <module>\n",
      "    history = run(machine_type)\n",
      "  File \"<ipython-input-9-f6ad4a5104e9>\", line 33, in run\n",
      "    history = modeler.train_net(net, dataloaders_dict, criterion, optimizer, scheduler, num_epochs, writer)\n",
      "  File \"/media/hiroki/working/research/dcase2020/2D_codes/DPGMM_LSTM_CONV/stable/v1/pytorch_modeler.py\", line 157, in train_net\n",
      "    net, total_loss, sample_energy, recon_error, cov_diag = dagmm_step(net, input, optimizer, scheduler, device)\n",
      "  File \"/media/hiroki/working/research/dcase2020/2D_codes/DPGMM_LSTM_CONV/stable/v1/pytorch_modeler.py\", line 258, in dagmm_step\n",
      "    total_loss.backward()\n",
      "  File \"/home/hiroki/anaconda3/lib/python3.7/site-packages/torch/tensor.py\", line 185, in backward\n",
      "    torch.autograd.backward(self, gradient, retain_graph, create_graph)\n",
      "  File \"/home/hiroki/anaconda3/lib/python3.7/site-packages/torch/autograd/__init__.py\", line 127, in backward\n",
      "    allow_unreachable=True)  # allow_unreachable flag\n",
      "KeyboardInterrupt\n",
      "\n",
      "During handling of the above exception, another exception occurred:\n",
      "\n",
      "Traceback (most recent call last):\n",
      "  File \"/home/hiroki/anaconda3/lib/python3.7/site-packages/IPython/core/interactiveshell.py\", line 2044, in showtraceback\n",
      "    stb = value._render_traceback_()\n",
      "AttributeError: 'KeyboardInterrupt' object has no attribute '_render_traceback_'\n",
      "\n",
      "During handling of the above exception, another exception occurred:\n",
      "\n",
      "Traceback (most recent call last):\n",
      "  File \"/home/hiroki/anaconda3/lib/python3.7/site-packages/IPython/core/ultratb.py\", line 1169, in get_records\n",
      "    return _fixed_getinnerframes(etb, number_of_lines_of_context, tb_offset)\n",
      "  File \"/home/hiroki/anaconda3/lib/python3.7/site-packages/IPython/core/ultratb.py\", line 316, in wrapped\n",
      "    return f(*args, **kwargs)\n",
      "  File \"/home/hiroki/anaconda3/lib/python3.7/site-packages/IPython/core/ultratb.py\", line 350, in _fixed_getinnerframes\n",
      "    records = fix_frame_records_filenames(inspect.getinnerframes(etb, context))\n",
      "  File \"/home/hiroki/anaconda3/lib/python3.7/inspect.py\", line 1502, in getinnerframes\n",
      "    frameinfo = (tb.tb_frame,) + getframeinfo(tb, context)\n",
      "  File \"/home/hiroki/anaconda3/lib/python3.7/inspect.py\", line 1460, in getframeinfo\n",
      "    filename = getsourcefile(frame) or getfile(frame)\n",
      "  File \"/home/hiroki/anaconda3/lib/python3.7/inspect.py\", line 696, in getsourcefile\n",
      "    if getattr(getmodule(object, filename), '__loader__', None) is not None:\n",
      "  File \"/home/hiroki/anaconda3/lib/python3.7/inspect.py\", line 742, in getmodule\n",
      "    os.path.realpath(f)] = module.__name__\n",
      "  File \"/home/hiroki/anaconda3/lib/python3.7/posixpath.py\", line 395, in realpath\n",
      "    path, ok = _joinrealpath(filename[:0], filename, {})\n",
      "  File \"/home/hiroki/anaconda3/lib/python3.7/posixpath.py\", line 428, in _joinrealpath\n",
      "    newpath = join(path, name)\n",
      "  File \"/home/hiroki/anaconda3/lib/python3.7/posixpath.py\", line 87, in join\n",
      "    if b.startswith(sep):\n",
      "KeyboardInterrupt\n"
     ]
    },
    {
     "ename": "TypeError",
     "evalue": "object of type 'NoneType' has no len()",
     "output_type": "error",
     "traceback": [
      "\u001b[0;31m---------------------------------------------------------------------------\u001b[0m",
      "\u001b[0;31mKeyboardInterrupt\u001b[0m                         Traceback (most recent call last)",
      "    \u001b[0;31m[... skipping hidden 1 frame]\u001b[0m\n",
      "\u001b[0;32m<ipython-input-11-f84e921ef713>\u001b[0m in \u001b[0;36m<module>\u001b[0;34m\u001b[0m\n\u001b[1;32m      1\u001b[0m \u001b[0;32mfor\u001b[0m \u001b[0mmachine_type\u001b[0m \u001b[0;32min\u001b[0m \u001b[0mmachine_types\u001b[0m\u001b[0;34m[\u001b[0m\u001b[0;36m2\u001b[0m\u001b[0;34m:\u001b[0m\u001b[0;34m]\u001b[0m\u001b[0;34m:\u001b[0m\u001b[0;34m\u001b[0m\u001b[0;34m\u001b[0m\u001b[0m\n\u001b[0;32m----> 2\u001b[0;31m     \u001b[0mhistory\u001b[0m \u001b[0;34m=\u001b[0m \u001b[0mrun\u001b[0m\u001b[0;34m(\u001b[0m\u001b[0mmachine_type\u001b[0m\u001b[0;34m)\u001b[0m\u001b[0;34m\u001b[0m\u001b[0;34m\u001b[0m\u001b[0m\n\u001b[0m\u001b[1;32m      3\u001b[0m     \u001b[0;31m#with open('{}/{}_history.pkl'.format(PKL_DIR, machine_type), 'wb') as file:\u001b[0m\u001b[0;34m\u001b[0m\u001b[0;34m\u001b[0m\u001b[0;34m\u001b[0m\u001b[0m\n",
      "\u001b[0;32m<ipython-input-9-f6ad4a5104e9>\u001b[0m in \u001b[0;36mrun\u001b[0;34m(machine_type)\u001b[0m\n\u001b[1;32m     32\u001b[0m     \u001b[0;31m#try:\u001b[0m\u001b[0;34m\u001b[0m\u001b[0;34m\u001b[0m\u001b[0;34m\u001b[0m\u001b[0m\n\u001b[0;32m---> 33\u001b[0;31m     \u001b[0mhistory\u001b[0m \u001b[0;34m=\u001b[0m \u001b[0mmodeler\u001b[0m\u001b[0;34m.\u001b[0m\u001b[0mtrain_net\u001b[0m\u001b[0;34m(\u001b[0m\u001b[0mnet\u001b[0m\u001b[0;34m,\u001b[0m \u001b[0mdataloaders_dict\u001b[0m\u001b[0;34m,\u001b[0m \u001b[0mcriterion\u001b[0m\u001b[0;34m,\u001b[0m \u001b[0moptimizer\u001b[0m\u001b[0;34m,\u001b[0m \u001b[0mscheduler\u001b[0m\u001b[0;34m,\u001b[0m \u001b[0mnum_epochs\u001b[0m\u001b[0;34m,\u001b[0m \u001b[0mwriter\u001b[0m\u001b[0;34m)\u001b[0m\u001b[0;34m\u001b[0m\u001b[0;34m\u001b[0m\u001b[0m\n\u001b[0m\u001b[1;32m     34\u001b[0m     \u001b[0;31m#except:\u001b[0m\u001b[0;34m\u001b[0m\u001b[0;34m\u001b[0m\u001b[0;34m\u001b[0m\u001b[0m\n",
      "\u001b[0;32m/media/hiroki/working/research/dcase2020/2D_codes/DPGMM_LSTM_CONV/stable/v1/pytorch_modeler.py\u001b[0m in \u001b[0;36mtrain_net\u001b[0;34m(net, dataloaders_dict, criterion, optimizer, scheduler, num_epochs, writer)\u001b[0m\n\u001b[1;32m    156\u001b[0m                     \u001b[0minput\u001b[0m \u001b[0;34m=\u001b[0m \u001b[0mto_var\u001b[0m\u001b[0;34m(\u001b[0m\u001b[0minput\u001b[0m\u001b[0;34m)\u001b[0m\u001b[0;34m\u001b[0m\u001b[0;34m\u001b[0m\u001b[0m\n\u001b[0;32m--> 157\u001b[0;31m                     \u001b[0mnet\u001b[0m\u001b[0;34m,\u001b[0m \u001b[0mtotal_loss\u001b[0m\u001b[0;34m,\u001b[0m \u001b[0msample_energy\u001b[0m\u001b[0;34m,\u001b[0m \u001b[0mrecon_error\u001b[0m\u001b[0;34m,\u001b[0m \u001b[0mcov_diag\u001b[0m \u001b[0;34m=\u001b[0m \u001b[0mdagmm_step\u001b[0m\u001b[0;34m(\u001b[0m\u001b[0mnet\u001b[0m\u001b[0;34m,\u001b[0m \u001b[0minput\u001b[0m\u001b[0;34m,\u001b[0m \u001b[0moptimizer\u001b[0m\u001b[0;34m,\u001b[0m \u001b[0mscheduler\u001b[0m\u001b[0;34m,\u001b[0m \u001b[0mdevice\u001b[0m\u001b[0;34m)\u001b[0m\u001b[0;34m\u001b[0m\u001b[0;34m\u001b[0m\u001b[0m\n\u001b[0m\u001b[1;32m    158\u001b[0m                     \u001b[0mtr_losses\u001b[0m \u001b[0;34m+=\u001b[0m \u001b[0mtotal_loss\u001b[0m\u001b[0;34m.\u001b[0m\u001b[0mdata\u001b[0m\u001b[0;34m.\u001b[0m\u001b[0mitem\u001b[0m\u001b[0;34m(\u001b[0m\u001b[0;34m)\u001b[0m\u001b[0;34m\u001b[0m\u001b[0;34m\u001b[0m\u001b[0m\n",
      "\u001b[0;32m/media/hiroki/working/research/dcase2020/2D_codes/DPGMM_LSTM_CONV/stable/v1/pytorch_modeler.py\u001b[0m in \u001b[0;36mdagmm_step\u001b[0;34m(net, input_data, optimizer, scheduler, device)\u001b[0m\n\u001b[1;32m    257\u001b[0m     \u001b[0mtotal_loss\u001b[0m \u001b[0;34m=\u001b[0m \u001b[0mtorch\u001b[0m\u001b[0;34m.\u001b[0m\u001b[0mclamp\u001b[0m\u001b[0;34m(\u001b[0m\u001b[0mtotal_loss\u001b[0m\u001b[0;34m,\u001b[0m \u001b[0mmax\u001b[0m\u001b[0;34m=\u001b[0m\u001b[0;36m1e7\u001b[0m\u001b[0;34m)\u001b[0m\u001b[0;34m\u001b[0m\u001b[0;34m\u001b[0m\u001b[0m\n\u001b[0;32m--> 258\u001b[0;31m     \u001b[0mtotal_loss\u001b[0m\u001b[0;34m.\u001b[0m\u001b[0mbackward\u001b[0m\u001b[0;34m(\u001b[0m\u001b[0;34m)\u001b[0m\u001b[0;34m\u001b[0m\u001b[0;34m\u001b[0m\u001b[0m\n\u001b[0m\u001b[1;32m    259\u001b[0m     \u001b[0mtorch\u001b[0m\u001b[0;34m.\u001b[0m\u001b[0mnn\u001b[0m\u001b[0;34m.\u001b[0m\u001b[0mutils\u001b[0m\u001b[0;34m.\u001b[0m\u001b[0mclip_grad_norm_\u001b[0m\u001b[0;34m(\u001b[0m\u001b[0mnet\u001b[0m\u001b[0;34m.\u001b[0m\u001b[0mparameters\u001b[0m\u001b[0;34m(\u001b[0m\u001b[0;34m)\u001b[0m\u001b[0;34m,\u001b[0m \u001b[0;36m5\u001b[0m\u001b[0;34m)\u001b[0m\u001b[0;34m\u001b[0m\u001b[0;34m\u001b[0m\u001b[0m\n",
      "\u001b[0;32m~/anaconda3/lib/python3.7/site-packages/torch/tensor.py\u001b[0m in \u001b[0;36mbackward\u001b[0;34m(self, gradient, retain_graph, create_graph)\u001b[0m\n\u001b[1;32m    184\u001b[0m         \"\"\"\n\u001b[0;32m--> 185\u001b[0;31m         \u001b[0mtorch\u001b[0m\u001b[0;34m.\u001b[0m\u001b[0mautograd\u001b[0m\u001b[0;34m.\u001b[0m\u001b[0mbackward\u001b[0m\u001b[0;34m(\u001b[0m\u001b[0mself\u001b[0m\u001b[0;34m,\u001b[0m \u001b[0mgradient\u001b[0m\u001b[0;34m,\u001b[0m \u001b[0mretain_graph\u001b[0m\u001b[0;34m,\u001b[0m \u001b[0mcreate_graph\u001b[0m\u001b[0;34m)\u001b[0m\u001b[0;34m\u001b[0m\u001b[0;34m\u001b[0m\u001b[0m\n\u001b[0m\u001b[1;32m    186\u001b[0m \u001b[0;34m\u001b[0m\u001b[0m\n",
      "\u001b[0;32m~/anaconda3/lib/python3.7/site-packages/torch/autograd/__init__.py\u001b[0m in \u001b[0;36mbackward\u001b[0;34m(tensors, grad_tensors, retain_graph, create_graph, grad_variables)\u001b[0m\n\u001b[1;32m    126\u001b[0m         \u001b[0mtensors\u001b[0m\u001b[0;34m,\u001b[0m \u001b[0mgrad_tensors\u001b[0m\u001b[0;34m,\u001b[0m \u001b[0mretain_graph\u001b[0m\u001b[0;34m,\u001b[0m \u001b[0mcreate_graph\u001b[0m\u001b[0;34m,\u001b[0m\u001b[0;34m\u001b[0m\u001b[0;34m\u001b[0m\u001b[0m\n\u001b[0;32m--> 127\u001b[0;31m         allow_unreachable=True)  # allow_unreachable flag\n\u001b[0m\u001b[1;32m    128\u001b[0m \u001b[0;34m\u001b[0m\u001b[0m\n",
      "\u001b[0;31mKeyboardInterrupt\u001b[0m: ",
      "\nDuring handling of the above exception, another exception occurred:\n",
      "\u001b[0;31mAttributeError\u001b[0m                            Traceback (most recent call last)",
      "\u001b[0;32m~/anaconda3/lib/python3.7/site-packages/IPython/core/interactiveshell.py\u001b[0m in \u001b[0;36mshowtraceback\u001b[0;34m(self, exc_tuple, filename, tb_offset, exception_only, running_compiled_code)\u001b[0m\n\u001b[1;32m   2043\u001b[0m                         \u001b[0;31m# in the engines. This should return a list of strings.\u001b[0m\u001b[0;34m\u001b[0m\u001b[0;34m\u001b[0m\u001b[0;34m\u001b[0m\u001b[0m\n\u001b[0;32m-> 2044\u001b[0;31m                         \u001b[0mstb\u001b[0m \u001b[0;34m=\u001b[0m \u001b[0mvalue\u001b[0m\u001b[0;34m.\u001b[0m\u001b[0m_render_traceback_\u001b[0m\u001b[0;34m(\u001b[0m\u001b[0;34m)\u001b[0m\u001b[0;34m\u001b[0m\u001b[0;34m\u001b[0m\u001b[0m\n\u001b[0m\u001b[1;32m   2045\u001b[0m                     \u001b[0;32mexcept\u001b[0m \u001b[0mException\u001b[0m\u001b[0;34m:\u001b[0m\u001b[0;34m\u001b[0m\u001b[0;34m\u001b[0m\u001b[0m\n",
      "\u001b[0;31mAttributeError\u001b[0m: 'KeyboardInterrupt' object has no attribute '_render_traceback_'",
      "\nDuring handling of the above exception, another exception occurred:\n",
      "\u001b[0;31mTypeError\u001b[0m                                 Traceback (most recent call last)",
      "    \u001b[0;31m[... skipping hidden 1 frame]\u001b[0m\n",
      "\u001b[0;32m~/anaconda3/lib/python3.7/site-packages/IPython/core/interactiveshell.py\u001b[0m in \u001b[0;36mshowtraceback\u001b[0;34m(self, exc_tuple, filename, tb_offset, exception_only, running_compiled_code)\u001b[0m\n\u001b[1;32m   2045\u001b[0m                     \u001b[0;32mexcept\u001b[0m \u001b[0mException\u001b[0m\u001b[0;34m:\u001b[0m\u001b[0;34m\u001b[0m\u001b[0;34m\u001b[0m\u001b[0m\n\u001b[1;32m   2046\u001b[0m                         stb = self.InteractiveTB.structured_traceback(etype,\n\u001b[0;32m-> 2047\u001b[0;31m                                             value, tb, tb_offset=tb_offset)\n\u001b[0m\u001b[1;32m   2048\u001b[0m \u001b[0;34m\u001b[0m\u001b[0m\n\u001b[1;32m   2049\u001b[0m                     \u001b[0mself\u001b[0m\u001b[0;34m.\u001b[0m\u001b[0m_showtraceback\u001b[0m\u001b[0;34m(\u001b[0m\u001b[0metype\u001b[0m\u001b[0;34m,\u001b[0m \u001b[0mvalue\u001b[0m\u001b[0;34m,\u001b[0m \u001b[0mstb\u001b[0m\u001b[0;34m)\u001b[0m\u001b[0;34m\u001b[0m\u001b[0;34m\u001b[0m\u001b[0m\n",
      "\u001b[0;32m~/anaconda3/lib/python3.7/site-packages/IPython/core/ultratb.py\u001b[0m in \u001b[0;36mstructured_traceback\u001b[0;34m(self, etype, value, tb, tb_offset, number_of_lines_of_context)\u001b[0m\n\u001b[1;32m   1434\u001b[0m             \u001b[0mself\u001b[0m\u001b[0;34m.\u001b[0m\u001b[0mtb\u001b[0m \u001b[0;34m=\u001b[0m \u001b[0mtb\u001b[0m\u001b[0;34m\u001b[0m\u001b[0;34m\u001b[0m\u001b[0m\n\u001b[1;32m   1435\u001b[0m         return FormattedTB.structured_traceback(\n\u001b[0;32m-> 1436\u001b[0;31m             self, etype, value, tb, tb_offset, number_of_lines_of_context)\n\u001b[0m\u001b[1;32m   1437\u001b[0m \u001b[0;34m\u001b[0m\u001b[0m\n\u001b[1;32m   1438\u001b[0m \u001b[0;34m\u001b[0m\u001b[0m\n",
      "\u001b[0;32m~/anaconda3/lib/python3.7/site-packages/IPython/core/ultratb.py\u001b[0m in \u001b[0;36mstructured_traceback\u001b[0;34m(self, etype, value, tb, tb_offset, number_of_lines_of_context)\u001b[0m\n\u001b[1;32m   1334\u001b[0m             \u001b[0;31m# Verbose modes need a full traceback\u001b[0m\u001b[0;34m\u001b[0m\u001b[0;34m\u001b[0m\u001b[0;34m\u001b[0m\u001b[0m\n\u001b[1;32m   1335\u001b[0m             return VerboseTB.structured_traceback(\n\u001b[0;32m-> 1336\u001b[0;31m                 \u001b[0mself\u001b[0m\u001b[0;34m,\u001b[0m \u001b[0metype\u001b[0m\u001b[0;34m,\u001b[0m \u001b[0mvalue\u001b[0m\u001b[0;34m,\u001b[0m \u001b[0mtb\u001b[0m\u001b[0;34m,\u001b[0m \u001b[0mtb_offset\u001b[0m\u001b[0;34m,\u001b[0m \u001b[0mnumber_of_lines_of_context\u001b[0m\u001b[0;34m\u001b[0m\u001b[0;34m\u001b[0m\u001b[0m\n\u001b[0m\u001b[1;32m   1337\u001b[0m             )\n\u001b[1;32m   1338\u001b[0m         \u001b[0;32melif\u001b[0m \u001b[0mmode\u001b[0m \u001b[0;34m==\u001b[0m \u001b[0;34m'Minimal'\u001b[0m\u001b[0;34m:\u001b[0m\u001b[0;34m\u001b[0m\u001b[0;34m\u001b[0m\u001b[0m\n",
      "\u001b[0;32m~/anaconda3/lib/python3.7/site-packages/IPython/core/ultratb.py\u001b[0m in \u001b[0;36mstructured_traceback\u001b[0;34m(self, etype, evalue, etb, tb_offset, number_of_lines_of_context)\u001b[0m\n\u001b[1;32m   1191\u001b[0m \u001b[0;34m\u001b[0m\u001b[0m\n\u001b[1;32m   1192\u001b[0m         formatted_exception = self.format_exception_as_a_whole(etype, evalue, etb, number_of_lines_of_context,\n\u001b[0;32m-> 1193\u001b[0;31m                                                                tb_offset)\n\u001b[0m\u001b[1;32m   1194\u001b[0m \u001b[0;34m\u001b[0m\u001b[0m\n\u001b[1;32m   1195\u001b[0m         \u001b[0mcolors\u001b[0m \u001b[0;34m=\u001b[0m \u001b[0mself\u001b[0m\u001b[0;34m.\u001b[0m\u001b[0mColors\u001b[0m  \u001b[0;31m# just a shorthand + quicker name lookup\u001b[0m\u001b[0;34m\u001b[0m\u001b[0;34m\u001b[0m\u001b[0m\n",
      "\u001b[0;32m~/anaconda3/lib/python3.7/site-packages/IPython/core/ultratb.py\u001b[0m in \u001b[0;36mformat_exception_as_a_whole\u001b[0;34m(self, etype, evalue, etb, number_of_lines_of_context, tb_offset)\u001b[0m\n\u001b[1;32m   1148\u001b[0m \u001b[0;34m\u001b[0m\u001b[0m\n\u001b[1;32m   1149\u001b[0m \u001b[0;34m\u001b[0m\u001b[0m\n\u001b[0;32m-> 1150\u001b[0;31m         \u001b[0mlast_unique\u001b[0m\u001b[0;34m,\u001b[0m \u001b[0mrecursion_repeat\u001b[0m \u001b[0;34m=\u001b[0m \u001b[0mfind_recursion\u001b[0m\u001b[0;34m(\u001b[0m\u001b[0morig_etype\u001b[0m\u001b[0;34m,\u001b[0m \u001b[0mevalue\u001b[0m\u001b[0;34m,\u001b[0m \u001b[0mrecords\u001b[0m\u001b[0;34m)\u001b[0m\u001b[0;34m\u001b[0m\u001b[0;34m\u001b[0m\u001b[0m\n\u001b[0m\u001b[1;32m   1151\u001b[0m \u001b[0;34m\u001b[0m\u001b[0m\n\u001b[1;32m   1152\u001b[0m         \u001b[0mframes\u001b[0m \u001b[0;34m=\u001b[0m \u001b[0mself\u001b[0m\u001b[0;34m.\u001b[0m\u001b[0mformat_records\u001b[0m\u001b[0;34m(\u001b[0m\u001b[0mrecords\u001b[0m\u001b[0;34m,\u001b[0m \u001b[0mlast_unique\u001b[0m\u001b[0;34m,\u001b[0m \u001b[0mrecursion_repeat\u001b[0m\u001b[0;34m)\u001b[0m\u001b[0;34m\u001b[0m\u001b[0;34m\u001b[0m\u001b[0m\n",
      "\u001b[0;32m~/anaconda3/lib/python3.7/site-packages/IPython/core/ultratb.py\u001b[0m in \u001b[0;36mfind_recursion\u001b[0;34m(etype, value, records)\u001b[0m\n\u001b[1;32m    449\u001b[0m     \u001b[0;31m# first frame (from in to out) that looks different.\u001b[0m\u001b[0;34m\u001b[0m\u001b[0;34m\u001b[0m\u001b[0;34m\u001b[0m\u001b[0m\n\u001b[1;32m    450\u001b[0m     \u001b[0;32mif\u001b[0m \u001b[0;32mnot\u001b[0m \u001b[0mis_recursion_error\u001b[0m\u001b[0;34m(\u001b[0m\u001b[0metype\u001b[0m\u001b[0;34m,\u001b[0m \u001b[0mvalue\u001b[0m\u001b[0;34m,\u001b[0m \u001b[0mrecords\u001b[0m\u001b[0;34m)\u001b[0m\u001b[0;34m:\u001b[0m\u001b[0;34m\u001b[0m\u001b[0;34m\u001b[0m\u001b[0m\n\u001b[0;32m--> 451\u001b[0;31m         \u001b[0;32mreturn\u001b[0m \u001b[0mlen\u001b[0m\u001b[0;34m(\u001b[0m\u001b[0mrecords\u001b[0m\u001b[0;34m)\u001b[0m\u001b[0;34m,\u001b[0m \u001b[0;36m0\u001b[0m\u001b[0;34m\u001b[0m\u001b[0;34m\u001b[0m\u001b[0m\n\u001b[0m\u001b[1;32m    452\u001b[0m \u001b[0;34m\u001b[0m\u001b[0m\n\u001b[1;32m    453\u001b[0m     \u001b[0;31m# Select filename, lineno, func_name to track frames with\u001b[0m\u001b[0;34m\u001b[0m\u001b[0;34m\u001b[0m\u001b[0;34m\u001b[0m\u001b[0m\n",
      "\u001b[0;31mTypeError\u001b[0m: object of type 'NoneType' has no len()"
     ]
    }
   ],
   "source": [
    "for machine_type in machine_types[2:]:\n",
    "    history = run(machine_type)\n",
    "    #with open('{}/{}_history.pkl'.format(PKL_DIR, machine_type), 'wb') as file:\n",
    "    #    pickle.dump(history , file)"
   ]
  },
  {
   "cell_type": "markdown",
   "metadata": {},
   "source": [
    "history = run('ToyCar')\n",
    "with open('{}/{}_history.pkl'.format(PKL_DIR, machine_type), 'wb') as file:\n",
    "    pickle.dump(history , file)"
   ]
  },
  {
   "cell_type": "raw",
   "metadata": {},
   "source": [
    "history['reconstruct_img']['label']"
   ]
  }
 ],
 "metadata": {
  "kernelspec": {
   "display_name": "Python 3",
   "language": "python",
   "name": "python3"
  },
  "language_info": {
   "codemirror_mode": {
    "name": "ipython",
    "version": 3
   },
   "file_extension": ".py",
   "mimetype": "text/x-python",
   "name": "python",
   "nbconvert_exporter": "python",
   "pygments_lexer": "ipython3",
   "version": "3.7.7"
  },
  "toc": {
   "base_numbering": 1,
   "nav_menu": {},
   "number_sections": true,
   "sideBar": true,
   "skip_h1_title": false,
   "title_cell": "Table of Contents",
   "title_sidebar": "Contents",
   "toc_cell": false,
   "toc_position": {},
   "toc_section_display": true,
   "toc_window_display": false
  }
 },
 "nbformat": 4,
 "nbformat_minor": 4
}
