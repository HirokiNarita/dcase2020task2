{
 "cells": [
  {
   "cell_type": "markdown",
   "metadata": {},
   "source": [
    "# train"
   ]
  },
  {
   "cell_type": "code",
   "execution_count": 1,
   "metadata": {},
   "outputs": [],
   "source": [
    "import yaml\n",
    "import os\n",
    "\n",
    "with open(\"./config.yaml\", 'rb') as f:\n",
    "    config = yaml.load(f)"
   ]
  },
  {
   "cell_type": "code",
   "execution_count": 2,
   "metadata": {},
   "outputs": [],
   "source": [
    "OUTPUT_ROOT = config['IO_OPTION']['OUTPUT_ROOT']\n",
    "os.makedirs(OUTPUT_ROOT, exist_ok=True)"
   ]
  },
  {
   "cell_type": "markdown",
   "metadata": {},
   "source": [
    "## load library"
   ]
  },
  {
   "cell_type": "code",
   "execution_count": 3,
   "metadata": {},
   "outputs": [],
   "source": [
    "# python default library\n",
    "import os\n",
    "import shutil\n",
    "import datetime\n",
    "import sys\n",
    "import pickle\n",
    "\n",
    "# general analysis tool-kit\n",
    "import numpy as np\n",
    "from sklearn.model_selection import train_test_split\n",
    "import matplotlib.pyplot as plt\n",
    "\n",
    "# pytorch\n",
    "import torch\n",
    "from torch import optim, nn\n",
    "from torch.utils.tensorboard import SummaryWriter\n",
    "\n",
    "from torchsummary import summary\n",
    "\n",
    "# etc\n",
    "import yaml\n",
    "yaml.warnings({'YAMLLoadWarning': False})\n",
    "import mlflow\n",
    "from collections import defaultdict\n",
    "from scipy.stats import zscore\n",
    "\n",
    "# original library\n",
    "\n",
    "import common as com\n",
    "import pytorch_modeler as modeler\n",
    "from pytorch_model import DAGMM as Model\n",
    "from pytorch_utils import filtered_load_model\n",
    "import models\n",
    "\n",
    "import librosa\n",
    "import IPython\n",
    "import librosa.display"
   ]
  },
  {
   "cell_type": "markdown",
   "metadata": {},
   "source": [
    "## load config and set logger"
   ]
  },
  {
   "cell_type": "code",
   "execution_count": 4,
   "metadata": {},
   "outputs": [
    {
     "name": "stderr",
     "output_type": "stream",
     "text": [
      "/home/hiroki/anaconda3/lib/python3.7/site-packages/ipykernel/ipkernel.py:287: DeprecationWarning: `should_run_async` will not call `transform_cell` automatically in the future. Please pass the result to `transformed_cell` argument and any exception that happen during thetransform in `preprocessing_exc_tuple` in IPython 7.17 and above.\n",
      "  and should_run_async(code)\n"
     ]
    }
   ],
   "source": [
    "#with open(\"./config.yaml\", 'rb') as f:\n",
    "#    config = yaml.load(f)\n",
    "\n",
    "log_folder = config['IO_OPTION']['OUTPUT_ROOT']+'/{0}.log'.format(datetime.date.today())\n",
    "logger = com.setup_logger(log_folder, '00_train.py')"
   ]
  },
  {
   "cell_type": "markdown",
   "metadata": {},
   "source": [
    "## Setting"
   ]
  },
  {
   "cell_type": "code",
   "execution_count": 5,
   "metadata": {},
   "outputs": [],
   "source": [
    "# Setting seed\n",
    "modeler.set_seed(42)"
   ]
  },
  {
   "cell_type": "code",
   "execution_count": 6,
   "metadata": {},
   "outputs": [
    {
     "data": {
      "text/plain": [
       "'/media/hiroki/working/research/dcase2020/result/2D/DAGMM_LSTM_CONV/config.yaml'"
      ]
     },
     "execution_count": 6,
     "metadata": {},
     "output_type": "execute_result"
    }
   ],
   "source": [
    "############################################################################\n",
    "# Setting I/O path\n",
    "############################################################################\n",
    "# input dirs\n",
    "INPUT_ROOT = config['IO_OPTION']['INPUT_ROOT']\n",
    "dev_path = INPUT_ROOT + \"/dev_data\"\n",
    "add_dev_path = INPUT_ROOT + \"/add_dev_data\"\n",
    "# machine type\n",
    "MACHINE_TYPE = config['IO_OPTION']['MACHINE_TYPE']\n",
    "machine_types = os.listdir(dev_path)\n",
    "# output dirs\n",
    "OUTPUT_ROOT = config['IO_OPTION']['OUTPUT_ROOT']\n",
    "MODEL_DIR = config['IO_OPTION']['OUTPUT_ROOT'] + '/models'\n",
    "TB_DIR = config['IO_OPTION']['OUTPUT_ROOT'] + '/tb'\n",
    "PKL_DIR = OUTPUT_ROOT + '/pkl'\n",
    "#os.makedirs(OUTPUT_ROOT, exist_ok=True)\n",
    "os.makedirs(MODEL_DIR, exist_ok=True)\n",
    "os.makedirs(TB_DIR, exist_ok=True)\n",
    "os.makedirs(PKL_DIR, exist_ok=True)\n",
    "# copy config\n",
    "shutil.copy('./config.yaml', OUTPUT_ROOT)"
   ]
  },
  {
   "cell_type": "markdown",
   "metadata": {},
   "source": [
    "## make path list and train/valid split"
   ]
  },
  {
   "cell_type": "code",
   "execution_count": 7,
   "metadata": {},
   "outputs": [],
   "source": [
    "############################################################################\n",
    "# make path set and train/valid split\n",
    "############################################################################\n",
    "'''\n",
    "train_paths[machine_type]['train' or 'valid'] = path\n",
    "'''\n",
    "dev_train_paths = {}\n",
    "add_train_paths = {}\n",
    "train_paths = {}"
   ]
  },
  {
   "cell_type": "code",
   "execution_count": 8,
   "metadata": {},
   "outputs": [],
   "source": [
    "for machine_type in machine_types:\n",
    "    # dev train\n",
    "    dev_train_paths = [\"{}/{}/train/\".format(dev_path, machine_type) + file for file in os.listdir(\"{}/{}/train\".format(dev_path, machine_type))]\n",
    "    dev_train_paths = sorted(dev_train_paths)\n",
    "    # add_dev train\n",
    "    add_train_paths = [\"{}/{}/train/\".format(add_dev_path, machine_type) + file for file in os.listdir(\"{}/{}/train\".format(add_dev_path, machine_type))]\n",
    "    add_train_paths = sorted(add_train_paths)\n",
    "    # valid\n",
    "    dev_valid_paths = [\"{}/{}/test/\".format(dev_path, machine_type) + file for file in os.listdir(\"{}/{}/test\".format(dev_path, machine_type))]\n",
    "    dev_valid_paths = sorted(dev_valid_paths)\n",
    "    \n",
    "    train_paths[machine_type] = {}\n",
    "    train_paths[machine_type]['train'] = dev_train_paths + add_train_paths\n",
    "    train_paths[machine_type]['valid'] = dev_valid_paths"
   ]
  },
  {
   "cell_type": "raw",
   "metadata": {},
   "source": [
    "# for machine_type in machine_types:\n",
    "    # dev train\n",
    "    dev_train_all_paths = [\"{}/{}/train/\".format(dev_path, machine_type) + file for file in os.listdir(\"{}/{}/train\".format(dev_path, machine_type))]\n",
    "    dev_train_all_paths = sorted(dev_train_all_paths)\n",
    "    dev_train_paths[machine_type] = {}\n",
    "    dev_train_paths[machine_type]['train'], \\\n",
    "    dev_train_paths[machine_type]['valid'] = train_test_split(dev_train_all_paths,\n",
    "                                                              test_size=config['etc']['test_size'],\n",
    "                                                              shuffle=False,\n",
    "                                                             )\n",
    "    # add_dev train\n",
    "    add_train_all_paths = [\"{}/{}/train/\".format(add_dev_path, machine_type) + file for file in os.listdir(\"{}/{}/train\".format(add_dev_path, machine_type))]\n",
    "    add_train_all_paths = sorted(add_train_all_paths)\n",
    "    add_train_paths[machine_type] = {}\n",
    "    add_train_paths[machine_type]['train'], \\\n",
    "    add_train_paths[machine_type]['valid'] = train_test_split(add_train_all_paths,\n",
    "                                                              test_size=config['etc']['test_size'],\n",
    "                                                              shuffle=False,\n",
    "                                                             )\n",
    "    train_paths[machine_type] = {}\n",
    "    train_paths[machine_type]['train'] = dev_train_paths[machine_type]['train'] + add_train_paths[machine_type]['train']\n",
    "    train_paths[machine_type]['valid'] = dev_train_paths[machine_type]['valid'] + add_train_paths[machine_type]['valid']"
   ]
  },
  {
   "cell_type": "markdown",
   "metadata": {},
   "source": [
    "## training"
   ]
  },
  {
   "cell_type": "code",
   "execution_count": 9,
   "metadata": {},
   "outputs": [],
   "source": [
    "#############################################################################\n",
    "# run\n",
    "#############################################################################\n",
    "def run(machine_type):\n",
    "    com.tic()\n",
    "    logger.info('TARGET MACHINE_TYPE: {0}'.format(machine_type))\n",
    "    logger.info('MAKE DATA_LOADER')\n",
    "    # dev_train_paths\n",
    "    dataloaders_dict = modeler.make_dataloader(train_paths, machine_type)\n",
    "    # define writer for tensorbord\n",
    "    os.makedirs(TB_DIR+'/'+machine_type, exist_ok=True)         # debug\n",
    "    tb_log_dir = TB_DIR + '/' + machine_type\n",
    "    writer = SummaryWriter(log_dir = tb_log_dir)\n",
    "    logger.info('TRAINING')\n",
    "    # parameter setting\n",
    "    net = Model(sample_rate=config['preprocessing']['sample_rate'],\n",
    "                window_size=config['preprocessing']['window_size'],\n",
    "                hop_size=config['preprocessing']['hop_size'],\n",
    "                mel_bins=config['preprocessing']['mel_bins'],\n",
    "                fmin=config['preprocessing']['fmin'],\n",
    "                fmax=config['preprocessing']['fmax'],\n",
    "                latent_size=config['fit']['latent_size'],\n",
    "                mixture_size=config['fit']['mixture_size'])\n",
    "    #pretrained_dict = torch.load(config['IO_OPTION']['PREMODEL_PATH'])\n",
    "    #net = filtered_load_model(net, pretrained_dict)\n",
    "    optimizer = optim.Adam(net.parameters(), lr=1e-2)\n",
    "    num_epochs = config['fit']['num_epochs']\n",
    "    scheduler = optim.lr_scheduler.OneCycleLR(optimizer=optimizer, pct_start=0.1, div_factor=1e3, \n",
    "                                              max_lr=1e-2, epochs=num_epochs, steps_per_epoch=len(dataloaders_dict['train']))\n",
    "    criterion = nn.MSELoss()\n",
    "    history = modeler.train_net(net, dataloaders_dict, criterion, optimizer, scheduler, num_epochs, writer)\n",
    "    # output\n",
    "    model = history['model']\n",
    "    model_out_path = MODEL_DIR+'/{}_model.pth'.format(machine_type)\n",
    "    torch.save(model.state_dict(), model_out_path)\n",
    "    logger.info('\\n success:{0} \\n'.format(machine_type) + \\\n",
    "                    'model_out_path ==> \\n {0}'.format(model_out_path))\n",
    "    #  close writer for tensorbord\n",
    "    writer.close()\n",
    "    #modeler.mlflow_log(history, config, machine_type, model_out_path, tb_log_dir)\n",
    "    com.toc()\n",
    "    return history"
   ]
  },
  {
   "cell_type": "code",
   "execution_count": 10,
   "metadata": {},
   "outputs": [
    {
     "data": {
      "text/plain": [
       "['fan', 'pump', 'slider', 'ToyCar', 'ToyConveyor', 'valve']"
      ]
     },
     "execution_count": 10,
     "metadata": {},
     "output_type": "execute_result"
    }
   ],
   "source": [
    "machine_types"
   ]
  },
  {
   "cell_type": "markdown",
   "metadata": {
    "scrolled": true
   },
   "source": [
    "for machine_type in machine_types:\n",
    "    history = run(machine_type)\n",
    "    with open('{}/{}_history.pkl'.format(PKL_DIR, machine_type), 'wb') as file:\n",
    "        pickle.dump(history , file)"
   ]
  },
  {
   "cell_type": "code",
   "execution_count": 11,
   "metadata": {},
   "outputs": [
    {
     "name": "stderr",
     "output_type": "stream",
     "text": [
      "2020-11-26 00:28:45,685 - 00_train.py - INFO - TARGET MACHINE_TYPE: ToyCar\n",
      "2020-11-26 00:28:45,686 - 00_train.py - INFO - MAKE DATA_LOADER\n",
      "2020-11-26 00:28:46,645 - 00_train.py - INFO - TRAINING\n"
     ]
    },
    {
     "name": "stdout",
     "output_type": "stream",
     "text": [
      "use: cuda:0\n"
     ]
    },
    {
     "name": "stderr",
     "output_type": "stream",
     "text": [
      "100%|██████████| 110/110 [00:25<00:00,  4.37it/s]\n",
      "100%|██████████| 38/38 [00:05<00:00,  7.45it/s]\n",
      "2020-11-26 00:29:18,768 - pytorch_modeler.py - INFO - Epoch 1/100:train_loss:56.855647, tr_rec:6.299897, tr_eng:451.154285, tr_covd:54403.200607, val_AUC:0.565383, val_pAUC:0.503584\n",
      "100%|██████████| 110/110 [00:24<00:00,  4.51it/s]\n",
      "100%|██████████| 38/38 [00:04<00:00,  7.74it/s]\n",
      "2020-11-26 00:29:48,100 - pytorch_modeler.py - INFO - Epoch 2/100:train_loss:44.582342, tr_rec:2.486505, tr_eng:402.261117, tr_covd:18697.250641, val_AUC:0.408260, val_pAUC:0.502364\n",
      "100%|██████████| 110/110 [00:24<00:00,  4.52it/s]\n",
      "100%|██████████| 38/38 [00:04<00:00,  7.80it/s]\n",
      "2020-11-26 00:30:17,339 - pytorch_modeler.py - INFO - Epoch 3/100:train_loss:12.481002, tr_rec:2.166864, tr_eng:85.094620, tr_covd:18046.762573, val_AUC:0.424559, val_pAUC:0.505309\n",
      "100%|██████████| 110/110 [00:24<00:00,  4.53it/s]\n",
      "100%|██████████| 38/38 [00:04<00:00,  7.76it/s]\n",
      "2020-11-26 00:30:46,537 - pytorch_modeler.py - INFO - Epoch 4/100:train_loss:5.556711, tr_rec:1.945681, tr_eng:16.174571, tr_covd:19935.731972, val_AUC:0.531169, val_pAUC:0.502674\n",
      "100%|██████████| 110/110 [00:25<00:00,  4.37it/s]\n",
      "100%|██████████| 38/38 [00:05<00:00,  7.36it/s]\n",
      "2020-11-26 00:31:16,878 - pytorch_modeler.py - INFO - Epoch 5/100:train_loss:8.790660, tr_rec:1.886872, tr_eng:39.616736, tr_covd:29421.142868, val_AUC:0.495531, val_pAUC:0.499765\n",
      "100%|██████████| 110/110 [00:25<00:00,  4.27it/s]\n",
      "100%|██████████| 38/38 [00:05<00:00,  7.40it/s]\n",
      "2020-11-26 00:31:47,772 - pytorch_modeler.py - INFO - Epoch 6/100:train_loss:14.172477, tr_rec:1.992125, tr_eng:100.577841, tr_covd:21225.679581, val_AUC:0.574533, val_pAUC:0.502829\n",
      "100%|██████████| 110/110 [00:25<00:00,  4.30it/s]\n",
      "100%|██████████| 38/38 [00:05<00:00,  7.21it/s]\n",
      "2020-11-26 00:32:18,634 - pytorch_modeler.py - INFO - Epoch 7/100:train_loss:14.271069, tr_rec:1.947254, tr_eng:101.949046, tr_covd:21289.107498, val_AUC:0.532598, val_pAUC:0.502829\n",
      "100%|██████████| 110/110 [00:25<00:00,  4.40it/s]\n",
      "100%|██████████| 38/38 [00:05<00:00,  7.36it/s]\n",
      "2020-11-26 00:32:48,833 - pytorch_modeler.py - INFO - Epoch 8/100:train_loss:18.075700, tr_rec:1.910363, tr_eng:142.248843, tr_covd:19404.531204, val_AUC:0.656736, val_pAUC:0.502829\n",
      "100%|██████████| 110/110 [00:24<00:00,  4.49it/s]\n",
      "100%|██████████| 38/38 [00:04<00:00,  7.69it/s]\n",
      "2020-11-26 00:33:18,301 - pytorch_modeler.py - INFO - Epoch 9/100:train_loss:37.848299, tr_rec:1.311265, tr_eng:312.043402, tr_covd:53326.935944, val_AUC:0.500000, val_pAUC:0.500000\n",
      "100%|██████████| 110/110 [00:24<00:00,  4.44it/s]\n",
      "100%|██████████| 38/38 [00:05<00:00,  7.56it/s]\n",
      "2020-11-26 00:33:48,094 - pytorch_modeler.py - INFO - Epoch 10/100:train_loss:57.831309, tr_rec:0.638331, tr_eng:499.406940, tr_covd:72522.842590, val_AUC:0.500000, val_pAUC:0.500000\n",
      "100%|██████████| 110/110 [00:24<00:00,  4.42it/s]\n",
      "100%|██████████| 38/38 [00:05<00:00,  7.29it/s]\n",
      "2020-11-26 00:34:18,204 - pytorch_modeler.py - INFO - Epoch 11/100:train_loss:40.914702, tr_rec:0.634108, tr_eng:326.111630, tr_covd:76694.302795, val_AUC:0.500000, val_pAUC:0.500000\n",
      "100%|██████████| 110/110 [00:24<00:00,  4.42it/s]\n",
      "100%|██████████| 38/38 [00:04<00:00,  7.74it/s]\n",
      "2020-11-26 00:34:48,034 - pytorch_modeler.py - INFO - Epoch 12/100:train_loss:50.869176, tr_rec:0.654671, tr_eng:429.465912, tr_covd:72679.131226, val_AUC:0.500000, val_pAUC:0.500000\n",
      "100%|██████████| 110/110 [00:24<00:00,  4.40it/s]\n",
      "100%|██████████| 38/38 [00:05<00:00,  7.34it/s]\n",
      "2020-11-26 00:35:18,193 - pytorch_modeler.py - INFO - Epoch 13/100:train_loss:31.739278, tr_rec:0.613627, tr_eng:237.212028, tr_covd:74044.479980, val_AUC:0.500000, val_pAUC:0.500000\n",
      "100%|██████████| 110/110 [00:25<00:00,  4.34it/s]\n",
      "100%|██████████| 38/38 [00:05<00:00,  6.87it/s]\n",
      "2020-11-26 00:35:49,056 - pytorch_modeler.py - INFO - Epoch 14/100:train_loss:-5.784431, tr_rec:0.582403, tr_eng:-140.026003, tr_covd:76357.666931, val_AUC:0.500000, val_pAUC:0.500000\n",
      "100%|██████████| 110/110 [00:24<00:00,  4.42it/s]\n",
      "100%|██████████| 38/38 [00:04<00:00,  7.76it/s]\n",
      "2020-11-26 00:36:18,850 - pytorch_modeler.py - INFO - Epoch 15/100:train_loss:13.389200, tr_rec:0.643545, tr_eng:54.596578, tr_covd:72859.968384, val_AUC:0.500000, val_pAUC:0.500000\n",
      "100%|██████████| 110/110 [00:24<00:00,  4.48it/s]\n",
      "100%|██████████| 38/38 [00:04<00:00,  7.83it/s]\n",
      "2020-11-26 00:36:48,266 - pytorch_modeler.py - INFO - Epoch 16/100:train_loss:54.672317, tr_rec:0.633992, tr_eng:467.139440, tr_covd:73243.807800, val_AUC:0.500000, val_pAUC:0.500000\n",
      " 41%|████      | 45/110 [00:10<00:14,  4.41it/s]\n"
     ]
    },
    {
     "ename": "KeyboardInterrupt",
     "evalue": "",
     "output_type": "error",
     "traceback": [
      "\u001b[0;31m---------------------------------------------------------------------------\u001b[0m",
      "\u001b[0;31mKeyboardInterrupt\u001b[0m                         Traceback (most recent call last)",
      "\u001b[0;32m<ipython-input-11-83b4a16a15ab>\u001b[0m in \u001b[0;36m<module>\u001b[0;34m\u001b[0m\n\u001b[0;32m----> 1\u001b[0;31m \u001b[0mhistory\u001b[0m \u001b[0;34m=\u001b[0m \u001b[0mrun\u001b[0m\u001b[0;34m(\u001b[0m\u001b[0;34m'ToyCar'\u001b[0m\u001b[0;34m)\u001b[0m\u001b[0;34m\u001b[0m\u001b[0;34m\u001b[0m\u001b[0m\n\u001b[0m\u001b[1;32m      2\u001b[0m \u001b[0;32mwith\u001b[0m \u001b[0mopen\u001b[0m\u001b[0;34m(\u001b[0m\u001b[0;34m'{}/{}_history.pkl'\u001b[0m\u001b[0;34m.\u001b[0m\u001b[0mformat\u001b[0m\u001b[0;34m(\u001b[0m\u001b[0mPKL_DIR\u001b[0m\u001b[0;34m,\u001b[0m \u001b[0mmachine_type\u001b[0m\u001b[0;34m)\u001b[0m\u001b[0;34m,\u001b[0m \u001b[0;34m'wb'\u001b[0m\u001b[0;34m)\u001b[0m \u001b[0;32mas\u001b[0m \u001b[0mfile\u001b[0m\u001b[0;34m:\u001b[0m\u001b[0;34m\u001b[0m\u001b[0;34m\u001b[0m\u001b[0m\n\u001b[1;32m      3\u001b[0m     \u001b[0mpickle\u001b[0m\u001b[0;34m.\u001b[0m\u001b[0mdump\u001b[0m\u001b[0;34m(\u001b[0m\u001b[0mhistory\u001b[0m \u001b[0;34m,\u001b[0m \u001b[0mfile\u001b[0m\u001b[0;34m)\u001b[0m\u001b[0;34m\u001b[0m\u001b[0;34m\u001b[0m\u001b[0m\n",
      "\u001b[0;32m<ipython-input-9-0f13bc2aa96e>\u001b[0m in \u001b[0;36mrun\u001b[0;34m(machine_type)\u001b[0m\n\u001b[1;32m     27\u001b[0m                                               max_lr=1e-2, epochs=num_epochs, steps_per_epoch=len(dataloaders_dict['train']))\n\u001b[1;32m     28\u001b[0m     \u001b[0mcriterion\u001b[0m \u001b[0;34m=\u001b[0m \u001b[0mnn\u001b[0m\u001b[0;34m.\u001b[0m\u001b[0mMSELoss\u001b[0m\u001b[0;34m(\u001b[0m\u001b[0;34m)\u001b[0m\u001b[0;34m\u001b[0m\u001b[0;34m\u001b[0m\u001b[0m\n\u001b[0;32m---> 29\u001b[0;31m     \u001b[0mhistory\u001b[0m \u001b[0;34m=\u001b[0m \u001b[0mmodeler\u001b[0m\u001b[0;34m.\u001b[0m\u001b[0mtrain_net\u001b[0m\u001b[0;34m(\u001b[0m\u001b[0mnet\u001b[0m\u001b[0;34m,\u001b[0m \u001b[0mdataloaders_dict\u001b[0m\u001b[0;34m,\u001b[0m \u001b[0mcriterion\u001b[0m\u001b[0;34m,\u001b[0m \u001b[0moptimizer\u001b[0m\u001b[0;34m,\u001b[0m \u001b[0mscheduler\u001b[0m\u001b[0;34m,\u001b[0m \u001b[0mnum_epochs\u001b[0m\u001b[0;34m,\u001b[0m \u001b[0mwriter\u001b[0m\u001b[0;34m)\u001b[0m\u001b[0;34m\u001b[0m\u001b[0;34m\u001b[0m\u001b[0m\n\u001b[0m\u001b[1;32m     30\u001b[0m     \u001b[0;31m# output\u001b[0m\u001b[0;34m\u001b[0m\u001b[0;34m\u001b[0m\u001b[0;34m\u001b[0m\u001b[0m\n\u001b[1;32m     31\u001b[0m     \u001b[0mmodel\u001b[0m \u001b[0;34m=\u001b[0m \u001b[0mhistory\u001b[0m\u001b[0;34m[\u001b[0m\u001b[0;34m'model'\u001b[0m\u001b[0;34m]\u001b[0m\u001b[0;34m\u001b[0m\u001b[0;34m\u001b[0m\u001b[0m\n",
      "\u001b[0;32m/media/hiroki/working/research/dcase2020/2D_codes/DPGMM_LSTM_CONV/baseline/pytorch_modeler.py\u001b[0m in \u001b[0;36mtrain_net\u001b[0;34m(net, dataloaders_dict, criterion, optimizer, scheduler, num_epochs, writer)\u001b[0m\n\u001b[1;32m    151\u001b[0m                     \u001b[0minput\u001b[0m \u001b[0;34m=\u001b[0m \u001b[0msample\u001b[0m\u001b[0;34m[\u001b[0m\u001b[0;34m'feature'\u001b[0m\u001b[0;34m]\u001b[0m\u001b[0;34m\u001b[0m\u001b[0;34m\u001b[0m\u001b[0m\n\u001b[1;32m    152\u001b[0m                     \u001b[0minput\u001b[0m \u001b[0;34m=\u001b[0m \u001b[0mto_var\u001b[0m\u001b[0;34m(\u001b[0m\u001b[0minput\u001b[0m\u001b[0;34m)\u001b[0m\u001b[0;34m\u001b[0m\u001b[0;34m\u001b[0m\u001b[0m\n\u001b[0;32m--> 153\u001b[0;31m                     \u001b[0mnet\u001b[0m\u001b[0;34m,\u001b[0m \u001b[0mtotal_loss\u001b[0m\u001b[0;34m,\u001b[0m \u001b[0msample_energy\u001b[0m\u001b[0;34m,\u001b[0m \u001b[0mrecon_error\u001b[0m\u001b[0;34m,\u001b[0m \u001b[0mcov_diag\u001b[0m \u001b[0;34m=\u001b[0m \u001b[0mdagmm_step\u001b[0m\u001b[0;34m(\u001b[0m\u001b[0mnet\u001b[0m\u001b[0;34m,\u001b[0m \u001b[0minput\u001b[0m\u001b[0;34m,\u001b[0m \u001b[0moptimizer\u001b[0m\u001b[0;34m,\u001b[0m \u001b[0mscheduler\u001b[0m\u001b[0;34m,\u001b[0m \u001b[0mdevice\u001b[0m\u001b[0;34m)\u001b[0m\u001b[0;34m\u001b[0m\u001b[0;34m\u001b[0m\u001b[0m\n\u001b[0m\u001b[1;32m    154\u001b[0m                     \u001b[0mtr_losses\u001b[0m \u001b[0;34m+=\u001b[0m \u001b[0mtotal_loss\u001b[0m\u001b[0;34m.\u001b[0m\u001b[0mdata\u001b[0m\u001b[0;34m.\u001b[0m\u001b[0mitem\u001b[0m\u001b[0;34m(\u001b[0m\u001b[0;34m)\u001b[0m\u001b[0;34m\u001b[0m\u001b[0;34m\u001b[0m\u001b[0m\n\u001b[1;32m    155\u001b[0m                     \u001b[0mtr_eng\u001b[0m \u001b[0;34m+=\u001b[0m \u001b[0msample_energy\u001b[0m\u001b[0;34m.\u001b[0m\u001b[0mitem\u001b[0m\u001b[0;34m(\u001b[0m\u001b[0;34m)\u001b[0m\u001b[0;34m\u001b[0m\u001b[0;34m\u001b[0m\u001b[0m\n",
      "\u001b[0;32m/media/hiroki/working/research/dcase2020/2D_codes/DPGMM_LSTM_CONV/baseline/pytorch_modeler.py\u001b[0m in \u001b[0;36mdagmm_step\u001b[0;34m(net, input_data, optimizer, scheduler, device)\u001b[0m\n\u001b[1;32m    220\u001b[0m                                                                          \u001b[0mnn_out\u001b[0m\u001b[0;34m[\u001b[0m\u001b[0;34m'gamma'\u001b[0m\u001b[0;34m]\u001b[0m\u001b[0;34m,\u001b[0m\u001b[0;34m\u001b[0m\u001b[0;34m\u001b[0m\u001b[0m\n\u001b[1;32m    221\u001b[0m                                                                          \u001b[0mconfig\u001b[0m\u001b[0;34m[\u001b[0m\u001b[0;34m'fit'\u001b[0m\u001b[0;34m]\u001b[0m\u001b[0;34m[\u001b[0m\u001b[0;34m'lambda_energy'\u001b[0m\u001b[0;34m]\u001b[0m\u001b[0;34m,\u001b[0m\u001b[0;34m\u001b[0m\u001b[0;34m\u001b[0m\u001b[0m\n\u001b[0;32m--> 222\u001b[0;31m                                                                          config['fit']['lambda_cov_diag'])\n\u001b[0m\u001b[1;32m    223\u001b[0m     \u001b[0;31m#print(total_loss, sample_energy, recon_error, cov_diag)\u001b[0m\u001b[0;34m\u001b[0m\u001b[0;34m\u001b[0m\u001b[0;34m\u001b[0m\u001b[0m\n\u001b[1;32m    224\u001b[0m     \u001b[0mnet\u001b[0m\u001b[0;34m.\u001b[0m\u001b[0mzero_grad\u001b[0m\u001b[0;34m(\u001b[0m\u001b[0;34m)\u001b[0m\u001b[0;34m\u001b[0m\u001b[0;34m\u001b[0m\u001b[0m\n",
      "\u001b[0;32m/media/hiroki/working/research/dcase2020/2D_codes/DPGMM_LSTM_CONV/baseline/pytorch_model.py\u001b[0m in \u001b[0;36mloss_function\u001b[0;34m(self, x, x_hat, z, gamma, lambda_energy, lambda_cov_diag)\u001b[0m\n\u001b[1;32m    452\u001b[0m         \u001b[0mphi\u001b[0m\u001b[0;34m,\u001b[0m \u001b[0mmu\u001b[0m\u001b[0;34m,\u001b[0m \u001b[0mcov\u001b[0m \u001b[0;34m=\u001b[0m \u001b[0mself\u001b[0m\u001b[0;34m.\u001b[0m\u001b[0mcompute_gmm_params\u001b[0m\u001b[0;34m(\u001b[0m\u001b[0mz\u001b[0m\u001b[0;34m,\u001b[0m \u001b[0mgamma\u001b[0m\u001b[0;34m)\u001b[0m\u001b[0;34m\u001b[0m\u001b[0;34m\u001b[0m\u001b[0m\n\u001b[1;32m    453\u001b[0m \u001b[0;34m\u001b[0m\u001b[0m\n\u001b[0;32m--> 454\u001b[0;31m         \u001b[0msample_energy\u001b[0m\u001b[0;34m,\u001b[0m \u001b[0mcov_diag\u001b[0m \u001b[0;34m=\u001b[0m \u001b[0mself\u001b[0m\u001b[0;34m.\u001b[0m\u001b[0mcompute_energy\u001b[0m\u001b[0;34m(\u001b[0m\u001b[0mz\u001b[0m\u001b[0;34m,\u001b[0m \u001b[0mphi\u001b[0m\u001b[0;34m,\u001b[0m \u001b[0mmu\u001b[0m\u001b[0;34m,\u001b[0m \u001b[0mcov\u001b[0m\u001b[0;34m)\u001b[0m\u001b[0;34m\u001b[0m\u001b[0;34m\u001b[0m\u001b[0m\n\u001b[0m\u001b[1;32m    455\u001b[0m \u001b[0;34m\u001b[0m\u001b[0m\n\u001b[1;32m    456\u001b[0m         \u001b[0mloss\u001b[0m \u001b[0;34m=\u001b[0m \u001b[0mrecon_error\u001b[0m \u001b[0;34m+\u001b[0m \u001b[0mlambda_energy\u001b[0m \u001b[0;34m*\u001b[0m \u001b[0msample_energy\u001b[0m \u001b[0;34m+\u001b[0m \u001b[0mlambda_cov_diag\u001b[0m \u001b[0;34m*\u001b[0m \u001b[0mcov_diag\u001b[0m\u001b[0;34m\u001b[0m\u001b[0;34m\u001b[0m\u001b[0m\n",
      "\u001b[0;32m/media/hiroki/working/research/dcase2020/2D_codes/DPGMM_LSTM_CONV/baseline/pytorch_model.py\u001b[0m in \u001b[0;36mcompute_energy\u001b[0;34m(self, z, phi, mu, cov, size_average)\u001b[0m\n\u001b[1;32m    418\u001b[0m             \u001b[0;31m# K x D x D\u001b[0m\u001b[0;34m\u001b[0m\u001b[0;34m\u001b[0m\u001b[0;34m\u001b[0m\u001b[0m\n\u001b[1;32m    419\u001b[0m             \u001b[0mcov_k\u001b[0m \u001b[0;34m=\u001b[0m \u001b[0mcov\u001b[0m\u001b[0;34m[\u001b[0m\u001b[0mi\u001b[0m\u001b[0;34m]\u001b[0m \u001b[0;34m+\u001b[0m \u001b[0mto_var\u001b[0m\u001b[0;34m(\u001b[0m\u001b[0mtorch\u001b[0m\u001b[0;34m.\u001b[0m\u001b[0meye\u001b[0m\u001b[0;34m(\u001b[0m\u001b[0mD\u001b[0m\u001b[0;34m)\u001b[0m\u001b[0;34m*\u001b[0m\u001b[0meps\u001b[0m\u001b[0;34m)\u001b[0m\u001b[0;34m\u001b[0m\u001b[0;34m\u001b[0m\u001b[0m\n\u001b[0;32m--> 420\u001b[0;31m             \u001b[0mcov_inverse\u001b[0m\u001b[0;34m.\u001b[0m\u001b[0mappend\u001b[0m\u001b[0;34m(\u001b[0m\u001b[0mtorch\u001b[0m\u001b[0;34m.\u001b[0m\u001b[0minverse\u001b[0m\u001b[0;34m(\u001b[0m\u001b[0mcov_k\u001b[0m\u001b[0;34m)\u001b[0m\u001b[0;34m.\u001b[0m\u001b[0munsqueeze\u001b[0m\u001b[0;34m(\u001b[0m\u001b[0;36m0\u001b[0m\u001b[0;34m)\u001b[0m\u001b[0;34m)\u001b[0m\u001b[0;34m\u001b[0m\u001b[0;34m\u001b[0m\u001b[0m\n\u001b[0m\u001b[1;32m    421\u001b[0m \u001b[0;34m\u001b[0m\u001b[0m\n\u001b[1;32m    422\u001b[0m             \u001b[0mdet_cov\u001b[0m\u001b[0;34m.\u001b[0m\u001b[0mappend\u001b[0m\u001b[0;34m(\u001b[0m\u001b[0mnp\u001b[0m\u001b[0;34m.\u001b[0m\u001b[0mlinalg\u001b[0m\u001b[0;34m.\u001b[0m\u001b[0mdet\u001b[0m\u001b[0;34m(\u001b[0m\u001b[0mcov_k\u001b[0m\u001b[0;34m.\u001b[0m\u001b[0mdata\u001b[0m\u001b[0;34m.\u001b[0m\u001b[0mcpu\u001b[0m\u001b[0;34m(\u001b[0m\u001b[0;34m)\u001b[0m\u001b[0;34m.\u001b[0m\u001b[0mnumpy\u001b[0m\u001b[0;34m(\u001b[0m\u001b[0;34m)\u001b[0m\u001b[0;34m*\u001b[0m \u001b[0;34m(\u001b[0m\u001b[0;36m2\u001b[0m\u001b[0;34m*\u001b[0m\u001b[0mnp\u001b[0m\u001b[0;34m.\u001b[0m\u001b[0mpi\u001b[0m\u001b[0;34m)\u001b[0m\u001b[0;34m)\u001b[0m\u001b[0;34m)\u001b[0m\u001b[0;34m\u001b[0m\u001b[0;34m\u001b[0m\u001b[0m\n",
      "\u001b[0;31mKeyboardInterrupt\u001b[0m: "
     ]
    }
   ],
   "source": [
    "history = run('ToyCar')\n",
    "with open('{}/{}_history.pkl'.format(PKL_DIR, machine_type), 'wb') as file:\n",
    "    pickle.dump(history , file)"
   ]
  },
  {
   "cell_type": "raw",
   "metadata": {},
   "source": [
    "history['reconstruct_img']['label']"
   ]
  }
 ],
 "metadata": {
  "kernelspec": {
   "display_name": "Python 3",
   "language": "python",
   "name": "python3"
  },
  "language_info": {
   "codemirror_mode": {
    "name": "ipython",
    "version": 3
   },
   "file_extension": ".py",
   "mimetype": "text/x-python",
   "name": "python",
   "nbconvert_exporter": "python",
   "pygments_lexer": "ipython3",
   "version": "3.7.7"
  },
  "toc": {
   "base_numbering": 1,
   "nav_menu": {},
   "number_sections": true,
   "sideBar": true,
   "skip_h1_title": false,
   "title_cell": "Table of Contents",
   "title_sidebar": "Contents",
   "toc_cell": false,
   "toc_position": {},
   "toc_section_display": true,
   "toc_window_display": false
  }
 },
 "nbformat": 4,
 "nbformat_minor": 4
}
