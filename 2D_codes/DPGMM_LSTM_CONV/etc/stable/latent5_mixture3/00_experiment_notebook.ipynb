{
 "cells": [
  {
   "cell_type": "markdown",
   "metadata": {},
   "source": [
    "# train"
   ]
  },
  {
   "cell_type": "code",
   "execution_count": 1,
   "metadata": {},
   "outputs": [],
   "source": [
    "import yaml\n",
    "import os\n",
    "\n",
    "with open(\"./config.yaml\", 'rb') as f:\n",
    "    config = yaml.load(f)"
   ]
  },
  {
   "cell_type": "code",
   "execution_count": 2,
   "metadata": {},
   "outputs": [],
   "source": [
    "OUTPUT_ROOT = config['IO_OPTION']['OUTPUT_ROOT']\n",
    "os.makedirs(OUTPUT_ROOT, exist_ok=True)"
   ]
  },
  {
   "cell_type": "markdown",
   "metadata": {},
   "source": [
    "## load library"
   ]
  },
  {
   "cell_type": "code",
   "execution_count": 3,
   "metadata": {},
   "outputs": [],
   "source": [
    "# python default library\n",
    "import os\n",
    "import shutil\n",
    "import datetime\n",
    "import sys\n",
    "import pickle\n",
    "\n",
    "# general analysis tool-kit\n",
    "import numpy as np\n",
    "from sklearn.model_selection import train_test_split\n",
    "import matplotlib.pyplot as plt\n",
    "\n",
    "# pytorch\n",
    "import torch\n",
    "from torch import optim, nn\n",
    "from torch.utils.tensorboard import SummaryWriter\n",
    "\n",
    "from torchsummary import summary\n",
    "\n",
    "# etc\n",
    "import yaml\n",
    "yaml.warnings({'YAMLLoadWarning': False})\n",
    "import mlflow\n",
    "from collections import defaultdict\n",
    "from scipy.stats import zscore\n",
    "\n",
    "# original library\n",
    "\n",
    "import common as com\n",
    "import pytorch_modeler as modeler\n",
    "from pytorch_model import DAGMM as Model\n",
    "from pytorch_utils import filtered_load_model\n",
    "import models\n",
    "\n",
    "import librosa\n",
    "import IPython\n",
    "import librosa.display"
   ]
  },
  {
   "cell_type": "markdown",
   "metadata": {},
   "source": [
    "## load config and set logger"
   ]
  },
  {
   "cell_type": "code",
   "execution_count": 4,
   "metadata": {},
   "outputs": [
    {
     "name": "stderr",
     "output_type": "stream",
     "text": [
      "/home/hiroki/anaconda3/lib/python3.7/site-packages/ipykernel/ipkernel.py:287: DeprecationWarning: `should_run_async` will not call `transform_cell` automatically in the future. Please pass the result to `transformed_cell` argument and any exception that happen during thetransform in `preprocessing_exc_tuple` in IPython 7.17 and above.\n",
      "  and should_run_async(code)\n"
     ]
    }
   ],
   "source": [
    "#with open(\"./config.yaml\", 'rb') as f:\n",
    "#    config = yaml.load(f)\n",
    "\n",
    "log_folder = config['IO_OPTION']['OUTPUT_ROOT']+'/{0}.log'.format(datetime.date.today())\n",
    "logger = com.setup_logger(log_folder, '00_train.py')"
   ]
  },
  {
   "cell_type": "markdown",
   "metadata": {},
   "source": [
    "## Setting"
   ]
  },
  {
   "cell_type": "code",
   "execution_count": 5,
   "metadata": {},
   "outputs": [],
   "source": [
    "# Setting seed\n",
    "modeler.set_seed(42)"
   ]
  },
  {
   "cell_type": "code",
   "execution_count": 6,
   "metadata": {},
   "outputs": [
    {
     "data": {
      "text/plain": [
       "'/media/hiroki/working/research/dcase2020/result/2D/DAGMM/add_metaAE/latent5_mixture3/config.yaml'"
      ]
     },
     "execution_count": 6,
     "metadata": {},
     "output_type": "execute_result"
    }
   ],
   "source": [
    "############################################################################\n",
    "# Setting I/O path\n",
    "############################################################################\n",
    "# input dirs\n",
    "INPUT_ROOT = config['IO_OPTION']['INPUT_ROOT']\n",
    "dev_path = INPUT_ROOT + \"/dev_data\"\n",
    "add_dev_path = INPUT_ROOT + \"/add_dev_data\"\n",
    "# machine type\n",
    "MACHINE_TYPE = config['IO_OPTION']['MACHINE_TYPE']\n",
    "machine_types = os.listdir(dev_path)\n",
    "# output dirs\n",
    "OUTPUT_ROOT = config['IO_OPTION']['OUTPUT_ROOT']\n",
    "MODEL_DIR = config['IO_OPTION']['OUTPUT_ROOT'] + '/models'\n",
    "TB_DIR = config['IO_OPTION']['OUTPUT_ROOT'] + '/tb'\n",
    "PKL_DIR = OUTPUT_ROOT + '/pkl'\n",
    "#os.makedirs(OUTPUT_ROOT, exist_ok=True)\n",
    "os.makedirs(MODEL_DIR, exist_ok=True)\n",
    "os.makedirs(TB_DIR, exist_ok=True)\n",
    "os.makedirs(PKL_DIR, exist_ok=True)\n",
    "# copy config\n",
    "shutil.copy('./config.yaml', OUTPUT_ROOT)"
   ]
  },
  {
   "cell_type": "markdown",
   "metadata": {},
   "source": [
    "## make path list and train/valid split"
   ]
  },
  {
   "cell_type": "code",
   "execution_count": 7,
   "metadata": {},
   "outputs": [],
   "source": [
    "############################################################################\n",
    "# make path set and train/valid split\n",
    "############################################################################\n",
    "'''\n",
    "train_paths[machine_type]['train' or 'valid'] = path\n",
    "'''\n",
    "dev_train_paths = {}\n",
    "add_train_paths = {}\n",
    "train_paths = {}"
   ]
  },
  {
   "cell_type": "code",
   "execution_count": 8,
   "metadata": {},
   "outputs": [],
   "source": [
    "for machine_type in machine_types:\n",
    "    # dev train\n",
    "    dev_train_paths = [\"{}/{}/train/\".format(dev_path, machine_type) + file for file in os.listdir(\"{}/{}/train\".format(dev_path, machine_type))]\n",
    "    dev_train_paths = sorted(dev_train_paths)\n",
    "    # add_dev train\n",
    "    add_train_paths = [\"{}/{}/train/\".format(add_dev_path, machine_type) + file for file in os.listdir(\"{}/{}/train\".format(add_dev_path, machine_type))]\n",
    "    add_train_paths = sorted(add_train_paths)\n",
    "    # valid\n",
    "    dev_valid_paths = [\"{}/{}/test/\".format(dev_path, machine_type) + file for file in os.listdir(\"{}/{}/test\".format(dev_path, machine_type))]\n",
    "    dev_valid_paths = sorted(dev_valid_paths)\n",
    "    \n",
    "    train_paths[machine_type] = {}\n",
    "    train_paths[machine_type]['train'] = dev_train_paths + add_train_paths\n",
    "    train_paths[machine_type]['valid'] = dev_valid_paths"
   ]
  },
  {
   "cell_type": "raw",
   "metadata": {},
   "source": [
    "# for machine_type in machine_types:\n",
    "    # dev train\n",
    "    dev_train_all_paths = [\"{}/{}/train/\".format(dev_path, machine_type) + file for file in os.listdir(\"{}/{}/train\".format(dev_path, machine_type))]\n",
    "    dev_train_all_paths = sorted(dev_train_all_paths)\n",
    "    dev_train_paths[machine_type] = {}\n",
    "    dev_train_paths[machine_type]['train'], \\\n",
    "    dev_train_paths[machine_type]['valid'] = train_test_split(dev_train_all_paths,\n",
    "                                                              test_size=config['etc']['test_size'],\n",
    "                                                              shuffle=False,\n",
    "                                                             )\n",
    "    # add_dev train\n",
    "    add_train_all_paths = [\"{}/{}/train/\".format(add_dev_path, machine_type) + file for file in os.listdir(\"{}/{}/train\".format(add_dev_path, machine_type))]\n",
    "    add_train_all_paths = sorted(add_train_all_paths)\n",
    "    add_train_paths[machine_type] = {}\n",
    "    add_train_paths[machine_type]['train'], \\\n",
    "    add_train_paths[machine_type]['valid'] = train_test_split(add_train_all_paths,\n",
    "                                                              test_size=config['etc']['test_size'],\n",
    "                                                              shuffle=False,\n",
    "                                                             )\n",
    "    train_paths[machine_type] = {}\n",
    "    train_paths[machine_type]['train'] = dev_train_paths[machine_type]['train'] + add_train_paths[machine_type]['train']\n",
    "    train_paths[machine_type]['valid'] = dev_train_paths[machine_type]['valid'] + add_train_paths[machine_type]['valid']"
   ]
  },
  {
   "cell_type": "markdown",
   "metadata": {},
   "source": [
    "## training"
   ]
  },
  {
   "cell_type": "code",
   "execution_count": 9,
   "metadata": {},
   "outputs": [],
   "source": [
    "#############################################################################\n",
    "# run\n",
    "#############################################################################\n",
    "def run(machine_type):\n",
    "    com.tic()\n",
    "    logger.info('TARGET MACHINE_TYPE: {0}'.format(machine_type))\n",
    "    logger.info('MAKE DATA_LOADER')\n",
    "    # dev_train_paths\n",
    "    dataloaders_dict = modeler.make_dataloader(train_paths, machine_type)\n",
    "    # define writer for tensorbord\n",
    "    os.makedirs(TB_DIR+'/'+machine_type, exist_ok=True)         # debug\n",
    "    tb_log_dir = TB_DIR + '/' + machine_type\n",
    "    writer = SummaryWriter(log_dir = tb_log_dir)\n",
    "    logger.info('TRAINING')\n",
    "    # parameter setting\n",
    "    net = Model(sample_rate=config['preprocessing']['sample_rate'],\n",
    "                window_size=config['preprocessing']['window_size'],\n",
    "                hop_size=config['preprocessing']['hop_size'],\n",
    "                mel_bins=config['preprocessing']['mel_bins'],\n",
    "                fmin=config['preprocessing']['fmin'],\n",
    "                fmax=config['preprocessing']['fmax'],\n",
    "                latent_size=config['fit']['latent_size'],\n",
    "                mixture_size=config['fit']['mixture_size'])\n",
    "    #pretrained_dict = torch.load(config['IO_OPTION']['PREMODEL_PATH'])\n",
    "    #net = filtered_load_model(net, pretrained_dict)\n",
    "    optimizer = optim.Adam(net.parameters(), lr=1e-3)\n",
    "    num_epochs = config['fit']['num_epochs']\n",
    "    scheduler = optim.lr_scheduler.OneCycleLR(optimizer=optimizer, pct_start=0.1, div_factor=1e3, \n",
    "                                              max_lr=1e-3, epochs=num_epochs, steps_per_epoch=len(dataloaders_dict['train']))\n",
    "    criterion = nn.MSELoss()\n",
    "    history = modeler.train_net(net, dataloaders_dict, criterion, optimizer, scheduler, num_epochs, writer)\n",
    "    # output\n",
    "    model = history['model']\n",
    "    model_out_path = MODEL_DIR+'/{}_model.pth'.format(machine_type)\n",
    "    torch.save(model.state_dict(), model_out_path)\n",
    "    logger.info('\\n success:{0} \\n'.format(machine_type) + \\\n",
    "                    'model_out_path ==> \\n {0}'.format(model_out_path))\n",
    "    #  close writer for tensorbord\n",
    "    writer.close()\n",
    "    #modeler.mlflow_log(history, config, machine_type, model_out_path, tb_log_dir)\n",
    "    com.toc()\n",
    "    return history"
   ]
  },
  {
   "cell_type": "code",
   "execution_count": 10,
   "metadata": {},
   "outputs": [
    {
     "data": {
      "text/plain": [
       "['fan', 'pump', 'slider', 'ToyCar', 'ToyConveyor', 'valve']"
      ]
     },
     "execution_count": 10,
     "metadata": {},
     "output_type": "execute_result"
    }
   ],
   "source": [
    "machine_types"
   ]
  },
  {
   "cell_type": "code",
   "execution_count": null,
   "metadata": {
    "scrolled": true
   },
   "outputs": [
    {
     "name": "stderr",
     "output_type": "stream",
     "text": [
      "2020-11-28 18:50:36,209 - 00_train.py - INFO - TARGET MACHINE_TYPE: fan\n",
      "2020-11-28 18:50:36,210 - 00_train.py - INFO - MAKE DATA_LOADER\n",
      "2020-11-28 18:50:37,164 - 00_train.py - INFO - TRAINING\n"
     ]
    },
    {
     "name": "stdout",
     "output_type": "stream",
     "text": [
      "use: cuda:0\n"
     ]
    },
    {
     "name": "stderr",
     "output_type": "stream",
     "text": [
      "100%|██████████| 51/51 [00:13<00:00,  3.81it/s]\n",
      "100%|██████████| 15/15 [00:01<00:00,  9.34it/s]\n",
      "2020-11-28 18:50:54,186 - pytorch_modeler.py - INFO - Epoch 1/300:train_loss:251.959172, tr_rec:17.367813, tr_eng:694.889853, tr_covd:1085.180861, tr_metaloss:164.993855, val_AUC:0.548089, val_pAUC:0.525519\n",
      "100%|██████████| 51/51 [00:11<00:00,  4.41it/s]\n",
      "100%|██████████| 15/15 [00:01<00:00, 10.65it/s]\n",
      "2020-11-28 18:51:07,162 - pytorch_modeler.py - INFO - Epoch 2/300:train_loss:190.285161, tr_rec:16.205053, tr_eng:694.686913, tr_covd:1084.321392, tr_metaloss:104.502982, val_AUC:0.502303, val_pAUC:0.490397\n",
      "100%|██████████| 51/51 [00:11<00:00,  4.39it/s]\n",
      "100%|██████████| 15/15 [00:01<00:00, 10.42it/s]\n",
      "2020-11-28 18:51:20,233 - pytorch_modeler.py - INFO - Epoch 3/300:train_loss:100.263556, tr_rec:6.933050, tr_eng:689.989995, tr_covd:1087.600698, tr_metaloss:24.222744, val_AUC:0.502754, val_pAUC:0.505308\n",
      "100%|██████████| 51/51 [00:11<00:00,  4.34it/s]\n",
      "100%|██████████| 15/15 [00:01<00:00, 10.38it/s]\n",
      "2020-11-28 18:51:33,426 - pytorch_modeler.py - INFO - Epoch 4/300:train_loss:74.898704, tr_rec:2.280000, tr_eng:641.205750, tr_covd:1153.874971, tr_metaloss:8.382739, val_AUC:0.498286, val_pAUC:0.497729\n",
      "100%|██████████| 51/51 [00:11<00:00,  4.38it/s]\n",
      "100%|██████████| 15/15 [00:01<00:00, 11.12it/s]\n",
      "2020-11-28 18:51:46,418 - pytorch_modeler.py - INFO - Epoch 5/300:train_loss:50.563323, tr_rec:1.466555, tr_eng:450.989119, tr_covd:1239.645464, tr_metaloss:3.873890, val_AUC:0.500189, val_pAUC:0.502363\n",
      "100%|██████████| 51/51 [00:11<00:00,  4.40it/s]\n",
      "100%|██████████| 15/15 [00:01<00:00, 10.98it/s]\n",
      "2020-11-28 18:51:59,382 - pytorch_modeler.py - INFO - Epoch 6/300:train_loss:27.258074, tr_rec:1.187996, tr_eng:236.683651, tr_covd:1240.976641, tr_metaloss:2.277614, val_AUC:0.554070, val_pAUC:0.513871\n",
      "100%|██████████| 51/51 [00:11<00:00,  4.30it/s]\n",
      "100%|██████████| 15/15 [00:01<00:00, 10.47it/s]\n",
      "2020-11-28 18:52:12,695 - pytorch_modeler.py - INFO - Epoch 7/300:train_loss:22.284510, tr_rec:0.967409, tr_eng:193.497665, tr_covd:1332.701668, tr_metaloss:1.834065, val_AUC:0.488041, val_pAUC:0.494365\n",
      "100%|██████████| 51/51 [00:11<00:00,  4.42it/s]\n",
      "100%|██████████| 15/15 [00:01<00:00, 10.55it/s]\n",
      "2020-11-28 18:52:25,672 - pytorch_modeler.py - INFO - Epoch 8/300:train_loss:17.037859, tr_rec:0.873574, tr_eng:143.898642, tr_covd:1215.460268, tr_metaloss:1.652875, val_AUC:0.513162, val_pAUC:0.502127\n",
      "100%|██████████| 51/51 [00:11<00:00,  4.37it/s]\n",
      "100%|██████████| 15/15 [00:01<00:00, 10.69it/s]\n",
      "2020-11-28 18:52:38,755 - pytorch_modeler.py - INFO - Epoch 9/300:train_loss:12.813920, tr_rec:0.768554, tr_eng:104.978914, tr_covd:1175.468737, tr_metaloss:1.429928, val_AUC:0.458833, val_pAUC:0.504652\n",
      "100%|██████████| 51/51 [00:13<00:00,  3.68it/s]\n",
      "100%|██████████| 15/15 [00:02<00:00,  5.92it/s]\n",
      "2020-11-28 18:52:55,166 - pytorch_modeler.py - INFO - Epoch 10/300:train_loss:16.869489, tr_rec:0.640061, tr_eng:148.398063, tr_covd:1233.542820, tr_metaloss:1.266266, val_AUC:0.513365, val_pAUC:0.500841\n",
      "100%|██████████| 51/51 [00:21<00:00,  2.40it/s]\n",
      "100%|██████████| 15/15 [00:02<00:00,  5.78it/s]\n",
      "2020-11-28 18:53:19,033 - pytorch_modeler.py - INFO - Epoch 11/300:train_loss:13.574756, tr_rec:0.557675, tr_eng:116.375985, tr_covd:1194.666357, tr_metaloss:1.260015, val_AUC:0.500465, val_pAUC:0.495433\n",
      "100%|██████████| 51/51 [00:21<00:00,  2.40it/s]\n",
      "100%|██████████| 15/15 [00:02<00:00,  6.06it/s]\n",
      "2020-11-28 18:53:42,768 - pytorch_modeler.py - INFO - Epoch 12/300:train_loss:14.832010, tr_rec:0.508953, tr_eng:127.124112, tr_covd:1204.503542, tr_metaloss:1.490195, val_AUC:0.500128, val_pAUC:0.506602\n",
      "100%|██████████| 51/51 [00:21<00:00,  2.42it/s]\n",
      "100%|██████████| 15/15 [00:02<00:00,  5.70it/s]\n",
      "2020-11-28 18:54:06,485 - pytorch_modeler.py - INFO - Epoch 13/300:train_loss:-5.683751, tr_rec:0.488610, tr_eng:-74.867086, tr_covd:1178.093859, tr_metaloss:1.196538, val_AUC:0.500266, val_pAUC:0.498127\n",
      "100%|██████████| 51/51 [00:21<00:00,  2.40it/s]\n",
      "100%|██████████| 15/15 [00:02<00:00,  5.96it/s]\n",
      "2020-11-28 18:54:30,232 - pytorch_modeler.py - INFO - Epoch 14/300:train_loss:8.528884, tr_rec:0.336648, tr_eng:69.540934, tr_covd:1160.171017, tr_metaloss:1.122125, val_AUC:0.507977, val_pAUC:0.496665\n",
      "100%|██████████| 51/51 [00:20<00:00,  2.47it/s]\n",
      "100%|██████████| 15/15 [00:02<00:00,  5.95it/s]\n",
      "2020-11-28 18:54:53,390 - pytorch_modeler.py - INFO - Epoch 15/300:train_loss:1.901936, tr_rec:0.304069, tr_eng:3.939566, tr_covd:1150.221903, tr_metaloss:1.088888, val_AUC:0.502500, val_pAUC:0.500132\n",
      "100%|██████████| 51/51 [00:21<00:00,  2.43it/s]\n",
      "100%|██████████| 15/15 [00:02<00:00,  5.66it/s]\n",
      "2020-11-28 18:55:17,067 - pytorch_modeler.py - INFO - Epoch 16/300:train_loss:4.042401, tr_rec:0.356978, tr_eng:23.953296, tr_covd:1136.627359, tr_metaloss:1.176431, val_AUC:0.455441, val_pAUC:0.490706\n",
      "100%|██████████| 51/51 [00:20<00:00,  2.43it/s]\n",
      "100%|██████████| 15/15 [00:02<00:00,  5.71it/s]\n",
      "2020-11-28 18:55:40,698 - pytorch_modeler.py - INFO - Epoch 17/300:train_loss:9.527574, tr_rec:0.275229, tr_eng:79.568466, tr_covd:1185.180103, tr_metaloss:1.176981, val_AUC:0.480912, val_pAUC:0.505121\n",
      "100%|██████████| 51/51 [00:21<00:00,  2.41it/s]\n",
      "100%|██████████| 15/15 [00:02<00:00,  6.12it/s]\n",
      "2020-11-28 18:56:04,321 - pytorch_modeler.py - INFO - Epoch 18/300:train_loss:13.327315, tr_rec:0.233879, tr_eng:110.995028, tr_covd:1135.410376, tr_metaloss:1.880393, val_AUC:0.574309, val_pAUC:0.502560\n",
      "100%|██████████| 51/51 [00:21<00:00,  2.40it/s]\n",
      "100%|██████████| 15/15 [00:02<00:00,  5.82it/s]\n",
      "2020-11-28 18:56:28,190 - pytorch_modeler.py - INFO - Epoch 19/300:train_loss:11.126172, tr_rec:0.204933, tr_eng:93.666829, tr_covd:1252.604456, tr_metaloss:1.429296, val_AUC:0.486159, val_pAUC:0.507203\n",
      "100%|██████████| 51/51 [00:21<00:00,  2.38it/s]\n",
      "100%|██████████| 15/15 [00:02<00:00,  5.80it/s]\n",
      "2020-11-28 18:56:52,253 - pytorch_modeler.py - INFO - Epoch 20/300:train_loss:7.670403, tr_rec:0.208662, tr_eng:59.149661, tr_covd:1168.754709, tr_metaloss:1.429900, val_AUC:0.500000, val_pAUC:0.500000\n",
      "100%|██████████| 51/51 [00:21<00:00,  2.41it/s]\n",
      "100%|██████████| 15/15 [00:02<00:00,  5.66it/s]\n",
      "2020-11-28 18:57:16,064 - pytorch_modeler.py - INFO - Epoch 21/300:train_loss:2.756018, tr_rec:0.193061, tr_eng:5.407924, tr_covd:1156.896137, tr_metaloss:1.906475, val_AUC:0.499644, val_pAUC:0.499981\n",
      "100%|██████████| 51/51 [00:21<00:00,  2.42it/s]\n",
      "100%|██████████| 15/15 [00:02<00:00,  5.61it/s]\n",
      "2020-11-28 18:57:39,801 - pytorch_modeler.py - INFO - Epoch 22/300:train_loss:-4.749645, tr_rec:0.204934, tr_eng:-70.079418, tr_covd:1113.048208, tr_metaloss:1.942058, val_AUC:0.486073, val_pAUC:0.498902\n",
      "100%|██████████| 51/51 [00:21<00:00,  2.40it/s]\n",
      "100%|██████████| 15/15 [00:02<00:00,  5.78it/s]\n",
      "2020-11-28 18:58:03,669 - pytorch_modeler.py - INFO - Epoch 23/300:train_loss:8.984425, tr_rec:0.168462, tr_eng:67.283964, tr_covd:1141.199471, tr_metaloss:1.973446, val_AUC:0.509733, val_pAUC:0.506851\n",
      "100%|██████████| 51/51 [00:21<00:00,  2.42it/s]\n",
      "100%|██████████| 15/15 [00:02<00:00,  5.86it/s]\n",
      "2020-11-28 18:58:27,292 - pytorch_modeler.py - INFO - Epoch 24/300:train_loss:8.593729, tr_rec:0.183230, tr_eng:58.539003, tr_covd:1138.822395, tr_metaloss:2.442717, val_AUC:0.502142, val_pAUC:0.500114\n",
      "100%|██████████| 51/51 [00:21<00:00,  2.42it/s]\n",
      "100%|██████████| 15/15 [00:02<00:00,  5.86it/s]\n",
      "2020-11-28 18:58:50,948 - pytorch_modeler.py - INFO - Epoch 25/300:train_loss:5.663089, tr_rec:0.157870, tr_eng:42.091438, tr_covd:1220.098356, tr_metaloss:1.174065, val_AUC:0.500000, val_pAUC:0.500000\n",
      "100%|██████████| 51/51 [00:20<00:00,  2.47it/s]\n",
      "100%|██████████| 15/15 [00:02<00:00,  5.84it/s]\n",
      "2020-11-28 18:59:14,214 - pytorch_modeler.py - INFO - Epoch 26/300:train_loss:4.759824, tr_rec:0.144043, tr_eng:32.645359, tr_covd:1436.653536, tr_metaloss:1.207580, val_AUC:0.523951, val_pAUC:0.498739\n",
      "100%|██████████| 51/51 [00:21<00:00,  2.38it/s]\n",
      "100%|██████████| 15/15 [00:02<00:00,  5.75it/s]\n",
      "2020-11-28 18:59:38,288 - pytorch_modeler.py - INFO - Epoch 27/300:train_loss:3.831926, tr_rec:0.146960, tr_eng:22.002088, tr_covd:1402.898087, tr_metaloss:1.344468, val_AUC:0.500000, val_pAUC:0.500000\n",
      "100%|██████████| 51/51 [00:20<00:00,  2.44it/s]\n",
      "100%|██████████| 15/15 [00:02<00:00,  5.72it/s]\n",
      "2020-11-28 19:00:01,843 - pytorch_modeler.py - INFO - Epoch 28/300:train_loss:-5.096190, tr_rec:0.144695, tr_eng:-71.186254, tr_covd:1354.105387, tr_metaloss:1.742330, val_AUC:0.500000, val_pAUC:0.500000\n"
     ]
    },
    {
     "name": "stderr",
     "output_type": "stream",
     "text": [
      "100%|██████████| 51/51 [00:20<00:00,  2.44it/s]\n",
      "100%|██████████| 15/15 [00:02<00:00,  5.79it/s]\n",
      "2020-11-28 19:00:25,380 - pytorch_modeler.py - INFO - Epoch 29/300:train_loss:0.377837, tr_rec:0.157925, tr_eng:-11.864259, tr_covd:1238.404121, tr_metaloss:1.282497, val_AUC:0.500000, val_pAUC:0.500000\n",
      "100%|██████████| 51/51 [00:20<00:00,  2.55it/s]\n",
      "100%|██████████| 15/15 [00:02<00:00,  5.97it/s]\n",
      "2020-11-28 19:00:47,915 - pytorch_modeler.py - INFO - Epoch 30/300:train_loss:-4.144995, tr_rec:0.155745, tr_eng:-53.274900, tr_covd:1218.478672, tr_metaloss:0.904902, val_AUC:0.499644, val_pAUC:0.499981\n",
      "100%|██████████| 51/51 [00:21<00:00,  2.43it/s]\n",
      "100%|██████████| 15/15 [00:02<00:00,  5.90it/s]\n",
      "2020-11-28 19:01:11,471 - pytorch_modeler.py - INFO - Epoch 31/300:train_loss:3.311685, tr_rec:0.153325, tr_eng:22.096446, tr_covd:1224.298088, tr_metaloss:0.826285, val_AUC:0.500000, val_pAUC:0.500000\n",
      "100%|██████████| 51/51 [00:21<00:00,  2.37it/s]\n",
      "100%|██████████| 15/15 [00:02<00:00,  5.97it/s]\n",
      "2020-11-28 19:01:35,531 - pytorch_modeler.py - INFO - Epoch 32/300:train_loss:3.391842, tr_rec:0.164615, tr_eng:18.533601, tr_covd:1265.427977, tr_metaloss:1.247324, val_AUC:0.500893, val_pAUC:0.500047\n",
      "100%|██████████| 51/51 [00:20<00:00,  2.53it/s]\n",
      "100%|██████████| 15/15 [00:02<00:00,  5.72it/s]\n",
      "2020-11-28 19:01:58,358 - pytorch_modeler.py - INFO - Epoch 33/300:train_loss:-0.148405, tr_rec:0.152560, tr_eng:-14.557961, tr_covd:1259.475376, tr_metaloss:1.028883, val_AUC:0.485561, val_pAUC:0.502227\n",
      "100%|██████████| 51/51 [00:20<00:00,  2.44it/s]\n",
      "100%|██████████| 15/15 [00:02<00:00,  5.76it/s]\n",
      "2020-11-28 19:02:21,869 - pytorch_modeler.py - INFO - Epoch 34/300:train_loss:-7.437708, tr_rec:0.161679, tr_eng:-90.347211, tr_covd:1420.126957, tr_metaloss:1.293322, val_AUC:0.500000, val_pAUC:0.500000\n",
      "100%|██████████| 51/51 [00:20<00:00,  2.45it/s]\n",
      "100%|██████████| 15/15 [00:02<00:00,  6.00it/s]\n",
      "2020-11-28 19:02:45,204 - pytorch_modeler.py - INFO - Epoch 35/300:train_loss:-1.954521, tr_rec:0.169331, tr_eng:-33.015087, tr_covd:1066.844185, tr_metaloss:1.070972, val_AUC:0.519702, val_pAUC:0.501513\n",
      "100%|██████████| 51/51 [00:21<00:00,  2.41it/s]\n",
      "100%|██████████| 15/15 [00:02<00:00,  5.63it/s]\n",
      "2020-11-28 19:03:09,045 - pytorch_modeler.py - INFO - Epoch 36/300:train_loss:0.680204, tr_rec:0.143410, tr_eng:-8.398693, tr_covd:1063.504480, tr_metaloss:1.270313, val_AUC:0.500000, val_pAUC:0.500000\n",
      "100%|██████████| 51/51 [00:20<00:00,  2.48it/s]\n",
      "100%|██████████| 15/15 [00:02<00:00,  5.78it/s]\n",
      "2020-11-28 19:03:32,179 - pytorch_modeler.py - INFO - Epoch 37/300:train_loss:-5.236792, tr_rec:0.129439, tr_eng:-70.527086, tr_covd:1156.730583, tr_metaloss:1.570805, val_AUC:0.498273, val_pAUC:0.499894\n",
      "100%|██████████| 51/51 [00:21<00:00,  2.42it/s]\n",
      "100%|██████████| 15/15 [00:02<00:00,  5.85it/s]\n",
      "2020-11-28 19:03:55,788 - pytorch_modeler.py - INFO - Epoch 38/300:train_loss:-10.375659, tr_rec:0.140787, tr_eng:-153.285565, tr_covd:1172.742876, tr_metaloss:4.694837, val_AUC:0.500000, val_pAUC:0.500000\n",
      "100%|██████████| 51/51 [00:20<00:00,  2.47it/s]\n",
      "100%|██████████| 15/15 [00:02<00:00,  5.97it/s]\n",
      "2020-11-28 19:04:19,001 - pytorch_modeler.py - INFO - Epoch 39/300:train_loss:-4.569785, tr_rec:0.130708, tr_eng:-65.629671, tr_covd:1151.102314, tr_metaloss:1.747364, val_AUC:0.500184, val_pAUC:0.500010\n",
      "100%|██████████| 51/51 [00:20<00:00,  2.46it/s]\n",
      "100%|██████████| 15/15 [00:02<00:00,  5.92it/s]\n",
      "2020-11-28 19:04:42,279 - pytorch_modeler.py - INFO - Epoch 40/300:train_loss:0.307255, tr_rec:0.140320, tr_eng:-22.039394, tr_covd:1253.109112, tr_metaloss:2.245563, val_AUC:0.500000, val_pAUC:0.500000\n",
      "100%|██████████| 51/51 [00:20<00:00,  2.46it/s]\n",
      "100%|██████████| 15/15 [00:02<00:00,  5.66it/s]\n",
      "2020-11-28 19:05:05,674 - pytorch_modeler.py - INFO - Epoch 41/300:train_loss:0.836045, tr_rec:0.130145, tr_eng:-10.833678, tr_covd:1146.073671, tr_metaloss:1.674661, val_AUC:0.500000, val_pAUC:0.500000\n",
      "100%|██████████| 51/51 [00:21<00:00,  2.42it/s]\n",
      "100%|██████████| 15/15 [00:02<00:00,  5.79it/s]\n",
      "2020-11-28 19:05:29,365 - pytorch_modeler.py - INFO - Epoch 42/300:train_loss:7.106795, tr_rec:0.111360, tr_eng:58.743453, tr_covd:1047.960541, tr_metaloss:1.016294, val_AUC:0.548666, val_pAUC:0.511629\n",
      "100%|██████████| 51/51 [00:21<00:00,  2.36it/s]\n",
      "100%|██████████| 15/15 [00:02<00:00,  5.64it/s]\n",
      "2020-11-28 19:05:53,626 - pytorch_modeler.py - INFO - Epoch 43/300:train_loss:0.921358, tr_rec:0.108676, tr_eng:-3.291842, tr_covd:1044.475157, tr_metaloss:1.037419, val_AUC:0.538037, val_pAUC:0.501444\n",
      "100%|██████████| 51/51 [00:20<00:00,  2.49it/s]\n",
      "100%|██████████| 15/15 [00:02<00:00,  5.95it/s]\n",
      "2020-11-28 19:06:16,666 - pytorch_modeler.py - INFO - Epoch 44/300:train_loss:6.968572, tr_rec:0.107464, tr_eng:55.571640, tr_covd:1044.380655, tr_metaloss:1.199506, val_AUC:0.535531, val_pAUC:0.510804\n",
      "100%|██████████| 51/51 [00:20<00:00,  2.50it/s]\n",
      "100%|██████████| 15/15 [00:02<00:00,  5.92it/s]\n",
      "2020-11-28 19:06:39,628 - pytorch_modeler.py - INFO - Epoch 45/300:train_loss:0.423886, tr_rec:0.106539, tr_eng:-6.892654, tr_covd:1043.568693, tr_metaloss:0.902256, val_AUC:0.501766, val_pAUC:0.514143\n",
      "100%|██████████| 51/51 [00:21<00:00,  2.39it/s]\n",
      "100%|██████████| 15/15 [00:02<00:00,  5.77it/s]\n",
      "2020-11-28 19:07:03,569 - pytorch_modeler.py - INFO - Epoch 46/300:train_loss:-5.417835, tr_rec:0.105973, tr_eng:-73.955873, tr_covd:1039.889975, tr_metaloss:1.767791, val_AUC:0.529753, val_pAUC:0.501355\n",
      "100%|██████████| 51/51 [00:20<00:00,  2.43it/s]\n",
      "100%|██████████| 15/15 [00:02<00:00,  5.89it/s]\n",
      "2020-11-28 19:07:27,091 - pytorch_modeler.py - INFO - Epoch 47/300:train_loss:9.170334, tr_rec:0.105764, tr_eng:74.740340, tr_covd:1038.623165, tr_metaloss:1.486674, val_AUC:0.538460, val_pAUC:0.511395\n",
      "100%|██████████| 51/51 [00:21<00:00,  2.40it/s]\n",
      "100%|██████████| 15/15 [00:02<00:00,  5.42it/s]\n",
      "2020-11-28 19:07:51,088 - pytorch_modeler.py - INFO - Epoch 48/300:train_loss:2.711259, tr_rec:0.105629, tr_eng:9.366836, tr_covd:1038.405788, tr_metaloss:1.565106, val_AUC:0.532338, val_pAUC:0.508609\n",
      "100%|██████████| 51/51 [00:21<00:00,  2.39it/s]\n",
      "100%|██████████| 15/15 [00:02<00:00,  5.88it/s]\n",
      "2020-11-28 19:08:14,949 - pytorch_modeler.py - INFO - Epoch 49/300:train_loss:0.918923, tr_rec:0.105649, tr_eng:-13.584618, tr_covd:1038.471485, tr_metaloss:2.067889, val_AUC:0.537094, val_pAUC:0.511554\n",
      " 69%|██████▊   | 35/51 [00:14<00:05,  2.67it/s]"
     ]
    }
   ],
   "source": [
    "for machine_type in machine_types:\n",
    "    history = run(machine_type)\n",
    "    #with open('{}/{}_history.pkl'.format(PKL_DIR, machine_type), 'wb') as file:\n",
    "    #    pickle.dump(history , file)"
   ]
  },
  {
   "cell_type": "markdown",
   "metadata": {},
   "source": [
    "history = run('ToyCar')\n",
    "with open('{}/{}_history.pkl'.format(PKL_DIR, machine_type), 'wb') as file:\n",
    "    pickle.dump(history , file)"
   ]
  },
  {
   "cell_type": "raw",
   "metadata": {},
   "source": [
    "history['reconstruct_img']['label']"
   ]
  }
 ],
 "metadata": {
  "kernelspec": {
   "display_name": "Python 3",
   "language": "python",
   "name": "python3"
  },
  "language_info": {
   "codemirror_mode": {
    "name": "ipython",
    "version": 3
   },
   "file_extension": ".py",
   "mimetype": "text/x-python",
   "name": "python",
   "nbconvert_exporter": "python",
   "pygments_lexer": "ipython3",
   "version": "3.7.7"
  },
  "toc": {
   "base_numbering": 1,
   "nav_menu": {},
   "number_sections": true,
   "sideBar": true,
   "skip_h1_title": false,
   "title_cell": "Table of Contents",
   "title_sidebar": "Contents",
   "toc_cell": false,
   "toc_position": {},
   "toc_section_display": true,
   "toc_window_display": false
  }
 },
 "nbformat": 4,
 "nbformat_minor": 4
}
