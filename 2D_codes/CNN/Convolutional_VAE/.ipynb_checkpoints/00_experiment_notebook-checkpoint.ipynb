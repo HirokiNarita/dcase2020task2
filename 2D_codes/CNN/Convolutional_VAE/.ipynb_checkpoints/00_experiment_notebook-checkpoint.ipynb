{
 "cells": [
  {
   "cell_type": "markdown",
   "metadata": {},
   "source": [
    "# train"
   ]
  },
  {
   "cell_type": "markdown",
   "metadata": {},
   "source": [
    "## load library"
   ]
  },
  {
   "cell_type": "code",
   "execution_count": 1,
   "metadata": {},
   "outputs": [],
   "source": [
    "# python default library\n",
    "import os\n",
    "import shutil\n",
    "import datetime\n",
    "import sys\n",
    "import pickle\n",
    "\n",
    "# general analysis tool-kit\n",
    "import numpy as np\n",
    "from sklearn.model_selection import train_test_split\n",
    "import matplotlib.pyplot as plt\n",
    "\n",
    "# pytorch\n",
    "import torch\n",
    "from torch import optim, nn\n",
    "from torch.utils.tensorboard import SummaryWriter\n",
    "\n",
    "from torchsummary import summary\n",
    "\n",
    "# etc\n",
    "import yaml\n",
    "yaml.warnings({'YAMLLoadWarning': False})\n",
    "import mlflow\n",
    "from collections import defaultdict\n",
    "from scipy.stats import zscore\n",
    "\n",
    "# original library\n",
    "\n",
    "import common as com\n",
    "import pytorch_modeler as modeler\n",
    "from pytorch_model import CNN6PANNsVAE as Model\n",
    "from pytorch_utils import filtered_load_model\n",
    "import models\n",
    "\n",
    "import librosa\n",
    "import IPython\n",
    "import librosa.display"
   ]
  },
  {
   "cell_type": "markdown",
   "metadata": {},
   "source": [
    "## load config and set logger"
   ]
  },
  {
   "cell_type": "code",
   "execution_count": 2,
   "metadata": {},
   "outputs": [],
   "source": [
    "with open(\"./config.yaml\", 'rb') as f:\n",
    "    config = yaml.load(f)\n",
    "\n",
    "log_folder = config['IO_OPTION']['OUTPUT_ROOT']+'/{0}.log'.format(datetime.date.today())\n",
    "logger = com.setup_logger(log_folder, '00_train.py')"
   ]
  },
  {
   "cell_type": "markdown",
   "metadata": {},
   "source": [
    "## Setting"
   ]
  },
  {
   "cell_type": "code",
   "execution_count": 3,
   "metadata": {},
   "outputs": [],
   "source": [
    "# Setting seed\n",
    "modeler.set_seed(42)"
   ]
  },
  {
   "cell_type": "code",
   "execution_count": 4,
   "metadata": {},
   "outputs": [
    {
     "data": {
      "text/plain": [
       "'/media/hiroki/working/research/dcase2020/result/2D/CONV_VAE/config.yaml'"
      ]
     },
     "execution_count": 4,
     "metadata": {},
     "output_type": "execute_result"
    }
   ],
   "source": [
    "############################################################################\n",
    "# Setting I/O path\n",
    "############################################################################\n",
    "# input dirs\n",
    "INPUT_ROOT = config['IO_OPTION']['INPUT_ROOT']\n",
    "dev_path = INPUT_ROOT + \"/dev_data\"\n",
    "add_dev_path = INPUT_ROOT + \"/add_dev_data\"\n",
    "# machine type\n",
    "MACHINE_TYPE = config['IO_OPTION']['MACHINE_TYPE']\n",
    "machine_types = os.listdir(dev_path)\n",
    "# output dirs\n",
    "OUTPUT_ROOT = config['IO_OPTION']['OUTPUT_ROOT']\n",
    "MODEL_DIR = config['IO_OPTION']['OUTPUT_ROOT'] + '/models'\n",
    "TB_DIR = config['IO_OPTION']['OUTPUT_ROOT'] + '/tb'\n",
    "PKL_DIR = OUTPUT_ROOT + '/pkl'\n",
    "os.makedirs(PKL_DIR, exist_ok=True)\n",
    "os.makedirs(MODEL_DIR, exist_ok=True)\n",
    "os.makedirs(TB_DIR, exist_ok=True)\n",
    "\n",
    "# copy config\n",
    "shutil.copy('./config.yaml', OUTPUT_ROOT)"
   ]
  },
  {
   "cell_type": "markdown",
   "metadata": {},
   "source": [
    "## make path list and train/valid split"
   ]
  },
  {
   "cell_type": "code",
   "execution_count": 5,
   "metadata": {},
   "outputs": [],
   "source": [
    "############################################################################\n",
    "# make path set and train/valid split\n",
    "############################################################################\n",
    "'''\n",
    "train_paths[machine_type]['train' or 'valid'] = path\n",
    "'''\n",
    "dev_train_paths = {}\n",
    "add_train_paths = {}\n",
    "train_paths = {}"
   ]
  },
  {
   "cell_type": "code",
   "execution_count": 6,
   "metadata": {},
   "outputs": [],
   "source": [
    "for machine_type in machine_types:\n",
    "    # dev train\n",
    "    dev_train_all_paths = [\"{}/{}/train/\".format(dev_path, machine_type) + file for file in os.listdir(\"{}/{}/train\".format(dev_path, machine_type))]\n",
    "    dev_train_all_paths = sorted(dev_train_all_paths)\n",
    "    dev_train_paths[machine_type] = {}\n",
    "    dev_train_paths[machine_type]['train'], \\\n",
    "    dev_train_paths[machine_type]['valid'] = train_test_split(dev_train_all_paths,\n",
    "                                                              test_size=config['etc']['test_size'],\n",
    "                                                              shuffle=False,\n",
    "                                                             )\n",
    "    # add_dev train\n",
    "    add_train_all_paths = [\"{}/{}/train/\".format(add_dev_path, machine_type) + file for file in os.listdir(\"{}/{}/train\".format(add_dev_path, machine_type))]\n",
    "    add_train_all_paths = sorted(add_train_all_paths)\n",
    "    add_train_paths[machine_type] = {}\n",
    "    add_train_paths[machine_type]['train'], \\\n",
    "    add_train_paths[machine_type]['valid'] = train_test_split(add_train_all_paths,\n",
    "                                                              test_size=config['etc']['test_size'],\n",
    "                                                              shuffle=False,\n",
    "                                                             )\n",
    "    train_paths[machine_type] = {}\n",
    "    train_paths[machine_type]['train'] = dev_train_paths[machine_type]['train'] + add_train_paths[machine_type]['train']\n",
    "    train_paths[machine_type]['valid'] = dev_train_paths[machine_type]['valid'] + add_train_paths[machine_type]['valid']"
   ]
  },
  {
   "cell_type": "markdown",
   "metadata": {},
   "source": [
    "## training"
   ]
  },
  {
   "cell_type": "code",
   "execution_count": 7,
   "metadata": {},
   "outputs": [],
   "source": [
    "#############################################################################\n",
    "# run\n",
    "#############################################################################\n",
    "def run(machine_type):\n",
    "    com.tic()\n",
    "    logger.info('TARGET MACHINE_TYPE: {0}'.format(machine_type))\n",
    "    logger.info('MAKE DATA_LOADER')\n",
    "    # dev_train_paths\n",
    "    dataloaders_dict = modeler.make_dataloader(train_paths, machine_type)\n",
    "    # define writer for tensorbord\n",
    "    os.makedirs(TB_DIR+'/'+machine_type, exist_ok=True)         # debug\n",
    "    tb_log_dir = TB_DIR + '/' + machine_type\n",
    "    writer = SummaryWriter(log_dir = tb_log_dir)\n",
    "    logger.info('TRAINING')\n",
    "    # parameter setting\n",
    "    net = Model(sample_rate=config['preprocessing']['sample_rate'],\n",
    "            window_size=config['preprocessing']['window_size'],\n",
    "            hop_size=config['preprocessing']['hop_size'],\n",
    "            mel_bins=config['preprocessing']['mel_bins'],\n",
    "            fmin=config['preprocessing']['fmin'],\n",
    "            fmax=config['preprocessing']['fmax'])\n",
    "    pretrained_dict = torch.load(config['IO_OPTION']['PREMODEL_PATH'])\n",
    "    net = filtered_load_model(net, pretrained_dict)\n",
    "    optimizer = optim.Adam(net.parameters())\n",
    "    criterion = nn.MSELoss()\n",
    "    num_epochs = config['fit']['num_epochs']\n",
    "    history = modeler.train_net(net, dataloaders_dict, criterion, optimizer, num_epochs, writer)\n",
    "    # output\n",
    "    model = history['model']\n",
    "    model_out_path = MODEL_DIR+'/{}_model.pth'.format(machine_type)\n",
    "    torch.save(model.state_dict(), model_out_path)\n",
    "    logger.info('\\n success:{0} \\n'.format(machine_type) + \\\n",
    "                    'model_out_path ==> \\n {0}'.format(model_out_path))\n",
    "    #  close writer for tensorbord\n",
    "    writer.close()\n",
    "    #modeler.mlflow_log(history, config, machine_type, model_out_path, tb_log_dir)\n",
    "    com.toc()\n",
    "    return history"
   ]
  },
  {
   "cell_type": "code",
   "execution_count": 8,
   "metadata": {},
   "outputs": [
    {
     "data": {
      "text/plain": [
       "['fan', 'pump', 'slider', 'ToyCar', 'ToyConveyor', 'valve']"
      ]
     },
     "execution_count": 8,
     "metadata": {},
     "output_type": "execute_result"
    }
   ],
   "source": [
    "machine_types"
   ]
  },
  {
   "cell_type": "code",
   "execution_count": 9,
   "metadata": {
    "scrolled": true
   },
   "outputs": [
    {
     "name": "stderr",
     "output_type": "stream",
     "text": [
      "2020-10-18 01:07:55,894 - 00_train.py - INFO - TARGET MACHINE_TYPE: slider\n",
      "2020-10-18 01:07:55,908 - 00_train.py - INFO - MAKE DATA_LOADER\n",
      "2020-10-18 01:07:58,035 - 00_train.py - INFO - TRAINING\n",
      "  0%|          | 0/114 [00:00<?, ?it/s]"
     ]
    },
    {
     "name": "stdout",
     "output_type": "stream",
     "text": [
      "use: cuda:0\n"
     ]
    },
    {
     "name": "stderr",
     "output_type": "stream",
     "text": [
      "100%|██████████| 114/114 [01:48<00:00,  1.05it/s]\n",
      "100%|██████████| 49/49 [00:22<00:00,  2.13it/s]\n",
      "2020-10-18 01:10:12,712 - pytorch_modeler.py - INFO - Epoch 1/60:train_loss:909.319971, valid_loss:742.238624\n",
      "100%|██████████| 114/114 [01:15<00:00,  1.51it/s]\n",
      "100%|██████████| 49/49 [00:16<00:00,  2.90it/s]\n",
      "2020-10-18 01:11:44,911 - pytorch_modeler.py - INFO - Epoch 2/60:train_loss:586.628540, valid_loss:398.566773\n",
      "100%|██████████| 114/114 [01:15<00:00,  1.51it/s]\n",
      "100%|██████████| 49/49 [00:16<00:00,  2.91it/s]\n",
      "2020-10-18 01:13:17,070 - pytorch_modeler.py - INFO - Epoch 3/60:train_loss:279.714726, valid_loss:151.770324\n",
      "100%|██████████| 114/114 [01:15<00:00,  1.51it/s]\n",
      "100%|██████████| 49/49 [00:16<00:00,  2.91it/s]\n",
      "2020-10-18 01:14:49,414 - pytorch_modeler.py - INFO - Epoch 4/60:train_loss:98.376826, valid_loss:51.926735\n",
      "100%|██████████| 114/114 [01:15<00:00,  1.51it/s]\n",
      "100%|██████████| 49/49 [00:16<00:00,  2.90it/s]\n",
      "2020-10-18 01:16:21,758 - pytorch_modeler.py - INFO - Epoch 5/60:train_loss:36.635789, valid_loss:27.866075\n",
      "100%|██████████| 114/114 [01:15<00:00,  1.52it/s]\n",
      "100%|██████████| 49/49 [00:17<00:00,  2.88it/s]\n",
      "2020-10-18 01:17:53,954 - pytorch_modeler.py - INFO - Epoch 6/60:train_loss:24.696175, valid_loss:25.887129\n",
      "100%|██████████| 114/114 [01:14<00:00,  1.52it/s]\n",
      "100%|██████████| 49/49 [00:16<00:00,  2.91it/s]\n",
      "2020-10-18 01:19:25,775 - pytorch_modeler.py - INFO - Epoch 7/60:train_loss:23.542370, valid_loss:26.192092\n",
      "100%|██████████| 114/114 [01:15<00:00,  1.52it/s]\n",
      "100%|██████████| 49/49 [00:16<00:00,  2.90it/s]\n",
      "2020-10-18 01:20:57,687 - pytorch_modeler.py - INFO - Epoch 8/60:train_loss:23.169030, valid_loss:25.827812\n",
      "100%|██████████| 114/114 [01:16<00:00,  1.49it/s]\n",
      "100%|██████████| 49/49 [00:17<00:00,  2.88it/s]\n",
      "2020-10-18 01:22:31,207 - pytorch_modeler.py - INFO - Epoch 9/60:train_loss:23.170710, valid_loss:25.504018\n",
      "100%|██████████| 114/114 [01:15<00:00,  1.51it/s]\n",
      "100%|██████████| 49/49 [00:16<00:00,  2.90it/s]\n",
      "2020-10-18 01:24:03,373 - pytorch_modeler.py - INFO - Epoch 10/60:train_loss:23.092323, valid_loss:25.977752\n",
      "100%|██████████| 114/114 [01:15<00:00,  1.52it/s]\n",
      "100%|██████████| 49/49 [00:16<00:00,  2.90it/s]\n",
      "2020-10-18 01:25:35,325 - pytorch_modeler.py - INFO - Epoch 11/60:train_loss:23.196319, valid_loss:25.645551\n",
      "100%|██████████| 114/114 [01:15<00:00,  1.51it/s]\n",
      "100%|██████████| 49/49 [00:16<00:00,  2.90it/s]\n",
      "2020-10-18 01:27:07,678 - pytorch_modeler.py - INFO - Epoch 12/60:train_loss:22.999351, valid_loss:25.707217\n",
      "100%|██████████| 114/114 [01:16<00:00,  1.50it/s]\n",
      "100%|██████████| 49/49 [00:16<00:00,  2.90it/s]\n",
      "2020-10-18 01:28:40,811 - pytorch_modeler.py - INFO - Epoch 13/60:train_loss:23.047644, valid_loss:25.241119\n",
      "100%|██████████| 114/114 [01:16<00:00,  1.50it/s]\n",
      "100%|██████████| 49/49 [00:17<00:00,  2.85it/s]\n",
      "2020-10-18 01:30:14,080 - pytorch_modeler.py - INFO - Epoch 14/60:train_loss:23.099223, valid_loss:25.468274\n",
      "100%|██████████| 114/114 [01:16<00:00,  1.49it/s]\n",
      "100%|██████████| 49/49 [00:17<00:00,  2.82it/s]\n",
      "2020-10-18 01:31:48,179 - pytorch_modeler.py - INFO - Epoch 15/60:train_loss:23.048704, valid_loss:25.776699\n",
      "100%|██████████| 114/114 [01:17<00:00,  1.48it/s]\n",
      "100%|██████████| 49/49 [00:16<00:00,  2.88it/s]\n",
      "2020-10-18 01:33:22,271 - pytorch_modeler.py - INFO - Epoch 16/60:train_loss:22.972481, valid_loss:25.644218\n",
      "100%|██████████| 114/114 [01:16<00:00,  1.48it/s]\n",
      "100%|██████████| 49/49 [00:17<00:00,  2.81it/s]\n",
      "2020-10-18 01:34:56,608 - pytorch_modeler.py - INFO - Epoch 17/60:train_loss:22.967896, valid_loss:26.111127\n",
      "100%|██████████| 114/114 [01:16<00:00,  1.48it/s]\n",
      "100%|██████████| 49/49 [00:16<00:00,  2.93it/s]\n",
      "2020-10-18 01:36:30,125 - pytorch_modeler.py - INFO - Epoch 18/60:train_loss:22.999775, valid_loss:25.596424\n",
      "100%|██████████| 114/114 [01:14<00:00,  1.52it/s]\n",
      "100%|██████████| 49/49 [00:16<00:00,  2.92it/s]\n",
      "2020-10-18 01:38:01,646 - pytorch_modeler.py - INFO - Epoch 19/60:train_loss:22.932295, valid_loss:25.522126\n",
      "100%|██████████| 114/114 [01:14<00:00,  1.52it/s]\n",
      "100%|██████████| 49/49 [00:16<00:00,  2.93it/s]\n",
      "2020-10-18 01:39:33,182 - pytorch_modeler.py - INFO - Epoch 20/60:train_loss:22.951858, valid_loss:25.541623\n",
      "100%|██████████| 114/114 [01:14<00:00,  1.53it/s]\n",
      "100%|██████████| 49/49 [00:16<00:00,  2.93it/s]\n",
      "2020-10-18 01:41:04,645 - pytorch_modeler.py - INFO - Epoch 21/60:train_loss:22.895420, valid_loss:25.870282\n",
      "100%|██████████| 114/114 [01:14<00:00,  1.53it/s]\n",
      "100%|██████████| 49/49 [00:16<00:00,  2.94it/s]\n",
      "2020-10-18 01:42:35,916 - pytorch_modeler.py - INFO - Epoch 22/60:train_loss:22.928497, valid_loss:26.118240\n",
      "100%|██████████| 114/114 [01:14<00:00,  1.53it/s]\n",
      "100%|██████████| 49/49 [00:16<00:00,  2.93it/s]\n",
      "2020-10-18 01:44:07,173 - pytorch_modeler.py - INFO - Epoch 23/60:train_loss:22.901057, valid_loss:25.325452\n",
      "100%|██████████| 114/114 [01:14<00:00,  1.53it/s]\n",
      "100%|██████████| 49/49 [00:16<00:00,  2.94it/s]\n",
      "2020-10-18 01:45:38,412 - pytorch_modeler.py - INFO - Epoch 24/60:train_loss:22.890904, valid_loss:25.750253\n",
      "100%|██████████| 114/114 [01:14<00:00,  1.53it/s]\n",
      "100%|██████████| 49/49 [00:16<00:00,  2.93it/s]\n",
      "2020-10-18 01:47:09,638 - pytorch_modeler.py - INFO - Epoch 25/60:train_loss:22.934539, valid_loss:25.462169\n",
      "100%|██████████| 114/114 [01:14<00:00,  1.53it/s]\n",
      "100%|██████████| 49/49 [00:16<00:00,  2.94it/s]\n",
      "2020-10-18 01:48:40,867 - pytorch_modeler.py - INFO - Epoch 26/60:train_loss:22.919864, valid_loss:25.881588\n",
      "100%|██████████| 114/114 [01:14<00:00,  1.52it/s]\n",
      "100%|██████████| 49/49 [00:16<00:00,  2.94it/s]\n",
      "2020-10-18 01:50:12,463 - pytorch_modeler.py - INFO - Epoch 27/60:train_loss:22.893437, valid_loss:25.286358\n",
      "100%|██████████| 114/114 [01:15<00:00,  1.52it/s]\n",
      "100%|██████████| 49/49 [00:16<00:00,  2.93it/s]\n",
      "2020-10-18 01:51:44,411 - pytorch_modeler.py - INFO - Epoch 28/60:train_loss:22.891687, valid_loss:25.544811\n",
      "100%|██████████| 114/114 [01:15<00:00,  1.51it/s]\n",
      "100%|██████████| 49/49 [00:16<00:00,  2.93it/s]\n",
      "2020-10-18 01:53:16,368 - pytorch_modeler.py - INFO - Epoch 29/60:train_loss:22.845146, valid_loss:25.423305\n",
      "100%|██████████| 114/114 [01:15<00:00,  1.52it/s]\n",
      "100%|██████████| 49/49 [00:16<00:00,  2.94it/s]\n",
      "2020-10-18 01:54:48,272 - pytorch_modeler.py - INFO - Epoch 30/60:train_loss:22.950879, valid_loss:25.606850\n",
      "100%|██████████| 114/114 [01:15<00:00,  1.51it/s]\n",
      "100%|██████████| 49/49 [00:16<00:00,  2.94it/s]\n",
      "2020-10-18 01:56:20,238 - pytorch_modeler.py - INFO - Epoch 31/60:train_loss:22.992783, valid_loss:25.844237\n",
      "100%|██████████| 114/114 [01:15<00:00,  1.52it/s]\n",
      "100%|██████████| 49/49 [00:16<00:00,  2.93it/s]\n",
      "2020-10-18 01:57:52,197 - pytorch_modeler.py - INFO - Epoch 32/60:train_loss:22.873436, valid_loss:25.684601\n",
      "100%|██████████| 114/114 [01:15<00:00,  1.52it/s]\n",
      "100%|██████████| 49/49 [00:16<00:00,  2.93it/s]\n",
      "2020-10-18 01:59:24,116 - pytorch_modeler.py - INFO - Epoch 33/60:train_loss:22.834018, valid_loss:25.824222\n",
      "100%|██████████| 114/114 [01:15<00:00,  1.51it/s]\n",
      "100%|██████████| 49/49 [00:16<00:00,  2.94it/s]\n",
      "2020-10-18 02:00:56,214 - pytorch_modeler.py - INFO - Epoch 34/60:train_loss:22.936868, valid_loss:25.859034\n",
      "100%|██████████| 114/114 [01:15<00:00,  1.51it/s]\n",
      "100%|██████████| 49/49 [00:16<00:00,  2.94it/s]\n",
      "2020-10-18 02:02:28,207 - pytorch_modeler.py - INFO - Epoch 35/60:train_loss:22.879153, valid_loss:25.574457\n",
      "100%|██████████| 114/114 [01:15<00:00,  1.52it/s]\n",
      "100%|██████████| 49/49 [00:16<00:00,  2.93it/s]\n",
      "2020-10-18 02:04:00,140 - pytorch_modeler.py - INFO - Epoch 36/60:train_loss:22.868638, valid_loss:25.702279\n",
      "100%|██████████| 114/114 [01:15<00:00,  1.52it/s]\n",
      "100%|██████████| 49/49 [00:16<00:00,  2.93it/s]\n",
      "2020-10-18 02:05:32,059 - pytorch_modeler.py - INFO - Epoch 37/60:train_loss:22.947610, valid_loss:25.476702\n",
      "100%|██████████| 114/114 [01:15<00:00,  1.51it/s]\n",
      "100%|██████████| 49/49 [00:16<00:00,  2.93it/s]\n",
      "2020-10-18 02:07:04,197 - pytorch_modeler.py - INFO - Epoch 38/60:train_loss:22.944167, valid_loss:25.854195\n",
      "100%|██████████| 114/114 [01:15<00:00,  1.51it/s]\n",
      "100%|██████████| 49/49 [00:16<00:00,  2.94it/s]\n",
      "2020-10-18 02:08:36,214 - pytorch_modeler.py - INFO - Epoch 39/60:train_loss:22.833412, valid_loss:25.746280\n",
      "100%|██████████| 114/114 [01:15<00:00,  1.51it/s]\n",
      "100%|██████████| 49/49 [00:16<00:00,  2.94it/s]\n",
      "2020-10-18 02:10:08,292 - pytorch_modeler.py - INFO - Epoch 40/60:train_loss:22.901499, valid_loss:25.709216\n"
     ]
    },
    {
     "name": "stderr",
     "output_type": "stream",
     "text": [
      "100%|██████████| 114/114 [01:15<00:00,  1.52it/s]\n",
      "100%|██████████| 49/49 [00:16<00:00,  2.94it/s]\n",
      "2020-10-18 02:11:40,170 - pytorch_modeler.py - INFO - Epoch 41/60:train_loss:22.874683, valid_loss:25.315533\n",
      "100%|██████████| 114/114 [01:15<00:00,  1.51it/s]\n",
      "100%|██████████| 49/49 [00:16<00:00,  2.94it/s]\n",
      "2020-10-18 02:13:12,134 - pytorch_modeler.py - INFO - Epoch 42/60:train_loss:22.893692, valid_loss:25.582909\n",
      "100%|██████████| 114/114 [01:15<00:00,  1.51it/s]\n",
      "100%|██████████| 49/49 [00:16<00:00,  2.94it/s]\n",
      "2020-10-18 02:14:44,136 - pytorch_modeler.py - INFO - Epoch 43/60:train_loss:22.875475, valid_loss:25.952583\n",
      "100%|██████████| 114/114 [01:15<00:00,  1.51it/s]\n",
      "100%|██████████| 49/49 [00:16<00:00,  2.94it/s]\n",
      "2020-10-18 02:16:16,240 - pytorch_modeler.py - INFO - Epoch 44/60:train_loss:22.875206, valid_loss:25.367264\n",
      "100%|██████████| 114/114 [01:15<00:00,  1.52it/s]\n",
      "100%|██████████| 49/49 [00:16<00:00,  2.94it/s]\n",
      "2020-10-18 02:17:48,129 - pytorch_modeler.py - INFO - Epoch 45/60:train_loss:22.874914, valid_loss:25.867503\n",
      "100%|██████████| 114/114 [01:15<00:00,  1.52it/s]\n",
      "100%|██████████| 49/49 [00:16<00:00,  2.93it/s]\n",
      "2020-10-18 02:19:20,050 - pytorch_modeler.py - INFO - Epoch 46/60:train_loss:22.832911, valid_loss:25.645408\n",
      "100%|██████████| 114/114 [01:15<00:00,  1.51it/s]\n",
      "100%|██████████| 49/49 [00:16<00:00,  2.94it/s]\n",
      "2020-10-18 02:20:52,217 - pytorch_modeler.py - INFO - Epoch 47/60:train_loss:22.910573, valid_loss:25.751641\n",
      "100%|██████████| 114/114 [01:15<00:00,  1.51it/s]\n",
      "100%|██████████| 49/49 [00:16<00:00,  2.93it/s]\n",
      "2020-10-18 02:22:24,254 - pytorch_modeler.py - INFO - Epoch 48/60:train_loss:22.873416, valid_loss:25.284077\n",
      "100%|██████████| 114/114 [01:15<00:00,  1.52it/s]\n",
      "100%|██████████| 49/49 [00:16<00:00,  2.90it/s]\n",
      "2020-10-18 02:23:56,339 - pytorch_modeler.py - INFO - Epoch 49/60:train_loss:22.828293, valid_loss:25.559722\n",
      "100%|██████████| 114/114 [01:15<00:00,  1.52it/s]\n",
      "100%|██████████| 49/49 [00:16<00:00,  2.94it/s]\n",
      "2020-10-18 02:25:28,247 - pytorch_modeler.py - INFO - Epoch 50/60:train_loss:22.833696, valid_loss:26.097852\n",
      "100%|██████████| 114/114 [01:15<00:00,  1.51it/s]\n",
      "100%|██████████| 49/49 [00:16<00:00,  2.94it/s]\n",
      "2020-10-18 02:27:00,195 - pytorch_modeler.py - INFO - Epoch 51/60:train_loss:22.819668, valid_loss:25.422357\n",
      "100%|██████████| 114/114 [01:15<00:00,  1.51it/s]\n",
      "100%|██████████| 49/49 [00:16<00:00,  2.94it/s]\n",
      "2020-10-18 02:28:32,365 - pytorch_modeler.py - INFO - Epoch 52/60:train_loss:22.845168, valid_loss:26.161080\n",
      "100%|██████████| 114/114 [01:15<00:00,  1.51it/s]\n",
      "100%|██████████| 49/49 [00:16<00:00,  2.94it/s]\n",
      "2020-10-18 02:30:04,313 - pytorch_modeler.py - INFO - Epoch 53/60:train_loss:22.942607, valid_loss:25.237503\n",
      "100%|██████████| 114/114 [01:15<00:00,  1.52it/s]\n",
      "100%|██████████| 49/49 [00:16<00:00,  2.94it/s]\n",
      "2020-10-18 02:31:36,243 - pytorch_modeler.py - INFO - Epoch 54/60:train_loss:22.853498, valid_loss:25.805908\n",
      "100%|██████████| 114/114 [01:15<00:00,  1.51it/s]\n",
      "100%|██████████| 49/49 [00:16<00:00,  2.94it/s]\n",
      "2020-10-18 02:33:08,173 - pytorch_modeler.py - INFO - Epoch 55/60:train_loss:22.853703, valid_loss:25.861169\n",
      "100%|██████████| 114/114 [01:15<00:00,  1.51it/s]\n",
      "100%|██████████| 49/49 [00:16<00:00,  2.94it/s]\n",
      "2020-10-18 02:34:40,178 - pytorch_modeler.py - INFO - Epoch 56/60:train_loss:22.900282, valid_loss:25.448535\n",
      "100%|██████████| 114/114 [01:15<00:00,  1.51it/s]\n",
      "100%|██████████| 49/49 [00:16<00:00,  2.94it/s]\n",
      "2020-10-18 02:36:12,259 - pytorch_modeler.py - INFO - Epoch 57/60:train_loss:22.832879, valid_loss:25.703977\n",
      "100%|██████████| 114/114 [01:15<00:00,  1.52it/s]\n",
      "100%|██████████| 49/49 [00:16<00:00,  2.93it/s]\n",
      "2020-10-18 02:37:44,180 - pytorch_modeler.py - INFO - Epoch 58/60:train_loss:22.867074, valid_loss:25.831533\n",
      "100%|██████████| 114/114 [01:15<00:00,  1.51it/s]\n",
      "100%|██████████| 49/49 [00:16<00:00,  2.93it/s]\n",
      "2020-10-18 02:39:16,156 - pytorch_modeler.py - INFO - Epoch 59/60:train_loss:22.886240, valid_loss:25.561364\n",
      "100%|██████████| 114/114 [01:15<00:00,  1.51it/s]\n",
      "100%|██████████| 49/49 [00:16<00:00,  2.93it/s]\n",
      "2020-10-18 02:40:48,286 - pytorch_modeler.py - INFO - Epoch 60/60:train_loss:22.883075, valid_loss:25.297665\n",
      "2020-10-18 02:40:48,615 - 00_train.py - INFO - \n",
      " success:slider \n",
      "model_out_path ==> \n",
      " /media/hiroki/working/research/dcase2020/result/2D/CONV_VAE/models/slider_model.pth\n"
     ]
    },
    {
     "name": "stdout",
     "output_type": "stream",
     "text": [
      "elapsed time: 5572.722038507 [sec]\n"
     ]
    },
    {
     "ename": "FileNotFoundError",
     "evalue": "[Errno 2] No such file or directory: '/media/hiroki/working/research/dcase2020/result/2D/CONV_VAE/pkl/slider_history.pkl'",
     "output_type": "error",
     "traceback": [
      "\u001b[0;31m---------------------------------------------------------------------------\u001b[0m",
      "\u001b[0;31mFileNotFoundError\u001b[0m                         Traceback (most recent call last)",
      "\u001b[0;32m<ipython-input-9-1e36cbcd8db6>\u001b[0m in \u001b[0;36m<module>\u001b[0;34m\u001b[0m\n\u001b[1;32m      3\u001b[0m         \u001b[0;32mcontinue\u001b[0m\u001b[0;34m\u001b[0m\u001b[0;34m\u001b[0m\u001b[0m\n\u001b[1;32m      4\u001b[0m     \u001b[0mhistory\u001b[0m \u001b[0;34m=\u001b[0m \u001b[0mrun\u001b[0m\u001b[0;34m(\u001b[0m\u001b[0mmachine_type\u001b[0m\u001b[0;34m)\u001b[0m\u001b[0;34m\u001b[0m\u001b[0;34m\u001b[0m\u001b[0m\n\u001b[0;32m----> 5\u001b[0;31m     \u001b[0;32mwith\u001b[0m \u001b[0mopen\u001b[0m\u001b[0;34m(\u001b[0m\u001b[0;34m'{}/{}_history.pkl'\u001b[0m\u001b[0;34m.\u001b[0m\u001b[0mformat\u001b[0m\u001b[0;34m(\u001b[0m\u001b[0mPKL_DIR\u001b[0m\u001b[0;34m,\u001b[0m \u001b[0mmachine_type\u001b[0m\u001b[0;34m)\u001b[0m\u001b[0;34m,\u001b[0m \u001b[0;34m'wb'\u001b[0m\u001b[0;34m)\u001b[0m \u001b[0;32mas\u001b[0m \u001b[0mfile\u001b[0m\u001b[0;34m:\u001b[0m\u001b[0;34m\u001b[0m\u001b[0;34m\u001b[0m\u001b[0m\n\u001b[0m\u001b[1;32m      6\u001b[0m         \u001b[0mpickle\u001b[0m\u001b[0;34m.\u001b[0m\u001b[0mdump\u001b[0m\u001b[0;34m(\u001b[0m\u001b[0mhistory\u001b[0m \u001b[0;34m,\u001b[0m \u001b[0mfile\u001b[0m\u001b[0;34m)\u001b[0m\u001b[0;34m\u001b[0m\u001b[0;34m\u001b[0m\u001b[0m\n",
      "\u001b[0;31mFileNotFoundError\u001b[0m: [Errno 2] No such file or directory: '/media/hiroki/working/research/dcase2020/result/2D/CONV_VAE/pkl/slider_history.pkl'"
     ]
    }
   ],
   "source": [
    "for machine_type in machine_types:\n",
    "    if (machine_type == machine_types[0]) or (machine_type == machine_types[1]):\n",
    "        continue\n",
    "    history = run(machine_type)\n",
    "    with open('{}/{}_history.pkl'.format(PKL_DIR, machine_type), 'wb') as file:\n",
    "        pickle.dump(history , file)"
   ]
  },
  {
   "cell_type": "code",
   "execution_count": null,
   "metadata": {},
   "outputs": [],
   "source": []
  }
 ],
 "metadata": {
  "kernelspec": {
   "display_name": "Python 3",
   "language": "python",
   "name": "python3"
  },
  "language_info": {
   "codemirror_mode": {
    "name": "ipython",
    "version": 3
   },
   "file_extension": ".py",
   "mimetype": "text/x-python",
   "name": "python",
   "nbconvert_exporter": "python",
   "pygments_lexer": "ipython3",
   "version": "3.7.7"
  },
  "toc": {
   "base_numbering": 1,
   "nav_menu": {},
   "number_sections": true,
   "sideBar": true,
   "skip_h1_title": false,
   "title_cell": "Table of Contents",
   "title_sidebar": "Contents",
   "toc_cell": false,
   "toc_position": {},
   "toc_section_display": true,
   "toc_window_display": false
  }
 },
 "nbformat": 4,
 "nbformat_minor": 4
}
