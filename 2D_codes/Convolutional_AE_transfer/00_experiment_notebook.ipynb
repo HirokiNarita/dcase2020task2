{
 "cells": [
  {
   "cell_type": "markdown",
   "metadata": {},
   "source": [
    "# train"
   ]
  },
  {
   "cell_type": "markdown",
   "metadata": {},
   "source": [
    "## load library"
   ]
  },
  {
   "cell_type": "code",
   "execution_count": 1,
   "metadata": {},
   "outputs": [],
   "source": [
    "# python default library\n",
    "import os\n",
    "import shutil\n",
    "import datetime\n",
    "import sys\n",
    "import pickle\n",
    "\n",
    "# general analysis tool-kit\n",
    "import numpy as np\n",
    "from sklearn.model_selection import train_test_split\n",
    "import matplotlib.pyplot as plt\n",
    "\n",
    "# pytorch\n",
    "import torch\n",
    "from torch import optim, nn\n",
    "from torch.utils.tensorboard import SummaryWriter\n",
    "\n",
    "from torchsummary import summary\n",
    "\n",
    "# etc\n",
    "import yaml\n",
    "yaml.warnings({'YAMLLoadWarning': False})\n",
    "import mlflow\n",
    "from collections import defaultdict\n",
    "from scipy.stats import zscore\n",
    "\n",
    "# original library\n",
    "\n",
    "import common as com\n",
    "import pytorch_modeler as modeler\n",
    "from pytorch_model import CNN6PANNsAutoEncoder as Model\n",
    "from pytorch_utils import filtered_load_model\n",
    "import models\n",
    "\n",
    "import librosa\n",
    "import IPython\n",
    "import librosa.display"
   ]
  },
  {
   "cell_type": "markdown",
   "metadata": {},
   "source": [
    "## load config and set logger"
   ]
  },
  {
   "cell_type": "code",
   "execution_count": 2,
   "metadata": {},
   "outputs": [],
   "source": [
    "with open(\"./config.yaml\", 'rb') as f:\n",
    "    config = yaml.load(f)\n",
    "\n",
    "log_folder = config['IO_OPTION']['OUTPUT_ROOT']+'/{0}.log'.format(datetime.date.today())\n",
    "logger = com.setup_logger(log_folder, '00_train.py')"
   ]
  },
  {
   "cell_type": "markdown",
   "metadata": {},
   "source": [
    "## Setting"
   ]
  },
  {
   "cell_type": "code",
   "execution_count": 3,
   "metadata": {},
   "outputs": [],
   "source": [
    "# Setting seed\n",
    "modeler.set_seed(42)"
   ]
  },
  {
   "cell_type": "code",
   "execution_count": 4,
   "metadata": {},
   "outputs": [
    {
     "data": {
      "text/plain": [
       "'/media/hiroki/working/research/dcase2020/result/2D/CONV_AE_transfer/config.yaml'"
      ]
     },
     "execution_count": 4,
     "metadata": {},
     "output_type": "execute_result"
    }
   ],
   "source": [
    "############################################################################\n",
    "# Setting I/O path\n",
    "############################################################################\n",
    "# input dirs\n",
    "INPUT_ROOT = config['IO_OPTION']['INPUT_ROOT']\n",
    "dev_path = INPUT_ROOT + \"/dev_data\"\n",
    "add_dev_path = INPUT_ROOT + \"/add_dev_data\"\n",
    "# machine type\n",
    "MACHINE_TYPE = config['IO_OPTION']['MACHINE_TYPE']\n",
    "machine_types = os.listdir(dev_path)\n",
    "# output dirs\n",
    "OUTPUT_ROOT = config['IO_OPTION']['OUTPUT_ROOT']\n",
    "MODEL_DIR = config['IO_OPTION']['OUTPUT_ROOT'] + '/models'\n",
    "TB_DIR = config['IO_OPTION']['OUTPUT_ROOT'] + '/tb'\n",
    "PKL_DIR = OUTPUT_ROOT + '/pkl'\n",
    "os.makedirs(MODEL_DIR, exist_ok=True)\n",
    "os.makedirs(TB_DIR, exist_ok=True)\n",
    "os.makedirs(PKL_DIR, exist_ok=True)\n",
    "# copy config\n",
    "shutil.copy('./config.yaml', OUTPUT_ROOT)"
   ]
  },
  {
   "cell_type": "markdown",
   "metadata": {},
   "source": [
    "## make path list and train/valid split"
   ]
  },
  {
   "cell_type": "code",
   "execution_count": 5,
   "metadata": {},
   "outputs": [],
   "source": [
    "############################################################################\n",
    "# make path set and train/valid split\n",
    "############################################################################\n",
    "'''\n",
    "train_paths[machine_type]['train' or 'valid'] = path\n",
    "'''\n",
    "dev_train_paths = {}\n",
    "add_train_paths = {}\n",
    "train_paths = {}"
   ]
  },
  {
   "cell_type": "code",
   "execution_count": 6,
   "metadata": {},
   "outputs": [],
   "source": [
    "for machine_type in machine_types:\n",
    "    # dev train\n",
    "    dev_train_all_paths = [\"{}/{}/train/\".format(dev_path, machine_type) + file for file in os.listdir(\"{}/{}/train\".format(dev_path, machine_type))]\n",
    "    dev_train_all_paths = sorted(dev_train_all_paths)\n",
    "    dev_train_paths[machine_type] = {}\n",
    "    dev_train_paths[machine_type]['train'], \\\n",
    "    dev_train_paths[machine_type]['valid'] = train_test_split(dev_train_all_paths,\n",
    "                                                              test_size=config['etc']['test_size'],\n",
    "                                                              shuffle=False,\n",
    "                                                             )\n",
    "    # add_dev train\n",
    "    add_train_all_paths = [\"{}/{}/train/\".format(add_dev_path, machine_type) + file for file in os.listdir(\"{}/{}/train\".format(add_dev_path, machine_type))]\n",
    "    add_train_all_paths = sorted(add_train_all_paths)\n",
    "    add_train_paths[machine_type] = {}\n",
    "    add_train_paths[machine_type]['train'], \\\n",
    "    add_train_paths[machine_type]['valid'] = train_test_split(add_train_all_paths,\n",
    "                                                              test_size=config['etc']['test_size'],\n",
    "                                                              shuffle=False,\n",
    "                                                             )\n",
    "    train_paths[machine_type] = {}\n",
    "    train_paths[machine_type]['train'] = dev_train_paths[machine_type]['train'] + add_train_paths[machine_type]['train']\n",
    "    train_paths[machine_type]['valid'] = dev_train_paths[machine_type]['valid'] + add_train_paths[machine_type]['valid']"
   ]
  },
  {
   "cell_type": "markdown",
   "metadata": {},
   "source": [
    "## training"
   ]
  },
  {
   "cell_type": "code",
   "execution_count": 7,
   "metadata": {},
   "outputs": [],
   "source": [
    "#############################################################################\n",
    "# run\n",
    "#############################################################################\n",
    "def run(machine_type):\n",
    "    com.tic()\n",
    "    logger.info('TARGET MACHINE_TYPE: {0}'.format(machine_type))\n",
    "    logger.info('MAKE DATA_LOADER')\n",
    "    # dev_train_paths\n",
    "    dataloaders_dict = modeler.make_dataloader(train_paths, machine_type)\n",
    "    # define writer for tensorbord\n",
    "    os.makedirs(TB_DIR+'/'+machine_type, exist_ok=True)         # debug\n",
    "    tb_log_dir = TB_DIR + '/' + machine_type\n",
    "    writer = SummaryWriter(log_dir = tb_log_dir)\n",
    "    logger.info('TRAINING')\n",
    "    # parameter setting\n",
    "    net = Model(sample_rate=config['preprocessing']['sample_rate'],\n",
    "            window_size=config['preprocessing']['window_size'],\n",
    "            hop_size=config['preprocessing']['hop_size'],\n",
    "            mel_bins=config['preprocessing']['mel_bins'],\n",
    "            fmin=config['preprocessing']['fmin'],\n",
    "            fmax=config['preprocessing']['fmax'])\n",
    "    pretrained_dict = torch.load(config['IO_OPTION']['PREMODEL_PATH'])\n",
    "    net = filtered_load_model(net, pretrained_dict)\n",
    "    ### Encoder fraze ###\n",
    "    for idx, param in enumerate(net.parameters()):\n",
    "        if idx == 17:\n",
    "            break\n",
    "        param.requires_grad = False\n",
    "    #####################\n",
    "    optimizer = optim.Adam(net.parameters())\n",
    "    criterion = nn.MSELoss()\n",
    "    num_epochs = config['fit']['num_epochs']\n",
    "    history = modeler.train_net(net, dataloaders_dict, criterion, optimizer, num_epochs, writer)\n",
    "    # output\n",
    "    model = history['model']\n",
    "    model_out_path = MODEL_DIR+'/{}_model.pth'.format(machine_type)\n",
    "    torch.save(model.state_dict(), model_out_path)\n",
    "    logger.info('\\n success:{0} \\n'.format(machine_type) + \\\n",
    "                    'model_out_path ==> \\n {0}'.format(model_out_path))\n",
    "    #  close writer for tensorbord\n",
    "    writer.close()\n",
    "    #modeler.mlflow_log(history, config, machine_type, model_out_path, tb_log_dir)\n",
    "    com.toc()\n",
    "    return history"
   ]
  },
  {
   "cell_type": "code",
   "execution_count": 8,
   "metadata": {},
   "outputs": [
    {
     "data": {
      "text/plain": [
       "['fan', 'pump', 'slider', 'ToyCar', 'ToyConveyor', 'valve']"
      ]
     },
     "execution_count": 8,
     "metadata": {},
     "output_type": "execute_result"
    }
   ],
   "source": [
    "machine_types"
   ]
  },
  {
   "cell_type": "code",
   "execution_count": 9,
   "metadata": {
    "scrolled": false
   },
   "outputs": [
    {
     "name": "stderr",
     "output_type": "stream",
     "text": [
      "2020-10-15 18:12:31,370 - 00_train.py - INFO - TARGET MACHINE_TYPE: fan\n",
      "2020-10-15 18:12:31,372 - 00_train.py - INFO - MAKE DATA_LOADER\n",
      "2020-10-15 18:12:32,320 - 00_train.py - INFO - TRAINING\n",
      "  0%|          | 0/72 [00:00<?, ?it/s]"
     ]
    },
    {
     "name": "stdout",
     "output_type": "stream",
     "text": [
      "use: cuda:0\n"
     ]
    },
    {
     "name": "stderr",
     "output_type": "stream",
     "text": [
      "100%|██████████| 72/72 [01:37<00:00,  1.36s/it]\n",
      "100%|██████████| 31/31 [00:30<00:00,  1.00it/s]\n",
      "2020-10-15 18:14:42,520 - pytorch_modeler.py - INFO - Epoch 1/60:train_loss:895.019739, valid_loss:837.946429\n",
      "100%|██████████| 72/72 [00:53<00:00,  1.34it/s]\n",
      "100%|██████████| 31/31 [00:21<00:00,  1.43it/s]\n",
      "2020-10-15 18:15:58,101 - pytorch_modeler.py - INFO - Epoch 2/60:train_loss:720.395363, valid_loss:631.384638\n",
      "100%|██████████| 72/72 [00:54<00:00,  1.33it/s]\n",
      "100%|██████████| 31/31 [00:21<00:00,  1.43it/s]\n",
      "2020-10-15 18:17:13,952 - pytorch_modeler.py - INFO - Epoch 3/60:train_loss:501.984248, valid_loss:411.006887\n",
      "100%|██████████| 72/72 [00:54<00:00,  1.33it/s]\n",
      "100%|██████████| 31/31 [00:21<00:00,  1.42it/s]\n",
      "2020-10-15 18:18:30,120 - pytorch_modeler.py - INFO - Epoch 4/60:train_loss:300.218936, valid_loss:222.135679\n",
      "100%|██████████| 72/72 [00:53<00:00,  1.34it/s]\n",
      "100%|██████████| 31/31 [00:21<00:00,  1.43it/s]\n",
      "2020-10-15 18:19:45,702 - pytorch_modeler.py - INFO - Epoch 5/60:train_loss:152.635061, valid_loss:103.103632\n",
      "100%|██████████| 72/72 [00:53<00:00,  1.34it/s]\n",
      "100%|██████████| 31/31 [00:21<00:00,  1.43it/s]\n",
      "2020-10-15 18:21:01,241 - pytorch_modeler.py - INFO - Epoch 6/60:train_loss:70.623345, valid_loss:52.570028\n",
      "100%|██████████| 72/72 [00:54<00:00,  1.33it/s]\n",
      "100%|██████████| 31/31 [00:22<00:00,  1.39it/s]\n",
      "2020-10-15 18:22:17,809 - pytorch_modeler.py - INFO - Epoch 7/60:train_loss:37.811883, valid_loss:35.846429\n",
      "100%|██████████| 72/72 [00:53<00:00,  1.35it/s]\n",
      "100%|██████████| 31/31 [00:21<00:00,  1.45it/s]\n",
      "2020-10-15 18:23:32,655 - pytorch_modeler.py - INFO - Epoch 8/60:train_loss:28.199945, valid_loss:31.802493\n",
      "100%|██████████| 72/72 [00:53<00:00,  1.36it/s]\n",
      "100%|██████████| 31/31 [00:21<00:00,  1.47it/s]\n",
      "2020-10-15 18:24:46,786 - pytorch_modeler.py - INFO - Epoch 9/60:train_loss:25.769798, valid_loss:31.815342\n",
      "100%|██████████| 72/72 [00:52<00:00,  1.36it/s]\n",
      "100%|██████████| 31/31 [00:21<00:00,  1.47it/s]\n",
      "2020-10-15 18:26:00,659 - pytorch_modeler.py - INFO - Epoch 10/60:train_loss:25.302884, valid_loss:30.570002\n",
      "100%|██████████| 72/72 [00:53<00:00,  1.34it/s]\n",
      "100%|██████████| 31/31 [00:21<00:00,  1.43it/s]\n",
      "2020-10-15 18:27:16,247 - pytorch_modeler.py - INFO - Epoch 11/60:train_loss:25.158856, valid_loss:30.627344\n",
      "100%|██████████| 72/72 [00:52<00:00,  1.36it/s]\n",
      "100%|██████████| 31/31 [00:22<00:00,  1.39it/s]\n",
      "2020-10-15 18:28:31,456 - pytorch_modeler.py - INFO - Epoch 12/60:train_loss:24.904917, valid_loss:30.851422\n",
      "100%|██████████| 72/72 [00:55<00:00,  1.31it/s]\n",
      "100%|██████████| 31/31 [00:22<00:00,  1.38it/s]\n",
      "2020-10-15 18:29:49,044 - pytorch_modeler.py - INFO - Epoch 13/60:train_loss:25.001252, valid_loss:30.685488\n",
      "100%|██████████| 72/72 [00:56<00:00,  1.28it/s]\n",
      "100%|██████████| 31/31 [00:22<00:00,  1.39it/s]\n",
      "2020-10-15 18:31:07,616 - pytorch_modeler.py - INFO - Epoch 14/60:train_loss:24.649926, valid_loss:30.456587\n",
      "100%|██████████| 72/72 [00:53<00:00,  1.35it/s]\n",
      "100%|██████████| 31/31 [00:22<00:00,  1.41it/s]\n",
      "2020-10-15 18:32:22,911 - pytorch_modeler.py - INFO - Epoch 15/60:train_loss:24.576983, valid_loss:30.625327\n",
      "100%|██████████| 72/72 [00:54<00:00,  1.33it/s]\n",
      "100%|██████████| 31/31 [00:21<00:00,  1.42it/s]\n",
      "2020-10-15 18:33:38,828 - pytorch_modeler.py - INFO - Epoch 16/60:train_loss:24.578474, valid_loss:30.317730\n",
      "100%|██████████| 72/72 [00:53<00:00,  1.34it/s]\n",
      "100%|██████████| 31/31 [00:21<00:00,  1.43it/s]\n",
      "2020-10-15 18:34:54,387 - pytorch_modeler.py - INFO - Epoch 17/60:train_loss:24.286552, valid_loss:30.386466\n",
      "100%|██████████| 72/72 [00:53<00:00,  1.35it/s]\n",
      "100%|██████████| 31/31 [00:21<00:00,  1.45it/s]\n",
      "2020-10-15 18:36:08,953 - pytorch_modeler.py - INFO - Epoch 18/60:train_loss:24.289919, valid_loss:30.319929\n",
      "100%|██████████| 72/72 [00:53<00:00,  1.36it/s]\n",
      "100%|██████████| 31/31 [00:21<00:00,  1.46it/s]\n",
      "2020-10-15 18:37:23,242 - pytorch_modeler.py - INFO - Epoch 19/60:train_loss:24.403656, valid_loss:29.975469\n",
      "100%|██████████| 72/72 [00:53<00:00,  1.35it/s]\n",
      "100%|██████████| 31/31 [00:21<00:00,  1.45it/s]\n",
      "2020-10-15 18:38:37,845 - pytorch_modeler.py - INFO - Epoch 20/60:train_loss:24.050660, valid_loss:29.756004\n",
      "100%|██████████| 72/72 [00:53<00:00,  1.35it/s]\n",
      "100%|██████████| 31/31 [00:21<00:00,  1.45it/s]\n",
      "2020-10-15 18:39:52,524 - pytorch_modeler.py - INFO - Epoch 21/60:train_loss:24.230937, valid_loss:29.917477\n",
      "100%|██████████| 72/72 [00:53<00:00,  1.36it/s]\n",
      "100%|██████████| 31/31 [00:21<00:00,  1.45it/s]\n",
      "2020-10-15 18:41:07,052 - pytorch_modeler.py - INFO - Epoch 22/60:train_loss:24.299847, valid_loss:30.222779\n",
      "100%|██████████| 72/72 [00:53<00:00,  1.35it/s]\n",
      "100%|██████████| 31/31 [00:22<00:00,  1.38it/s]\n",
      "2020-10-15 18:42:22,963 - pytorch_modeler.py - INFO - Epoch 23/60:train_loss:24.048552, valid_loss:29.985243\n",
      "100%|██████████| 72/72 [00:54<00:00,  1.33it/s]\n",
      "100%|██████████| 31/31 [00:21<00:00,  1.41it/s]\n",
      "2020-10-15 18:43:38,921 - pytorch_modeler.py - INFO - Epoch 24/60:train_loss:24.206796, valid_loss:29.667355\n",
      "100%|██████████| 72/72 [00:53<00:00,  1.34it/s]\n",
      "100%|██████████| 31/31 [00:21<00:00,  1.43it/s]\n",
      "2020-10-15 18:44:54,144 - pytorch_modeler.py - INFO - Epoch 25/60:train_loss:24.071091, valid_loss:29.802527\n",
      "100%|██████████| 72/72 [00:53<00:00,  1.35it/s]\n",
      "100%|██████████| 31/31 [00:21<00:00,  1.43it/s]\n",
      "2020-10-15 18:46:09,230 - pytorch_modeler.py - INFO - Epoch 26/60:train_loss:23.837803, valid_loss:29.722089\n",
      "  7%|▋         | 5/72 [00:04<01:00,  1.10it/s]\n"
     ]
    },
    {
     "ename": "KeyboardInterrupt",
     "evalue": "",
     "output_type": "error",
     "traceback": [
      "\u001b[0;31m---------------------------------------------------------------------------\u001b[0m",
      "\u001b[0;31mKeyboardInterrupt\u001b[0m                         Traceback (most recent call last)",
      "\u001b[0;32m<ipython-input-9-6a6a79f8498a>\u001b[0m in \u001b[0;36m<module>\u001b[0;34m\u001b[0m\n\u001b[1;32m      1\u001b[0m \u001b[0;32mfor\u001b[0m \u001b[0mmachine_type\u001b[0m \u001b[0;32min\u001b[0m \u001b[0mmachine_types\u001b[0m\u001b[0;34m:\u001b[0m\u001b[0;34m\u001b[0m\u001b[0;34m\u001b[0m\u001b[0m\n\u001b[0;32m----> 2\u001b[0;31m     \u001b[0mhistory\u001b[0m \u001b[0;34m=\u001b[0m \u001b[0mrun\u001b[0m\u001b[0;34m(\u001b[0m\u001b[0mmachine_type\u001b[0m\u001b[0;34m)\u001b[0m\u001b[0;34m\u001b[0m\u001b[0;34m\u001b[0m\u001b[0m\n\u001b[0m\u001b[1;32m      3\u001b[0m     \u001b[0;32mwith\u001b[0m \u001b[0mopen\u001b[0m\u001b[0;34m(\u001b[0m\u001b[0;34m'{}/{}_history.pkl'\u001b[0m\u001b[0;34m.\u001b[0m\u001b[0mformat\u001b[0m\u001b[0;34m(\u001b[0m\u001b[0mPKL_DIR\u001b[0m\u001b[0;34m,\u001b[0m \u001b[0mmachine_type\u001b[0m\u001b[0;34m)\u001b[0m\u001b[0;34m,\u001b[0m \u001b[0;34m'wb'\u001b[0m\u001b[0;34m)\u001b[0m \u001b[0;32mas\u001b[0m \u001b[0mfile\u001b[0m\u001b[0;34m:\u001b[0m\u001b[0;34m\u001b[0m\u001b[0;34m\u001b[0m\u001b[0m\n\u001b[1;32m      4\u001b[0m         \u001b[0mpickle\u001b[0m\u001b[0;34m.\u001b[0m\u001b[0mdump\u001b[0m\u001b[0;34m(\u001b[0m\u001b[0mhistory\u001b[0m \u001b[0;34m,\u001b[0m \u001b[0mfile\u001b[0m\u001b[0;34m)\u001b[0m\u001b[0;34m\u001b[0m\u001b[0;34m\u001b[0m\u001b[0m\n",
      "\u001b[0;32m<ipython-input-7-4530ca7d53fd>\u001b[0m in \u001b[0;36mrun\u001b[0;34m(machine_type)\u001b[0m\n\u001b[1;32m     31\u001b[0m     \u001b[0mcriterion\u001b[0m \u001b[0;34m=\u001b[0m \u001b[0mnn\u001b[0m\u001b[0;34m.\u001b[0m\u001b[0mMSELoss\u001b[0m\u001b[0;34m(\u001b[0m\u001b[0;34m)\u001b[0m\u001b[0;34m\u001b[0m\u001b[0;34m\u001b[0m\u001b[0m\n\u001b[1;32m     32\u001b[0m     \u001b[0mnum_epochs\u001b[0m \u001b[0;34m=\u001b[0m \u001b[0mconfig\u001b[0m\u001b[0;34m[\u001b[0m\u001b[0;34m'fit'\u001b[0m\u001b[0;34m]\u001b[0m\u001b[0;34m[\u001b[0m\u001b[0;34m'num_epochs'\u001b[0m\u001b[0;34m]\u001b[0m\u001b[0;34m\u001b[0m\u001b[0;34m\u001b[0m\u001b[0m\n\u001b[0;32m---> 33\u001b[0;31m     \u001b[0mhistory\u001b[0m \u001b[0;34m=\u001b[0m \u001b[0mmodeler\u001b[0m\u001b[0;34m.\u001b[0m\u001b[0mtrain_net\u001b[0m\u001b[0;34m(\u001b[0m\u001b[0mnet\u001b[0m\u001b[0;34m,\u001b[0m \u001b[0mdataloaders_dict\u001b[0m\u001b[0;34m,\u001b[0m \u001b[0mcriterion\u001b[0m\u001b[0;34m,\u001b[0m \u001b[0moptimizer\u001b[0m\u001b[0;34m,\u001b[0m \u001b[0mnum_epochs\u001b[0m\u001b[0;34m,\u001b[0m \u001b[0mwriter\u001b[0m\u001b[0;34m)\u001b[0m\u001b[0;34m\u001b[0m\u001b[0;34m\u001b[0m\u001b[0m\n\u001b[0m\u001b[1;32m     34\u001b[0m     \u001b[0;31m# output\u001b[0m\u001b[0;34m\u001b[0m\u001b[0;34m\u001b[0m\u001b[0;34m\u001b[0m\u001b[0m\n\u001b[1;32m     35\u001b[0m     \u001b[0mmodel\u001b[0m \u001b[0;34m=\u001b[0m \u001b[0mhistory\u001b[0m\u001b[0;34m[\u001b[0m\u001b[0;34m'model'\u001b[0m\u001b[0;34m]\u001b[0m\u001b[0;34m\u001b[0m\u001b[0;34m\u001b[0m\u001b[0m\n",
      "\u001b[0;32m/media/hiroki/working/research/dcase2020/2D_codes/Convolutional_AE_transfer/pytorch_modeler.py\u001b[0m in \u001b[0;36mtrain_net\u001b[0;34m(net, dataloaders_dict, criterion, optimizer, num_epochs, writer)\u001b[0m\n\u001b[1;32m    153\u001b[0m                         \u001b[0mloss\u001b[0m\u001b[0;34m.\u001b[0m\u001b[0mbackward\u001b[0m\u001b[0;34m(\u001b[0m\u001b[0;34m)\u001b[0m\u001b[0;34m\u001b[0m\u001b[0;34m\u001b[0m\u001b[0m\n\u001b[1;32m    154\u001b[0m                         \u001b[0moptimizer\u001b[0m\u001b[0;34m.\u001b[0m\u001b[0mstep\u001b[0m\u001b[0;34m(\u001b[0m\u001b[0;34m)\u001b[0m\u001b[0;34m\u001b[0m\u001b[0;34m\u001b[0m\u001b[0m\n\u001b[0;32m--> 155\u001b[0;31m                 \u001b[0mlosses\u001b[0m\u001b[0;34m[\u001b[0m\u001b[0mphase\u001b[0m\u001b[0;34m]\u001b[0m \u001b[0;34m+=\u001b[0m \u001b[0mloss\u001b[0m\u001b[0;34m.\u001b[0m\u001b[0mitem\u001b[0m\u001b[0;34m(\u001b[0m\u001b[0;34m)\u001b[0m\u001b[0;34m\u001b[0m\u001b[0;34m\u001b[0m\u001b[0m\n\u001b[0m\u001b[1;32m    156\u001b[0m \u001b[0;34m\u001b[0m\u001b[0m\n\u001b[1;32m    157\u001b[0m         \u001b[0mepoch_losses\u001b[0m\u001b[0;34m[\u001b[0m\u001b[0;34m'train'\u001b[0m\u001b[0;34m]\u001b[0m\u001b[0;34m.\u001b[0m\u001b[0mappend\u001b[0m\u001b[0;34m(\u001b[0m\u001b[0mlosses\u001b[0m\u001b[0;34m[\u001b[0m\u001b[0;34m'train'\u001b[0m\u001b[0;34m]\u001b[0m \u001b[0;34m/\u001b[0m \u001b[0mlen\u001b[0m\u001b[0;34m(\u001b[0m\u001b[0mdataloaders_dict\u001b[0m\u001b[0;34m[\u001b[0m\u001b[0;34m'train'\u001b[0m\u001b[0;34m]\u001b[0m\u001b[0;34m)\u001b[0m\u001b[0;34m)\u001b[0m\u001b[0;34m\u001b[0m\u001b[0;34m\u001b[0m\u001b[0m\n",
      "\u001b[0;31mKeyboardInterrupt\u001b[0m: "
     ]
    }
   ],
   "source": [
    "for machine_type in machine_types:\n",
    "    history = run(machine_type)\n",
    "    with open('{}/{}_history.pkl'.format(PKL_DIR, machine_type), 'wb') as file:\n",
    "        pickle.dump(history , file)"
   ]
  },
  {
   "cell_type": "code",
   "execution_count": null,
   "metadata": {},
   "outputs": [],
   "source": []
  }
 ],
 "metadata": {
  "kernelspec": {
   "display_name": "Python 3",
   "language": "python",
   "name": "python3"
  },
  "language_info": {
   "codemirror_mode": {
    "name": "ipython",
    "version": 3
   },
   "file_extension": ".py",
   "mimetype": "text/x-python",
   "name": "python",
   "nbconvert_exporter": "python",
   "pygments_lexer": "ipython3",
   "version": "3.7.7"
  },
  "toc": {
   "base_numbering": 1,
   "nav_menu": {},
   "number_sections": true,
   "sideBar": true,
   "skip_h1_title": false,
   "title_cell": "Table of Contents",
   "title_sidebar": "Contents",
   "toc_cell": false,
   "toc_position": {},
   "toc_section_display": true,
   "toc_window_display": false
  }
 },
 "nbformat": 4,
 "nbformat_minor": 4
}
