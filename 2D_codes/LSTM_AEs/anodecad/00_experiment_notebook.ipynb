{
 "cells": [
  {
   "cell_type": "markdown",
   "metadata": {},
   "source": [
    "# train"
   ]
  },
  {
   "cell_type": "code",
   "execution_count": 1,
   "metadata": {},
   "outputs": [
    {
     "name": "stderr",
     "output_type": "stream",
     "text": [
      "/home/hiroki/anaconda3/lib/python3.7/site-packages/ipykernel_launcher.py:5: YAMLLoadWarning: calling yaml.load() without Loader=... is deprecated, as the default Loader is unsafe. Please read https://msg.pyyaml.org/load for full details.\n",
      "  \"\"\"\n"
     ]
    }
   ],
   "source": [
    "import yaml\n",
    "import os\n",
    "\n",
    "with open(\"./config.yaml\", 'rb') as f:\n",
    "    config = yaml.load(f)"
   ]
  },
  {
   "cell_type": "code",
   "execution_count": 2,
   "metadata": {},
   "outputs": [],
   "source": [
    "OUTPUT_ROOT = config['IO_OPTION']['OUTPUT_ROOT']\n",
    "os.makedirs(OUTPUT_ROOT, exist_ok=True)"
   ]
  },
  {
   "cell_type": "markdown",
   "metadata": {},
   "source": [
    "## load library"
   ]
  },
  {
   "cell_type": "code",
   "execution_count": 3,
   "metadata": {},
   "outputs": [],
   "source": [
    "# python default library\n",
    "import os\n",
    "import shutil\n",
    "import datetime\n",
    "import sys\n",
    "import pickle\n",
    "\n",
    "# general analysis tool-kit\n",
    "import numpy as np\n",
    "from sklearn.model_selection import train_test_split\n",
    "import matplotlib.pyplot as plt\n",
    "\n",
    "# pytorch\n",
    "import torch\n",
    "from torch import optim, nn\n",
    "from torch.utils.tensorboard import SummaryWriter\n",
    "\n",
    "from torchsummary import summary\n",
    "\n",
    "# etc\n",
    "import yaml\n",
    "yaml.warnings({'YAMLLoadWarning': False})\n",
    "import mlflow\n",
    "from collections import defaultdict\n",
    "from scipy.stats import zscore\n",
    "\n",
    "# original library\n",
    "\n",
    "import common as com\n",
    "import pytorch_modeler as modeler\n",
    "from pytorch_model import LSTM_AutoEncoder as Model\n",
    "from pytorch_utils import filtered_load_model\n",
    "import models\n",
    "\n",
    "import librosa\n",
    "import IPython\n",
    "import librosa.display"
   ]
  },
  {
   "cell_type": "markdown",
   "metadata": {},
   "source": [
    "## load config and set logger"
   ]
  },
  {
   "cell_type": "code",
   "execution_count": 4,
   "metadata": {},
   "outputs": [
    {
     "name": "stderr",
     "output_type": "stream",
     "text": [
      "/home/hiroki/anaconda3/lib/python3.7/site-packages/ipykernel/ipkernel.py:287: DeprecationWarning: `should_run_async` will not call `transform_cell` automatically in the future. Please pass the result to `transformed_cell` argument and any exception that happen during thetransform in `preprocessing_exc_tuple` in IPython 7.17 and above.\n",
      "  and should_run_async(code)\n"
     ]
    }
   ],
   "source": [
    "#with open(\"./config.yaml\", 'rb') as f:\n",
    "#    config = yaml.load(f)\n",
    "\n",
    "log_folder = config['IO_OPTION']['OUTPUT_ROOT']+'/{0}.log'.format(datetime.date.today())\n",
    "logger = com.setup_logger(log_folder, '00_train.py')"
   ]
  },
  {
   "cell_type": "markdown",
   "metadata": {},
   "source": [
    "## Setting"
   ]
  },
  {
   "cell_type": "code",
   "execution_count": 5,
   "metadata": {},
   "outputs": [],
   "source": [
    "# Setting seed\n",
    "modeler.set_seed(42)"
   ]
  },
  {
   "cell_type": "code",
   "execution_count": 6,
   "metadata": {},
   "outputs": [
    {
     "data": {
      "text/plain": [
       "'/media/hiroki/working/research/dcase2020/result/2D/anodecad/config.yaml'"
      ]
     },
     "execution_count": 6,
     "metadata": {},
     "output_type": "execute_result"
    }
   ],
   "source": [
    "############################################################################\n",
    "# Setting I/O path\n",
    "############################################################################\n",
    "# input dirs\n",
    "INPUT_ROOT = config['IO_OPTION']['INPUT_ROOT']\n",
    "dev_path = INPUT_ROOT + \"/dev_data\"\n",
    "add_dev_path = INPUT_ROOT + \"/add_dev_data\"\n",
    "# machine type\n",
    "MACHINE_TYPE = config['IO_OPTION']['MACHINE_TYPE']\n",
    "machine_types = os.listdir(dev_path)\n",
    "# output dirs\n",
    "OUTPUT_ROOT = config['IO_OPTION']['OUTPUT_ROOT']\n",
    "MODEL_DIR = config['IO_OPTION']['OUTPUT_ROOT'] + '/models'\n",
    "TB_DIR = config['IO_OPTION']['OUTPUT_ROOT'] + '/tb'\n",
    "PKL_DIR = OUTPUT_ROOT + '/pkl'\n",
    "#os.makedirs(OUTPUT_ROOT, exist_ok=True)\n",
    "os.makedirs(MODEL_DIR, exist_ok=True)\n",
    "os.makedirs(TB_DIR, exist_ok=True)\n",
    "os.makedirs(PKL_DIR, exist_ok=True)\n",
    "# copy config\n",
    "shutil.copy('./config.yaml', OUTPUT_ROOT)"
   ]
  },
  {
   "cell_type": "markdown",
   "metadata": {},
   "source": [
    "## make path list and train/valid split"
   ]
  },
  {
   "cell_type": "code",
   "execution_count": 7,
   "metadata": {},
   "outputs": [],
   "source": [
    "############################################################################\n",
    "# make path set and train/valid split\n",
    "############################################################################\n",
    "'''\n",
    "train_paths[machine_type]['train' or 'valid'] = path\n",
    "'''\n",
    "dev_train_paths = {}\n",
    "add_train_paths = {}\n",
    "train_paths = {}"
   ]
  },
  {
   "cell_type": "code",
   "execution_count": 8,
   "metadata": {},
   "outputs": [],
   "source": [
    "for machine_type in machine_types:\n",
    "    # dev train\n",
    "    dev_train_paths = [\"{}/{}/train/\".format(dev_path, machine_type) + file for file in os.listdir(\"{}/{}/train\".format(dev_path, machine_type))]\n",
    "    dev_train_paths = sorted(dev_train_paths)\n",
    "    # add_dev train\n",
    "    add_train_paths = [\"{}/{}/train/\".format(add_dev_path, machine_type) + file for file in os.listdir(\"{}/{}/train\".format(add_dev_path, machine_type))]\n",
    "    add_train_paths = sorted(add_train_paths)\n",
    "    # valid\n",
    "    dev_valid_paths = [\"{}/{}/test/\".format(dev_path, machine_type) + file for file in os.listdir(\"{}/{}/test\".format(dev_path, machine_type))]\n",
    "    dev_valid_paths = sorted(dev_valid_paths)\n",
    "    \n",
    "    train_paths[machine_type] = {}\n",
    "    train_paths[machine_type]['train'] = dev_train_paths + add_train_paths\n",
    "    train_paths[machine_type]['valid'] = dev_valid_paths"
   ]
  },
  {
   "cell_type": "raw",
   "metadata": {},
   "source": [
    "# for machine_type in machine_types:\n",
    "    # dev train\n",
    "    dev_train_all_paths = [\"{}/{}/train/\".format(dev_path, machine_type) + file for file in os.listdir(\"{}/{}/train\".format(dev_path, machine_type))]\n",
    "    dev_train_all_paths = sorted(dev_train_all_paths)\n",
    "    dev_train_paths[machine_type] = {}\n",
    "    dev_train_paths[machine_type]['train'], \\\n",
    "    dev_train_paths[machine_type]['valid'] = train_test_split(dev_train_all_paths,\n",
    "                                                              test_size=config['etc']['test_size'],\n",
    "                                                              shuffle=False,\n",
    "                                                             )\n",
    "    # add_dev train\n",
    "    add_train_all_paths = [\"{}/{}/train/\".format(add_dev_path, machine_type) + file for file in os.listdir(\"{}/{}/train\".format(add_dev_path, machine_type))]\n",
    "    add_train_all_paths = sorted(add_train_all_paths)\n",
    "    add_train_paths[machine_type] = {}\n",
    "    add_train_paths[machine_type]['train'], \\\n",
    "    add_train_paths[machine_type]['valid'] = train_test_split(add_train_all_paths,\n",
    "                                                              test_size=config['etc']['test_size'],\n",
    "                                                              shuffle=False,\n",
    "                                                             )\n",
    "    train_paths[machine_type] = {}\n",
    "    train_paths[machine_type]['train'] = dev_train_paths[machine_type]['train'] + add_train_paths[machine_type]['train']\n",
    "    train_paths[machine_type]['valid'] = dev_train_paths[machine_type]['valid'] + add_train_paths[machine_type]['valid']"
   ]
  },
  {
   "cell_type": "markdown",
   "metadata": {},
   "source": [
    "## training"
   ]
  },
  {
   "cell_type": "code",
   "execution_count": 9,
   "metadata": {},
   "outputs": [],
   "source": [
    "#############################################################################\n",
    "# run\n",
    "#############################################################################\n",
    "def run(machine_type):\n",
    "    com.tic()\n",
    "    logger.info('TARGET MACHINE_TYPE: {0}'.format(machine_type))\n",
    "    logger.info('MAKE DATA_LOADER')\n",
    "    # dev_train_paths\n",
    "    dataloaders_dict = modeler.make_dataloader(train_paths, machine_type)\n",
    "    # define writer for tensorbord\n",
    "    os.makedirs(TB_DIR+'/'+machine_type, exist_ok=True)         # debug\n",
    "    tb_log_dir = TB_DIR + '/' + machine_type\n",
    "    writer = SummaryWriter(log_dir = tb_log_dir)\n",
    "    logger.info('TRAINING')\n",
    "    # parameter setting\n",
    "    net = Model(sample_rate=config['preprocessing']['sample_rate'],\n",
    "                window_size=config['preprocessing']['window_size'],\n",
    "                hop_size=config['preprocessing']['hop_size'],\n",
    "                mel_bins=config['preprocessing']['mel_bins'],\n",
    "                fmin=config['preprocessing']['fmin'],\n",
    "                fmax=config['preprocessing']['fmax'])\n",
    "    #pretrained_dict = torch.load(config['IO_OPTION']['PREMODEL_PATH'])\n",
    "    #net = filtered_load_model(net, pretrained_dict)\n",
    "    optimizer = optim.Adam(net.parameters(), lr=1e-2)\n",
    "    criterion = nn.MSELoss()\n",
    "    num_epochs = config['fit']['num_epochs']\n",
    "    history = modeler.train_net(net, dataloaders_dict, criterion, optimizer, num_epochs, writer)\n",
    "    # output\n",
    "    model = history['model']\n",
    "    model_out_path = MODEL_DIR+'/{}_model.pth'.format(machine_type)\n",
    "    torch.save(model.state_dict(), model_out_path)\n",
    "    logger.info('\\n success:{0} \\n'.format(machine_type) + \\\n",
    "                    'model_out_path ==> \\n {0}'.format(model_out_path))\n",
    "    #  close writer for tensorbord\n",
    "    writer.close()\n",
    "    #modeler.mlflow_log(history, config, machine_type, model_out_path, tb_log_dir)\n",
    "    com.toc()\n",
    "    return history"
   ]
  },
  {
   "cell_type": "code",
   "execution_count": 10,
   "metadata": {},
   "outputs": [
    {
     "data": {
      "text/plain": [
       "['fan', 'pump', 'slider', 'ToyCar', 'ToyConveyor', 'valve']"
      ]
     },
     "execution_count": 10,
     "metadata": {},
     "output_type": "execute_result"
    }
   ],
   "source": [
    "machine_types"
   ]
  },
  {
   "cell_type": "code",
   "execution_count": null,
   "metadata": {
    "scrolled": false
   },
   "outputs": [
    {
     "name": "stderr",
     "output_type": "stream",
     "text": [
      "2020-11-07 02:48:37,809 - 00_train.py - INFO - TARGET MACHINE_TYPE: fan\n",
      "2020-11-07 02:48:37,810 - 00_train.py - INFO - MAKE DATA_LOADER\n",
      "2020-11-07 02:48:38,701 - 00_train.py - INFO - TRAINING\n"
     ]
    },
    {
     "name": "stdout",
     "output_type": "stream",
     "text": [
      "use: cuda:0\n"
     ]
    },
    {
     "name": "stderr",
     "output_type": "stream",
     "text": [
      "100%|██████████| 102/102 [00:12<00:00,  8.06it/s]\n",
      "100%|██████████| 1803/1803 [00:19<00:00, 92.59it/s] \n"
     ]
    },
    {
     "data": {
      "image/png": "[encoded data removed]",
      "text/plain": [
       "<Figure size 432x288 with 1 Axes>"
      ]
     },
     "metadata": {
      "needs_background": "light"
     },
     "output_type": "display_data"
    },
    {
     "name": "stderr",
     "output_type": "stream",
     "text": [
      "2020-11-07 02:49:13,790 - pytorch_modeler.py - INFO - Epoch 1/100:train_loss:240.303472, valid_AUC:0.520535, valid_pAUC:0.501660\n",
      "100%|██████████| 102/102 [00:12<00:00,  8.28it/s]\n",
      "100%|██████████| 1803/1803 [00:22<00:00, 81.13it/s]\n",
      "2020-11-07 02:49:48,336 - pytorch_modeler.py - INFO - Epoch 2/100:train_loss:22.524333, valid_AUC:0.516996, valid_pAUC:0.501172\n",
      "100%|██████████| 102/102 [00:12<00:00,  8.22it/s]\n",
      "100%|██████████| 1803/1803 [00:21<00:00, 82.04it/s]\n",
      "2020-11-07 02:50:22,732 - pytorch_modeler.py - INFO - Epoch 3/100:train_loss:21.654142, valid_AUC:0.513020, valid_pAUC:0.501416\n",
      "100%|██████████| 102/102 [00:11<00:00,  9.18it/s]\n",
      "100%|██████████| 1803/1803 [00:20<00:00, 89.02it/s]\n",
      "2020-11-07 02:50:54,101 - pytorch_modeler.py - INFO - Epoch 4/100:train_loss:20.535552, valid_AUC:0.512455, valid_pAUC:0.501632\n",
      "100%|██████████| 102/102 [00:12<00:00,  8.01it/s]\n",
      "100%|██████████| 1803/1803 [00:21<00:00, 82.09it/s]\n",
      "2020-11-07 02:51:28,804 - pytorch_modeler.py - INFO - Epoch 5/100:train_loss:19.236004, valid_AUC:0.513377, valid_pAUC:0.501454\n",
      "100%|██████████| 102/102 [00:13<00:00,  7.84it/s]\n",
      "100%|██████████| 1803/1803 [00:21<00:00, 82.90it/s]\n",
      "2020-11-07 02:52:03,573 - pytorch_modeler.py - INFO - Epoch 6/100:train_loss:18.554591, valid_AUC:0.516598, valid_pAUC:0.501791\n",
      "100%|██████████| 102/102 [00:10<00:00,  9.33it/s]\n",
      "100%|██████████| 1803/1803 [00:20<00:00, 86.52it/s]\n",
      "2020-11-07 02:52:35,353 - pytorch_modeler.py - INFO - Epoch 7/100:train_loss:18.114877, valid_AUC:0.516107, valid_pAUC:0.501979\n",
      "100%|██████████| 102/102 [00:12<00:00,  8.14it/s]\n",
      "100%|██████████| 1803/1803 [00:21<00:00, 82.15it/s]\n",
      "2020-11-07 02:53:09,839 - pytorch_modeler.py - INFO - Epoch 8/100:train_loss:17.767575, valid_AUC:0.515308, valid_pAUC:0.501782\n",
      "100%|██████████| 102/102 [00:12<00:00,  7.93it/s]\n",
      "100%|██████████| 1803/1803 [00:20<00:00, 87.39it/s] \n",
      "2020-11-07 02:53:43,332 - pytorch_modeler.py - INFO - Epoch 9/100:train_loss:17.605273, valid_AUC:0.517083, valid_pAUC:0.501501\n",
      "100%|██████████| 102/102 [00:10<00:00,  9.32it/s]\n",
      "100%|██████████| 1803/1803 [00:21<00:00, 84.43it/s]\n"
     ]
    },
    {
     "data": {
      "image/png": "[encoded data removed]",
      "text/plain": [
       "<Figure size 432x288 with 1 Axes>"
      ]
     },
     "metadata": {
      "needs_background": "light"
     },
     "output_type": "display_data"
    },
    {
     "name": "stderr",
     "output_type": "stream",
     "text": [
      "2020-11-07 02:54:15,729 - pytorch_modeler.py - INFO - Epoch 10/100:train_loss:17.409113, valid_AUC:0.517924, valid_pAUC:0.501913\n",
      "100%|██████████| 102/102 [00:12<00:00,  8.35it/s]\n",
      "100%|██████████| 1803/1803 [00:21<00:00, 81.97it/s]\n",
      "2020-11-07 02:54:49,948 - pytorch_modeler.py - INFO - Epoch 11/100:train_loss:17.307303, valid_AUC:0.519419, valid_pAUC:0.501463\n",
      "100%|██████████| 102/102 [00:12<00:00,  8.33it/s]\n",
      "100%|██████████| 1803/1803 [00:19<00:00, 90.47it/s] \n",
      "2020-11-07 02:55:22,130 - pytorch_modeler.py - INFO - Epoch 12/100:train_loss:17.187764, valid_AUC:0.520062, valid_pAUC:0.502420\n",
      "100%|██████████| 102/102 [00:11<00:00,  9.14it/s]\n",
      "100%|██████████| 1803/1803 [00:22<00:00, 80.05it/s]\n",
      "2020-11-07 02:55:55,826 - pytorch_modeler.py - INFO - Epoch 13/100:train_loss:16.827076, valid_AUC:0.516187, valid_pAUC:0.502823\n",
      "100%|██████████| 102/102 [00:12<00:00,  8.12it/s]\n",
      "100%|██████████| 1803/1803 [00:21<00:00, 82.91it/s]\n",
      "2020-11-07 02:56:30,147 - pytorch_modeler.py - INFO - Epoch 14/100:train_loss:16.304734, valid_AUC:0.508550, valid_pAUC:0.503057\n",
      "100%|██████████| 102/102 [00:12<00:00,  8.32it/s]\n",
      "100%|██████████| 1803/1803 [00:19<00:00, 92.83it/s]\n",
      "2020-11-07 02:57:01,834 - pytorch_modeler.py - INFO - Epoch 15/100:train_loss:16.091863, valid_AUC:0.509706, valid_pAUC:0.504961\n",
      "100%|██████████| 102/102 [00:12<00:00,  8.29it/s]\n",
      "100%|██████████| 1803/1803 [00:21<00:00, 82.54it/s]\n",
      "2020-11-07 02:57:35,991 - pytorch_modeler.py - INFO - Epoch 16/100:train_loss:15.930733, valid_AUC:0.510403, valid_pAUC:0.502663\n",
      "100%|██████████| 102/102 [00:12<00:00,  8.26it/s]\n",
      "100%|██████████| 1803/1803 [00:21<00:00, 82.80it/s]\n",
      "2020-11-07 02:58:10,129 - pytorch_modeler.py - INFO - Epoch 17/100:train_loss:15.844065, valid_AUC:0.512251, valid_pAUC:0.503114\n",
      "100%|██████████| 102/102 [00:11<00:00,  8.93it/s]\n",
      "100%|██████████| 1803/1803 [00:19<00:00, 91.56it/s] \n",
      "2020-11-07 02:58:41,242 - pytorch_modeler.py - INFO - Epoch 18/100:train_loss:15.746945, valid_AUC:0.512006, valid_pAUC:0.503179\n",
      "100%|██████████| 102/102 [00:12<00:00,  8.06it/s]\n",
      "100%|██████████| 1803/1803 [00:23<00:00, 78.37it/s]\n",
      "2020-11-07 02:59:16,922 - pytorch_modeler.py - INFO - Epoch 19/100:train_loss:15.728289, valid_AUC:0.515289, valid_pAUC:0.502241\n",
      "100%|██████████| 102/102 [00:12<00:00,  8.20it/s]\n",
      "100%|██████████| 1803/1803 [00:21<00:00, 82.72it/s] \n"
     ]
    },
    {
     "data": {
      "image/png": "[encoded data removed]",
      "text/plain": [
       "<Figure size 432x288 with 1 Axes>"
      ]
     },
     "metadata": {
      "needs_background": "light"
     },
     "output_type": "display_data"
    },
    {
     "name": "stderr",
     "output_type": "stream",
     "text": [
      "2020-11-07 02:59:51,277 - pytorch_modeler.py - INFO - Epoch 20/100:train_loss:15.696053, valid_AUC:0.513744, valid_pAUC:0.503339\n",
      "100%|██████████| 102/102 [00:10<00:00,  9.34it/s]\n",
      "100%|██████████| 1803/1803 [00:20<00:00, 87.72it/s]\n",
      "2020-11-07 03:00:22,761 - pytorch_modeler.py - INFO - Epoch 21/100:train_loss:15.595484, valid_AUC:0.513717, valid_pAUC:0.504567\n",
      "100%|██████████| 102/102 [00:12<00:00,  8.01it/s]\n",
      "100%|██████████| 1803/1803 [00:21<00:00, 82.02it/s]\n",
      "2020-11-07 03:00:57,497 - pytorch_modeler.py - INFO - Epoch 22/100:train_loss:15.531631, valid_AUC:0.513226, valid_pAUC:0.503817\n",
      "100%|██████████| 102/102 [00:12<00:00,  8.16it/s]\n",
      "100%|██████████| 1803/1803 [00:21<00:00, 85.57it/s]\n",
      "2020-11-07 03:01:31,068 - pytorch_modeler.py - INFO - Epoch 23/100:train_loss:15.566951, valid_AUC:0.508797, valid_pAUC:0.504980\n",
      "100%|██████████| 102/102 [00:11<00:00,  9.08it/s]\n",
      "100%|██████████| 1803/1803 [00:21<00:00, 84.12it/s]\n",
      "2020-11-07 03:02:03,745 - pytorch_modeler.py - INFO - Epoch 24/100:train_loss:15.477116, valid_AUC:0.516598, valid_pAUC:0.503357\n",
      " 22%|██▏       | 22/102 [00:02<00:10,  7.97it/s]"
     ]
    }
   ],
   "source": [
    "for machine_type in machine_types:\n",
    "    history = run(machine_type)\n",
    "    with open('{}/{}_history.pkl'.format(PKL_DIR, machine_type), 'wb') as file:\n",
    "        pickle.dump(history , file)"
   ]
  },
  {
   "cell_type": "markdown",
   "metadata": {},
   "source": [
    "history = run('ToyCar')\n",
    "with open('{}/{}_history.pkl'.format(PKL_DIR, machine_type), 'wb') as file:\n",
    "    pickle.dump(history , file)"
   ]
  },
  {
   "cell_type": "raw",
   "metadata": {},
   "source": [
    "history['reconstruct_img']['label']"
   ]
  }
 ],
 "metadata": {
  "kernelspec": {
   "display_name": "Python 3",
   "language": "python",
   "name": "python3"
  },
  "language_info": {
   "codemirror_mode": {
    "name": "ipython",
    "version": 3
   },
   "file_extension": ".py",
   "mimetype": "text/x-python",
   "name": "python",
   "nbconvert_exporter": "python",
   "pygments_lexer": "ipython3",
   "version": "3.7.7"
  },
  "toc": {
   "base_numbering": 1,
   "nav_menu": {},
   "number_sections": true,
   "sideBar": true,
   "skip_h1_title": false,
   "title_cell": "Table of Contents",
   "title_sidebar": "Contents",
   "toc_cell": false,
   "toc_position": {},
   "toc_section_display": true,
   "toc_window_display": false
  }
 },
 "nbformat": 4,
 "nbformat_minor": 4
}
