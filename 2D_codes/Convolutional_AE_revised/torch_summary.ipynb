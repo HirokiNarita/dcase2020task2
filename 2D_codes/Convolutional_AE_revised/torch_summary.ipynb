{
 "cells": [
  {
   "cell_type": "code",
   "execution_count": 1,
   "metadata": {},
   "outputs": [],
   "source": [
    "# python default library\n",
    "import os\n",
    "import shutil\n",
    "import datetime\n",
    "import sys\n",
    "import pickle\n",
    "\n",
    "# general analysis tool-kit\n",
    "import numpy as np\n",
    "from sklearn.model_selection import train_test_split\n",
    "import matplotlib.pyplot as plt\n",
    "\n",
    "# pytorch\n",
    "import torch\n",
    "from torch import optim, nn\n",
    "from torch.utils.tensorboard import SummaryWriter\n",
    "\n",
    "from torchsummary import summary\n",
    "\n",
    "# etc\n",
    "import yaml\n",
    "yaml.warnings({'YAMLLoadWarning': False})\n",
    "import mlflow\n",
    "from collections import defaultdict\n",
    "from scipy.stats import zscore\n",
    "\n",
    "# original library\n",
    "\n",
    "import common as com\n",
    "import pytorch_modeler as modeler\n",
    "from pytorch_model import CNN6AutoEncoder as Model\n",
    "from pytorch_utils import filtered_load_model\n",
    "import models\n",
    "\n",
    "import librosa\n",
    "import IPython\n",
    "import librosa.display"
   ]
  },
  {
   "cell_type": "code",
   "execution_count": 2,
   "metadata": {},
   "outputs": [
    {
     "name": "stderr",
     "output_type": "stream",
     "text": [
      "/home/hiroki/anaconda3/lib/python3.7/site-packages/ipykernel/ipkernel.py:287: DeprecationWarning: `should_run_async` will not call `transform_cell` automatically in the future. Please pass the result to `transformed_cell` argument and any exception that happen during thetransform in `preprocessing_exc_tuple` in IPython 7.17 and above.\n",
      "  and should_run_async(code)\n"
     ]
    }
   ],
   "source": [
    "with open(\"./config.yaml\", 'rb') as f:\n",
    "    config = yaml.load(f)\n",
    "\n",
    "#log_folder = config['IO_OPTION']['OUTPUT_ROOT']+'/{0}.log'.format(datetime.date.today())\n",
    "#logger = com.setup_logger(log_folder, '00_train.py')"
   ]
  },
  {
   "cell_type": "code",
   "execution_count": 3,
   "metadata": {},
   "outputs": [],
   "source": [
    "# Setting seed\n",
    "modeler.set_seed(42)"
   ]
  },
  {
   "cell_type": "code",
   "execution_count": 4,
   "metadata": {},
   "outputs": [
    {
     "data": {
      "text/plain": [
       "'\\nINPUT_ROOT = config[\\'IO_OPTION\\'][\\'INPUT_ROOT\\']\\ndev_path = INPUT_ROOT + \"/dev_data\"\\nadd_dev_path = INPUT_ROOT + \"/add_dev_data\"\\n# machine type\\nMACHINE_TYPE = config[\\'IO_OPTION\\'][\\'MACHINE_TYPE\\']\\nmachine_types = os.listdir(dev_path)\\n# output dirs\\nOUTPUT_ROOT = config[\\'IO_OPTION\\'][\\'OUTPUT_ROOT\\']\\nMODEL_DIR = config[\\'IO_OPTION\\'][\\'OUTPUT_ROOT\\'] + \\'/models\\'\\nTB_DIR = config[\\'IO_OPTION\\'][\\'OUTPUT_ROOT\\'] + \\'/tb\\'\\nPKL_DIR = OUTPUT_ROOT + \\'/pkl\\'\\nos.makedirs(MODEL_DIR, exist_ok=True)\\nos.makedirs(TB_DIR, exist_ok=True)\\n'"
      ]
     },
     "execution_count": 4,
     "metadata": {},
     "output_type": "execute_result"
    }
   ],
   "source": [
    "############################################################################\n",
    "# Setting I/O path\n",
    "############################################################################\n",
    "# input dirs\n",
    "\"\"\"\n",
    "INPUT_ROOT = config['IO_OPTION']['INPUT_ROOT']\n",
    "dev_path = INPUT_ROOT + \"/dev_data\"\n",
    "add_dev_path = INPUT_ROOT + \"/add_dev_data\"\n",
    "# machine type\n",
    "MACHINE_TYPE = config['IO_OPTION']['MACHINE_TYPE']\n",
    "machine_types = os.listdir(dev_path)\n",
    "# output dirs\n",
    "OUTPUT_ROOT = config['IO_OPTION']['OUTPUT_ROOT']\n",
    "MODEL_DIR = config['IO_OPTION']['OUTPUT_ROOT'] + '/models'\n",
    "TB_DIR = config['IO_OPTION']['OUTPUT_ROOT'] + '/tb'\n",
    "PKL_DIR = OUTPUT_ROOT + '/pkl'\n",
    "os.makedirs(MODEL_DIR, exist_ok=True)\n",
    "os.makedirs(TB_DIR, exist_ok=True)\n",
    "\"\"\""
   ]
  },
  {
   "cell_type": "code",
   "execution_count": 5,
   "metadata": {},
   "outputs": [],
   "source": [
    "path = '/media/hiroki/working/research/dcase2020/datasets/DCASE2/dev_data/fan/train/normal_id_00_00000000.wav'\n",
    "sound_data = com.file_load(path,\n",
    "                           sr=config['preprocessing']['sample_rate'],\n",
    "                           mono=config['preprocessing']['mono'])"
   ]
  },
  {
   "cell_type": "code",
   "execution_count": 6,
   "metadata": {},
   "outputs": [],
   "source": [
    "net = Model(sample_rate=config['preprocessing']['sample_rate'],\n",
    "            window_size=config['preprocessing']['window_size'],\n",
    "            hop_size=config['preprocessing']['hop_size'],\n",
    "            mel_bins=config['preprocessing']['mel_bins'],\n",
    "            fmin=config['preprocessing']['fmin'],\n",
    "            fmax=config['preprocessing']['fmax'])"
   ]
  },
  {
   "cell_type": "code",
   "execution_count": 7,
   "metadata": {},
   "outputs": [
    {
     "name": "stdout",
     "output_type": "stream",
     "text": [
      "----------------------------------------------------------------\n",
      "        Layer (type)               Output Shape         Param #\n",
      "================================================================\n",
      "            Conv1d-1             [-1, 513, 129]         525,312\n",
      "            Conv1d-2             [-1, 513, 129]         525,312\n",
      "       Spectrogram-3          [-1, 1, 129, 513]               0\n",
      "  LogmelFilterBank-4           [-1, 1, 129, 64]               0\n",
      "       BatchNorm2d-5           [-1, 64, 128, 1]             128\n",
      "            Conv2d-6          [-1, 64, 128, 64]           1,600\n",
      "       BatchNorm2d-7          [-1, 64, 128, 64]             128\n",
      "      ConvBlock5x5-8           [-1, 64, 64, 32]               0\n",
      "            Conv2d-9          [-1, 128, 64, 32]         204,800\n",
      "      BatchNorm2d-10          [-1, 128, 64, 32]             256\n",
      "     ConvBlock5x5-11          [-1, 128, 32, 16]               0\n",
      "           Conv2d-12          [-1, 256, 32, 16]         819,200\n",
      "      BatchNorm2d-13          [-1, 256, 32, 16]             512\n",
      "     ConvBlock5x5-14           [-1, 256, 16, 8]               0\n",
      "           Conv2d-15           [-1, 512, 16, 8]       3,276,800\n",
      "      BatchNorm2d-16           [-1, 512, 16, 8]           1,024\n",
      "     ConvBlock5x5-17            [-1, 512, 8, 4]               0\n",
      "  ConvTranspose2d-18           [-1, 256, 16, 8]         524,288\n",
      "      BatchNorm2d-19           [-1, 256, 16, 8]             512\n",
      "   deConvBlock5x5-20           [-1, 256, 16, 8]               0\n",
      "  ConvTranspose2d-21          [-1, 128, 32, 16]         131,072\n",
      "      BatchNorm2d-22          [-1, 128, 32, 16]             256\n",
      "   deConvBlock5x5-23          [-1, 128, 32, 16]               0\n",
      "  ConvTranspose2d-24           [-1, 64, 64, 32]          32,768\n",
      "      BatchNorm2d-25           [-1, 64, 64, 32]             128\n",
      "   deConvBlock5x5-26           [-1, 64, 64, 32]               0\n",
      "  ConvTranspose2d-27           [-1, 1, 128, 64]             256\n",
      "   deConvBlock5x5-28           [-1, 1, 128, 64]               0\n",
      "================================================================\n",
      "Total params: 6,044,352\n",
      "Trainable params: 4,993,728\n",
      "Non-trainable params: 1,050,624\n",
      "----------------------------------------------------------------\n",
      "Input size (MB): 0.06\n",
      "Forward/backward pass size (MB): 23.89\n",
      "Params size (MB): 23.06\n",
      "Estimated Total Size (MB): 47.01\n",
      "----------------------------------------------------------------\n"
     ]
    }
   ],
   "source": [
    "from torchsummary import summary\n",
    "net = net.to('cuda:0')\n",
    "summary(net, (sound_data[1],)) # summary(model,(channels,H,W))"
   ]
  }
 ],
 "metadata": {
  "kernelspec": {
   "display_name": "Python 3",
   "language": "python",
   "name": "python3"
  },
  "language_info": {
   "codemirror_mode": {
    "name": "ipython",
    "version": 3
   },
   "file_extension": ".py",
   "mimetype": "text/x-python",
   "name": "python",
   "nbconvert_exporter": "python",
   "pygments_lexer": "ipython3",
   "version": "3.7.7"
  },
  "toc": {
   "base_numbering": 1,
   "nav_menu": {},
   "number_sections": true,
   "sideBar": true,
   "skip_h1_title": false,
   "title_cell": "Table of Contents",
   "title_sidebar": "Contents",
   "toc_cell": false,
   "toc_position": {},
   "toc_section_display": true,
   "toc_window_display": false
  }
 },
 "nbformat": 4,
 "nbformat_minor": 4
}
