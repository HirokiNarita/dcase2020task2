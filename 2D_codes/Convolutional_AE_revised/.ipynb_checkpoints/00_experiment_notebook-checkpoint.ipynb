{
 "cells": [
  {
   "cell_type": "markdown",
   "metadata": {},
   "source": [
    "# train"
   ]
  },
  {
   "cell_type": "code",
   "execution_count": 1,
   "metadata": {},
   "outputs": [
    {
     "name": "stderr",
     "output_type": "stream",
     "text": [
      "/home/hiroki/anaconda3/lib/python3.7/site-packages/ipykernel_launcher.py:5: YAMLLoadWarning: calling yaml.load() without Loader=... is deprecated, as the default Loader is unsafe. Please read https://msg.pyyaml.org/load for full details.\n",
      "  \"\"\"\n"
     ]
    }
   ],
   "source": [
    "import yaml\n",
    "import os\n",
    "\n",
    "with open(\"./config.yaml\", 'rb') as f:\n",
    "    config = yaml.load(f)"
   ]
  },
  {
   "cell_type": "code",
   "execution_count": 2,
   "metadata": {},
   "outputs": [],
   "source": [
    "OUTPUT_ROOT = config['IO_OPTION']['OUTPUT_ROOT']\n",
    "os.makedirs(OUTPUT_ROOT, exist_ok=True)"
   ]
  },
  {
   "cell_type": "markdown",
   "metadata": {},
   "source": [
    "## load library"
   ]
  },
  {
   "cell_type": "code",
   "execution_count": 3,
   "metadata": {},
   "outputs": [],
   "source": [
    "# python default library\n",
    "import os\n",
    "import shutil\n",
    "import datetime\n",
    "import sys\n",
    "import pickle\n",
    "\n",
    "# general analysis tool-kit\n",
    "import numpy as np\n",
    "from sklearn.model_selection import train_test_split\n",
    "import matplotlib.pyplot as plt\n",
    "\n",
    "# pytorch\n",
    "import torch\n",
    "from torch import optim, nn\n",
    "from torch.utils.tensorboard import SummaryWriter\n",
    "\n",
    "from torchsummary import summary\n",
    "\n",
    "# etc\n",
    "import yaml\n",
    "yaml.warnings({'YAMLLoadWarning': False})\n",
    "import mlflow\n",
    "from collections import defaultdict\n",
    "from scipy.stats import zscore\n",
    "\n",
    "# original library\n",
    "\n",
    "import common as com\n",
    "import pytorch_modeler as modeler\n",
    "from pytorch_model import CNN6AutoEncoder as Model\n",
    "from pytorch_utils import filtered_load_model\n",
    "import models\n",
    "\n",
    "import librosa\n",
    "import IPython\n",
    "import librosa.display"
   ]
  },
  {
   "cell_type": "markdown",
   "metadata": {},
   "source": [
    "## load config and set logger"
   ]
  },
  {
   "cell_type": "code",
   "execution_count": 4,
   "metadata": {},
   "outputs": [
    {
     "name": "stderr",
     "output_type": "stream",
     "text": [
      "/home/hiroki/anaconda3/lib/python3.7/site-packages/ipykernel/ipkernel.py:287: DeprecationWarning: `should_run_async` will not call `transform_cell` automatically in the future. Please pass the result to `transformed_cell` argument and any exception that happen during thetransform in `preprocessing_exc_tuple` in IPython 7.17 and above.\n",
      "  and should_run_async(code)\n"
     ]
    }
   ],
   "source": [
    "with open(\"./config.yaml\", 'rb') as f:\n",
    "    config = yaml.load(f)\n",
    "\n",
    "log_folder = config['IO_OPTION']['OUTPUT_ROOT']+'/{0}.log'.format(datetime.date.today())\n",
    "logger = com.setup_logger(log_folder, '00_train.py')"
   ]
  },
  {
   "cell_type": "markdown",
   "metadata": {},
   "source": [
    "## Setting"
   ]
  },
  {
   "cell_type": "code",
   "execution_count": 5,
   "metadata": {},
   "outputs": [],
   "source": [
    "# Setting seed\n",
    "modeler.set_seed(42)"
   ]
  },
  {
   "cell_type": "code",
   "execution_count": 6,
   "metadata": {},
   "outputs": [
    {
     "data": {
      "text/plain": [
       "'/media/hiroki/working/research/dcase2020/result/2D/CONV_AE_revised/config.yaml'"
      ]
     },
     "execution_count": 6,
     "metadata": {},
     "output_type": "execute_result"
    }
   ],
   "source": [
    "############################################################################\n",
    "# Setting I/O path\n",
    "############################################################################\n",
    "# input dirs\n",
    "INPUT_ROOT = config['IO_OPTION']['INPUT_ROOT']\n",
    "dev_path = INPUT_ROOT + \"/dev_data\"\n",
    "add_dev_path = INPUT_ROOT + \"/add_dev_data\"\n",
    "# machine type\n",
    "MACHINE_TYPE = config['IO_OPTION']['MACHINE_TYPE']\n",
    "machine_types = os.listdir(dev_path)\n",
    "# output dirs\n",
    "OUTPUT_ROOT = config['IO_OPTION']['OUTPUT_ROOT']\n",
    "MODEL_DIR = config['IO_OPTION']['OUTPUT_ROOT'] + '/models'\n",
    "TB_DIR = config['IO_OPTION']['OUTPUT_ROOT'] + '/tb'\n",
    "PKL_DIR = OUTPUT_ROOT + '/pkl'\n",
    "#os.makedirs(OUTPUT_ROOT, exist_ok=True)\n",
    "os.makedirs(MODEL_DIR, exist_ok=True)\n",
    "os.makedirs(TB_DIR, exist_ok=True)\n",
    "os.makedirs(PKL_DIR, exist_ok=True)\n",
    "# copy config\n",
    "shutil.copy('./config.yaml', OUTPUT_ROOT)"
   ]
  },
  {
   "cell_type": "markdown",
   "metadata": {},
   "source": [
    "## make path list and train/valid split"
   ]
  },
  {
   "cell_type": "code",
   "execution_count": 7,
   "metadata": {},
   "outputs": [],
   "source": [
    "############################################################################\n",
    "# make path set and train/valid split\n",
    "############################################################################\n",
    "'''\n",
    "train_paths[machine_type]['train' or 'valid'] = path\n",
    "'''\n",
    "dev_train_paths = {}\n",
    "add_train_paths = {}\n",
    "train_paths = {}"
   ]
  },
  {
   "cell_type": "code",
   "execution_count": 8,
   "metadata": {},
   "outputs": [],
   "source": [
    "for machine_type in machine_types:\n",
    "    # dev train\n",
    "    dev_train_paths = [\"{}/{}/train/\".format(dev_path, machine_type) + file for file in os.listdir(\"{}/{}/train\".format(dev_path, machine_type))]\n",
    "    dev_train_paths = sorted(dev_train_paths)\n",
    "    # add_dev train\n",
    "    add_train_paths = [\"{}/{}/train/\".format(add_dev_path, machine_type) + file for file in os.listdir(\"{}/{}/train\".format(add_dev_path, machine_type))]\n",
    "    add_train_paths = sorted(add_train_paths)\n",
    "    # valid\n",
    "    dev_valid_paths = [\"{}/{}/test/\".format(dev_path, machine_type) + file for file in os.listdir(\"{}/{}/test\".format(dev_path, machine_type))]\n",
    "    dev_valid_paths = sorted(dev_valid_paths)\n",
    "    \n",
    "    train_paths[machine_type] = {}\n",
    "    train_paths[machine_type]['train'] = dev_train_paths + add_train_paths\n",
    "    train_paths[machine_type]['valid'] = dev_valid_paths"
   ]
  },
  {
   "cell_type": "raw",
   "metadata": {},
   "source": [
    "# for machine_type in machine_types:\n",
    "    # dev train\n",
    "    dev_train_all_paths = [\"{}/{}/train/\".format(dev_path, machine_type) + file for file in os.listdir(\"{}/{}/train\".format(dev_path, machine_type))]\n",
    "    dev_train_all_paths = sorted(dev_train_all_paths)\n",
    "    dev_train_paths[machine_type] = {}\n",
    "    dev_train_paths[machine_type]['train'], \\\n",
    "    dev_train_paths[machine_type]['valid'] = train_test_split(dev_train_all_paths,\n",
    "                                                              test_size=config['etc']['test_size'],\n",
    "                                                              shuffle=False,\n",
    "                                                             )\n",
    "    # add_dev train\n",
    "    add_train_all_paths = [\"{}/{}/train/\".format(add_dev_path, machine_type) + file for file in os.listdir(\"{}/{}/train\".format(add_dev_path, machine_type))]\n",
    "    add_train_all_paths = sorted(add_train_all_paths)\n",
    "    add_train_paths[machine_type] = {}\n",
    "    add_train_paths[machine_type]['train'], \\\n",
    "    add_train_paths[machine_type]['valid'] = train_test_split(add_train_all_paths,\n",
    "                                                              test_size=config['etc']['test_size'],\n",
    "                                                              shuffle=False,\n",
    "                                                             )\n",
    "    train_paths[machine_type] = {}\n",
    "    train_paths[machine_type]['train'] = dev_train_paths[machine_type]['train'] + add_train_paths[machine_type]['train']\n",
    "    train_paths[machine_type]['valid'] = dev_train_paths[machine_type]['valid'] + add_train_paths[machine_type]['valid']"
   ]
  },
  {
   "cell_type": "markdown",
   "metadata": {},
   "source": [
    "## training"
   ]
  },
  {
   "cell_type": "code",
   "execution_count": 9,
   "metadata": {},
   "outputs": [],
   "source": [
    "#############################################################################\n",
    "# run\n",
    "#############################################################################\n",
    "def run(machine_type):\n",
    "    com.tic()\n",
    "    logger.info('TARGET MACHINE_TYPE: {0}'.format(machine_type))\n",
    "    logger.info('MAKE DATA_LOADER')\n",
    "    # dev_train_paths\n",
    "    dataloaders_dict = modeler.make_dataloader(train_paths, machine_type)\n",
    "    # define writer for tensorbord\n",
    "    os.makedirs(TB_DIR+'/'+machine_type, exist_ok=True)         # debug\n",
    "    tb_log_dir = TB_DIR + '/' + machine_type\n",
    "    writer = SummaryWriter(log_dir = tb_log_dir)\n",
    "    logger.info('TRAINING')\n",
    "    # parameter setting\n",
    "    net = Model(sample_rate=config['preprocessing']['sample_rate'],\n",
    "            window_size=config['preprocessing']['window_size'],\n",
    "            hop_size=config['preprocessing']['hop_size'],\n",
    "            mel_bins=config['preprocessing']['mel_bins'],\n",
    "            fmin=config['preprocessing']['fmin'],\n",
    "            fmax=config['preprocessing']['fmax'])\n",
    "    pretrained_dict = torch.load(config['IO_OPTION']['PREMODEL_PATH'])\n",
    "    net = filtered_load_model(net, pretrained_dict)\n",
    "    optimizer = optim.Adam(net.parameters())\n",
    "    criterion = nn.MSELoss()\n",
    "    num_epochs = config['fit']['num_epochs']\n",
    "    history = modeler.train_net(net, dataloaders_dict, criterion, optimizer, num_epochs, writer)\n",
    "    # output\n",
    "    model = history['model']\n",
    "    model_out_path = MODEL_DIR+'/{}_model.pth'.format(machine_type)\n",
    "    torch.save(model.state_dict(), model_out_path)\n",
    "    logger.info('\\n success:{0} \\n'.format(machine_type) + \\\n",
    "                    'model_out_path ==> \\n {0}'.format(model_out_path))\n",
    "    #  close writer for tensorbord\n",
    "    writer.close()\n",
    "    #modeler.mlflow_log(history, config, machine_type, model_out_path, tb_log_dir)\n",
    "    com.toc()\n",
    "    return history"
   ]
  },
  {
   "cell_type": "code",
   "execution_count": 10,
   "metadata": {},
   "outputs": [
    {
     "data": {
      "text/plain": [
       "['fan', 'pump', 'slider', 'ToyCar', 'ToyConveyor', 'valve']"
      ]
     },
     "execution_count": 10,
     "metadata": {},
     "output_type": "execute_result"
    }
   ],
   "source": [
    "machine_types"
   ]
  },
  {
   "cell_type": "code",
   "execution_count": 11,
   "metadata": {},
   "outputs": [
    {
     "name": "stderr",
     "output_type": "stream",
     "text": [
      "2020-10-24 22:38:11,180 - 00_train.py - INFO - TARGET MACHINE_TYPE: fan\n",
      "2020-10-24 22:38:11,181 - 00_train.py - INFO - MAKE DATA_LOADER\n",
      "2020-10-24 22:38:12,054 - 00_train.py - INFO - TRAINING\n",
      "  0%|          | 0/204 [00:00<?, ?it/s]"
     ]
    },
    {
     "name": "stdout",
     "output_type": "stream",
     "text": [
      "use: cuda:0\n"
     ]
    },
    {
     "name": "stderr",
     "output_type": "stream",
     "text": [
      "100%|██████████| 204/204 [01:42<00:00,  1.99it/s]\n",
      "100%|██████████| 1803/1803 [00:17<00:00, 103.33it/s]\n",
      "2020-10-24 22:40:13,777 - pytorch_modeler.py - INFO - Epoch 1/60:train_loss:724.718762, valid_AUC:0.517516, valid_pAUC:0.501641\n",
      "100%|██████████| 204/204 [00:39<00:00,  5.21it/s]\n",
      "100%|██████████| 1803/1803 [00:08<00:00, 219.37it/s]\n",
      "2020-10-24 22:41:01,159 - pytorch_modeler.py - INFO - Epoch 2/60:train_loss:205.702395, valid_AUC:0.499597, valid_pAUC:0.508131\n",
      "100%|██████████| 204/204 [00:38<00:00,  5.28it/s]\n",
      "100%|██████████| 1803/1803 [00:07<00:00, 225.52it/s]\n",
      "2020-10-24 22:41:47,760 - pytorch_modeler.py - INFO - Epoch 3/60:train_loss:24.202631, valid_AUC:0.479795, valid_pAUC:0.508900\n",
      "100%|██████████| 204/204 [00:37<00:00,  5.37it/s]\n",
      "100%|██████████| 1803/1803 [00:08<00:00, 224.36it/s]\n",
      "2020-10-24 22:42:33,780 - pytorch_modeler.py - INFO - Epoch 4/60:train_loss:8.834544, valid_AUC:0.495554, valid_pAUC:0.510035\n",
      "100%|██████████| 204/204 [00:38<00:00,  5.35it/s]\n",
      "100%|██████████| 1803/1803 [00:08<00:00, 224.77it/s]\n",
      "2020-10-24 22:43:19,945 - pytorch_modeler.py - INFO - Epoch 5/60:train_loss:8.005173, valid_AUC:0.509745, valid_pAUC:0.511601\n",
      "100%|██████████| 204/204 [00:37<00:00,  5.38it/s]\n",
      "100%|██████████| 1803/1803 [00:08<00:00, 224.24it/s]\n",
      "2020-10-24 22:44:05,914 - pytorch_modeler.py - INFO - Epoch 6/60:train_loss:7.554199, valid_AUC:0.516033, valid_pAUC:0.510729\n",
      "100%|██████████| 204/204 [00:37<00:00,  5.37it/s]\n",
      "100%|██████████| 1803/1803 [00:08<00:00, 224.22it/s]\n",
      "2020-10-24 22:44:51,942 - pytorch_modeler.py - INFO - Epoch 7/60:train_loss:7.219508, valid_AUC:0.527618, valid_pAUC:0.516150\n",
      "100%|██████████| 204/204 [00:37<00:00,  5.37it/s]\n",
      "100%|██████████| 1803/1803 [00:08<00:00, 224.51it/s]\n",
      "2020-10-24 22:45:37,976 - pytorch_modeler.py - INFO - Epoch 8/60:train_loss:6.850403, valid_AUC:0.543279, valid_pAUC:0.521477\n",
      "100%|██████████| 204/204 [00:38<00:00,  5.35it/s]\n",
      "100%|██████████| 1803/1803 [00:08<00:00, 224.93it/s]\n",
      "2020-10-24 22:46:24,103 - pytorch_modeler.py - INFO - Epoch 9/60:train_loss:6.632833, valid_AUC:0.551664, valid_pAUC:0.527038\n",
      "100%|██████████| 204/204 [00:38<00:00,  5.34it/s]\n",
      "100%|██████████| 1803/1803 [00:08<00:00, 224.76it/s]\n",
      "2020-10-24 22:47:10,353 - pytorch_modeler.py - INFO - Epoch 10/60:train_loss:6.468188, valid_AUC:0.555162, valid_pAUC:0.509266\n",
      "100%|██████████| 204/204 [00:38<00:00,  5.36it/s]\n",
      "100%|██████████| 1803/1803 [00:08<00:00, 225.01it/s]\n",
      "2020-10-24 22:47:56,421 - pytorch_modeler.py - INFO - Epoch 11/60:train_loss:6.308376, valid_AUC:0.555453, valid_pAUC:0.516947\n",
      "100%|██████████| 204/204 [00:38<00:00,  5.36it/s]\n",
      "100%|██████████| 1803/1803 [00:08<00:00, 224.87it/s]\n",
      "2020-10-24 22:48:42,484 - pytorch_modeler.py - INFO - Epoch 12/60:train_loss:6.182990, valid_AUC:0.565802, valid_pAUC:0.511132\n",
      "100%|██████████| 204/204 [00:38<00:00,  5.34it/s]\n",
      "100%|██████████| 1803/1803 [00:08<00:00, 225.04it/s]\n",
      "2020-10-24 22:49:28,670 - pytorch_modeler.py - INFO - Epoch 13/60:train_loss:6.118150, valid_AUC:0.550269, valid_pAUC:0.509407\n",
      "100%|██████████| 204/204 [00:37<00:00,  5.37it/s]\n",
      "100%|██████████| 1803/1803 [00:08<00:00, 224.79it/s]\n",
      "2020-10-24 22:50:14,669 - pytorch_modeler.py - INFO - Epoch 14/60:train_loss:5.981484, valid_AUC:0.577267, valid_pAUC:0.515540\n",
      "100%|██████████| 204/204 [00:38<00:00,  5.36it/s]\n",
      "100%|██████████| 1803/1803 [00:08<00:00, 225.03it/s]\n",
      "2020-10-24 22:51:00,729 - pytorch_modeler.py - INFO - Epoch 15/60:train_loss:5.882793, valid_AUC:0.560891, valid_pAUC:0.502110\n",
      "100%|██████████| 204/204 [00:38<00:00,  5.35it/s]\n",
      "100%|██████████| 1803/1803 [00:08<00:00, 224.98it/s]\n",
      "2020-10-24 22:51:46,866 - pytorch_modeler.py - INFO - Epoch 16/60:train_loss:5.774254, valid_AUC:0.578909, valid_pAUC:0.512145\n",
      "100%|██████████| 204/204 [00:38<00:00,  5.36it/s]\n",
      "100%|██████████| 1803/1803 [00:08<00:00, 223.69it/s]\n",
      "2020-10-24 22:52:32,973 - pytorch_modeler.py - INFO - Epoch 17/60:train_loss:5.733713, valid_AUC:0.578770, valid_pAUC:0.504389\n",
      "100%|██████████| 204/204 [00:38<00:00,  5.34it/s]\n",
      "100%|██████████| 1803/1803 [00:08<00:00, 221.78it/s]\n",
      "2020-10-24 22:53:19,290 - pytorch_modeler.py - INFO - Epoch 18/60:train_loss:5.625793, valid_AUC:0.574395, valid_pAUC:0.517219\n",
      "100%|██████████| 204/204 [00:37<00:00,  5.37it/s]\n",
      "100%|██████████| 1803/1803 [00:08<00:00, 224.68it/s]\n",
      "2020-10-24 22:54:05,285 - pytorch_modeler.py - INFO - Epoch 19/60:train_loss:5.538344, valid_AUC:0.587901, valid_pAUC:0.510776\n",
      "100%|██████████| 204/204 [00:38<00:00,  5.36it/s]\n",
      "100%|██████████| 1803/1803 [00:08<00:00, 224.71it/s]\n",
      "2020-10-24 22:54:51,343 - pytorch_modeler.py - INFO - Epoch 20/60:train_loss:5.487848, valid_AUC:0.583199, valid_pAUC:0.510204\n",
      "100%|██████████| 204/204 [00:37<00:00,  5.38it/s]\n",
      "100%|██████████| 1803/1803 [00:07<00:00, 225.92it/s]\n",
      "2020-10-24 22:55:37,248 - pytorch_modeler.py - INFO - Epoch 21/60:train_loss:5.404706, valid_AUC:0.577766, valid_pAUC:0.505852\n",
      "100%|██████████| 204/204 [00:37<00:00,  5.38it/s]\n",
      "100%|██████████| 1803/1803 [00:07<00:00, 225.40it/s]\n",
      "2020-10-24 22:56:23,150 - pytorch_modeler.py - INFO - Epoch 22/60:train_loss:5.358933, valid_AUC:0.582163, valid_pAUC:0.513186\n",
      "100%|██████████| 204/204 [00:38<00:00,  5.36it/s]\n",
      "100%|██████████| 1803/1803 [00:08<00:00, 225.14it/s]\n",
      "2020-10-24 22:57:09,210 - pytorch_modeler.py - INFO - Epoch 23/60:train_loss:5.276571, valid_AUC:0.588744, valid_pAUC:0.508581\n",
      "100%|██████████| 204/204 [00:38<00:00,  5.37it/s]\n",
      "100%|██████████| 1803/1803 [00:08<00:00, 224.87it/s]\n",
      "2020-10-24 22:57:55,237 - pytorch_modeler.py - INFO - Epoch 24/60:train_loss:5.210710, valid_AUC:0.576762, valid_pAUC:0.505017\n",
      "100%|██████████| 204/204 [00:37<00:00,  5.38it/s]\n",
      "100%|██████████| 1803/1803 [00:08<00:00, 225.12it/s]\n",
      "2020-10-24 22:58:41,150 - pytorch_modeler.py - INFO - Epoch 25/60:train_loss:5.197275, valid_AUC:0.566511, valid_pAUC:0.502410\n",
      "100%|██████████| 204/204 [00:38<00:00,  5.36it/s]\n",
      "100%|██████████| 1803/1803 [00:08<00:00, 224.99it/s]\n",
      "2020-10-24 22:59:27,263 - pytorch_modeler.py - INFO - Epoch 26/60:train_loss:5.141241, valid_AUC:0.573452, valid_pAUC:0.503198\n",
      "100%|██████████| 204/204 [00:38<00:00,  5.35it/s]\n",
      "100%|██████████| 1803/1803 [00:08<00:00, 225.34it/s]\n",
      "2020-10-24 23:00:13,368 - pytorch_modeler.py - INFO - Epoch 27/60:train_loss:5.107127, valid_AUC:0.586375, valid_pAUC:0.506621\n",
      "100%|██████████| 204/204 [00:37<00:00,  5.37it/s]\n",
      "100%|██████████| 1803/1803 [00:08<00:00, 225.35it/s]\n",
      "2020-10-24 23:00:59,362 - pytorch_modeler.py - INFO - Epoch 28/60:train_loss:5.042014, valid_AUC:0.571470, valid_pAUC:0.507643\n",
      "100%|██████████| 204/204 [00:38<00:00,  5.36it/s]\n",
      "100%|██████████| 1803/1803 [00:08<00:00, 224.98it/s]\n",
      "2020-10-24 23:01:45,409 - pytorch_modeler.py - INFO - Epoch 29/60:train_loss:4.992927, valid_AUC:0.579323, valid_pAUC:0.506621\n",
      "100%|██████████| 204/204 [00:38<00:00,  5.36it/s]\n",
      "100%|██████████| 1803/1803 [00:08<00:00, 225.15it/s]\n",
      "2020-10-24 23:02:31,517 - pytorch_modeler.py - INFO - Epoch 30/60:train_loss:4.966098, valid_AUC:0.573361, valid_pAUC:0.501979\n",
      "100%|██████████| 204/204 [00:38<00:00,  5.35it/s]\n",
      "100%|██████████| 1803/1803 [00:07<00:00, 225.61it/s]\n",
      "2020-10-24 23:03:17,639 - pytorch_modeler.py - INFO - Epoch 31/60:train_loss:4.910877, valid_AUC:0.588004, valid_pAUC:0.511432\n",
      "100%|██████████| 204/204 [00:38<00:00,  5.36it/s]\n",
      "100%|██████████| 1803/1803 [00:08<00:00, 224.73it/s]\n",
      "2020-10-24 23:04:03,750 - pytorch_modeler.py - INFO - Epoch 32/60:train_loss:4.886469, valid_AUC:0.594952, valid_pAUC:0.505036\n",
      "100%|██████████| 204/204 [00:37<00:00,  5.38it/s]\n",
      "100%|██████████| 1803/1803 [00:08<00:00, 223.91it/s]\n",
      "2020-10-24 23:04:49,726 - pytorch_modeler.py - INFO - Epoch 33/60:train_loss:4.870928, valid_AUC:0.571232, valid_pAUC:0.502738\n",
      "100%|██████████| 204/204 [00:38<00:00,  5.35it/s]\n",
      "100%|██████████| 1803/1803 [00:08<00:00, 225.25it/s]\n",
      "2020-10-24 23:05:35,864 - pytorch_modeler.py - INFO - Epoch 34/60:train_loss:4.805245, valid_AUC:0.564797, valid_pAUC:0.506771\n",
      "100%|██████████| 204/204 [00:38<00:00,  5.35it/s]\n",
      "100%|██████████| 1803/1803 [00:08<00:00, 225.24it/s]\n",
      "2020-10-24 23:06:21,996 - pytorch_modeler.py - INFO - Epoch 35/60:train_loss:4.765795, valid_AUC:0.559647, valid_pAUC:0.506518\n",
      "100%|██████████| 204/204 [00:37<00:00,  5.37it/s]\n",
      "100%|██████████| 1803/1803 [00:08<00:00, 224.64it/s]\n",
      "2020-10-24 23:07:07,989 - pytorch_modeler.py - INFO - Epoch 36/60:train_loss:4.715081, valid_AUC:0.559526, valid_pAUC:0.504211\n"
     ]
    },
    {
     "name": "stderr",
     "output_type": "stream",
     "text": [
      "100%|██████████| 204/204 [00:38<00:00,  5.37it/s]\n",
      "100%|██████████| 1803/1803 [00:07<00:00, 225.38it/s]\n",
      "2020-10-24 23:07:54,011 - pytorch_modeler.py - INFO - Epoch 37/60:train_loss:4.709458, valid_AUC:0.557543, valid_pAUC:0.502889\n",
      "100%|██████████| 204/204 [00:38<00:00,  5.35it/s]\n",
      "100%|██████████| 1803/1803 [00:08<00:00, 224.60it/s]\n",
      "2020-10-24 23:08:40,153 - pytorch_modeler.py - INFO - Epoch 38/60:train_loss:4.691511, valid_AUC:0.583412, valid_pAUC:0.509003\n",
      "100%|██████████| 204/204 [00:38<00:00,  5.34it/s]\n",
      "100%|██████████| 1803/1803 [00:08<00:00, 225.00it/s]\n",
      "2020-10-24 23:09:26,342 - pytorch_modeler.py - INFO - Epoch 39/60:train_loss:4.652843, valid_AUC:0.559635, valid_pAUC:0.504398\n",
      "100%|██████████| 204/204 [00:38<00:00,  5.34it/s]\n",
      "100%|██████████| 1803/1803 [00:08<00:00, 225.09it/s]\n",
      "2020-10-24 23:10:12,560 - pytorch_modeler.py - INFO - Epoch 40/60:train_loss:4.619774, valid_AUC:0.567261, valid_pAUC:0.505608\n",
      "100%|██████████| 204/204 [00:38<00:00,  5.35it/s]\n",
      "100%|██████████| 1803/1803 [00:08<00:00, 224.76it/s]\n",
      "2020-10-24 23:10:58,743 - pytorch_modeler.py - INFO - Epoch 41/60:train_loss:4.578716, valid_AUC:0.570045, valid_pAUC:0.505627\n",
      "100%|██████████| 204/204 [00:38<00:00,  5.36it/s]\n",
      "100%|██████████| 1803/1803 [00:08<00:00, 225.12it/s]\n",
      "2020-10-24 23:11:44,848 - pytorch_modeler.py - INFO - Epoch 42/60:train_loss:4.545795, valid_AUC:0.582315, valid_pAUC:0.504942\n",
      "100%|██████████| 204/204 [00:38<00:00,  5.35it/s]\n",
      "100%|██████████| 1803/1803 [00:08<00:00, 225.04it/s]\n",
      "2020-10-24 23:12:30,969 - pytorch_modeler.py - INFO - Epoch 43/60:train_loss:4.542101, valid_AUC:0.569232, valid_pAUC:0.504192\n",
      "100%|██████████| 204/204 [00:38<00:00,  5.35it/s]\n",
      "100%|██████████| 1803/1803 [00:08<00:00, 225.06it/s]\n",
      "2020-10-24 23:13:17,131 - pytorch_modeler.py - INFO - Epoch 44/60:train_loss:4.491777, valid_AUC:0.578656, valid_pAUC:0.503573\n",
      "100%|██████████| 204/204 [00:38<00:00,  5.36it/s]\n",
      "100%|██████████| 1803/1803 [00:08<00:00, 224.30it/s]\n",
      "2020-10-24 23:14:03,236 - pytorch_modeler.py - INFO - Epoch 45/60:train_loss:4.462617, valid_AUC:0.574695, valid_pAUC:0.511029\n",
      "100%|██████████| 204/204 [00:38<00:00,  5.36it/s]\n",
      "100%|██████████| 1803/1803 [00:08<00:00, 223.74it/s]\n",
      "2020-10-24 23:14:49,358 - pytorch_modeler.py - INFO - Epoch 46/60:train_loss:4.483739, valid_AUC:0.576367, valid_pAUC:0.507071\n",
      "100%|██████████| 204/204 [00:38<00:00,  5.36it/s]\n",
      "100%|██████████| 1803/1803 [00:08<00:00, 224.78it/s]\n",
      "2020-10-24 23:15:35,423 - pytorch_modeler.py - INFO - Epoch 47/60:train_loss:4.415143, valid_AUC:0.562956, valid_pAUC:0.502213\n",
      "100%|██████████| 204/204 [00:38<00:00,  5.36it/s]\n",
      "100%|██████████| 1803/1803 [00:07<00:00, 225.40it/s]\n",
      "2020-10-24 23:16:21,458 - pytorch_modeler.py - INFO - Epoch 48/60:train_loss:4.395453, valid_AUC:0.586680, valid_pAUC:0.504652\n",
      "100%|██████████| 204/204 [00:38<00:00,  5.34it/s]\n",
      "100%|██████████| 1803/1803 [00:07<00:00, 225.60it/s]\n",
      "2020-10-24 23:17:07,658 - pytorch_modeler.py - INFO - Epoch 49/60:train_loss:4.372022, valid_AUC:0.574747, valid_pAUC:0.506012\n",
      "100%|██████████| 204/204 [00:38<00:00,  5.35it/s]\n",
      "100%|██████████| 1803/1803 [00:08<00:00, 225.28it/s]\n",
      "2020-10-24 23:17:53,774 - pytorch_modeler.py - INFO - Epoch 50/60:train_loss:4.347536, valid_AUC:0.576622, valid_pAUC:0.507053\n",
      "100%|██████████| 204/204 [00:38<00:00,  5.35it/s]\n",
      "100%|██████████| 1803/1803 [00:08<00:00, 225.28it/s]\n",
      "2020-10-24 23:18:39,890 - pytorch_modeler.py - INFO - Epoch 51/60:train_loss:4.300654, valid_AUC:0.576256, valid_pAUC:0.510091\n",
      "100%|██████████| 204/204 [00:38<00:00,  5.35it/s]\n",
      "100%|██████████| 1803/1803 [00:08<00:00, 225.01it/s]\n",
      "2020-10-24 23:19:26,025 - pytorch_modeler.py - INFO - Epoch 52/60:train_loss:4.298494, valid_AUC:0.582215, valid_pAUC:0.508075\n",
      "100%|██████████| 204/204 [00:38<00:00,  5.36it/s]\n",
      "100%|██████████| 1803/1803 [00:08<00:00, 225.35it/s]\n",
      "2020-10-24 23:20:12,102 - pytorch_modeler.py - INFO - Epoch 53/60:train_loss:4.276414, valid_AUC:0.563920, valid_pAUC:0.504389\n",
      "100%|██████████| 204/204 [00:38<00:00,  5.37it/s]\n",
      "100%|██████████| 1803/1803 [00:08<00:00, 224.69it/s]\n",
      "2020-10-24 23:20:58,141 - pytorch_modeler.py - INFO - Epoch 54/60:train_loss:4.239460, valid_AUC:0.580511, valid_pAUC:0.503789\n",
      "100%|██████████| 204/204 [00:38<00:00,  5.36it/s]\n",
      "100%|██████████| 1803/1803 [00:08<00:00, 224.60it/s]\n",
      "2020-10-24 23:21:44,211 - pytorch_modeler.py - INFO - Epoch 55/60:train_loss:4.223221, valid_AUC:0.566770, valid_pAUC:0.502513\n",
      "100%|██████████| 204/204 [00:38<00:00,  5.35it/s]\n",
      "100%|██████████| 1803/1803 [00:07<00:00, 225.63it/s]\n",
      "2020-10-24 23:22:30,310 - pytorch_modeler.py - INFO - Epoch 56/60:train_loss:4.216638, valid_AUC:0.563944, valid_pAUC:0.504267\n",
      "100%|██████████| 204/204 [00:38<00:00,  5.34it/s]\n",
      "100%|██████████| 1803/1803 [00:08<00:00, 225.04it/s]\n",
      "2020-10-24 23:23:16,520 - pytorch_modeler.py - INFO - Epoch 57/60:train_loss:4.196074, valid_AUC:0.582183, valid_pAUC:0.507240\n",
      "100%|██████████| 204/204 [00:38<00:00,  5.34it/s]\n",
      "100%|██████████| 1803/1803 [00:08<00:00, 224.44it/s]\n",
      "2020-10-24 23:24:02,737 - pytorch_modeler.py - INFO - Epoch 58/60:train_loss:4.164078, valid_AUC:0.566062, valid_pAUC:0.505364\n",
      "100%|██████████| 204/204 [00:38<00:00,  5.36it/s]\n",
      "100%|██████████| 1803/1803 [00:08<00:00, 223.41it/s]\n",
      "2020-10-24 23:24:48,854 - pytorch_modeler.py - INFO - Epoch 59/60:train_loss:4.160574, valid_AUC:0.561269, valid_pAUC:0.507540\n",
      "100%|██████████| 204/204 [00:37<00:00,  5.37it/s]\n",
      "100%|██████████| 1803/1803 [00:08<00:00, 224.82it/s]\n",
      "2020-10-24 23:25:34,874 - pytorch_modeler.py - INFO - Epoch 60/60:train_loss:4.141754, valid_AUC:0.562162, valid_pAUC:0.506359\n",
      "2020-10-24 23:25:34,990 - 00_train.py - INFO - \n",
      " success:fan \n",
      "model_out_path ==> \n",
      " /media/hiroki/working/research/dcase2020/result/2D/CONV_AE_revised/models/fan_model.pth\n"
     ]
    },
    {
     "name": "stdout",
     "output_type": "stream",
     "text": [
      "elapsed time: 2843.810728788 [sec]\n"
     ]
    },
    {
     "ename": "FileNotFoundError",
     "evalue": "[Errno 2] No such file or directory: '/media/hiroki/working/research/dcase2020/result/2D/CONV_AE_revised/pkl/fan_history.pkl'",
     "output_type": "error",
     "traceback": [
      "\u001b[0;31m---------------------------------------------------------------------------\u001b[0m",
      "\u001b[0;31mFileNotFoundError\u001b[0m                         Traceback (most recent call last)",
      "\u001b[0;32m<ipython-input-11-8371bb4ca32b>\u001b[0m in \u001b[0;36m<module>\u001b[0;34m\u001b[0m\n\u001b[1;32m      3\u001b[0m     \u001b[0;31m#    continue\u001b[0m\u001b[0;34m\u001b[0m\u001b[0;34m\u001b[0m\u001b[0;34m\u001b[0m\u001b[0m\n\u001b[1;32m      4\u001b[0m     \u001b[0mhistory\u001b[0m \u001b[0;34m=\u001b[0m \u001b[0mrun\u001b[0m\u001b[0;34m(\u001b[0m\u001b[0mmachine_type\u001b[0m\u001b[0;34m)\u001b[0m\u001b[0;34m\u001b[0m\u001b[0;34m\u001b[0m\u001b[0m\n\u001b[0;32m----> 5\u001b[0;31m     \u001b[0;32mwith\u001b[0m \u001b[0mopen\u001b[0m\u001b[0;34m(\u001b[0m\u001b[0;34m'{}/{}_history.pkl'\u001b[0m\u001b[0;34m.\u001b[0m\u001b[0mformat\u001b[0m\u001b[0;34m(\u001b[0m\u001b[0mPKL_DIR\u001b[0m\u001b[0;34m,\u001b[0m \u001b[0mmachine_type\u001b[0m\u001b[0;34m)\u001b[0m\u001b[0;34m,\u001b[0m \u001b[0;34m'wb'\u001b[0m\u001b[0;34m)\u001b[0m \u001b[0;32mas\u001b[0m \u001b[0mfile\u001b[0m\u001b[0;34m:\u001b[0m\u001b[0;34m\u001b[0m\u001b[0;34m\u001b[0m\u001b[0m\n\u001b[0m\u001b[1;32m      6\u001b[0m         \u001b[0mpickle\u001b[0m\u001b[0;34m.\u001b[0m\u001b[0mdump\u001b[0m\u001b[0;34m(\u001b[0m\u001b[0mhistory\u001b[0m \u001b[0;34m,\u001b[0m \u001b[0mfile\u001b[0m\u001b[0;34m)\u001b[0m\u001b[0;34m\u001b[0m\u001b[0;34m\u001b[0m\u001b[0m\n",
      "\u001b[0;31mFileNotFoundError\u001b[0m: [Errno 2] No such file or directory: '/media/hiroki/working/research/dcase2020/result/2D/CONV_AE_revised/pkl/fan_history.pkl'"
     ]
    }
   ],
   "source": [
    "for machine_type in machine_types:\n",
    "    #if (machine_type == machine_types[0]) or (machine_type == machine_types[1]):\n",
    "    #    continue\n",
    "    history = run(machine_type)\n",
    "    with open('{}/{}_history.pkl'.format(PKL_DIR, machine_type), 'wb') as file:\n",
    "        pickle.dump(history , file)"
   ]
  },
  {
   "cell_type": "raw",
   "metadata": {},
   "source": [
    "history = run('ToyCar')\n",
    "with open('{}/{}_history.pkl'.format(PKL_DIR, machine_type), 'wb') as file:\n",
    "    pickle.dump(history , file)"
   ]
  }
 ],
 "metadata": {
  "kernelspec": {
   "display_name": "Python 3",
   "language": "python",
   "name": "python3"
  },
  "language_info": {
   "codemirror_mode": {
    "name": "ipython",
    "version": 3
   },
   "file_extension": ".py",
   "mimetype": "text/x-python",
   "name": "python",
   "nbconvert_exporter": "python",
   "pygments_lexer": "ipython3",
   "version": "3.7.7"
  },
  "toc": {
   "base_numbering": 1,
   "nav_menu": {},
   "number_sections": true,
   "sideBar": true,
   "skip_h1_title": false,
   "title_cell": "Table of Contents",
   "title_sidebar": "Contents",
   "toc_cell": false,
   "toc_position": {},
   "toc_section_display": true,
   "toc_window_display": false
  }
 },
 "nbformat": 4,
 "nbformat_minor": 4
}
