{
 "cells": [
  {
   "cell_type": "code",
   "execution_count": 1,
   "metadata": {},
   "outputs": [],
   "source": [
    "import os\n",
    "\n",
    "import numpy as np\n",
    "import pandas as pd"
   ]
  },
  {
   "cell_type": "code",
   "execution_count": null,
   "metadata": {},
   "outputs": [],
   "source": [
    "# 学習に時間がかかるのでCVはしない予定。\n",
    "# train/valid/test"
   ]
  },
  {
   "cell_type": "markdown",
   "metadata": {},
   "source": [
    "# test(valid)のanomalyを一部trainに"
   ]
  },
  {
   "cell_type": "code",
   "execution_count": 2,
   "metadata": {},
   "outputs": [],
   "source": [
    "BASE_PATH = \"/media/hiroki/working/datasets/DCASE2/dev_data/\"\n",
    "DATA_TYPE = os.listdir(BASE_PATH)"
   ]
  },
  {
   "cell_type": "code",
   "execution_count": 3,
   "metadata": {},
   "outputs": [],
   "source": [
    "test_file_names = {}\n",
    "test_sizes = {}\n",
    "anomalies = {}\n",
    "anomaly_sizes = {}\n",
    "normal_sizes = {}\n",
    "\n",
    "for d_type in DATA_TYPE:\n",
    "    test_file_names[d_type] = os.listdir(BASE_PATH + d_type + \"/test\")\n",
    "    test_sizes[d_type] = len(test_file_names[d_type])\n",
    "    anomalies[d_type] = [file_name for file_name in test_file_names[d_type] if \"anomaly\" in file_name]\n",
    "    anomaly_sizes[d_type] = len(anomalies[d_type])\n",
    "    normal_sizes[d_type] = test_sizes[d_type] - anomaly_sizes[d_type]"
   ]
  },
  {
   "cell_type": "code",
   "execution_count": 4,
   "metadata": {},
   "outputs": [
    {
     "data": {
      "text/plain": [
       "{'fan': 400,\n",
       " 'pump': 400,\n",
       " 'slider': 400,\n",
       " 'ToyCar': 1400,\n",
       " 'ToyConveyor': 2399,\n",
       " 'valve': 400}"
      ]
     },
     "execution_count": 4,
     "metadata": {},
     "output_type": "execute_result"
    }
   ],
   "source": [
    "normal_sizes"
   ]
  },
  {
   "cell_type": "code",
   "execution_count": 5,
   "metadata": {},
   "outputs": [
    {
     "data": {
      "text/plain": [
       "{'fan': 1403,\n",
       " 'pump': 432,\n",
       " 'slider': 846,\n",
       " 'ToyCar': 1007,\n",
       " 'ToyConveyor': 1053,\n",
       " 'valve': 455}"
      ]
     },
     "execution_count": 5,
     "metadata": {},
     "output_type": "execute_result"
    }
   ],
   "source": [
    "anomaly_sizes"
   ]
  },
  {
   "cell_type": "code",
   "execution_count": 6,
   "metadata": {},
   "outputs": [
    {
     "data": {
      "text/plain": [
       "{'fan': 1803,\n",
       " 'pump': 832,\n",
       " 'slider': 1246,\n",
       " 'ToyCar': 2407,\n",
       " 'ToyConveyor': 3452,\n",
       " 'valve': 855}"
      ]
     },
     "execution_count": 6,
     "metadata": {},
     "output_type": "execute_result"
    }
   ],
   "source": [
    "test_sizes"
   ]
  },
  {
   "cell_type": "code",
   "execution_count": 7,
   "metadata": {},
   "outputs": [],
   "source": [
    "decision_anomaly_sizes = pd.Series(anomaly_sizes) * 0.05\n",
    "decision_anomaly_sizes = decision_anomaly_sizes.round()"
   ]
  },
  {
   "cell_type": "markdown",
   "metadata": {},
   "source": [
    "## 使うanomalyの数"
   ]
  },
  {
   "cell_type": "raw",
   "metadata": {},
   "source": [
    "Machine IDごとに上からn個をtrainに使用\n",
    "(anomaly_id_xx_00000000.wav ~ anomaly_id_xx_n.wav)"
   ]
  },
  {
   "cell_type": "code",
   "execution_count": 8,
   "metadata": {},
   "outputs": [],
   "source": [
    "# Size of all training anomaly data\n",
    "decision_anomaly_sizes = pd.DataFrame(decision_anomaly_sizes).T"
   ]
  },
  {
   "cell_type": "code",
   "execution_count": 9,
   "metadata": {},
   "outputs": [
    {
     "data": {
      "text/html": [
       "<div>\n",
       "<style scoped>\n",
       "    .dataframe tbody tr th:only-of-type {\n",
       "        vertical-align: middle;\n",
       "    }\n",
       "\n",
       "    .dataframe tbody tr th {\n",
       "        vertical-align: top;\n",
       "    }\n",
       "\n",
       "    .dataframe thead th {\n",
       "        text-align: right;\n",
       "    }\n",
       "</style>\n",
       "<table border=\"1\" class=\"dataframe\">\n",
       "  <thead>\n",
       "    <tr style=\"text-align: right;\">\n",
       "      <th></th>\n",
       "      <th>fan</th>\n",
       "      <th>pump</th>\n",
       "      <th>slider</th>\n",
       "      <th>ToyCar</th>\n",
       "      <th>ToyConveyor</th>\n",
       "      <th>valve</th>\n",
       "    </tr>\n",
       "  </thead>\n",
       "  <tbody>\n",
       "    <tr>\n",
       "      <th>0</th>\n",
       "      <td>70.0</td>\n",
       "      <td>22.0</td>\n",
       "      <td>42.0</td>\n",
       "      <td>50.0</td>\n",
       "      <td>53.0</td>\n",
       "      <td>23.0</td>\n",
       "    </tr>\n",
       "  </tbody>\n",
       "</table>\n",
       "</div>"
      ],
      "text/plain": [
       "    fan  pump  slider  ToyCar  ToyConveyor  valve\n",
       "0  70.0  22.0    42.0    50.0         53.0   23.0"
      ]
     },
     "execution_count": 9,
     "metadata": {},
     "output_type": "execute_result"
    }
   ],
   "source": [
    "# Size of all training anomaly data\n",
    "decision_anomaly_sizes"
   ]
  },
  {
   "cell_type": "code",
   "execution_count": 10,
   "metadata": {},
   "outputs": [],
   "source": [
    "four_id_columns = decision_anomaly_sizes.columns.drop(\"ToyConveyor\")"
   ]
  },
  {
   "cell_type": "code",
   "execution_count": 11,
   "metadata": {},
   "outputs": [],
   "source": [
    "# Size of training anomaly data per ID\n",
    "decision_anomaly_sizes_per_id = decision_anomaly_sizes\n",
    "decision_anomaly_sizes_per_id[four_id_columns] = decision_anomaly_sizes_per_id[four_id_columns] / 4\n",
    "decision_anomaly_sizes_per_id[\"ToyConveyor\"] = decision_anomaly_sizes_per_id[\"ToyConveyor\"] / 3"
   ]
  },
  {
   "cell_type": "code",
   "execution_count": 12,
   "metadata": {},
   "outputs": [
    {
     "data": {
      "text/html": [
       "<div>\n",
       "<style scoped>\n",
       "    .dataframe tbody tr th:only-of-type {\n",
       "        vertical-align: middle;\n",
       "    }\n",
       "\n",
       "    .dataframe tbody tr th {\n",
       "        vertical-align: top;\n",
       "    }\n",
       "\n",
       "    .dataframe thead th {\n",
       "        text-align: right;\n",
       "    }\n",
       "</style>\n",
       "<table border=\"1\" class=\"dataframe\">\n",
       "  <thead>\n",
       "    <tr style=\"text-align: right;\">\n",
       "      <th></th>\n",
       "      <th>fan</th>\n",
       "      <th>pump</th>\n",
       "      <th>slider</th>\n",
       "      <th>ToyCar</th>\n",
       "      <th>ToyConveyor</th>\n",
       "      <th>valve</th>\n",
       "    </tr>\n",
       "  </thead>\n",
       "  <tbody>\n",
       "    <tr>\n",
       "      <th>0</th>\n",
       "      <td>18.0</td>\n",
       "      <td>6.0</td>\n",
       "      <td>10.0</td>\n",
       "      <td>12.0</td>\n",
       "      <td>18.0</td>\n",
       "      <td>6.0</td>\n",
       "    </tr>\n",
       "  </tbody>\n",
       "</table>\n",
       "</div>"
      ],
      "text/plain": [
       "    fan  pump  slider  ToyCar  ToyConveyor  valve\n",
       "0  18.0   6.0    10.0    12.0         18.0    6.0"
      ]
     },
     "execution_count": 12,
     "metadata": {},
     "output_type": "execute_result"
    }
   ],
   "source": [
    "# Size of training anomaly data per ID\n",
    "decision_anomaly_sizes_per_id.round()"
   ]
  },
  {
   "cell_type": "markdown",
   "metadata": {},
   "source": [
    "# add_dataをtrain/validで分割"
   ]
  },
  {
   "cell_type": "code",
   "execution_count": 13,
   "metadata": {},
   "outputs": [
    {
     "data": {
      "text/plain": [
       "'valve'"
      ]
     },
     "execution_count": 13,
     "metadata": {},
     "output_type": "execute_result"
    }
   ],
   "source": [
    "d_type"
   ]
  },
  {
   "cell_type": "markdown",
   "metadata": {},
   "source": [
    "7/3で分割"
   ]
  },
  {
   "cell_type": "code",
   "execution_count": 14,
   "metadata": {},
   "outputs": [],
   "source": [
    "BASE_PATH = \"/media/hiroki/working/datasets/DCASE2/add_dev_data/\"\n",
    "DATA_TYPE = os.listdir(BASE_PATH)"
   ]
  },
  {
   "cell_type": "code",
   "execution_count": 15,
   "metadata": {},
   "outputs": [],
   "source": [
    "add_data_file_names = {}\n",
    "add_data_sizes = {}\n",
    "\n",
    "for d_type in DATA_TYPE:\n",
    "    add_data_file_names[d_type] = os.listdir(BASE_PATH + d_type + \"/train\")\n",
    "    add_data_sizes[d_type] = len(add_data_file_names[d_type])"
   ]
  },
  {
   "cell_type": "code",
   "execution_count": 16,
   "metadata": {},
   "outputs": [],
   "source": [
    "add_data_sizes = pd.DataFrame(pd.Series(add_data_sizes)).T"
   ]
  },
  {
   "cell_type": "code",
   "execution_count": 17,
   "metadata": {},
   "outputs": [
    {
     "data": {
      "text/html": [
       "<div>\n",
       "<style scoped>\n",
       "    .dataframe tbody tr th:only-of-type {\n",
       "        vertical-align: middle;\n",
       "    }\n",
       "\n",
       "    .dataframe tbody tr th {\n",
       "        vertical-align: top;\n",
       "    }\n",
       "\n",
       "    .dataframe thead th {\n",
       "        text-align: right;\n",
       "    }\n",
       "</style>\n",
       "<table border=\"1\" class=\"dataframe\">\n",
       "  <thead>\n",
       "    <tr style=\"text-align: right;\">\n",
       "      <th></th>\n",
       "      <th>fan</th>\n",
       "      <th>pump</th>\n",
       "      <th>slider</th>\n",
       "      <th>ToyCar</th>\n",
       "      <th>ToyConveyor</th>\n",
       "      <th>valve</th>\n",
       "    </tr>\n",
       "  </thead>\n",
       "  <tbody>\n",
       "    <tr>\n",
       "      <th>0</th>\n",
       "      <td>2846</td>\n",
       "      <td>2417</td>\n",
       "      <td>2370</td>\n",
       "      <td>3000</td>\n",
       "      <td>3000</td>\n",
       "      <td>2531</td>\n",
       "    </tr>\n",
       "  </tbody>\n",
       "</table>\n",
       "</div>"
      ],
      "text/plain": [
       "    fan  pump  slider  ToyCar  ToyConveyor  valve\n",
       "0  2846  2417    2370    3000         3000   2531"
      ]
     },
     "execution_count": 17,
     "metadata": {},
     "output_type": "execute_result"
    }
   ],
   "source": [
    "# Size of add_data per Machine ID\n",
    "add_data_sizes"
   ]
  },
  {
   "cell_type": "code",
   "execution_count": 18,
   "metadata": {},
   "outputs": [],
   "source": [
    "# Size of add_data valid\n",
    "add_data_valid_sizes = (add_data_sizes * 0.3).round()"
   ]
  },
  {
   "cell_type": "code",
   "execution_count": 19,
   "metadata": {},
   "outputs": [
    {
     "data": {
      "text/html": [
       "<div>\n",
       "<style scoped>\n",
       "    .dataframe tbody tr th:only-of-type {\n",
       "        vertical-align: middle;\n",
       "    }\n",
       "\n",
       "    .dataframe tbody tr th {\n",
       "        vertical-align: top;\n",
       "    }\n",
       "\n",
       "    .dataframe thead th {\n",
       "        text-align: right;\n",
       "    }\n",
       "</style>\n",
       "<table border=\"1\" class=\"dataframe\">\n",
       "  <thead>\n",
       "    <tr style=\"text-align: right;\">\n",
       "      <th></th>\n",
       "      <th>fan</th>\n",
       "      <th>pump</th>\n",
       "      <th>slider</th>\n",
       "      <th>ToyCar</th>\n",
       "      <th>ToyConveyor</th>\n",
       "      <th>valve</th>\n",
       "    </tr>\n",
       "  </thead>\n",
       "  <tbody>\n",
       "    <tr>\n",
       "      <th>0</th>\n",
       "      <td>854.0</td>\n",
       "      <td>725.0</td>\n",
       "      <td>711.0</td>\n",
       "      <td>900.0</td>\n",
       "      <td>900.0</td>\n",
       "      <td>759.0</td>\n",
       "    </tr>\n",
       "  </tbody>\n",
       "</table>\n",
       "</div>"
      ],
      "text/plain": [
       "     fan   pump  slider  ToyCar  ToyConveyor  valve\n",
       "0  854.0  725.0   711.0   900.0        900.0  759.0"
      ]
     },
     "execution_count": 19,
     "metadata": {},
     "output_type": "execute_result"
    }
   ],
   "source": [
    "# Size of add_data valid\n",
    "add_data_valid_sizes"
   ]
  },
  {
   "cell_type": "code",
   "execution_count": 20,
   "metadata": {},
   "outputs": [],
   "source": [
    "# Size of add_data per sound ID\n",
    "add_data_valid_sizes_per_id = add_data_valid_sizes\n",
    "add_data_valid_sizes_per_id[four_id_columns] = add_data_valid_sizes_per_id[four_id_columns] / 4\n",
    "add_data_valid_sizes_per_id[\"ToyConveyor\"] = add_data_valid_sizes_per_id[\"ToyConveyor\"] / 3\n",
    "add_data_valid_sizes_per_id = add_data_valid_sizes_per_id.astype('int')"
   ]
  },
  {
   "cell_type": "code",
   "execution_count": 21,
   "metadata": {},
   "outputs": [
    {
     "data": {
      "text/html": [
       "<div>\n",
       "<style scoped>\n",
       "    .dataframe tbody tr th:only-of-type {\n",
       "        vertical-align: middle;\n",
       "    }\n",
       "\n",
       "    .dataframe tbody tr th {\n",
       "        vertical-align: top;\n",
       "    }\n",
       "\n",
       "    .dataframe thead th {\n",
       "        text-align: right;\n",
       "    }\n",
       "</style>\n",
       "<table border=\"1\" class=\"dataframe\">\n",
       "  <thead>\n",
       "    <tr style=\"text-align: right;\">\n",
       "      <th></th>\n",
       "      <th>fan</th>\n",
       "      <th>pump</th>\n",
       "      <th>slider</th>\n",
       "      <th>ToyCar</th>\n",
       "      <th>ToyConveyor</th>\n",
       "      <th>valve</th>\n",
       "    </tr>\n",
       "  </thead>\n",
       "  <tbody>\n",
       "    <tr>\n",
       "      <th>0</th>\n",
       "      <td>213</td>\n",
       "      <td>181</td>\n",
       "      <td>177</td>\n",
       "      <td>225</td>\n",
       "      <td>300</td>\n",
       "      <td>189</td>\n",
       "    </tr>\n",
       "  </tbody>\n",
       "</table>\n",
       "</div>"
      ],
      "text/plain": [
       "   fan  pump  slider  ToyCar  ToyConveyor  valve\n",
       "0  213   181     177     225          300    189"
      ]
     },
     "execution_count": 21,
     "metadata": {},
     "output_type": "execute_result"
    }
   ],
   "source": [
    "add_data_valid_sizes_per_id"
   ]
  },
  {
   "cell_type": "code",
   "execution_count": 22,
   "metadata": {},
   "outputs": [],
   "source": [
    "toycar_machine_id = [\"05\",\"06\",\"07\"]\n",
    "toyconveyor_machine_id = [\"04\"\"05\",\"06\"]\n",
    "other_machine_id = [\"01\",\"03\",\"05\"]\n",
    "\n",
    "valid_file_name = {}\n",
    "\n",
    "for d_type in DATA_TYPE:\n",
    "    files = add_data_file_names[d_type]\n",
    "    valid_file_name[d_type] = {}\n",
    "    \n",
    "    if d_type == \"ToyCar\":\n",
    "        for ID in toycar_machine_id:\n",
    "            add_data_per_id = sorted([per_id for per_id in files if \"id_\"+ID in per_id])\n",
    "            valid_size = add_data_valid_sizes_per_id[d_type].loc[0]\n",
    "            valid_file_name[d_type][ID] = add_data_per_id[:valid_size]\n",
    "    \n",
    "    elif d_type == \"ToyConveyor\":\n",
    "        for ID in toyconveyor_machine_id:\n",
    "            add_data_per_id = sorted([per_id for per_id in files if \"id_\"+ID in per_id])\n",
    "            valid_size = add_data_valid_sizes_per_id[d_type].loc[0]\n",
    "            valid_file_name[d_type][ID] = add_data_per_id[:valid_size]\n",
    "    \n",
    "    else:\n",
    "        for ID in other_machine_id:\n",
    "            add_data_per_id = sorted([per_id for per_id in files if \"id_\"+ID in per_id])\n",
    "            valid_size = add_data_valid_sizes_per_id[d_type].loc[0]\n",
    "            valid_file_name[d_type][ID] = add_data_per_id[:valid_size]"
   ]
  },
  {
   "cell_type": "code",
   "execution_count": 1,
   "metadata": {},
   "outputs": [
    {
     "ename": "NameError",
     "evalue": "name 'valid_file_name' is not defined",
     "output_type": "error",
     "traceback": [
      "\u001b[0;31m---------------------------------------------------------------------------\u001b[0m",
      "\u001b[0;31mNameError\u001b[0m                                 Traceback (most recent call last)",
      "\u001b[0;32m<ipython-input-1-549ffe63e58a>\u001b[0m in \u001b[0;36m<module>\u001b[0;34m\u001b[0m\n\u001b[0;32m----> 1\u001b[0;31m \u001b[0mvalid_file_name\u001b[0m\u001b[0;34m\u001b[0m\u001b[0;34m\u001b[0m\u001b[0m\n\u001b[0m",
      "\u001b[0;31mNameError\u001b[0m: name 'valid_file_name' is not defined"
     ]
    }
   ],
   "source": [
    "valid_file_name"
   ]
  },
  {
   "cell_type": "code",
   "execution_count": null,
   "metadata": {},
   "outputs": [],
   "source": []
  }
 ],
 "metadata": {
  "kernelspec": {
   "display_name": "Python 3",
   "language": "python",
   "name": "python3"
  },
  "language_info": {
   "codemirror_mode": {
    "name": "ipython",
    "version": 3
   },
   "file_extension": ".py",
   "mimetype": "text/x-python",
   "name": "python",
   "nbconvert_exporter": "python",
   "pygments_lexer": "ipython3",
   "version": "3.7.7"
  },
  "toc": {
   "base_numbering": 1,
   "nav_menu": {},
   "number_sections": true,
   "sideBar": true,
   "skip_h1_title": false,
   "title_cell": "Table of Contents",
   "title_sidebar": "Contents",
   "toc_cell": false,
   "toc_position": {},
   "toc_section_display": true,
   "toc_window_display": false
  }
 },
 "nbformat": 4,
 "nbformat_minor": 4
}
